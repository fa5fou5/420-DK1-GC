{
 "cells": [
  {
   "cell_type": "markdown",
   "id": "2c782847-06c0-4dc3-a981-88274a117ef8",
   "metadata": {},
   "source": [
    "# Exercice: "
   ]
  },
  {
   "cell_type": "markdown",
   "id": "3ae610fa-80a6-4486-bb65-3841ee92f9fc",
   "metadata": {},
   "source": [
    "Le premier ensemble de données contient des données quotidiennes sur la météo et l’énergie générée par les panneaux solaires à un endroit particulier (fichier: `power_and_weather.csv`). Voici les variables qu’il contient :\n",
    "\n",
    "`temperature_min:` la température minimale en ºC.  \n",
    "`temperature_max:` la température maximale en ºC.  \n",
    "`humidity_min:` l’humidité minimale  \n",
    "`humidity_max:` l’humidité maximale  \n",
    "`rain_vol:` le volume de pluie en mm.  \n",
    "`kwh:` la quantité d’énergie produite.  "
   ]
  },
  {
   "cell_type": "code",
   "execution_count": null,
   "id": "8de89427-533b-4a38-a465-e628d13c1381",
   "metadata": {},
   "outputs": [],
   "source": [
    "import pandas as pd"
   ]
  },
  {
   "cell_type": "markdown",
   "id": "0ebf8a6a-7ee9-42d9-ac99-55d424047d09",
   "metadata": {},
   "source": [
    "**Question 1:** importer les données et afficher les 7 premiers lignes"
   ]
  },
  {
   "cell_type": "code",
   "execution_count": null,
   "id": "7b633d99-6faa-42f7-8097-4faba8b99002",
   "metadata": {},
   "outputs": [],
   "source": []
  },
  {
   "cell_type": "markdown",
   "id": "d813e1e7-a86d-44d2-b293-dc4200e019ea",
   "metadata": {},
   "source": [
    "**Question 2:** Afficher le type de données de chaque colonne"
   ]
  },
  {
   "cell_type": "code",
   "execution_count": null,
   "id": "d385b310-2027-432d-a79a-d41072155ac6",
   "metadata": {},
   "outputs": [],
   "source": []
  },
  {
   "cell_type": "markdown",
   "id": "66e598e2-ee1b-4810-b9d1-bcdc7b1d3cbd",
   "metadata": {},
   "source": [
    "__Question 3:__ Que represente le type de données `object`? Quels sont les type de données de base en Pandas?"
   ]
  },
  {
   "cell_type": "markdown",
   "id": "61d187a7-5a08-4f49-947f-7d0cf4bf3a73",
   "metadata": {},
   "source": []
  },
  {
   "cell_type": "markdown",
   "id": "3b551031-df85-4d20-a424-39fc2b3a8179",
   "metadata": {},
   "source": [
    "__Question 4:__ Convertir le type de données de la colonne date en `datetime64`"
   ]
  },
  {
   "cell_type": "code",
   "execution_count": null,
   "id": "f134f764-45c2-44ed-bc69-35b3dc94ec26",
   "metadata": {},
   "outputs": [],
   "source": []
  },
  {
   "cell_type": "markdown",
   "id": "1c28729a-191c-40a6-8573-b8bcd83c815c",
   "metadata": {},
   "source": [
    "__Question 5:__ Comment est il possible de charger le fichier, en spécifiant directement le type `datetime` pour la colonne `date`."
   ]
  },
  {
   "cell_type": "code",
   "execution_count": null,
   "id": "74b16b7d-b92c-4e8f-a9af-058fd43bf4b0",
   "metadata": {},
   "outputs": [],
   "source": []
  },
  {
   "cell_type": "markdown",
   "id": "2b0eb95e-2fd9-4db3-abc6-0b5240600e25",
   "metadata": {},
   "source": [
    "__Question 6:__ Comment est il possible de charger le ficher en spécifiant le type de données des colonnes lors du chargement?"
   ]
  },
  {
   "cell_type": "code",
   "execution_count": null,
   "id": "c1fae137-613c-4711-83a8-97f45c37633b",
   "metadata": {},
   "outputs": [],
   "source": []
  },
  {
   "cell_type": "markdown",
   "id": "9a377ab5-467b-443d-91dc-e874d4546f63",
   "metadata": {},
   "source": [
    "__Question 7:__ Peut on utiliser la colonne date comme index. si oui, comment?"
   ]
  },
  {
   "cell_type": "code",
   "execution_count": null,
   "id": "7b522b60-19ae-43aa-8dda-b8b072f595c3",
   "metadata": {},
   "outputs": [],
   "source": []
  },
  {
   "cell_type": "markdown",
   "id": "eef2f9a5-b06f-4d7a-9084-780b6f2aeec4",
   "metadata": {},
   "source": [
    "__Question 8:__ calculer les ocurrences des élèments d'indice date"
   ]
  },
  {
   "cell_type": "code",
   "execution_count": null,
   "id": "c391faf5-4203-48e1-b9cf-47cc6857c9c1",
   "metadata": {},
   "outputs": [],
   "source": []
  },
  {
   "cell_type": "markdown",
   "id": "d43595c8-dacb-4b27-a781-2189cf1a4e33",
   "metadata": {},
   "source": [
    "__Question 9:__ identifier les indices en double, et afficher la table resultante"
   ]
  },
  {
   "cell_type": "code",
   "execution_count": null,
   "id": "b2e3d085-bdb7-41cf-9e46-4ff57671d74a",
   "metadata": {},
   "outputs": [],
   "source": []
  },
  {
   "cell_type": "markdown",
   "id": "185bf9a9-7b61-4e0a-a3b6-4bab85f550a9",
   "metadata": {},
   "source": [
    "__Question 10:__ enlever les valeurs en double (toutes colonnes ensembles), du fichier"
   ]
  },
  {
   "cell_type": "code",
   "execution_count": null,
   "id": "7f5e59db-c881-4456-a55c-c9fd18cd3e14",
   "metadata": {},
   "outputs": [],
   "source": []
  },
  {
   "cell_type": "markdown",
   "id": "e10bbf7b-8ddd-448e-b79f-4353af606806",
   "metadata": {},
   "source": [
    "__Question 11:__ renommer les valeurs de la colonne `quarter`: Quarter 1 en Q1, Quarter 2 en Q2, etc..."
   ]
  },
  {
   "cell_type": "code",
   "execution_count": null,
   "id": "7ac503a3-f109-4665-a238-54ffedc13ada",
   "metadata": {},
   "outputs": [],
   "source": []
  },
  {
   "cell_type": "markdown",
   "id": "61a72c4f-94f1-4981-839c-c0468c11ad11",
   "metadata": {},
   "source": [
    "__Question 12:__ arrondir les valeur de la colonne `rain_vol` a seulement un chiffre après la virgule"
   ]
  },
  {
   "cell_type": "code",
   "execution_count": null,
   "id": "e7c8d0bd-3aa5-4def-adb3-5500e6079d1e",
   "metadata": {},
   "outputs": [],
   "source": []
  },
  {
   "cell_type": "markdown",
   "id": "36ce3d37-32c9-46b2-9c7c-5516380c0c62",
   "metadata": {},
   "source": [
    "__Question 13:__ renommer les colonnes du dataframe en des titres en francais."
   ]
  },
  {
   "cell_type": "code",
   "execution_count": null,
   "id": "c09f872b-b9e0-417e-9783-a6dab7d32f90",
   "metadata": {},
   "outputs": [],
   "source": []
  },
  {
   "cell_type": "markdown",
   "id": "721ada9f-e228-4c4f-9f06-bf125b888e81",
   "metadata": {},
   "source": [
    "**Question 14:** enregistrer le dataframe resultant dans un fichier nommeé `power_and_weather_modified`"
   ]
  },
  {
   "cell_type": "code",
   "execution_count": null,
   "id": "e995ebd3-be2e-4ff1-9f0e-1e2811ab5f1d",
   "metadata": {},
   "outputs": [],
   "source": []
  },
  {
   "cell_type": "markdown",
   "id": "b0b54880-a823-4efc-838a-2bcb5313a5c2",
   "metadata": {},
   "source": [
    "**Question 15:** Afficher la moyenne de `temperature_max` arrondi à deux chiffres après la virgule"
   ]
  },
  {
   "cell_type": "code",
   "execution_count": null,
   "id": "3d92de31-f2f1-46cb-892b-3554e5c0b698",
   "metadata": {},
   "outputs": [],
   "source": []
  },
  {
   "cell_type": "markdown",
   "id": "55c517ff-48f8-4eae-b938-bc319010e3fa",
   "metadata": {},
   "source": [
    "**Question 16:**  Afficher la moyenne de `temperature_max` arrondi à deux chiffres après la virgule pour le premier quart"
   ]
  },
  {
   "cell_type": "code",
   "execution_count": null,
   "id": "62607ee4-62e0-4214-812c-8b14dbdbab76",
   "metadata": {},
   "outputs": [],
   "source": []
  },
  {
   "cell_type": "markdown",
   "id": "289d56ab-4082-4ac6-8b3d-c8f255345b19",
   "metadata": {},
   "source": [
    "Le tableau ci-dessous contient la température maximale moyenne et la production d’électricité par trimestre de l’année :\n",
    "Quartier|\ttemperature_max|\tKwh\n",
    "--|--|--\n",
    "1|\t29.27|\t32.88\n",
    "2|\t26.45|\t25.19\n",
    "3|\t27.11|\t24.36\n",
    "4|\t26.92|\t26.77"
   ]
  },
  {
   "cell_type": "markdown",
   "id": "1591d8dc-a443-4979-89bb-771770357830",
   "metadata": {},
   "source": [
    "__Question 16:__ Reproduire ce tableau"
   ]
  },
  {
   "cell_type": "code",
   "execution_count": null,
   "id": "c9f118e6-df24-4b83-9aaa-b8339415a1ad",
   "metadata": {},
   "outputs": [],
   "source": []
  }
 ],
 "metadata": {
  "kernelspec": {
   "display_name": "Python 3 (ipykernel)",
   "language": "python",
   "name": "python3"
  },
  "language_info": {
   "codemirror_mode": {
    "name": "ipython",
    "version": 3
   },
   "file_extension": ".py",
   "mimetype": "text/x-python",
   "name": "python",
   "nbconvert_exporter": "python",
   "pygments_lexer": "ipython3",
   "version": "3.12.3"
  }
 },
 "nbformat": 4,
 "nbformat_minor": 5
}
