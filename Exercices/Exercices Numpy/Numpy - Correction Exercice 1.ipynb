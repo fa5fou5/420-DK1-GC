{
 "cells": [
  {
   "cell_type": "markdown",
   "id": "e49a9a86-8dd4-48b8-8877-4082921a0160",
   "metadata": {},
   "source": [
    "# Premier exercice\n",
    "\n",
    "Considérons le vecteur suivant : `x = [1, 2, 3, 4, 5]`\n",
    "\n",
    "1. Créer ce vecteur à l’aide d’un tableau que l’on appellera `x`.\n",
    "2. Afficher le type de `x` puis sa longueur.\n",
    "3. Extraire le premier élément, puis en faire de même avec le dernier.\n",
    "4. Extraire les trois premiers éléments et les stocker dans un vecteur que l’on nommera `a`.\n",
    "5. Extraire les 1er, 2e et 5e éléments du vecteur (attention aux positions) ; les stocker dans un vecteur que l’on nommera `b`.\n",
    "6. Additionner le nombre 10 au vecteur `x`, puis multiplier le résultat par 2.\n",
    "7. Effectuer l’addition de `a` et `b`, commenter le résultat.\n",
    "8. Effectuer l’addition suivante : `x + a` ; commenter le résultat, puis regarder le résultat de `a + x`.\n",
    "9. Multiplier le vecteur par le scalaire `c` que l’on fixera à 2.\n",
    "10. Effectuer la multiplication de `a` et `b` ; commenter le résultat.\n",
    "11. Effectuer la multiplication suivante : `x * a` ; commenter le résultat.\n",
    "12. Récupérer les positions des multiples de 2 et les stocker dans un vecteur que l’on nommera `ind`, puis conserver uniquement les multiples de 2 de `x` dans un vecteur que l’on nommera `mult_2`.\n",
    "13. Afficher les éléments de `x` qui sont multiples de 3 et multiples de 2.\n",
    "14. Afficher les éléments de `x` qui sont multiples de 3 ou multiples de 2.\n",
    "15. Calculer la somme des éléments de `x`.\n",
    "16. Remplacer le premier élément de `x` par un 4.\n",
    "17. Remplacer le premier élément de `x` par la valeur `NaN`, puis calculer la somme des éléments de `x`.\n",
    "18. Supprimer le vecteur `x`."
   ]
  },
  {
   "cell_type": "code",
   "execution_count": 7,
   "id": "f6c1651c-12f4-4dfd-9751-bd65098b8c54",
   "metadata": {},
   "outputs": [],
   "source": [
    "import numpy as np"
   ]
  },
  {
   "cell_type": "code",
   "execution_count": 31,
   "id": "84c8828f-8b8a-4ee1-8088-fbccf2dbf70b",
   "metadata": {},
   "outputs": [],
   "source": [
    "# 1. Créer ce vecteur à l’aide d’un tableau que l’on appellera `x`:\n",
    "\n",
    "x = np.array([1, 2, 3, 4, 5], dtype='int8')\n",
    "# x = np.array([1, 2, 3, 4, 5], dtype='float')"
   ]
  },
  {
   "cell_type": "code",
   "execution_count": 32,
   "id": "1a0acd1e-3dd2-41c7-8454-79cc26adca3b",
   "metadata": {},
   "outputs": [
    {
     "data": {
      "text/plain": [
       "array([1, 2, 3, 4, 5], dtype=int8)"
      ]
     },
     "execution_count": 32,
     "metadata": {},
     "output_type": "execute_result"
    }
   ],
   "source": [
    "x"
   ]
  },
  {
   "cell_type": "code",
   "execution_count": 12,
   "id": "f8b40487-a936-4874-95bf-9e7e82596756",
   "metadata": {},
   "outputs": [
    {
     "name": "stdout",
     "output_type": "stream",
     "text": [
      "Type de x: <class 'numpy.ndarray'> ,longueur de x: 5\n"
     ]
    }
   ],
   "source": [
    "# 2. Afficher le type de x puis sa longueur.\n",
    "print('Type de x:',type(x),',longueur de x:', len(x))"
   ]
  },
  {
   "cell_type": "code",
   "execution_count": 18,
   "id": "729a27cf-a5c5-4360-a901-78dc4b59d6c2",
   "metadata": {},
   "outputs": [
    {
     "name": "stdout",
     "output_type": "stream",
     "text": [
      "premier element de x: 1\n",
      "dernier element de x: 5\n",
      "dernier element de x: 5\n",
      "dernier element de x: 5\n"
     ]
    }
   ],
   "source": [
    "# 3. Extraire le premier élément, puis en faire de même avec le dernier.\n",
    "print('premier element de x:',x[0])\n",
    "print('dernier element de x:',x[len(x)-1])\n",
    "print('dernier element de x:',x[-1])\n",
    "print('dernier element de x:',x[4])"
   ]
  },
  {
   "cell_type": "code",
   "execution_count": 34,
   "id": "b8c0710e-1e9f-4c9a-bafd-41105e3153e1",
   "metadata": {},
   "outputs": [
    {
     "data": {
      "text/plain": [
       "array([1, 2, 3], dtype=int8)"
      ]
     },
     "execution_count": 34,
     "metadata": {},
     "output_type": "execute_result"
    }
   ],
   "source": [
    "# 4. Extraire les trois premiers éléments et les stocker dans un vecteur que l’on nommera a.\n",
    "a = x[0:3]\n",
    "a"
   ]
  },
  {
   "cell_type": "code",
   "execution_count": 38,
   "id": "cd8bfa3e-b77c-4f2c-95d3-1a1a655668dc",
   "metadata": {},
   "outputs": [
    {
     "name": "stdout",
     "output_type": "stream",
     "text": [
      "les 1er, 2e et 5e éléments du vecteur x sont: [1 2 5]\n"
     ]
    }
   ],
   "source": [
    "# 5. Extraire les 1er, 2e et 5e éléments du vecteur (attention aux positions) ; \n",
    "# les stocker dans un vecteur que l’on nommera b.\n",
    "indices = [0,1,4]\n",
    "b = x[indices]\n",
    "print('les 1er, 2e et 5e éléments du vecteur x sont:', b)"
   ]
  },
  {
   "cell_type": "code",
   "execution_count": 40,
   "id": "5b0ded4f-a1ba-4a24-a557-6193984f2115",
   "metadata": {},
   "outputs": [
    {
     "name": "stdout",
     "output_type": "stream",
     "text": [
      "[22 24 26 28 30]\n"
     ]
    }
   ],
   "source": [
    "# 6. Additionner le nombre 10 au vecteur x, puis multiplier le résultat par 2.\n",
    "resultat = (x+10)*2\n",
    "print(resultat)"
   ]
  },
  {
   "cell_type": "code",
   "execution_count": 45,
   "id": "6f917a0a-d3c1-44ba-b1e8-e7e3a4856fc1",
   "metadata": {},
   "outputs": [],
   "source": [
    "# Attention si on a une liste liste_x, on ne peut pas faire les opérations mathématique d'une façon directe comme\n",
    "# on le fait sur les vecteurs\n",
    "list_x = list(x)\n",
    "(list_x)*2"
   ]
  },
  {
   "cell_type": "code",
   "execution_count": 48,
   "id": "1722ab3d-5f1c-4254-9f2c-62e14da0a8b3",
   "metadata": {},
   "outputs": [
    {
     "data": {
      "text/plain": [
       "array([2, 4, 8], dtype=int8)"
      ]
     },
     "execution_count": 48,
     "metadata": {},
     "output_type": "execute_result"
    }
   ],
   "source": [
    "# 7. Effectuer l’addition de a et b, commenter le résultat.\n",
    "addition_a_b = a + b\n",
    "addition_a_b"
   ]
  },
  {
   "cell_type": "code",
   "execution_count": 50,
   "id": "7309e069-f514-4c38-b379-979a6ce384e6",
   "metadata": {},
   "outputs": [
    {
     "ename": "ValueError",
     "evalue": "operands could not be broadcast together with shapes (3,) (5,) ",
     "output_type": "error",
     "traceback": [
      "\u001b[0;31m---------------------------------------------------------------------------\u001b[0m",
      "\u001b[0;31mValueError\u001b[0m                                Traceback (most recent call last)",
      "Cell \u001b[0;32mIn[50], line 2\u001b[0m\n\u001b[1;32m      1\u001b[0m \u001b[38;5;66;03m# effectuer l’addition suivante : x + a ; commenter le résultat, puis regarder le résultat de a + x\u001b[39;00m\n\u001b[0;32m----> 2\u001b[0m \u001b[43ma\u001b[49m\u001b[43m \u001b[49m\u001b[38;5;241;43m+\u001b[39;49m\u001b[43m \u001b[49m\u001b[43mx\u001b[49m\n",
      "\u001b[0;31mValueError\u001b[0m: operands could not be broadcast together with shapes (3,) (5,) "
     ]
    }
   ],
   "source": [
    "# 8. Effectuer l’addition suivante : x + a ; commenter le résultat, puis regarder le résultat de a + x\n",
    "a + x"
   ]
  },
  {
   "cell_type": "code",
   "execution_count": 51,
   "id": "4997bce8-43cc-4e4b-8a68-9cb5a7191a7b",
   "metadata": {},
   "outputs": [
    {
     "ename": "ValueError",
     "evalue": "operands could not be broadcast together with shapes (5,) (3,) ",
     "output_type": "error",
     "traceback": [
      "\u001b[0;31m---------------------------------------------------------------------------\u001b[0m",
      "\u001b[0;31mValueError\u001b[0m                                Traceback (most recent call last)",
      "Cell \u001b[0;32mIn[51], line 1\u001b[0m\n\u001b[0;32m----> 1\u001b[0m \u001b[43mx\u001b[49m\u001b[43m \u001b[49m\u001b[38;5;241;43m+\u001b[39;49m\u001b[43m \u001b[49m\u001b[43ma\u001b[49m\n",
      "\u001b[0;31mValueError\u001b[0m: operands could not be broadcast together with shapes (5,) (3,) "
     ]
    }
   ],
   "source": [
    "x + a"
   ]
  },
  {
   "cell_type": "code",
   "execution_count": 52,
   "id": "9b212473-453b-42ae-87d6-c46636cd0508",
   "metadata": {},
   "outputs": [
    {
     "name": "stdout",
     "output_type": "stream",
     "text": [
      "Le resultat de la muliplication par le scalaire c: [ 2  4  6  8 10]\n"
     ]
    }
   ],
   "source": [
    "# 9. Multiplier le vecteur par le scalaire c que l’on fixera à 2.\n",
    "c = 2 \n",
    "multiplication_c = x * c\n",
    "print('Le resultat de la muliplication par le scalaire c:', multiplication_c)"
   ]
  },
  {
   "cell_type": "code",
   "execution_count": 53,
   "id": "d439fb91-7bcb-448b-a8bb-25e6a3a8c310",
   "metadata": {},
   "outputs": [
    {
     "data": {
      "text/plain": [
       "numpy.ndarray"
      ]
     },
     "execution_count": 53,
     "metadata": {},
     "output_type": "execute_result"
    }
   ],
   "source": [
    "type(multiplication_c)"
   ]
  },
  {
   "cell_type": "code",
   "execution_count": 60,
   "id": "75d9e1f1-f790-4cba-845c-acbcbe1e7833",
   "metadata": {},
   "outputs": [
    {
     "data": {
      "text/plain": [
       "array([ 1,  4, 15], dtype=int8)"
      ]
     },
     "execution_count": 60,
     "metadata": {},
     "output_type": "execute_result"
    }
   ],
   "source": [
    "# 10. Effectuer la multiplication de a et b ; commenter le résultat.\n",
    "a * b"
   ]
  },
  {
   "cell_type": "code",
   "execution_count": 64,
   "id": "35e99f5b-1a54-403e-855a-153e90405754",
   "metadata": {},
   "outputs": [
    {
     "ename": "ValueError",
     "evalue": "operands could not be broadcast together with shapes (5,) (3,) ",
     "output_type": "error",
     "traceback": [
      "\u001b[0;31m---------------------------------------------------------------------------\u001b[0m",
      "\u001b[0;31mValueError\u001b[0m                                Traceback (most recent call last)",
      "Cell \u001b[0;32mIn[64], line 2\u001b[0m\n\u001b[1;32m      1\u001b[0m \u001b[38;5;66;03m# 11. Effectuer la multiplication suivante : x * a ; commenter le résultat.\u001b[39;00m\n\u001b[0;32m----> 2\u001b[0m \u001b[43mx\u001b[49m\u001b[43m \u001b[49m\u001b[38;5;241;43m*\u001b[39;49m\u001b[43m  \u001b[49m\u001b[43ma\u001b[49m\n",
      "\u001b[0;31mValueError\u001b[0m: operands could not be broadcast together with shapes (5,) (3,) "
     ]
    }
   ],
   "source": [
    "# 11. Effectuer la multiplication suivante : x * a ; commenter le résultat.\n",
    "x *  a"
   ]
  },
  {
   "cell_type": "code",
   "execution_count": 73,
   "id": "92d66dc4-9d4e-44eb-ba16-613d05a8cace",
   "metadata": {},
   "outputs": [
    {
     "name": "stdout",
     "output_type": "stream",
     "text": [
      "(array([1, 3]),)\n",
      "[2 4]\n"
     ]
    }
   ],
   "source": [
    "# 12. Récupérer les positions des multiples de 2 et les stocker dans un vecteur que l’on nommera ind, \n",
    "# puis conserver uniquement les multiples de 2 de x dans un vecteur que l’on nommera mult_2.\n",
    "ind = np.where(x%2==0)\n",
    "print(ind)\n",
    "mult_2 = x[ind]\n",
    "# mult_2 = x[x%2==0]\n",
    "print(mult_2)"
   ]
  },
  {
   "cell_type": "code",
   "execution_count": 74,
   "id": "5e9ae0c2-918c-4b0a-837b-7f269e78ff45",
   "metadata": {},
   "outputs": [
    {
     "name": "stdout",
     "output_type": "stream",
     "text": [
      "Variable           Type       Data/Info\n",
      "---------------------------------------\n",
      "a                  ndarray    3: 3 elems, type `int8`, 3 bytes\n",
      "addition_a_b       ndarray    3: 3 elems, type `int8`, 3 bytes\n",
      "b                  ndarray    3: 3 elems, type `int8`, 3 bytes\n",
      "c                  int        2\n",
      "d                  ndarray    3: 3 elems, type `float64`, 24 bytes\n",
      "ind                tuple      n=1\n",
      "indices            list       n=3\n",
      "list_x             list       n=5\n",
      "mult               ndarray    3: 3 elems, type `float64`, 24 bytes\n",
      "mult_2             ndarray    2: 2 elems, type `int8`, 2 bytes\n",
      "multiplication_c   ndarray    5: 5 elems, type `int8`, 5 bytes\n",
      "np                 module     <module 'numpy' from '/ho<...>kages/numpy/__init__.py'>\n",
      "positions          tuple      n=1\n",
      "resultat           ndarray    5: 5 elems, type `int8`, 5 bytes\n",
      "x                  ndarray    5: 5 elems, type `int8`, 5 bytes\n"
     ]
    }
   ],
   "source": [
    "%whos"
   ]
  },
  {
   "cell_type": "code",
   "execution_count": null,
   "id": "5a718bb3-510b-43b6-8051-960811dd07c0",
   "metadata": {},
   "outputs": [],
   "source": [
    "# 13. Afficher les éléments de x qui sont multiples de 3 et multiples de 2."
   ]
  },
  {
   "cell_type": "code",
   "execution_count": 78,
   "id": "579e9e90-4ad4-43c3-b228-cfe7ba9cf62f",
   "metadata": {},
   "outputs": [
    {
     "data": {
      "text/plain": [
       "array([], dtype=int8)"
      ]
     },
     "execution_count": 78,
     "metadata": {},
     "output_type": "execute_result"
    }
   ],
   "source": [
    "mult_2_3 = x [(x%3 == 0) & (x%2 == 0)]\n",
    "mult_2_3\n",
    "mult_2_3 = x[np.logical_and((x%3 == 0),(x%2 == 0))]\n",
    "mult_2_3"
   ]
  },
  {
   "cell_type": "code",
   "execution_count": 83,
   "id": "29548915-0fa9-4e5d-8dd0-98eb6174c34b",
   "metadata": {},
   "outputs": [
    {
     "data": {
      "text/plain": [
       "array([False, False, False, False, False])"
      ]
     },
     "execution_count": 83,
     "metadata": {},
     "output_type": "execute_result"
    }
   ],
   "source": [
    "np.logical_and((x%3 == 0),(x%2 == 0))"
   ]
  },
  {
   "cell_type": "code",
   "execution_count": 80,
   "id": "9786df63-852d-4555-a60f-ab93ba8db775",
   "metadata": {},
   "outputs": [
    {
     "name": "stdout",
     "output_type": "stream",
     "text": [
      "[2 3 4]\n",
      "[2 3 4]\n"
     ]
    }
   ],
   "source": [
    "# 14. Afficher les éléments de x qui sont multiples de 3 ou multiples de 2.\n",
    "mult_2_ou_3 = x [(x%3 == 0) | (x%2 == 0)]\n",
    "print(mult_2_ou_3)\n",
    "mult_2_ou_3 = x[np.logical_or((x%3 == 0),(x%2 == 0))]\n",
    "print(mult_2_ou_3)"
   ]
  },
  {
   "cell_type": "code",
   "execution_count": 81,
   "id": "5b560ade-3667-4980-94db-fd04f6b3b9f9",
   "metadata": {},
   "outputs": [
    {
     "data": {
      "text/plain": [
       "array([False, False,  True,  True,  True])"
      ]
     },
     "execution_count": 81,
     "metadata": {},
     "output_type": "execute_result"
    }
   ],
   "source": [
    "x>=3"
   ]
  },
  {
   "cell_type": "code",
   "execution_count": 90,
   "id": "dcb87f04-82e1-49d5-8ea0-d4a77f3fc6b5",
   "metadata": {},
   "outputs": [],
   "source": [
    "x =x.astype('float')"
   ]
  },
  {
   "cell_type": "code",
   "execution_count": 92,
   "id": "94bc812f-b9a7-46cb-ba96-0a64bbaf238e",
   "metadata": {},
   "outputs": [
    {
     "data": {
      "text/plain": [
       "dtype('float64')"
      ]
     },
     "execution_count": 92,
     "metadata": {},
     "output_type": "execute_result"
    }
   ],
   "source": [
    "x.dtype"
   ]
  },
  {
   "cell_type": "code",
   "execution_count": 93,
   "id": "a88fd91f-8b04-497b-b8bf-931ef60e64d2",
   "metadata": {},
   "outputs": [
    {
     "name": "stdout",
     "output_type": "stream",
     "text": [
      "nan\n",
      "[4. 2. 3. 4. 5.]\n",
      "nan\n"
     ]
    }
   ],
   "source": [
    "#Calculer la somme des éléments de x.\n",
    "print(np.sum(x))\n",
    "# Remplacer le premier élément de x par un 4.\n",
    "x[0] = 4\n",
    "print(x)\n",
    "# Remplacer le premier élément de x par la valeur NaN, puis calculer la somme des éléments de x.\n",
    "x[0] = np.NaN\n",
    "print(np.sum(x))\n",
    "# Supprimer le vecteur x.\n",
    "del(x)"
   ]
  },
  {
   "cell_type": "code",
   "execution_count": 94,
   "id": "ce2bdb31-dd42-4318-91b6-c3f837da512e",
   "metadata": {},
   "outputs": [],
   "source": [
    "y = np.array([[1,2,3],[4,np.NaN,6],[7,8,9]])"
   ]
  },
  {
   "cell_type": "code",
   "execution_count": 99,
   "id": "2e870d03-204f-48b3-8845-906b7e5a6816",
   "metadata": {},
   "outputs": [
    {
     "data": {
      "text/plain": [
       "array([[1, 2, 3],\n",
       "       [4, None, 6],\n",
       "       [7, 8, 9]], dtype=object)"
      ]
     },
     "execution_count": 99,
     "metadata": {},
     "output_type": "execute_result"
    }
   ],
   "source": [
    "z = np.array([[1,2,3],[4,None,6],[7,8,9]])\n",
    "z"
   ]
  },
  {
   "cell_type": "code",
   "execution_count": 96,
   "id": "4bb4b2e5-0efa-4229-b917-3bcd1d8427cf",
   "metadata": {},
   "outputs": [
    {
     "data": {
      "text/plain": [
       "(array([[ 1.,  2.,  3.],\n",
       "        [ 4., nan,  6.],\n",
       "        [ 7.,  8.,  9.]]),\n",
       " dtype('float64'))"
      ]
     },
     "execution_count": 96,
     "metadata": {},
     "output_type": "execute_result"
    }
   ],
   "source": [
    "y, y.dtype"
   ]
  },
  {
   "cell_type": "code",
   "execution_count": 100,
   "id": "b3f54f3d-8d98-4c5b-8e21-47c65ba3acc5",
   "metadata": {},
   "outputs": [
    {
     "ename": "TypeError",
     "evalue": "unsupported operand type(s) for +: 'NoneType' and 'float'",
     "output_type": "error",
     "traceback": [
      "\u001b[0;31m---------------------------------------------------------------------------\u001b[0m",
      "\u001b[0;31mTypeError\u001b[0m                                 Traceback (most recent call last)",
      "Cell \u001b[0;32mIn[100], line 1\u001b[0m\n\u001b[0;32m----> 1\u001b[0m \u001b[43mz\u001b[49m\u001b[38;5;241;43m+\u001b[39;49m\u001b[43my\u001b[49m\n",
      "\u001b[0;31mTypeError\u001b[0m: unsupported operand type(s) for +: 'NoneType' and 'float'"
     ]
    }
   ],
   "source": [
    "z+y"
   ]
  },
  {
   "cell_type": "code",
   "execution_count": 101,
   "id": "50a285c6-95a6-423c-8615-507517f4955d",
   "metadata": {},
   "outputs": [
    {
     "data": {
      "text/plain": [
       "array([[ 2.,  4.,  6.],\n",
       "       [ 8., nan, 12.],\n",
       "       [14., 16., 18.]])"
      ]
     },
     "execution_count": 101,
     "metadata": {},
     "output_type": "execute_result"
    }
   ],
   "source": [
    "y+y"
   ]
  },
  {
   "cell_type": "code",
   "execution_count": 138,
   "id": "aece9f68-6adb-410f-ae57-bce2c3fa4588",
   "metadata": {},
   "outputs": [],
   "source": [
    "w = np.array([[1,2,3,4,5],[4,5,6,7,8],[7,8,9,1,2],[4,2,6,4,1]])"
   ]
  },
  {
   "cell_type": "code",
   "execution_count": 151,
   "id": "6d6a9089-465c-48ad-95bc-ba6669536f04",
   "metadata": {},
   "outputs": [],
   "source": [
    "t = 'text'"
   ]
  },
  {
   "cell_type": "code",
   "execution_count": 152,
   "id": "880e9096-d935-485e-849c-c961d6a3efd8",
   "metadata": {},
   "outputs": [
    {
     "data": {
      "text/plain": [
       "str"
      ]
     },
     "execution_count": 152,
     "metadata": {},
     "output_type": "execute_result"
    }
   ],
   "source": [
    "type(t)"
   ]
  },
  {
   "cell_type": "code",
   "execution_count": 158,
   "id": "db23fdaf-0f55-4376-8242-5fbc314d1073",
   "metadata": {},
   "outputs": [
    {
     "data": {
      "text/plain": [
       "array([[1, 2, 3, 4, 5],\n",
       "       [4, 5, 6, 7, 8],\n",
       "       [7, 8, 9, 1, 2],\n",
       "       [4, 2, 6, 4, 1]])"
      ]
     },
     "execution_count": 158,
     "metadata": {},
     "output_type": "execute_result"
    }
   ],
   "source": [
    "w"
   ]
  },
  {
   "cell_type": "code",
   "execution_count": 145,
   "id": "04c422df-d645-4af1-838f-1cb74744ccb9",
   "metadata": {},
   "outputs": [],
   "source": [
    "list = [1,2,3,'4',5]"
   ]
  },
  {
   "cell_type": "code",
   "execution_count": 147,
   "id": "b3970b2c-9ae6-4a86-9e67-ab31f4241624",
   "metadata": {},
   "outputs": [
    {
     "data": {
      "text/plain": [
       "array([[1, 2, 3, 4, 5],\n",
       "       [4, 5, 6, 7, 8],\n",
       "       [7, 8, 9, 1, 2],\n",
       "       [4, 2, 6, 4, 1]])"
      ]
     },
     "execution_count": 147,
     "metadata": {},
     "output_type": "execute_result"
    }
   ],
   "source": [
    "w"
   ]
  },
  {
   "cell_type": "code",
   "execution_count": 149,
   "id": "d231f343-c789-4af4-9583-0d344b2487eb",
   "metadata": {},
   "outputs": [
    {
     "data": {
      "text/plain": [
       "(1, 9)"
      ]
     },
     "execution_count": 149,
     "metadata": {},
     "output_type": "execute_result"
    }
   ],
   "source": [
    "np.min(w), np.max(w)"
   ]
  },
  {
   "cell_type": "code",
   "execution_count": 161,
   "id": "794de652-e4c0-4b7e-9af1-85e3c35ba56c",
   "metadata": {},
   "outputs": [
    {
     "data": {
      "text/plain": [
       "4.0"
      ]
     },
     "execution_count": 161,
     "metadata": {},
     "output_type": "execute_result"
    }
   ],
   "source": [
    "np.median(w)"
   ]
  },
  {
   "cell_type": "code",
   "execution_count": null,
   "id": "7598934d-9a56-48a3-b120-501392b2a5da",
   "metadata": {},
   "outputs": [],
   "source": [
    "w.m"
   ]
  },
  {
   "cell_type": "code",
   "execution_count": 114,
   "id": "ab759062-a580-4bd6-b2c9-2117002c88d9",
   "metadata": {},
   "outputs": [],
   "source": [
    "w = w.astype('float')"
   ]
  },
  {
   "cell_type": "code",
   "execution_count": 159,
   "id": "5e55cad0-0bd0-4599-ae38-1f883cbd97e4",
   "metadata": {},
   "outputs": [
    {
     "data": {
      "text/plain": [
       "numpy.ndarray"
      ]
     },
     "execution_count": 159,
     "metadata": {},
     "output_type": "execute_result"
    }
   ],
   "source": [
    "type(w)"
   ]
  },
  {
   "cell_type": "code",
   "execution_count": 141,
   "id": "fee78df6-ac79-4f6e-a8ce-d3cedbb03018",
   "metadata": {},
   "outputs": [
    {
     "name": "stdout",
     "output_type": "stream",
     "text": [
      "[[1 3 5]\n",
      " [7 9 2]]\n"
     ]
    }
   ],
   "source": [
    "ww = w[0:5:2,0:5:2]\n",
    "print(ww)"
   ]
  },
  {
   "cell_type": "code",
   "execution_count": 129,
   "id": "27be154e-9a7b-44d6-aebc-2e27df885480",
   "metadata": {},
   "outputs": [
    {
     "data": {
      "text/plain": [
       "array([[9.5, 2. ],\n",
       "       [4. , 5. ]])"
      ]
     },
     "execution_count": 129,
     "metadata": {},
     "output_type": "execute_result"
    }
   ],
   "source": [
    "ww = w[0:2,0:2]\n",
    "ww"
   ]
  },
  {
   "cell_type": "code",
   "execution_count": 121,
   "id": "46f6195d-cf1b-4fbe-9e86-7e86ba68520a",
   "metadata": {},
   "outputs": [
    {
     "data": {
      "text/plain": [
       "array([9.5, 2. , 3. ])"
      ]
     },
     "execution_count": 121,
     "metadata": {},
     "output_type": "execute_result"
    }
   ],
   "source": [
    "w[0]"
   ]
  },
  {
   "cell_type": "code",
   "execution_count": 122,
   "id": "b4b63275-27b1-4cd0-ba79-0069b52ffad9",
   "metadata": {},
   "outputs": [
    {
     "data": {
      "text/plain": [
       "array([9.5, 4. , 7. ])"
      ]
     },
     "execution_count": 122,
     "metadata": {},
     "output_type": "execute_result"
    }
   ],
   "source": [
    "w[:,0]"
   ]
  },
  {
   "cell_type": "code",
   "execution_count": 125,
   "id": "6199bf80-5700-47ad-add7-a064dc6f689f",
   "metadata": {},
   "outputs": [
    {
     "data": {
      "text/plain": [
       "(array([4., 5., 6.]), array([4., 5., 6.]))"
      ]
     },
     "execution_count": 125,
     "metadata": {},
     "output_type": "execute_result"
    }
   ],
   "source": [
    "w[1], w[1,:]"
   ]
  },
  {
   "cell_type": "code",
   "execution_count": 118,
   "id": "89fafefd-da9b-4440-94a9-c0c023e0bf19",
   "metadata": {},
   "outputs": [
    {
     "data": {
      "text/plain": [
       "9.5"
      ]
     },
     "execution_count": 118,
     "metadata": {},
     "output_type": "execute_result"
    }
   ],
   "source": [
    "w[0,0]"
   ]
  },
  {
   "cell_type": "code",
   "execution_count": null,
   "id": "0a0a504e-b9ab-4be6-a32f-5b618fc9a006",
   "metadata": {},
   "outputs": [
    {
     "ename": "IndentationError",
     "evalue": "unexpected indent (2367560067.py, line 2)",
     "output_type": "error",
     "traceback": [
      "\u001b[0;36m  Cell \u001b[0;32mIn[4], line 2\u001b[0;36m\u001b[0m\n\u001b[0;31m    print(type(x))  # <class 'list'>\u001b[0m\n\u001b[0m    ^\u001b[0m\n\u001b[0;31mIndentationError\u001b[0m\u001b[0;31m:\u001b[0m unexpected indent\n"
     ]
    }
   ],
   "source": [
    "# 3. Extraire le premier élément, puis en faire de même avec le dernier:\n",
    "    first_element = x[0]\n",
    "    last_element = x[-1]\n",
    "    print(first_element)  # 1\n",
    "    print(last_element)   # 5\n",
    "\n",
    "\n",
    "4. Extraire les trois premiers éléments et les stocker dans un vecteur que l’on nommera `a`:\n",
    "    ```python\n",
    "    a = x[:3]\n",
    "    print(a)  # [1, 2, 3]\n",
    "    ```\n",
    "\n",
    "5. Extraire les 1er, 2e et 5e éléments du vecteur (attention aux positions) ; les stocker dans un vecteur que l’on nommera `b`:\n",
    "    ```python\n",
    "    b = [x[0], x[1], x[4]]\n",
    "    print(b)  # [1, 2, 5]\n",
    "    ```\n",
    "\n",
    "6. Additionner le nombre 10 au vecteur `x`, puis multiplier le résultat par 2:\n",
    "    ```python\n",
    "    result = [(i + 10) * 2 for i in x]\n",
    "    print(result)  # [22, 24, 26, 28, 30]\n",
    "    ```\n",
    "\n",
    "7. Effectuer l’addition de `a` et `b`, commenter le résultat:\n",
    "    ```python\n",
    "    addition_ab = [a[i] + b[i] for i in range(len(a))]\n",
    "    print(addition_ab)  # [2, 4, 8]\n",
    "    ```\n",
    "    **Commentaire**: L'addition de `a` et `b` se fait élément par élément.\n",
    "\n",
    "8. Effectuer l’addition suivante : `x + a` ; commenter le résultat, puis regarder le résultat de `a + x`:\n",
    "    ```python\n",
    "    addition_xa = x + a\n",
    "    print(addition_xa)  # [1, 2, 3, 4, 5, 1, 2, 3]\n",
    "    \n",
    "    addition_ax = a + x\n",
    "    print(addition_ax)  # [1, 2, 3, 1, 2, 3, 4, 5]\n",
    "    ```\n",
    "    **Commentaire**: En Python, l'opérateur `+` concatène les listes.\n",
    "\n",
    "9. Multiplier le vecteur par le scalaire `c` que l’on fixera à 2:\n",
    "    ```python\n",
    "    c = 2\n",
    "    x_multiplied = [i * c for i in x]\n",
    "    print(x_multiplied)  # [2, 4, 6, 8, 10]\n",
    "    ```\n",
    "\n",
    "10. Effectuer la multiplication de `a` et `b` ; commenter le résultat:\n",
    "    ```python\n",
    "    multiplication_ab = [a[i] * b[i] for i in range(len(a))]\n",
    "    print(multiplication_ab)  # [1, 4, 15]\n",
    "    ```\n",
    "    **Commentaire**: La multiplication de `a` et `b` se fait élément par élément.\n",
    "\n",
    "11. Effectuer la multiplication suivante : `x * a` ; commenter le résultat:\n",
    "    ```python\n",
    "    multiplication_xa = [x[i] * a[i] for i in range(len(a))]\n",
    "    print(multiplication_xa)  # [1, 4, 9]\n",
    "    ```\n",
    "    **Commentaire**: La multiplication de `x` et `a` se fait élément par élément pour les trois premiers éléments de `x` et `a`.\n",
    "\n",
    "12. Récupérer les positions des multiples de 2 et les stocker dans un vecteur que l’on nommera `ind`, puis conserver uniquement les multiples de 2 de `x` dans un vecteur que l’on nommera `mult_2`:\n",
    "    ```python\n",
    "    ind = [i for i in range(len(x)) if x[i] % 2 == 0]\n",
    "    mult_2 = [x[i] for i in ind]\n",
    "    print(ind)    # [1, 3]\n",
    "    print(mult_2) # [2, 4]\n",
    "    ```\n",
    "\n",
    "13. Afficher les éléments de `x` qui sont multiples de 3 et multiples de 2:\n",
    "    ```python\n",
    "    multiples_3_2 = [i for i in x if i % 3 == 0 and i % 2 == 0]\n",
    "    print(multiples_3_2)  # []\n",
    "    ```\n",
    "\n",
    "14. Afficher les éléments de `x` qui sont multiples de 3 ou multiples de 2:\n",
    "    ```python\n",
    "    multiples_3_or_2 = [i for i in x if i % 3 == 0 or i % 2 == 0]\n",
    "    print(multiples_3_or_2)  # [2, 3, 4]\n",
    "    ```\n",
    "\n",
    "15. Calculer la somme des éléments de `x`:\n",
    "    ```python\n",
    "    sum_x = sum(x)\n",
    "    print(sum_x)  # 15\n",
    "    ```\n",
    "\n",
    "16. Remplacer le premier élément de `x` par un 4:\n",
    "    ```python\n",
    "    x[0] = 4\n",
    "    print(x)  # [4, 2, 3, 4, 5]\n",
    "    ```\n",
    "\n",
    "17. Remplacer le premier élément de `x` par la valeur `NaN`, puis calculer la somme des éléments de `x`:\n",
    "    ```python\n",
    "    import math\n",
    "    x[0] = math.nan\n",
    "    sum_x_nan = sum(i for i in x if not math.isnan(i))\n",
    "    print(sum_x_nan)  # 14\n",
    "    ```\n",
    "\n",
    "18. Supprimer le vecteur `x`:\n",
    "    ```python\n",
    "    del x\n",
    "    # print(x)  # This will raise an error since x is deleted\n",
    "    ```"
   ]
  },
  {
   "cell_type": "markdown",
   "id": "6a718e71-38f1-47cd-b6f4-015324051072",
   "metadata": {},
   "source": [
    "# Deuxième exercice\n",
    "\n",
    "Créer la matrice suivante : \n",
    "\n",
    "1. Afficher la dimension de `A`, son nombre de colonnes, son nombre de lignes et sa longueur.\n",
    "2. Extraire la seconde colonne de `A`, puis la première ligne.\n",
    "3. Extraire l’élément en troisième position à la première ligne.\n",
    "4. Extraire la sous-matrice de dimension 2×2 du coin inférieur de `A`, c’est-à-dire \n",
    "5. Calculer la somme des colonnes puis des lignes de `A`.\n",
    "6. Afficher la diagonale de `A`.\n",
    "7. Rajouter le vecteur `[1, 2, 3]⊤` à droite de la matrice `A` et stocker le résultat dans un objet appelé `B`.\n",
    "8. Retirer le quatrième vecteur de `B`.\n",
    "9. Retirer la première et la troisième ligne de `B`.\n",
    "10. Ajouter le scalaire 10 à `A`.\n",
    "11. Ajouter le vecteur `[1, 2, 3]⊤` à `A`.\n",
    "12. Ajouter la matrice identité `I3` à `A`.\n",
    "13. Diviser tous les éléments de la matrice `A` par 2.\n",
    "14. Multiplier la matrice `A` par le vecteur ligne `[1, 2, 3]⊤`.\n",
    "15. Afficher la transposée de `A`.\n",
    "16. Effectuer le produit avec transposition `A⊤A`.\n"
   ]
  },
  {
   "cell_type": "code",
   "execution_count": null,
   "id": "eebc4be9-d037-48d1-aa9f-2aef2da6f0cf",
   "metadata": {},
   "outputs": [],
   "source": []
  }
 ],
 "metadata": {
  "kernelspec": {
   "display_name": "Python 3 (ipykernel)",
   "language": "python",
   "name": "python3"
  },
  "language_info": {
   "codemirror_mode": {
    "name": "ipython",
    "version": 3
   },
   "file_extension": ".py",
   "mimetype": "text/x-python",
   "name": "python",
   "nbconvert_exporter": "python",
   "pygments_lexer": "ipython3",
   "version": "3.11.6"
  }
 },
 "nbformat": 4,
 "nbformat_minor": 5
}
