{
 "cells": [
  {
   "cell_type": "markdown",
   "id": "35d8f347-957c-4295-8a9f-f7758a840812",
   "metadata": {},
   "source": [
    "# Examen Final: 420-DK1-GC Rapports et Tableaux de bords\n",
    "__Groupe:__ 82107   \n",
    "__Durée:__ 2 heures"
   ]
  },
  {
   "cell_type": "markdown",
   "id": "75456632-4335-4bc2-961f-3c962d6b8c7e",
   "metadata": {},
   "source": [
    "# Lecture du fichier"
   ]
  },
  {
   "cell_type": "markdown",
   "id": "6b742d2c-5fa9-4038-97f3-6e216b05a46f",
   "metadata": {},
   "source": [
    "L'ensemble de données contient des données sur les clients d'une société de cartes de crédit et est utilisé pour prédire le taux de désabonnement. Voici les variables qu'il contient :\n",
    "\n",
    "`customer_id / identifiant_client:` Un identifiant unique pour chaque client.  \n",
    "`age / âge:` L'âge du client.  \n",
    "`gender/ sexe:` Le sexe du client.  \n",
    "`education_level / niveau_éducation:` Le niveau d'éducation le plus élevé atteint par le client.  \n",
    "`marital_status/ état_civil:` L'état civil du client (par exemple, célibataire, marié, divorcé).  \n",
    "`estimated_income / revenu_estimé:` Le revenu annuel estimé du client.  \n",
    "`months_on_book / mois_dans_les_registres:` Le nombre de mois pendant lesquels le client a été enregistré auprès de l'entreprise.  \n",
    "`credit_limit / limite_de_crédit:` Le montant maximum de crédit accordé au client.  \n",
    "`total_trans_amount / montant_total_des_transactions:` Le montant total des transactions effectuées par le client sur une période spécifiée.  \n",
    "`total_trans_count / nombre_total_des_transactions:` Le nombre total de transactions effectuées par le client sur une période spécifiée.  \n",
    "`churn / desabonnement:` Un indicateur binaire de savoir si le client a arrêté d'utiliser le service.  \n",
    "`year / année:` L'année où les données ont été enregistrées.  "
   ]
  },
  {
   "cell_type": "markdown",
   "id": "30b21c73-32e7-4d96-8e46-4b8b690ff575",
   "metadata": {},
   "source": [
    "**Question 1:** *(1 point)* visualiser le fichier *churn_predit_over_time.csv* par un dataframe"
   ]
  },
  {
   "cell_type": "code",
   "execution_count": null,
   "id": "c8c2803f",
   "metadata": {},
   "outputs": [],
   "source": []
  },
  {
   "cell_type": "markdown",
   "id": "473c418a-c8ab-47d4-8e9c-ea0dc4f847cb",
   "metadata": {},
   "source": [
    "Procédant par un analyse rapide du jeud de donnée"
   ]
  },
  {
   "cell_type": "markdown",
   "id": "0cf948a3-fc77-4477-b147-9521a6d552a8",
   "metadata": {},
   "source": [
    "**Question 2:** *(1 point)* Valider si l'ensemble des données contient des valeurs nulles. D'après vous, l'assignation automatique du type de données corresponds elle au besoin d'analyse, pourquoi?"
   ]
  },
  {
   "cell_type": "code",
   "execution_count": null,
   "id": "f00c1cad",
   "metadata": {},
   "outputs": [],
   "source": []
  },
  {
   "cell_type": "markdown",
   "id": "b2ee7d6d-8470-4544-9c7c-e6a72522608f",
   "metadata": {},
   "source": [
    "**Question 3:** *(1 point)* Changer l'entête du dataframe avec une entête en français (utiliser la description en haut pour les titres)"
   ]
  },
  {
   "cell_type": "code",
   "execution_count": null,
   "id": "b9a813b9",
   "metadata": {},
   "outputs": [],
   "source": []
  },
  {
   "cell_type": "markdown",
   "id": "99698bde",
   "metadata": {},
   "source": [
    "**Question 4:** *(1 point)* Calculer le nombre des valeurs uniques de la colonne `identifiant_client`. Que peut on déduire?"
   ]
  },
  {
   "cell_type": "code",
   "execution_count": null,
   "id": "63f3eb58",
   "metadata": {},
   "outputs": [],
   "source": []
  },
  {
   "cell_type": "markdown",
   "id": "eab2d70b-86a2-4619-ae28-e23619edacce",
   "metadata": {},
   "source": [
    "**Question 5:** *(1 point)* lister les valeurs distinctes pour chacune des colonnes `sexe`, `niveau_education` et `etat_civil`"
   ]
  },
  {
   "cell_type": "code",
   "execution_count": null,
   "id": "bc8b63c4",
   "metadata": {},
   "outputs": [],
   "source": []
  },
  {
   "cell_type": "markdown",
   "id": "ab45b518-05b5-4745-a2c6-9f3d16e9186a",
   "metadata": {},
   "source": [
    "**Question 6:** *(1 point)* quelle est la rangé de la colonne annee"
   ]
  },
  {
   "cell_type": "code",
   "execution_count": null,
   "id": "b033299c",
   "metadata": {},
   "outputs": [],
   "source": []
  },
  {
   "cell_type": "markdown",
   "id": "8b75dc8a-5c82-453c-a5ed-79377c58ef81",
   "metadata": {},
   "source": [
    "**Question 7:** *(1 point)* modifier la colonne `sexe` en changant `M` par `Male` et `F` par `Femelle`"
   ]
  },
  {
   "cell_type": "code",
   "execution_count": null,
   "id": "30395973",
   "metadata": {},
   "outputs": [],
   "source": []
  },
  {
   "cell_type": "markdown",
   "id": "5e547a27-8f43-4e40-b6ff-a62bab4e4723",
   "metadata": {},
   "source": [
    "**Question 8:** *(1 point)* créer un sous-ensemble [`identifiant_client`\t`age`\t`sexe`\t`niveau_education`\t`etat_civil`\t] de donnée contenant seulement la list des valeurs uniques"
   ]
  },
  {
   "cell_type": "code",
   "execution_count": null,
   "id": "9a296284",
   "metadata": {},
   "outputs": [],
   "source": []
  },
  {
   "cell_type": "markdown",
   "id": "5affb55c",
   "metadata": {},
   "source": [
    "**Question 9:** *(1 point)* compter le nombre des différentes catégorie de  la colonne `etat_civil`"
   ]
  },
  {
   "cell_type": "code",
   "execution_count": null,
   "id": "26e5e88b",
   "metadata": {},
   "outputs": [],
   "source": []
  },
  {
   "cell_type": "markdown",
   "id": "c0a49140",
   "metadata": {},
   "source": [
    "**Question 10:** *(2 point)* Representer le nombre des categorie de la colonne  `etat_civil` en un graphique à barre. suivre les consigne suivante\n",
    "- `dimension figure:` 8 x 6 \n",
    "- `titre:` Compte des états civils\n",
    "- `x-label:` État civil\n",
    "- `y-label:` nombre\n",
    "- `couleur des barre:` [bleu, vert, orange, rouge, violet ] "
   ]
  },
  {
   "cell_type": "code",
   "execution_count": null,
   "id": "595b0a4b",
   "metadata": {},
   "outputs": [],
   "source": []
  },
  {
   "attachments": {
    "image-2.png": {
     "image/png": "[encoded data removed]"
    }
   },
   "cell_type": "markdown",
   "id": "c61ded7b-e535-4cbc-81a0-c8972b985c94",
   "metadata": {},
   "source": [
    "**Question 11:** *(2 points)* quelle est le nombre de `Male` et `Femelle` et le pourcentage de chacun.  \n",
    "*résulat:*\n",
    "  \n",
    "![image-2.png](attachment:image-2.png)"
   ]
  },
  {
   "cell_type": "code",
   "execution_count": null,
   "id": "4d466b0d",
   "metadata": {},
   "outputs": [],
   "source": []
  },
  {
   "attachments": {
    "image.png": {
     "image/png": "[encoded data removed]"
    }
   },
   "cell_type": "markdown",
   "id": "3c1a79aa-410f-4356-acd2-3c3207e18c89",
   "metadata": {},
   "source": [
    "**Question 12:** *(2 points)* présenter la distribution du `sexe` par un graphe en camembert\n",
    "\n",
    "*resultat:*  \n",
    "![image.png](attachment:image.png)"
   ]
  },
  {
   "cell_type": "code",
   "execution_count": null,
   "id": "a9ade18c",
   "metadata": {},
   "outputs": [],
   "source": []
  },
  {
   "cell_type": "markdown",
   "id": "90b3d705-d22b-4325-b083-4392eb04a868",
   "metadata": {},
   "source": [
    "**Question 13:** *(2 points)* Tracer la distribution d'âge de l'ensemble des clients  \n",
    "*consigne:* \n",
    "- Choisir la taille du `bin` = 10\n",
    "- la couleur = `skyblue` \n",
    "\n"
   ]
  },
  {
   "cell_type": "code",
   "execution_count": null,
   "id": "372603e1",
   "metadata": {},
   "outputs": [],
   "source": []
  },
  {
   "cell_type": "markdown",
   "id": "ebd45543",
   "metadata": {},
   "source": [
    "**Question 14:** *(3 points)* quel est le nombre de clients qui ont la limite de credit maximale"
   ]
  },
  {
   "cell_type": "code",
   "execution_count": null,
   "id": "31763d82",
   "metadata": {},
   "outputs": [],
   "source": []
  }
 ],
 "metadata": {
  "kernelspec": {
   "display_name": "Python 3 (ipykernel)",
   "language": "python",
   "name": "python3"
  },
  "language_info": {
   "codemirror_mode": {
    "name": "ipython",
    "version": 3
   },
   "file_extension": ".py",
   "mimetype": "text/x-python",
   "name": "python",
   "nbconvert_exporter": "python",
   "pygments_lexer": "ipython3",
   "version": "3.10.13"
  }
 },
 "nbformat": 4,
 "nbformat_minor": 5
}
