{
 "cells": [
  {
   "cell_type": "markdown",
   "id": "818264c8-987d-4c21-b618-8e4b14776086",
   "metadata": {},
   "source": [
    "# Introduction à Pandas\n",
    "\n",
    "Lino Galiana  \n",
    "2024-06-17\n",
    "\n",
    "La partie `Pandas` a évolué récemment. Vous pouvez retrouver les contenus liés à `Pandas` dans les chapitres suivants:\n",
    "\n",
    "-   [Introduction à `Pandas` et à la logique du *DataFrame*](../../content/manipulation/02_pandas_intro.qmd) ;\n",
    "-   [Statistiques par groupe et association de plusieurs jeux de données avec `Pandas`](../../content/manipulation/02_pandas_suite.qmd) ;"
   ]
  }
 ],
 "metadata": {
  "kernelspec": {
   "display_name": "Python 3 (ipykernel)",
   "language": "python",
   "name": "python3"
  },
  "language_info": {
   "codemirror_mode": {
    "name": "ipython",
    "version": 3
   },
   "file_extension": ".py",
   "mimetype": "text/x-python",
   "name": "python",
   "nbconvert_exporter": "python",
   "pygments_lexer": "ipython3",
   "version": "3.10.13"
  }
 },
 "nbformat": 4,
 "nbformat_minor": 5
}
