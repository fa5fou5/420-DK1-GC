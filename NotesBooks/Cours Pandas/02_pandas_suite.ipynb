{
 "cells": [
  {
   "cell_type": "markdown",
   "id": "ecf2f5ad-3fa5-43c6-be29-290bbefdae54",
   "metadata": {},
   "source": [
    "# Statistiques par groupe et association de plusieurs jeux de données\n",
    "\n",
    "avec Pandas\n",
    "\n",
    "Lino Galiana  \n",
    "2024-06-17\n",
    "\n",
    "Pour essayer les exemples présents dans ce tutoriel :\n",
    "\n",
    "# 1. Introduction\n",
    "\n",
    "Le [chapitre d’introduction à `Pandas`](../../content/manipulation/02_pandas_intro.qmd) a permis de présenter le principe de données organisées sous une forme de *DataFrame* et la praticité de l’écosystème `Pandas` pour effectuer des opérations simples sur un jeu de données.\n",
    "\n",
    "Il est rare de travailler exclusivement sur une source brute. Un jeu de données prend généralement de la valeur lorsqu’il est comparé à d’autres sources. Pour des chercheurs, cela permettra de contextualiser l’information présente dans une source en la comparant ou en l’associant à d’autres sources. Pour des *data scientists* dans le secteur privé, il s’agira souvent d’associer des informations sur une même personne dans plusieurs bases clientes ou comparer les clients entre eux.\n",
    "\n",
    "L’un des apports des outils modernes de *data science*, notamment `Pandas` est la simplicité par laquelle ils permettent de restructurer des sources pour travailler sur plusieurs données sur un projet.\n",
    "Ce chapitre consolide ainsi les principes vus précédemment en raffinant les traitements faits sur les données. Il va explorer principalement deux types d’opérations:\n",
    "\n",
    "-   les statistiques descriptives par groupe ;\n",
    "-   l’association de données par des caractéristiques communes.\n",
    "\n",
    "Effectuer ce travail de manière simple, fiable et efficace est indispensable pour les *data scientists* tant cette tâche est courante. Heureusement `Pandas` permet de faire cela très bien avec des données structurées. Nous verrons dans les prochains chapitres, mais aussi dans l’ensemble de la [partie sur le traitement des données textuelles](../../content/nlp/index.qmd), comment faire avec des données moins structurées.\n",
    "\n",
    "Grâce à ce travail, nous allons approfondir notre compréhension d’un phénomène réel par le biais de statistiques descriptives fines. Cela est une étape indispensable avant de basculer vers la [statistique inférentielle](https://fr.wikipedia.org/wiki/Inf%C3%A9rence_statistique#:~:text=L'inf%C3%A9rence%20statistique%20est%20l,%3A%20la%20probabilit%C3%A9%20d'erreur.), l’approche qui consiste à formaliser et généraliser des liens de corrélation ou de causalité entre des caractéristiques observées et un phénomène."
   ]
  },
  {
   "cell_type": "markdown",
   "id": "8be32263-6294-426e-925e-606c51cfaf4c",
   "metadata": {},
   "source": [
    "<div class=\"alert alert-success\" role=\"alert\" style=\"color: rgba(0,0,0,.8); background-color: white; margin-top: 1em; margin-bottom: 1em; margin:1.5625emauto; padding:0 .6rem .8rem!important;overflow:hidden; page-break-inside:avoid; border-radius:.25rem; box-shadow:0 .2rem .5rem rgba(0,0,0,.05),0 0 .05rem rgba(0,0,0,.1); transition:color .25s,background-color .25s,border-color .25s ; border-right: 1px solid #dee2e6 ; border-top: 1px solid #dee2e6 ; border-bottom: 1px solid #dee2e6 ; border-left:.2rem solid #3fb618;\">\n",
    "<h3 class=\"alert-heading\"><i class=\"fa fa-pencil\"></i> Compétences à l'issue de ce chapitre</h3>\n",
    "\n",
    "-   Récupérer un jeu de données officiel de l’Insee ;\n",
    "-   Construire des statistiques descriptives par groupe et jongler entre les niveaux des données ;\n",
    "-   Associer des données (*reshape*, *merge*) pour leur donner plus de valeur ;\n",
    "-   Faire un beau tableau pour communiquer des statistiques descriptives.\n",
    "\n",
    "</div>"
   ]
  },
  {
   "cell_type": "markdown",
   "id": "ca688973-ec47-47c5-b824-8611bb00343d",
   "metadata": {},
   "source": [
    "## 1.1 Environnement\n",
    "\n",
    "Le chapitre précédent utilisait quasi exclusivement la librairie `Pandas`. Nous allons dans ce chapitre utiliser d’autres *packages* en complément de celui-ci.\n",
    "\n",
    "Comme expliqué ci-dessous, nous allons utiliser une librairie nommée `pynsee` pour récupérer les données de l’Insee utiles à enrichir notre jeu de données de l’Ademe. Cette librairie n’est pas installée par défaut dans `Python`. Avant de pouvoir l’utiliser,\n",
    "il est nécessaire de l’installer, comme la librairie `great_tables` que nous verrons à la fin de ce chapitre:"
   ]
  },
  {
   "cell_type": "code",
   "execution_count": 1,
   "id": "8b1b8ba7",
   "metadata": {},
   "outputs": [],
   "source": [
    "!pip install xlrd\n",
    "!pip install pynsee\n",
    "!pip install great_tables"
   ]
  },
  {
   "cell_type": "markdown",
   "id": "9b044136-32ec-4a79-ab61-78384aca3d2c",
   "metadata": {},
   "source": [
    "L’instruction `!pip install <pkg>` est une manière de faire comprendre à `Jupyter`, le moteur d’exécution derrière les *notebooks* que la commande qui suit (`pip install` ce `<pkg>`)\n",
    "est une commande système, à exécuter hors de `Python` (dans le terminal par exemple pour un système `Linux`).\n",
    "\n",
    "Les premiers *packages* indispensables pour démarrer ce chapitre sont les suivants:"
   ]
  },
  {
   "cell_type": "code",
   "execution_count": 2,
   "id": "7e46bbbf",
   "metadata": {},
   "outputs": [],
   "source": [
    "import numpy as np\n",
    "import pandas as pd\n",
    "import matplotlib.pyplot as plt\n",
    "import pynsee\n",
    "import pynsee.download\n"
   ]
  },
  {
   "cell_type": "markdown",
   "id": "5537eff7-83ce-4126-b4e7-f4977f58d2a7",
   "metadata": {},
   "source": [
    "Pour obtenir des résultats reproductibles, on peut fixer la racine du générateur\n",
    "pseudo-aléatoire."
   ]
  },
  {
   "cell_type": "code",
   "execution_count": 3,
   "id": "41e52fa2",
   "metadata": {},
   "outputs": [],
   "source": [
    "np.random.seed(123)\n"
   ]
  },
  {
   "cell_type": "markdown",
   "id": "2e086c1a-12ca-4ffb-aafd-f7d3458fa751",
   "metadata": {},
   "source": [
    "## 1.2 Données utilisées\n",
    "\n",
    "Ce tutoriel continue l’exploration du jeu de données du chapitre précédent:\n",
    "\n",
    "-   Les émissions de gaz à effet de serre estimées au niveau communal par l’ADEME. Le jeu de données est\n",
    "    disponible sur [data.gouv](https://www.data.gouv.fr/fr/datasets/inventaire-de-gaz-a-effet-de-serre-territorialise/#_)\n",
    "    et requêtable directement dans `Python` avec\n",
    "    [cet url](https://koumoul.com/s/data-fair/api/v1/datasets/igt-pouvoir-de-rechauffement-global/convert) ;\n",
    "\n",
    "Les problématiques d’enrichissement de données (association d’une source à une autre à partir de caractéristiques communes) seront présentées à partir de deux sources produites par l’Insee:\n",
    "\n",
    "-   Le\n",
    "    [code officiel géographique](https://www.insee.fr/fr/statistiques/fichier/6800675/v_commune_2023.csv),\n",
    "    un référentiel\n",
    "    produit par l’Insee utilisé pour identifier les communes à partir d’un code unique, contrairement au code postal ;\n",
    "-   Les données [*Filosofi*](https://www.insee.fr/fr/metadonnees/source/serie/s1172), une source sur les revenus des Français à une échelle spatiale fine construite par l’Insee à partir des déclarations fiscales et d’informations sur les prestations sociales. En l’occurrence, nous allons utiliser les niveaux de revenu et les populations[1] au niveau communal afin de les mettre en regard de nos données d’émissions.\n",
    "\n",
    "Pour faciliter l’import de données Insee, il est recommandé d’utiliser le *package*\n",
    "[`pynsee`](https://pynsee.readthedocs.io/en/latest/) qui simplifie l’accès aux principaux jeux de données\n",
    "de l’Insee disponibles sur le site web [insee.fr](https://www.insee.fr/fr/accueil)\n",
    "ou via des API.\n",
    "\n",
    "[1] Idéalement il serait plus cohérent, pour les données démographiques, d’utiliser les [populations légales](https://www.insee.fr/fr/information/2008354), issues du recensement. Néanmoins cette base n’est pas encore intégrée nativement dans la librairie `pynsee` que nous allons utiliser dans ce chapitre. Un exercice d’ouverture est proposé pour construire des agrégats de population à partir des jeux de données individuels anonymisés du recensement (les [fichiers détails](https://www.insee.fr/fr/information/2383306))."
   ]
  },
  {
   "cell_type": "markdown",
   "id": "1314df39-5c84-4d30-b669-f9b510549f46",
   "metadata": {},
   "source": [
    "<div class=\"alert alert-info\" role=\"alert\" style=\"color: rgba(0,0,0,.8); background-color: white; margin-top: 1em; margin-bottom: 1em; margin:1.5625emauto; padding:0 .6rem .8rem!important;overflow:hidden; page-break-inside:avoid; border-radius:.25rem; box-shadow:0 .2rem .5rem rgba(0,0,0,.05),0 0 .05rem rgba(0,0,0,.1); transition:color .25s,background-color .25s,border-color .25s ; border-right: 1px solid #dee2e6 ; border-top: 1px solid #dee2e6 ; border-bottom: 1px solid #dee2e6 ; border-left:.2rem solid #007bff80;\">\n",
    "<h3 class=\"alert-heading\"><i class=\"fa fa-comment\"></i> Note</h3>\n",
    "\n",
    "Le *package* `pynsee` comporte deux principaux points d’entrée :\n",
    "\n",
    "-   Les API de l’Insee, ce qui sera illustré dans le chapitre consacré.\n",
    "-   Quelques jeux de données directement issus du site web de\n",
    "    l’Insee ([insee.fr](https://www.insee.fr/fr/accueil))\n",
    "\n",
    "Dans ce chapitre, nous allons exclusivement utiliser cette deuxième\n",
    "approche. Cela se fera par le module `pynsee.download`.\n",
    "\n",
    "La liste des données disponibles depuis ce *package* est [ici](https://inseefrlab.github.io/DoReMIFaSol/articles/donnees_dispo.html).\n",
    "La fonction `download_file` attend un identifiant unique\n",
    "pour savoir quelle base de données aller chercher et\n",
    "restructurer depuis le\n",
    "site [insee.fr](https://www.insee.fr/fr/accueil).\n",
    "\n",
    "<details>\n",
    "\n",
    "<summary>\n",
    "\n",
    "Connaître la liste des bases disponibles\n",
    "\n",
    "</summary>\n",
    "\n",
    "Pour connaître la liste des bases disponibles, vous\n",
    "pouvez utiliser la fonction `meta = pynsee.get_file_list()`\n",
    "après avoir fait `import pynsee`.\n",
    "Celle-ci renvoie un `DataFrame` dans lequel on peut\n",
    "rechercher, par exemple grâce à une recherche\n",
    "de mots-clefs :\n",
    "\n",
    "``` python\n",
    "import pynsee\n",
    "\n",
    "meta = pynsee.get_file_list()\n",
    "meta.loc[meta[\"label\"].str.contains(r\"Filosofi.*2016\")]\n",
    "```\n",
    "\n",
    "<div>\n",
    "<style scoped>\n",
    "    .dataframe tbody tr th:only-of-type {\n",
    "        vertical-align: middle;\n",
    "    }\n",
    "\n",
    "    .dataframe tbody tr th {\n",
    "        vertical-align: top;\n",
    "    }\n",
    "\n",
    "    .dataframe thead th {\n",
    "        text-align: right;\n",
    "    }\n",
    "</style>\n",
    "\n",
    "|     | id                   | name            | label                                             | collection | link                                              | type | zip  | big_zip | data_file                 | tab    | ... | label_col | date_ref   | meta_file | separator | type_col | long_col | val_col | encoding | last_row | missing_value |\n",
    "|-----|----------------------|-----------------|---------------------------------------------------|------------|---------------------------------------------------|------|------|---------|---------------------------|--------|-----|-----------|------------|-----------|-----------|----------|----------|---------|----------|----------|---------------|\n",
    "| 79  | FILOSOFI_COM_2016    | FILOSOFI_COM    | Données Filosofi niveau communal – 2016           | FILOSOFI   | https://www.insee.fr/fr/statistiques/fichier/4... | xls  | True | False   | base-cc-filosofi-2016.xls | COM    | ... | NaN       | 2016-01-01 | NaN       | NaN       | NaN      | NaN      | NaN     | NaN      | NaN      | NaN           |\n",
    "| 80  | FILOSOFI_EPCI_2016   | FILOSOFI_EPCI   | Données Filosofi niveau EPCI – 2016               | FILOSOFI   | https://www.insee.fr/fr/statistiques/fichier/4... | xls  | True | False   | base-cc-filosofi-2016.xls | EPCI   | ... | NaN       | 2016-01-01 | NaN       | NaN       | NaN      | NaN      | NaN     | NaN      | NaN      | NaN           |\n",
    "| 81  | FILOSOFI_ARR_2016    | FILOSOFI_ARR    | Données Filosofi niveau arondissement – 2016      | FILOSOFI   | https://www.insee.fr/fr/statistiques/fichier/4... | xls  | True | False   | base-cc-filosofi-2016.xls | ARR    | ... | NaN       | 2016-01-01 | NaN       | NaN       | NaN      | NaN      | NaN     | NaN      | NaN      | NaN           |\n",
    "| 82  | FILOSOFI_DEP_2016    | FILOSOFI_DEP    | Données Filosofi niveau départemental – 2016      | FILOSOFI   | https://www.insee.fr/fr/statistiques/fichier/4... | xls  | True | False   | base-cc-filosofi-2016.xls | DEP    | ... | NaN       | 2016-01-01 | NaN       | NaN       | NaN      | NaN      | NaN     | NaN      | NaN      | NaN           |\n",
    "| 83  | FILOSOFI_REG_2016    | FILOSOFI_REG    | Données Filosofi niveau régional – 2016           | FILOSOFI   | https://www.insee.fr/fr/statistiques/fichier/4... | xls  | True | False   | base-cc-filosofi-2016.xls | REG    | ... | NaN       | 2016-01-01 | NaN       | NaN       | NaN      | NaN      | NaN     | NaN      | NaN      | NaN           |\n",
    "| 84  | FILOSOFI_METRO_2016  | FILOSOFI_METRO  | Données Filosofi niveau France métropolitaine ... | FILOSOFI   | https://www.insee.fr/fr/statistiques/fichier/4... | xls  | True | False   | base-cc-filosofi-2016.xls | METRO  | ... | NaN       | 2016-01-01 | NaN       | NaN       | NaN      | NaN      | NaN     | NaN      | NaN      | NaN           |\n",
    "| 85  | FILOSOFI_AU2010_2016 | FILOSOFI_AU2010 | Données Filosofi niveau aire urbaine – 2016       | FILOSOFI   | https://www.insee.fr/fr/statistiques/fichier/4... | xls  | True | False   | base-cc-filosofi-2016.xls | AU2010 | ... | NaN       | 2016-01-01 | NaN       | NaN       | NaN      | NaN      | NaN     | NaN      | NaN      | NaN           |\n",
    "| 86  | FILOSOFI_UU2010_2016 | FILOSOFI_UU2010 | Données Filosofi niveau unité urbaine – 2016      | FILOSOFI   | https://www.insee.fr/fr/statistiques/fichier/4... | xls  | True | False   | base-cc-filosofi-2016.xls | UU2010 | ... | NaN       | 2016-01-01 | NaN       | NaN       | NaN      | NaN      | NaN     | NaN      | NaN      | NaN           |\n",
    "| 87  | FILOSOFI_ZE2010_2016 | FILOSOFI_ZE2010 | Données Filosofi niveau zone d’emploi – 2016      | FILOSOFI   | https://www.insee.fr/fr/statistiques/fichier/4... | xls  | True | False   | base-cc-filosofi-2016.xls | ZE2010 | ... | NaN       | 2016-01-01 | NaN       | NaN       | NaN      | NaN      | NaN     | NaN      | NaN      | NaN           |\n",
    "\n",
    "<p>9 rows × 24 columns</p>\n",
    "</div>\n",
    "\n",
    "Ici, `meta['label'].str.contains(r\"Filosofi.*2016\")` signifie:\n",
    "“*`pandas` trouve moi tous les labels où sont contenus les termes Filosofi et 2016.*”\n",
    "(`.*` signifiant “*peu m’importe le nombre de mots ou caractères entre*”)\n",
    "\n",
    "</details>\n",
    "\n",
    "</div>"
   ]
  },
  {
   "cell_type": "markdown",
   "id": "b17df1e6-e2e6-4712-bcdb-964713b39de3",
   "metadata": {},
   "source": [
    "# 2. Récupération des jeux de données\n",
    "\n",
    "## 2.1 Données d’émission de l’Ademe\n",
    "\n",
    "Comme expliqué au chapitre précédent, ces données peuvent être importées très simplement avec `Pandas`"
   ]
  },
  {
   "cell_type": "code",
   "execution_count": 5,
   "id": "22871773",
   "metadata": {},
   "outputs": [
    {
     "data": {
      "text/html": [
       "\n",
       "</div>"
      ]
     },
     "metadata": {},
     "output_type": "display_data"
    }
   ],
   "source": [
    "import pandas as pd\n",
    "\n",
    "url = \"https://koumoul.com/s/data-fair/api/v1/datasets/igt-pouvoir-de-rechauffement-global/convert\"\n",
    "emissions = pd.read_csv(url)\n",
    "emissions.head(2)\n"
   ]
  },
  {
   "cell_type": "markdown",
   "id": "420a02df-3f2a-4403-9dfb-a6a8e92dd93d",
   "metadata": {},
   "source": [
    "Nous allons d’ores et déjà conserver le nom des secteurs émetteurs présents dans la base de données pour simplifier des utilisations ultérieures:"
   ]
  },
  {
   "cell_type": "code",
   "execution_count": 6,
   "id": "0212fa6a",
   "metadata": {},
   "outputs": [],
   "source": [
    "secteurs = emissions.select_dtypes(include=\"number\").columns\n"
   ]
  },
  {
   "cell_type": "markdown",
   "id": "d1981330-f380-4221-8541-d5e8eeac91de",
   "metadata": {},
   "source": [
    "Les exploitations ultérieures de ces données utiliseront la dimension départementale dont nous avons montré la construction au chapitre précédent:"
   ]
  },
  {
   "cell_type": "code",
   "execution_count": 7,
   "id": "6a87d6d8",
   "metadata": {},
   "outputs": [],
   "source": [
    "emissions[\"dep\"] = emissions[\"INSEE commune\"].str[:2]\n"
   ]
  },
  {
   "cell_type": "markdown",
   "id": "70335842-3656-4a3a-b6a2-3f0c5d226fe4",
   "metadata": {},
   "source": [
    "## 2.2 Données *Filosofi*\n",
    "\n",
    "On va utiliser les données Filosofi (données de revenus) au niveau communal de 2016.\n",
    "Ce n’est pas la même année que les données d’émission de CO2, ce n’est donc pas parfaitement rigoureux,\n",
    "mais cela permettra tout de même d’illustrer\n",
    "les principales fonctionnalités de `Pandas`\n",
    "\n",
    "Le point d’entrée principal de la fonction `pynsee` est la fonction `download_file`.\n",
    "\n",
    "Le code pour télécharger les données est le suivant :"
   ]
  },
  {
   "cell_type": "code",
   "execution_count": 8,
   "id": "e29fadee",
   "metadata": {},
   "outputs": [],
   "source": [
    "from pynsee.download import download_file\n",
    "\n",
    "filosofi = download_file(\"FILOSOFI_COM_2016\")\n"
   ]
  },
  {
   "cell_type": "markdown",
   "id": "fe344b01-24e9-497f-ab49-0ee3c1550585",
   "metadata": {},
   "source": [
    "Le *DataFrame* en question a l’aspect suivant :"
   ]
  },
  {
   "cell_type": "code",
   "execution_count": 9,
   "id": "3e77858d",
   "metadata": {},
   "outputs": [
    {
     "data": {
      "text/html": [
       "\n",
       "<p>3 rows × 29 columns</p>\n",
       "</div>"
      ]
     },
     "metadata": {},
     "output_type": "display_data"
    }
   ],
   "source": [
    "filosofi.sample(3)\n"
   ]
  },
  {
   "cell_type": "markdown",
   "id": "018a7d52-4d05-44cf-ac5b-bc0fa8b6b0df",
   "metadata": {},
   "source": [
    "`Pandas` a géré automatiquement les types de variables. Il le fait relativement bien, mais une vérification est toujours utile pour les variables qui ont un statut spécifique.\n",
    "\n",
    "Pour les variables qui ne sont pas en type `float` alors qu’elles devraient l’être, on modifie leur type."
   ]
  },
  {
   "cell_type": "code",
   "execution_count": 10,
   "id": "e21a3d3a",
   "metadata": {},
   "outputs": [],
   "source": [
    "filosofi = filosofi.astype({c: \"float\" for c in filosofi.columns[2:]})\n"
   ]
  },
  {
   "cell_type": "markdown",
   "id": "448beea6-8dbf-4795-8f5b-57a213f6b602",
   "metadata": {},
   "source": [
    "Un simple coup d’oeil sur les données\n",
    "donne une idée assez précise de la manière dont les données sont organisées.\n",
    "On remarque que certaines variables de `filosofi` semblent avoir beaucoup de valeurs manquantes (secret statistique)\n",
    "alors que d’autres semblent complètes.\n",
    "Si on désire exploiter `filosofi`, il faut faire attention à la variable choisie.\n",
    "\n",
    "Notre objectif à terme va être de relier l’information contenue entre ces\n",
    "deux jeux de données. En effet, sinon, nous risquons d’être frustré : nous allons\n",
    "vouloir en savoir plus sur les émissions de gaz carbonique mais seront très\n",
    "limités dans les possibilités d’analyse sans ajout d’une information annexe\n",
    "issue de `filosofi`.\n",
    "\n",
    "# 3. Statistiques descriptives par groupe\n",
    "\n",
    "## 3.1 Principe\n",
    "\n",
    "Nous avons vu, lors du chapitre précédent, comment obtenir\n",
    "une statistique agrégée simplement grâce à `Pandas`.\n",
    "Il est néanmoins commun d’avoir des données avec des strates\n",
    "intermédiaires d’analyse pertinentes: des variables géographiques, l’appartenance à des groupes socio-démographiques liés à des caractéristiques renseignées, des indicatrices de période temporelle, etc.\n",
    "Pour mieux comprendre la structure de ses données, les *data scientists* sont donc souvent amenés à construire des statistiques descriptives sur des sous-groupes présents dans les données. Pour reprendre l’exemple sur les émissions, nous avions précédemment construit des statistiques d’émissions au niveau national. Mais qu’en est-il du profil d’émission des différents départements ? Pour répondre à cette question, il sera utile d’agréger nos données au niveau départemental. Ceci nous donnera une information différente du jeu de données initial (niveau communal) et du niveau le plus agrégé (niveau national).\n",
    "\n",
    "En `SQL`, il est très simple de découper des données pour\n",
    "effectuer des opérations sur des blocs cohérents et recollecter des résultats\n",
    "dans la dimension appropriée.\n",
    "La logique sous-jacente est celle du *split-apply-combine* qui est repris\n",
    "par les langages de manipulation de données, auxquels `pandas`\n",
    "[ne fait pas exception](https://pandas.pydata.org/pandas-docs/stable/user_guide/groupby.html).\n",
    "\n",
    "L’image suivante, issue de\n",
    "[ce site](https://unlhcc.github.io/r-novice-gapminder/16-plyr/),\n",
    "représente bien la manière dont fonctionne l’approche\n",
    "`split`-`apply`-`combine`:\n",
    "\n",
    "<figure>\n",
    "<img src=\"https://unlhcc.github.io/r-novice-gapminder/fig/12-plyr-fig1.png\" alt=\"Split-apply-combine (Source: unlhcc.github.io)\" />\n",
    "<figcaption aria-hidden=\"true\">Split-apply-combine (Source: <a href=\"https://unlhcc.github.io/r-novice-gapminder/16-plyr/\">unlhcc.github.io</a>)</figcaption>\n",
    "</figure>\n",
    "\n",
    "En `Pandas`, on utilise `groupby` pour découper les données selon un ou\n",
    "plusieurs axes (ce [tutoriel](https://realpython.com/pandas-groupby/) sur le sujet\n",
    "est particulièrement utile).\n",
    "L’ensemble des opérations d’agrégation (comptage, moyennes, etc.) que nous avions vues précédemment peut être mise en oeuvre par groupe.\n",
    "\n",
    "Techniquement, cette opération consiste à créer une association\n",
    "entre des labels (valeurs des variables de groupe) et des\n",
    "observations. Utiliser la méthode `groupby` ne déclenche pas d’opérations avant la mise en oeuvre d’une statistique, cela créé seulement une relation formelle entre des observations et des regroupemens qui seront utilisés *a posteriori*:"
   ]
  },
  {
   "cell_type": "code",
   "execution_count": 11,
   "id": "9adf40ed",
   "metadata": {},
   "outputs": [
    {
     "data": {
      "text/plain": [
       "pandas.core.groupby.generic.DataFrameGroupBy"
      ]
     },
     "metadata": {},
     "output_type": "display_data"
    }
   ],
   "source": [
    "filosofi[\"dep\"] = filosofi[\"CODGEO\"].str[:2]\n",
    "filosofi.groupby(\"dep\").__class__\n"
   ]
  },
  {
   "cell_type": "markdown",
   "id": "3caf83ce-8b56-4350-a941-1c3eb6f15739",
   "metadata": {},
   "source": [
    "Tant qu’on n’appelle pas une action sur un `DataFrame` par groupe, du type\n",
    "`head` ou `display`, `pandas` n’effectue aucune opération. On parle de\n",
    "*lazy evaluation*. Par exemple, le résultat de `df.groupby('dep')` est\n",
    "une transformation qui n’est pas encore évaluée :"
   ]
  },
  {
   "cell_type": "code",
   "execution_count": 12,
   "id": "cffffef8",
   "metadata": {},
   "outputs": [
    {
     "data": {
      "text/plain": [
       "<pandas.core.groupby.generic.DataFrameGroupBy object at 0x7f269c573210>"
      ]
     },
     "metadata": {},
     "output_type": "display_data"
    }
   ],
   "source": [
    "filosofi.groupby(\"dep\")\n"
   ]
  },
  {
   "cell_type": "markdown",
   "id": "50825f57-cbe9-4688-8c73-71d20b7b7aef",
   "metadata": {},
   "source": [
    "## 3.2 Illustration 1: dénombrement par groupe\n",
    "\n",
    "Pour illustrer l’application de ce principe à un comptage, on peut dénombrer le nombre de communes par département en 2023 (chaque année cette statistique change du fait des fusions de communes). Pour cela, il suffit de prendre le référentiel des communes françaises issu du code officiel géographique (COG) et dénombrer par département grâce à `count`:"
   ]
  },
  {
   "cell_type": "code",
   "execution_count": 13,
   "id": "5ee24407",
   "metadata": {},
   "outputs": [],
   "source": [
    "import pandas as pd\n",
    "\n",
    "url_cog_2023 = \"https://www.insee.fr/fr/statistiques/fichier/6800675/v_commune_2023.csv\"\n",
    "cog_2023 = pd.read_csv(url_cog_2023)\n"
   ]
  },
  {
   "cell_type": "markdown",
   "id": "b5bc304b-d0c2-4b94-90d4-17b392e8529b",
   "metadata": {},
   "source": [
    "Grâce à ce jeu de données, sans avoir recours aux statistiques par groupe, on peut déjà savoir combien on a, respectivement, de communes, départements et régions en France:"
   ]
  },
  {
   "cell_type": "code",
   "execution_count": 14,
   "id": "7c59ab6b",
   "metadata": {},
   "outputs": [
    {
     "data": {
      "text/plain": [
       "COM    34945\n",
       "DEP      101\n",
       "REG       18\n",
       "dtype: int64"
      ]
     },
     "metadata": {},
     "output_type": "display_data"
    }
   ],
   "source": [
    "communes = cog_2023.loc[cog_2023[\"TYPECOM\"] == \"COM\"]\n",
    "communes.loc[:, [\"COM\", \"DEP\", \"REG\"]].nunique()"
   ]
  },
  {
   "cell_type": "markdown",
   "id": "59d2f76c-1efa-4fdd-b0a9-fbb4a8e2e926",
   "metadata": {},
   "source": [
    "Maintenant, intéressons nous aux départements ayant le plus de communes. Il s’agit de la même fonction de dénombrement où on joue, cette fois, sur le groupe à partir duquel est calculé la statistique.\n",
    "\n",
    "Calculer cette statistique se fait de manière assez transparente lorsqu’on connaît le principe d’un calcul de statistiques avec `Pandas`:"
   ]
  },
  {
   "cell_type": "code",
   "execution_count": 15,
   "id": "ea7a3c07",
   "metadata": {},
   "outputs": [
    {
     "data": {
      "text/html": [
       "\n",
       "<p>101 rows × 1 columns</p>\n",
       "</div>"
      ]
     },
     "metadata": {},
     "output_type": "display_data"
    }
   ],
   "source": [
    "communes = cog_2023.loc[cog_2023[\"TYPECOM\"] == \"COM\"]\n",
    "communes.groupby(\"DEP\").agg({\"COM\": \"nunique\"})"
   ]
  },
  {
   "cell_type": "markdown",
   "id": "da061a0e-53b7-4fd6-94a5-3986ba3cbeb4",
   "metadata": {},
   "source": [
    "En SQL, on utiliserait la requête suivante:\n",
    "\n",
    "``` sql\n",
    "SELECT dep, COUNT DISTINCT \"COM\" AS COM \n",
    "FROM communes\n",
    "GROUP BY dep \n",
    "WHERE TYPECOM == 'COM';\n",
    "```\n",
    "\n",
    "La sortie est une `Serie` indexée. Ce n’est pas très pratique comme nous avons pu l’évoquer au cours du chapitre précédent. Il est plus pratique de transformer cet objet en `DataFrame` avec `reset_index`. Enfin, avec `sort_values`, on obtient la statistique désirée:"
   ]
  },
  {
   "cell_type": "code",
   "execution_count": 16,
   "id": "2acbe648",
   "metadata": {},
   "outputs": [
    {
     "data": {
      "text/html": [
       "\n",
       "<p>101 rows × 2 columns</p>\n",
       "</div>"
      ]
     },
     "metadata": {},
     "output_type": "display_data"
    }
   ],
   "source": [
    "(\n",
    "    communes.groupby(\"DEP\")\n",
    "    .agg({\"COM\": \"nunique\"})\n",
    "    .reset_index()\n",
    "    .sort_values(\"COM\", ascending=False)\n",
    ")\n"
   ]
  },
  {
   "cell_type": "markdown",
   "id": "cbe07b55-2067-4c98-a42e-7827154b930a",
   "metadata": {},
   "source": [
    "## 3.3 Illustration 2: agrégats par groupe\n",
    "\n",
    "Pour illustrer les agrégats par groupe nous pouvons prendre le jeu de données de l’Insee `filosofi` et compter la population grâce à la variable `NBPERSMENFISC16`.\n",
    "\n",
    "Pour calculer le total au niveau France entière nous pouvons faire de deux manières :"
   ]
  },
  {
   "cell_type": "code",
   "execution_count": 17,
   "id": "a8b26561",
   "metadata": {},
   "outputs": [
    {
     "data": {
      "text/plain": [
       "66.9322415"
      ]
     },
     "metadata": {},
     "output_type": "display_data"
    }
   ],
   "source": [
    "filosofi[\"NBPERSMENFISC16\"].sum() * 1e-6\n"
   ]
  },
  {
   "cell_type": "code",
   "execution_count": 18,
   "id": "187d0e9f",
   "metadata": {},
   "outputs": [
    {
     "data": {
      "text/plain": [
       "NBPERSMENFISC16    66.932242\n",
       "dtype: float64"
      ]
     },
     "metadata": {},
     "output_type": "display_data"
    }
   ],
   "source": [
    "filosofi.agg({\"NBPERSMENFISC16\": \"sum\"}).div(1e6)\n"
   ]
  },
  {
   "cell_type": "markdown",
   "id": "2bade2f0-d22a-46ec-95e0-91da13856d49",
   "metadata": {},
   "source": [
    "où les résultats sont reportés en millions de personnes. La logique est identique lorsqu’on fait des statistiques par groupe, il s’agit seulement de remplacer `filosofi` par `filosofi.groupby('dep')` pour créer une version partitionnée par département de notre jeu de données:"
   ]
  },
  {
   "cell_type": "code",
   "execution_count": 19,
   "id": "f244fbdf",
   "metadata": {},
   "outputs": [
    {
     "data": {
      "text/plain": [
       "dep\n",
       "01     613088.0\n",
       "02     514249.0\n",
       "03     329435.0\n",
       "04     156537.5\n",
       "05     133992.5\n",
       "        ...    \n",
       "92    1583682.0\n",
       "93    1586664.5\n",
       "94    1345977.0\n",
       "95    1226059.0\n",
       "97    1191947.0\n",
       "Name: NBPERSMENFISC16, Length: 97, dtype: float64"
      ]
     },
     "metadata": {},
     "output_type": "display_data"
    }
   ],
   "source": [
    "filosofi.groupby(\"dep\")[\"NBPERSMENFISC16\"].sum()"
   ]
  },
  {
   "cell_type": "code",
   "execution_count": 20,
   "id": "90d51d1e",
   "metadata": {},
   "outputs": [
    {
     "data": {
      "text/html": [
       "\n",
       "<p>97 rows × 1 columns</p>\n",
       "</div>"
      ]
     },
     "metadata": {},
     "output_type": "display_data"
    }
   ],
   "source": [
    "filosofi.groupby(\"dep\").agg({\"NBPERSMENFISC16\": \"sum\"})\n"
   ]
  },
  {
   "cell_type": "markdown",
   "id": "6bb5a439-6bb8-4e9f-ad55-214fb1c43ed6",
   "metadata": {},
   "source": [
    "La seconde approche est plus pratique car elle donne directement un `DataFrame` `Pandas` et non une série indexée sans nom. A partir de celle-ci, quelques manipulations basiques peuvent suffire pour avoir un tableau diffusables sur la démographie départementale. Néanmoins, celui-ci, serait quelques peu brut de décoffrage car nous ne possédons à l’heure actuelle que les numéros de département. Pour avoir le nom de départements, il faudrait utiliser une deuxième base de données et croiser les informations communes entre elles (en l’occurrence le numéro du département). C’est l’objet de la prochaine partie.\n",
    "\n",
    "## 3.4 Exercice d’application\n",
    "\n",
    "Cet exercice d’application s’appuie sur le jeu de données de l’Ademe nommé `emissions` précédemment."
   ]
  },
  {
   "cell_type": "markdown",
   "id": "1fe5a0ce-2160-422c-810e-6085b40b7577",
   "metadata": {},
   "source": [
    "<div class=\"alert alert-success\" role=\"alert\" style=\"color: rgba(0,0,0,.8); background-color: white; margin-top: 1em; margin-bottom: 1em; margin:1.5625emauto; padding:0 .6rem .8rem!important;overflow:hidden; page-break-inside:avoid; border-radius:.25rem; box-shadow:0 .2rem .5rem rgba(0,0,0,.05),0 0 .05rem rgba(0,0,0,.1); transition:color .25s,background-color .25s,border-color .25s ; border-right: 1px solid #dee2e6 ; border-top: 1px solid #dee2e6 ; border-bottom: 1px solid #dee2e6 ; border-left:.2rem solid #3fb618;\">\n",
    "<h3 class=\"alert-heading\"><i class=\"fa fa-pencil\"></i> Exercice 1 : agrégations par groupe</h3>\n",
    "\n",
    "1.  Calculer les émissions totales du secteur “Résidentiel” par département et rapporter la valeur au département le plus polluant dans le domaine. En tirer des intutitions sur la réalité que cette statistique reflète.\n",
    "\n",
    "2.  Calculer, pour chaque département, les émissions totales de chaque secteur. Pour chaque département, calculer la proportion des émissions totales venant de chaque secteur.\n",
    "\n",
    "<details>\n",
    "\n",
    "<summary>\n",
    "\n",
    "Indice pour cette question\n",
    "\n",
    "</summary>\n",
    "\n",
    "-   *“Grouper par”* = `groupby`\n",
    "-   *“émissions totales”* = `agg({*** : \"sum\"})`\n",
    "\n",
    "</details>\n",
    "\n",
    "</div>"
   ]
  },
  {
   "cell_type": "markdown",
   "id": "30fad15a-bc88-4572-89a7-82ba35141c3f",
   "metadata": {},
   "source": [
    "A la question 1, le résultat obtenu devrait être le suivant:"
   ]
  },
  {
   "cell_type": "code",
   "execution_count": 21,
   "id": "7f83ef65",
   "metadata": {},
   "outputs": [
    {
     "data": {
      "text/html": [
       "\n",
       "</div>"
      ]
     },
     "metadata": {},
     "output_type": "display_data"
    }
   ],
   "source": []
  },
  {
   "cell_type": "markdown",
   "id": "ddf0a1db-d071-4986-8938-ddb12b69a730",
   "metadata": {},
   "source": [
    "Ce classement reflète peut-être plus la démographie que le processus qu’on désire mesurer. Sans l’ajout d’une information annexe sur la population de chaque département pour contrôler ce facteur, on peut difficilement savoir s’il y a une différence structurelle de comportement entre les habitants du Nord (département 59) et ceux de la Moselle (département 57).\n",
    "\n",
    "A l’issue de la question 2, prenons la part des émissions de l’agriculture et du secteur tertiaire dans les émissions départementales:"
   ]
  },
  {
   "cell_type": "code",
   "execution_count": 23,
   "id": "1865d0c3",
   "metadata": {},
   "outputs": [
    {
     "data": {
      "text/html": [
       "\n",
       "<p>5 rows × 21 columns</p>\n",
       "</div>"
      ]
     },
     "metadata": {},
     "output_type": "display_data"
    }
   ],
   "source": []
  },
  {
   "cell_type": "code",
   "execution_count": 24,
   "id": "c39bd6ac",
   "metadata": {},
   "outputs": [
    {
     "data": {
      "text/html": [
       "\n",
       "<p>5 rows × 21 columns</p>\n",
       "</div>"
      ]
     },
     "metadata": {},
     "output_type": "display_data"
    }
   ],
   "source": []
  },
  {
   "cell_type": "markdown",
   "id": "5f3beb71-ec52-4ac0-b4e7-81f1a8e3b7cb",
   "metadata": {},
   "source": [
    "Ces résultats sont assez logiques ; les départements ruraux ont une part plus importante de leur émission issue de l’agriculture, les départements urbains ont plus d’émissions issues du secteur tertiaire, ce qui est lié à la densité plus importante de ces espaces.\n",
    "\n",
    "Grâce à ces statistiques on progresse dans la connaissance de notre jeu de données et donc de la nature des émissions de C02 en France.\n",
    "Les statistiques descriptives par groupe nous permettent de mieux saisir l’hétérogénéité spatiale de notre phénomène.\n",
    "\n",
    "Cependant, on reste limité dans notre capacité à interpréter les statistiques obtenues sans recourir à l’utilisation d’information annexe. Pour donner du sens et de la valeur à une statistique, il faut généralement associer celle-ci à de la connaissance annexe sous peine qu’elle soit désincarnée.\n",
    "\n",
    "Dans la suite de ce chapitre, nous envisagerons une première voie qui est le croisement avec des données complémentaires. On appelle ceci un enrichissement de données. Ces données peuvent être des observations à un niveau identique à celui de la source d’origine. Par exemple, l’un des croisements les plus communs est d’associer une base client à une base d’achats afin de mettre en regard un comportement d’achat avec des caractéristiques pouvant expliquer celui-ci. Les associations de données peuvent aussi se faire à des niveaux conceptuels différents, en général à un niveau plus agrégé pour contextualiser la donnée plus fine et comparer une observation à des mesures dans un groupe similaire. Par exemple, on peut associer des temps et des modes de transports individuels à ceux d’une même classe d’âge ou de personnes résidant dans la même commune pour pouvoir comparer la différence entre certains individus et un groupe sociodémographique similaire.\n",
    "\n",
    "# 4. Restructurer les données\n",
    "\n",
    "## 4.1 Principe\n",
    "\n",
    "Quand on a plusieurs informations pour un même individu ou groupe, on\n",
    "retrouve généralement deux types de structure de données :\n",
    "\n",
    "-   format **wide** : les données comportent des observations répétées, pour un même individu (ou groupe), dans des colonnes différentes\n",
    "-   format **long** : les données comportent des observations répétées, pour un même individu, dans des lignes différentes avec une colonne permettant de distinguer les niveaux d’observations\n",
    "\n",
    "Un exemple de la distinction entre les deux peut être pris à l’ouvrage de référence d’Hadley Wickham, [*R for Data Science*](https://r4ds.hadley.nz/):\n",
    "\n",
    "<figure>\n",
    "<img src=\"https://d33wubrfki0l68.cloudfront.net/3aea19108d39606bbe49981acda07696c0c7fcd8/2de65/images/tidy-9.png\" alt=\"Données long et wide (Source: R for Data Science)\" />\n",
    "<figcaption aria-hidden=\"true\">Données <em>long</em> et <em>wide</em> (Source: <a href=\"https://r4ds.hadley.nz/\"><em>R for Data Science</em></a>)</figcaption>\n",
    "</figure>\n",
    "\n",
    "L’aide mémoire suivante aidera à se rappeler les fonctions à appliquer si besoin :\n",
    "\n",
    "![](https://minio.lab.sspcloud.fr/lgaliana/generative-art/pythonds/reshape.png)\n",
    "\n",
    "Le fait de passer d’un format *wide* au format *long* (ou vice-versa)\n",
    "peut être extrêmement pratique car certaines fonctions sont plus adéquates sur une forme de données ou sur l’autre.\n",
    "\n",
    "En règle générale, avec `Python` comme avec `R`, les **formats *long* sont souvent préférables**.\n",
    "Les formats *wide* sont plutôt pensés pour des tableurs comme `Excel` ou on dispose d’un nombre réduit\n",
    "de lignes à partir duquel faire des tableaux croisés dynamiques.\n",
    "\n",
    "## 4.2 Exercice d’application\n",
    "\n",
    "Les données de l’ADEME, et celles de l’Insee également, sont au format\n",
    "*wide*.\n",
    "Le prochain exercice illustre l’intérêt de faire la conversion *long* $\\to$ *wide*\n",
    "avant de faire un graphique avec la méthode `plot` vue au chapitre précédent"
   ]
  },
  {
   "cell_type": "markdown",
   "id": "72819835-35c8-4043-b85b-471391a4eefe",
   "metadata": {},
   "source": [
    "<div class=\"alert alert-success\" role=\"alert\" style=\"color: rgba(0,0,0,.8); background-color: white; margin-top: 1em; margin-bottom: 1em; margin:1.5625emauto; padding:0 .6rem .8rem!important;overflow:hidden; page-break-inside:avoid; border-radius:.25rem; box-shadow:0 .2rem .5rem rgba(0,0,0,.05),0 0 .05rem rgba(0,0,0,.1); transition:color .25s,background-color .25s,border-color .25s ; border-right: 1px solid #dee2e6 ; border-top: 1px solid #dee2e6 ; border-bottom: 1px solid #dee2e6 ; border-left:.2rem solid #3fb618;\">\n",
    "<h3 class=\"alert-heading\"><i class=\"fa fa-pencil\"></i> Exercice 2: Restructurer les données : wide to long</h3>\n",
    "\n",
    "1.  Créer une copie des données de l’`ADEME` en faisant `df_wide = emissions_wide.copy()`\n",
    "\n",
    "2.  Restructurer les données au format *long* pour avoir des données d’émissions par secteur en gardant comme niveau d’analyse la commune (attention aux autres variables identifiantes).\n",
    "\n",
    "3.  Faire la somme par secteur et représenter graphiquement\n",
    "\n",
    "4.  Garder, pour chaque département, le secteur le plus polluant\n",
    "\n",
    "</div>"
   ]
  },
  {
   "cell_type": "markdown",
   "id": "b7a578c1-c916-4d99-9b7e-fe132b773e33",
   "metadata": {},
   "source": [
    "# 5. Joindre des données\n",
    "\n",
    "## 5.1 Principe\n",
    "\n",
    "Nous allons ici nous focaliser sur le cas le plus favorable qui est la situation\n",
    "où une information permet d’apparier de manière exacte deux bases de données[1].\n",
    "C’est un besoin quotidien des *data scientists* d’associer des informations présentes dans plusieurs fichiers. Par exemple, dans des bases de données d’entreprises, les informations clients (adresse, âge, etc.) seront dans un fichier, les ventes dans un autre et les caractéristiques des produits dans un troisième fichier. Afin d’avoir une base complète mettant en regard toutes ces informations, il sera dès lors nécessaire de joindre ces trois fichiers sur la base d’informations communes.\n",
    "\n",
    "Cette pratique découle du fait que de nombreux systèmes d’information prennent la forme d’un schéma en étoile:\n",
    "\n",
    "<figure>\n",
    "<img src=\"https://www.databricks.com/wp-content/uploads/2022/04/star-schema-erd.png\" alt=\"Illustration du schéma en étoile (Source: Databricks)\" />\n",
    "<figcaption aria-hidden=\"true\">Illustration du schéma en étoile (Source: <a href=\"https://www.databricks.com/wp-content/uploads/2022/04/star-schema-erd.png\">Databricks</a>)</figcaption>\n",
    "</figure>\n",
    "\n",
    "Cette structuration de l’information est très liée au modèle des tables relationnelles des années 1980. Aujourd’hui, il existe des modèles de données plus flexibles où l’information est empilée dans un *data lake* sans structure *a priori*. Néanmoins ce modèle du schéma en étoile conserve une pertinence parce qu’il permet de partager l’information qu’à ceux qui en ont besoin laissant le soin à ceux qui ont besoin de lier des données entre elles de le faire.\n",
    "\n",
    "Puisque la logique du schéma en étoile vient historiquement des bases relationnelles, il est naturel qu’il s’agisse d’une approche intrinsèquement liée à la philosophie du SQL, jusque dans le vocabulaire. On parle souvent de jointure de données, un héritage du terme `JOIN` de SQL, et la manière de décrire les jointures (*left join*, *right join*…) est directement issue des instructions SQL associées.\n",
    "\n",
    "On parle généralement de base de gauche et de droite pour illustrer les jointures:\n",
    "\n",
    "![](https://minio.lab.sspcloud.fr/lgaliana/python-ENSAE/inputs/merge_pandas/join_initial.png)\n",
    "\n",
    "## 5.2 Mise en oeuvre avec `Pandas`\n",
    "\n",
    "En `Pandas`, la méthode la plus pratique pour associer des jeux de données à partir de caractéristiques communes est `merge`. Ses principaux arguments permettent de contrôler le comportement de jointure. Nous allons les explorer de manière visuelle.\n",
    "\n",
    "En l’occurrence, pour notre problématique de construction de statistiques\n",
    "sur les émissions de gaz carbonique, la base de gauche sera le *DataFrame* `emission` et la base de droite le *DataFrame* `filosofi`:\n",
    "\n",
    "[1] Autrement, on rentre dans le monde des appariements flous ou des appariements probabilistes. Les appariements flous sont des situations où on ne dispose plus d’un identifiant exact pour associer deux bases mais d’une information partiellement bruitée entre deux sources pour faire cette mise en relation. Par exemple, dans une base de données produit on aura `Coca Cola 33CL` et dans une autre `Coca Cola canette` mais sous ces deux noms sont cachés le même produit. Le chapitre d’[ouverture aux enjeux de recherche textuelle avec `ElasticSearch`](../../content/modern-ds/elastic.qmd) est consacré à cette problématique. Les appariements probabilistes sont un autre type d’approche. Dans ceux-ci, on associe des observations dans deux bases non pas sur la base d’un identifiant mais sur la distance entre un ensemble de caractéristiques dans les deux bases. Cette technique est très utilisée dans les statistiques médicales ou dans l’évaluation de politiques publiques sur la base du [*propensity score matching*](https://en.wikipedia.org/wiki/Propensity_score_matching)."
   ]
  },
  {
   "cell_type": "code",
   "execution_count": 29,
   "id": "601d53b4",
   "metadata": {},
   "outputs": [
    {
     "data": {
      "text/html": [
       "\n",
       "</div>"
      ]
     },
     "metadata": {},
     "output_type": "display_data"
    }
   ],
   "source": [
    "emissions.head(2)\n"
   ]
  },
  {
   "cell_type": "code",
   "execution_count": 30,
   "id": "4edc84bb",
   "metadata": {},
   "outputs": [
    {
     "data": {
      "text/html": [
       "\n",
       "<p>2 rows × 30 columns</p>\n",
       "</div>"
      ]
     },
     "metadata": {},
     "output_type": "display_data"
    }
   ],
   "source": [
    "filosofi.head(2)\n"
   ]
  },
  {
   "cell_type": "markdown",
   "id": "d6c1fbd3-aa70-4932-be4d-45182b7d8517",
   "metadata": {},
   "source": [
    "On parle de clé(s) de jointure pour nommer la ou les variable(s) nécessaire(s) à la fusion de données. Ce sont les variables communes aux deux jeux de données. Il n’est pas nécessaire qu’elles aient le même nom en revanche elles doivent partager des valeurs communes autrement l’intersection entre ces deux bases est l’ensemble vide.\n",
    "\n",
    "On peut jouer sur deux dimensions dans la jointure (ceci sera plus clair ensuite avec les exemples graphiques).\n",
    "\n",
    "-   Il existe principalement trois types de fusions: *left join* et *right join* ou un combo des deux selon le type de pivot qu’on désire mettre en oeuvre.\n",
    "-   Ensuite, il existe deux manières de fusionner les valeurs une fois qu’on a choisi un pivot: *inner* ou *outer join*. Dans le premier cas, on ne conserve que les observations où les clés de jointures sont présentes dans les deux bases, dans le second on conserve toutes les observations de la clé de jointure des variables pivot quitte à avoir des valeurs manquantes si la deuxième base de données n’a pas de telles observations.\n",
    "\n",
    "Dans les exemples ci-dessous, nous allons utiliser les codes communes et les départements comme variables de jointure. En soi, l’usage du département n’est pas nécessaire puisqu’il se déduit directement du code commune mais cela permet d’illustrer le principe des jointures sur plusieurs variables. A noter que le nom de la commune est volontairement mis de côté pour effectuer des jointures alors que c’est une information commune aux deux bases. Cependant, comme il s’agit d’un champ textuel, dont le formattage peut suivre une norme différente dans les deux bases, ce n’est pas une information fiable pour faire une jointure exacte.\n",
    "\n",
    "Pour illustrer le principe du pivot à gauche ou à droite, on va créer deux variables identificatrices de la ligne de nos jeux de données de gauche et de droite. Cela nous permettra de trouver facilement les lignes présentes dans un jeu de données mais pas dans l’autre."
   ]
  },
  {
   "cell_type": "code",
   "execution_count": 31,
   "id": "ca127523",
   "metadata": {},
   "outputs": [],
   "source": [
    "emissions = emissions.reset_index(names=[\"id_left\"])\n",
    "filosofi = filosofi.reset_index(names=[\"id_right\"])\n"
   ]
  },
  {
   "cell_type": "markdown",
   "id": "aa5e226f-cf87-4f68-beb8-def7d96d3fa4",
   "metadata": {},
   "source": [
    "### 5.2.1 *Left join*\n",
    "\n",
    "Commençons avec la jointure à gauche. Comme son nom l’indique, on va prendre la variable de gauche en pivot:\n",
    "\n",
    "![](https://minio.lab.sspcloud.fr/lgaliana/python-ENSAE/inputs/merge_pandas/left_join.png)"
   ]
  },
  {
   "cell_type": "code",
   "execution_count": 32,
   "id": "1b767a22",
   "metadata": {},
   "outputs": [
    {
     "data": {
      "text/html": [
       "\n",
       "<p>3 rows × 44 columns</p>\n",
       "</div>"
      ]
     },
     "metadata": {},
     "output_type": "display_data"
    }
   ],
   "source": [
    "left_merged = emissions.merge(\n",
    "    filosofi, left_on=[\"INSEE commune\", \"dep\"], right_on=[\"CODGEO\", \"dep\"], how=\"left\"\n",
    ")\n",
    "left_merged.head(3)\n"
   ]
  },
  {
   "cell_type": "markdown",
   "id": "0a1dbeee-331d-4bf8-b252-091c85f6db5d",
   "metadata": {},
   "source": [
    "Il est recommandé de toujours expliciter les clés de jointures par le biais des arguments `left_on`, `right_on` ou `on` si les noms de variables sont communs dans les deux bases.\n",
    "Si on a des noms de variables communes entre les bases mais qu’elles ne sont pas définies comme clés de jointures, celles-ci ne seront pas utilisées pour joindre mais seront conservées avec un suffixe qui par défaut est `_x` et `_y` (paramétrable par le biais de l’argument `suffixes`).\n",
    "\n",
    "La syntaxe `Pandas` étant directement inspirée de SQL, on a une traduction assez transparente de l’instruction ci-dessus en SQL:\n",
    "\n",
    "``` sql\n",
    "SELECT *\n",
    "FROM emissions\n",
    "LEFT JOIN filosofi\n",
    "  ON emissions.`INSEE commune` = filosofi.CODGEO\n",
    "  AND emissions.dep = filosofi.dep;\n",
    "```\n",
    "\n",
    "En faisant une jointure à gauche, on doit en principe avoir autant de lignes que la base de données à gauche:"
   ]
  },
  {
   "cell_type": "code",
   "execution_count": 33,
   "id": "d1e264d8",
   "metadata": {},
   "outputs": [
    {
     "data": {
      "text/plain": [
       "True"
      ]
     },
     "metadata": {},
     "output_type": "display_data"
    }
   ],
   "source": [
    "left_merged.shape[0] == emissions.shape[0]\n"
   ]
  },
  {
   "cell_type": "markdown",
   "id": "a579a04a-6073-4679-a08f-871c974e3dbe",
   "metadata": {},
   "source": [
    "Autrement, cela est signe qu’il y a une clé dupliquée à droite. Grâce à notre variable `id_right`, on peut savoir les codes communes à droite qui n’existent pas à gauche:"
   ]
  },
  {
   "cell_type": "code",
   "execution_count": 34,
   "id": "233e4e56",
   "metadata": {},
   "outputs": [
    {
     "data": {
      "text/html": [
       "\n",
       "<p>3 rows × 44 columns</p>\n",
       "</div>"
      ]
     },
     "metadata": {},
     "output_type": "display_data"
    }
   ],
   "source": [
    "left_merged.loc[left_merged[\"id_right\"].isna()].tail(3)\n"
   ]
  },
  {
   "cell_type": "markdown",
   "id": "2de459fc-2c2f-4086-9284-2faf5021383b",
   "metadata": {},
   "source": [
    "Cela vient du fait que nous utilisons des données qui ne sont pas de la même année de référence du code officiel géographique (2016 vs 2018). Pendant cet intervalle, il y a eu des changements de géographie, notamment des fusions de communes. Par exemple, la commune de Courcouronnes qu’on a vu ci-dessus peut être retrouvée regroupée avec Evry dans le jeu de données filosofi (base de droite):"
   ]
  },
  {
   "cell_type": "code",
   "execution_count": 35,
   "id": "f335a952",
   "metadata": {},
   "outputs": [
    {
     "data": {
      "text/html": [
       "\n",
       "<p>1 rows × 31 columns</p>\n",
       "</div>"
      ]
     },
     "metadata": {},
     "output_type": "display_data"
    }
   ],
   "source": [
    "filosofi.loc[filosofi[\"LIBGEO\"].str.lower().str.contains(\"courcouronnes\")]\n"
   ]
  },
  {
   "cell_type": "markdown",
   "id": "36f93fb0-cf25-4657-bd48-6d281c0f0759",
   "metadata": {},
   "source": [
    "Dans un exercice de construction de statistiques publiques, on ne pourrait donc se permettre cette disjonction des années.\n",
    "\n",
    "### 5.2.2 \\_Right join\\_\\_\n",
    "\n",
    "![](https://minio.lab.sspcloud.fr/lgaliana/python-ENSAE/inputs/merge_pandas/right_join.png)\n",
    "\n",
    "Le principe est le même mais cette fois c’est la base de droite qui est prise sous forme de pivot:"
   ]
  },
  {
   "cell_type": "code",
   "execution_count": 36,
   "id": "6201dd59",
   "metadata": {},
   "outputs": [
    {
     "data": {
      "text/html": [
       "\n",
       "<p>3 rows × 44 columns</p>\n",
       "</div>"
      ]
     },
     "metadata": {},
     "output_type": "display_data"
    }
   ],
   "source": [
    "right_merged = emissions.merge(\n",
    "    filosofi, left_on=[\"INSEE commune\", \"dep\"], right_on=[\"CODGEO\", \"dep\"], how=\"right\"\n",
    ")\n",
    "right_merged.head(3)\n"
   ]
  },
  {
   "cell_type": "markdown",
   "id": "5debeea3-4df5-480a-9dad-3c5a1a1f481c",
   "metadata": {},
   "source": [
    "L’instruction équivalente en SQL serait\n",
    "\n",
    "``` sql\n",
    "SELECT *\n",
    "FROM filosofi\n",
    "RIGHT JOIN emissions\n",
    "  ON filosofi.CODGEO = emissions.`INSEE commune`\n",
    "  AND filosofi.dep = emissions.dep;\n",
    "```\n",
    "\n",
    "On peut, comme précédemment, vérifier la cohérence des dimensions:"
   ]
  },
  {
   "cell_type": "code",
   "execution_count": 37,
   "id": "f325f94c",
   "metadata": {},
   "outputs": [
    {
     "data": {
      "text/plain": [
       "True"
      ]
     },
     "metadata": {},
     "output_type": "display_data"
    }
   ],
   "source": [
    "right_merged.shape[0] == filosofi.shape[0]\n"
   ]
  },
  {
   "cell_type": "markdown",
   "id": "30037c38-955f-4d4c-9bfd-60016d88d67d",
   "metadata": {},
   "source": [
    "Pour vérifier le nombre de lignes des données Filosofi que nous n’avons pas dans notre jeu d’émissions de gaz carbonique, on peut faire"
   ]
  },
  {
   "cell_type": "code",
   "execution_count": 38,
   "id": "e1304177",
   "metadata": {},
   "outputs": [
    {
     "data": {
      "text/plain": [
       "61"
      ]
     },
     "metadata": {},
     "output_type": "display_data"
    }
   ],
   "source": [
    "right_merged[\"id_left\"].isna().sum()\n"
   ]
  },
  {
   "cell_type": "markdown",
   "id": "d6f8349e-82a3-4d20-a73b-f147a6c7dec5",
   "metadata": {},
   "source": [
    "C’est un nombre faible. Quelles sont ces observations ?"
   ]
  },
  {
   "cell_type": "code",
   "execution_count": 39,
   "id": "844ff4b5",
   "metadata": {},
   "outputs": [
    {
     "data": {
      "text/html": [
       "\n",
       "<p>61 rows × 45 columns</p>\n",
       "</div>"
      ]
     },
     "metadata": {},
     "output_type": "display_data"
    }
   ],
   "source": [
    "right_merged.loc[\n",
    "    right_merged[\"id_left\"].isna(),\n",
    "    filosofi.columns.tolist() + emissions.columns.tolist(),\n",
    "]\n"
   ]
  },
  {
   "cell_type": "markdown",
   "id": "ed65e1c6-ec70-4e7a-a09a-4e6c0eaaafcb",
   "metadata": {},
   "source": [
    "Il est suprenant de voir que Paris, Lyon et Marseille sont présents\n",
    "dans la base des statistiques communales mais pas dans celles des émissions.\n",
    "Pour comprendre pourquoi, recherchons dans nos données d’émissions les observations liées à Marseille:"
   ]
  },
  {
   "cell_type": "code",
   "execution_count": 40,
   "id": "69ac2c4a",
   "metadata": {},
   "outputs": [
    {
     "data": {
      "text/html": [
       "\n",
       "</div>"
      ]
     },
     "metadata": {},
     "output_type": "display_data"
    }
   ],
   "source": [
    "emissions.loc[emissions[\"Commune\"].str.lower().str.contains(\"MARSEILLE\")]\n"
   ]
  },
  {
   "cell_type": "markdown",
   "id": "703c48bd-8eda-489d-b320-fbc0acfd6442",
   "metadata": {},
   "source": [
    "Cela vient du fait que le jeu de données des émissions de l’Ademe propose de l’information sur les arrondissements dans les trois plus grandes villes\n",
    "là où le jeu de données de l’Insee ne fait pas cette décomposition.\n",
    "\n",
    "### 5.2.3 *Inner join*\n",
    "\n",
    "![](https://minio.lab.sspcloud.fr/lgaliana/python-ENSAE/inputs/merge_pandas/inner.png)\n",
    "\n",
    "Il s’agit du jeu de données où les clés sont retrouvées à l’intersection des deux tables."
   ]
  },
  {
   "cell_type": "code",
   "execution_count": 41,
   "id": "cac918f2",
   "metadata": {},
   "outputs": [
    {
     "data": {
      "text/html": [
       "\n",
       "<p>3 rows × 44 columns</p>\n",
       "</div>"
      ]
     },
     "metadata": {},
     "output_type": "display_data"
    }
   ],
   "source": [
    "inner_merged = emissions.merge(\n",
    "    filosofi, left_on=[\"INSEE commune\", \"dep\"], right_on=[\"CODGEO\", \"dep\"], how=\"inner\"\n",
    ")\n",
    "inner_merged.head(3)\n"
   ]
  },
  {
   "cell_type": "markdown",
   "id": "a0727f19-187b-41b7-959b-3785680d3174",
   "metadata": {},
   "source": [
    "En SQL, cela donne\n",
    "\n",
    "``` sql\n",
    "SELECT *\n",
    "FROM emissions\n",
    "INNER JOIN filosofi\n",
    "  ON emissions.`INSEE commune` = filosofi.CODGEO\n",
    "  AND emissions.dep = filosofi.dep;\n",
    "```\n",
    "\n",
    "Le nombre de lignes dans notre jeu de données peut être comparé au jeu de droite et de gauche:"
   ]
  },
  {
   "cell_type": "code",
   "execution_count": 42,
   "id": "e90176dc",
   "metadata": {},
   "outputs": [
    {
     "data": {
      "text/plain": [
       "True"
      ]
     },
     "metadata": {},
     "output_type": "display_data"
    }
   ],
   "source": [
    "inner_merged.shape[0] == (left_merged.shape[0] - left_merged[\"id_right\"].isna().sum())\n"
   ]
  },
  {
   "cell_type": "code",
   "execution_count": 43,
   "id": "d01a263d",
   "metadata": {},
   "outputs": [
    {
     "data": {
      "text/plain": [
       "True"
      ]
     },
     "metadata": {},
     "output_type": "display_data"
    }
   ],
   "source": [
    "inner_merged.shape[0] == (right_merged.shape[0] - right_merged[\"id_left\"].isna().sum())\n"
   ]
  },
  {
   "cell_type": "markdown",
   "id": "34de3c11-c019-4de6-8523-6f20536e3023",
   "metadata": {},
   "source": [
    "### 5.2.4 *Full join*\n",
    "\n",
    "Le *full join* est un pivot à gauche puis à droite pour les informations qui n’ont pas été trouvées\n",
    "\n",
    "![](https://minio.lab.sspcloud.fr/lgaliana/python-ENSAE/inputs/merge_pandas/full_join.png)"
   ]
  },
  {
   "cell_type": "code",
   "execution_count": 44,
   "id": "7f15892d",
   "metadata": {},
   "outputs": [
    {
     "data": {
      "text/html": [
       "\n",
       "<p>3 rows × 44 columns</p>\n",
       "</div>"
      ]
     },
     "metadata": {},
     "output_type": "display_data"
    }
   ],
   "source": [
    "full_merged = emissions.merge(\n",
    "    filosofi, left_on=[\"INSEE commune\", \"dep\"], right_on=[\"CODGEO\", \"dep\"], how=\"outer\"\n",
    ")\n",
    "full_merged.head(3)\n"
   ]
  },
  {
   "cell_type": "markdown",
   "id": "e76f7d1c-6e58-4839-812d-6d3b4fabce01",
   "metadata": {},
   "source": [
    "Comme d’habitude, la traduction en SQL est presque immédiate:\n",
    "\n",
    "``` sql\n",
    "SELECT *\n",
    "FROM emissions\n",
    "FULL OUTER JOIN filosofi\n",
    "  ON emissions.`INSEE commune` = filosofi.CODGEO\n",
    "  AND emissions.dep = filosofi.dep;\n",
    "```\n",
    "\n",
    "Cette fois, on a une combinaison de nos trois jeux de données initiaux:\n",
    "\n",
    "-   Le *inner join* ;\n",
    "-   Le *left join* sur les observations sans clé de droite ;\n",
    "-   Le *right join* sur les observations sans clé de gauche ;"
   ]
  },
  {
   "cell_type": "code",
   "execution_count": 45,
   "id": "6c535290",
   "metadata": {},
   "outputs": [
    {
     "data": {
      "text/plain": [
       "True"
      ]
     },
     "metadata": {},
     "output_type": "display_data"
    }
   ],
   "source": [
    "(full_merged[\"id_left\"].isna().sum() + full_merged[\"id_right\"].isna().sum()) == (\n",
    "    left_merged[\"id_right\"].isna().sum() + right_merged[\"id_left\"].isna().sum()\n",
    ")\n"
   ]
  },
  {
   "cell_type": "markdown",
   "id": "091b9d9f-e9a4-4f52-b790-664694b2b9fb",
   "metadata": {},
   "source": [
    "### 5.2.5 En résumé\n",
    "\n",
    "![](https://external-preview.redd.it/yOLzCR0qSzul2WpjQorxINB0xpU3_N9twmFVsgbGJwQ.jpg?auto=webp&s=4feedc91302ba635b3028a21b98d047def5cdc2b)\n",
    "\n",
    "## 5.3 Exemples d’identifiants dans les données françaises\n",
    "\n",
    "### 5.3.1 Le Code officiel géographique (COG): l’identifiant des données géographiques\n",
    "\n",
    "Pour les données géographiques, il existe de nombreux identifiants selon la problématique d’étude.\n",
    "Parmi les besoins principaux, on retrouve le fait d’apparier des données géographiques à partir d’un identifiant administratif commun. Par exemple, associer deux jeux de données au niveau communal.\n",
    "\n",
    "Pour cela, l’identifiant de référence est le code Insee, issu du [Code officiel géographique (COG)](https://www.insee.fr/fr/information/2560452) que nous utilisons depuis le dernier chapitre et que nous aurons amplement l’occasion d’exploiter au cours des différents chapitres de ce cours.\n",
    "La géographie administrative étant en évolution perpétuelle, la base des code Insee est une base vivante. Le site et les API de l’Insee permettent de récupérer l’historique d’après-guerre afin de pouvoir faire de l’analyse géographique sur longue période.\n",
    "\n",
    "Les codes postaux ne peuvent être considérés comme un identifiant : ils peuvent regrouper plusieurs communes ou, au contraire, une même commune peut avoir plusieurs codes postaux. Il s’agit d’un système de gestion de la Poste qui n’a pas été construit pour l’analyse statistique.\n",
    "\n",
    "Pour se convaincre du problème, à partir des données mises à disposition par La Poste, on peut voir que le code postal 11420 correspond à 11 communes:"
   ]
  },
  {
   "cell_type": "code",
   "execution_count": 46,
   "id": "45c002b9",
   "metadata": {},
   "outputs": [
    {
     "data": {
      "text/html": [
       "\n",
       "</div>"
      ]
     },
     "metadata": {},
     "output_type": "display_data"
    }
   ],
   "source": [
    "codes_postaux = pd.read_csv(\n",
    "    \"https://datanova.laposte.fr/data-fair/api/v1/datasets/laposte-hexasmal/raw\",\n",
    "    sep=\";\",\n",
    "    encoding=\"latin1\",\n",
    "    dtype={\"Code_postal\": \"str\", \"#Code_commune_INSEE\": \"str\"},\n",
    ")\n",
    "codes_postaux.loc[codes_postaux[\"Code_postal\"] == \"11420\"]\n"
   ]
  },
  {
   "cell_type": "markdown",
   "id": "9d56ab5c-63f9-4235-9bdf-1d406b5b8ebe",
   "metadata": {},
   "source": [
    "En anticipant sur les compétences développées lors des prochains chapitres, nous pouvons représenter le problème sous forme cartographique en prenant l’exemple de l’Aude. Le code pour produire la carte des codes communes est donné tel quel, il n’est pas développé car il fait appel à des concepts et librairies qui seront présentés lors du prochain chapitre:"
   ]
  },
  {
   "cell_type": "code",
   "execution_count": 47,
   "id": "d0d49082",
   "metadata": {},
   "outputs": [
    {
     "name": "stderr",
     "output_type": "stream",
     "text": [
      "ERROR 1: PROJ: proj_create_from_database: Open of /opt/mamba/share/proj failed"
     ]
    },
    {
     "data": {},
     "metadata": {},
     "output_type": "display_data"
    }
   ],
   "source": [
    "from cartiflette import carti_download\n",
    "\n",
    "shp_communes = carti_download(\n",
    "    values=[\"11\"],\n",
    "    crs=4326,\n",
    "    borders=\"COMMUNE\",\n",
    "    simplification=50,\n",
    "    filter_by=\"DEPARTEMENT\",\n",
    "    source=\"EXPRESS-COG-CARTO-TERRITOIRE\",\n",
    "    year=2022,\n",
    ")\n",
    "\n",
    "codes_postaux11 = shp_communes.merge(\n",
    "    codes_postaux, left_on=\"INSEE_COM\", right_on=\"#Code_commune_INSEE\"\n",
    ")\n",
    "codes_postaux11 = codes_postaux11.dissolve(by=\"Code_postal\")\n",
    "\n",
    "# Carte\n",
    "ax = shp_communes.plot(color=\"white\", edgecolor=\"blue\", linewidth=0.5)\n",
    "ax = codes_postaux11.plot(ax=ax, color=\"none\", edgecolor=\"black\")\n",
    "ax.set_axis_off()"
   ]
  },
  {
   "cell_type": "markdown",
   "id": "a099ef3c-7f1b-457f-86dc-ceaf4d9e78fd",
   "metadata": {},
   "source": [
    "### 5.3.2 Sirene: l’identifiant dans les données d’entreprises\n",
    "\n",
    "Pour relier les microdonnées d’entreprises françaises, il existe un numéro unique d’identification : le [numéro `Siren`](https://entreprendre.service-public.fr/vosdroits/F32135). Il s’agit d’un numéro d’identification dans un répertoire légal d’entreprise indispensable pour toutes démarches juridiques, fiscales… Pour les entreprises qui possèdent plusieurs établissements - par exemple dans plusieurs villes - il existe un identifiant dérivé qui s’appelle le [`Siret`](https://www.economie.gouv.fr/cedef/numero-siret): aux 9 chiffres du numéro Sirene s’ajoutent 5 chiffres d’identifications de l’établissement. D’ailleurs, les administrations publiques sont également concernées par le numéro Siren: étant amenées à effectuer des opérations de marchés (achat de matériel, locations de biens, etc.) elles disposent également d’un identifiant Siren. Etant inscrits dans des répertoires légaux pour lesquels les citoyens sont publics, les numéros Siren et les noms des entreprises associées sont disponibles en *open data*, par exemple sur [annuaire-entreprises.data.gouv.fr/](https://annuaire-entreprises.data.gouv.fr/) pour une recherche ponctuelle, sur [data.gouv.fr](https://www.data.gouv.fr/fr/datasets/base-sirene-des-entreprises-et-de-leurs-etablissements-siren-siret/).\n",
    "\n",
    "Cette base Sirene est une mine d’information, parfois comique, sur les entreprises françaises. Par exemple, le site [tif.hair/](https://tif.hair/) s’est amusé à répertorier la part des salons de coiffures proposant des jeux de mots dans le nom du salon. Lorsqu’un entrepreneur déclare la création d’une entreprise, il reçoit un numéro Sirene et un code d’activité (le [code APE](https://entreprendre.service-public.fr/vosdroits/F33050)) relié à la description qu’il a déclaré de l’activité de son entreprise. Ce code permet de classer l’activité d’une entreprise dans la [Nomenclature d’activités françaises (NAF)](https://www.insee.fr/fr/information/2406147) ce qui servira à l’Insee pour la publication de statistiques sectorielles. En l’occurrence, pour les coiffeurs, le code dans la NAF est [96.02A](https://www.insee.fr/fr/metadonnees/nafr2/sousClasse/96.02A?champRecherche=false). Il est possible à partir de la base disponible en *open data* d’avoir en quelques lignes de `Python` la liste de tous les coiffeurs puis de s’amuser à explorer ces données (objet du prochain exercice optionnel.)\n",
    "\n",
    "Le jeu de données de l’ensemble des entreprises étant assez volumineux (autour de 4Go en CSV après décompression), il est plus pratique de partir sur un jeu de données au format `Parquet`, plus optimisé (plus de détails sur ce format dans le [chapitre d’approfondissement](../../content/modern-ds/s3.qmd) qui lui est consacré).\n",
    "\n",
    "Pour lire ce type de fichiers de manière optimale, il est conseillé d’utiliser la librairie `DuckDB` qui permet de ne consommer que les données nécessaires et non de télécharger l’ensemble du fichier pour n’en lire qu’une partie comme ce serait le cas avec `Pandas` (voir la fin de ce chapitre, section “Aller au-delà de `Pandas`”). La requête SQL suivante se traduit en langage naturel par l’instruction suivante: *“A partir du fichier `Parquet`, je ne veux que quelques colonnes du fichier pour les coiffeurs (APE: 96.02A) dont le nom de l’entreprise (`denominationUsuelleEtablissement`) est renseigné”*:"
   ]
  },
  {
   "cell_type": "code",
   "execution_count": 48,
   "id": "66838d65",
   "metadata": {},
   "outputs": [],
   "source": [
    "import duckdb\n",
    "\n",
    "coiffeurs = duckdb.sql(\n",
    "    \"\"\"\n",
    "  SELECT\n",
    "    siren, siret, dateDebut, enseigne1Etablissement, activitePrincipaleEtablissement, denominationUsuelleEtablissement\n",
    "  FROM\n",
    "    read_parquet('https://minio.lab.sspcloud.fr/lgaliana/data/sirene2024.parquet')\n",
    "  WHERE\n",
    "    activitePrincipaleEtablissement == '96.02A'\n",
    "    AND\n",
    "    denominationUsuelleEtablissement IS NOT NULL\n",
    "\"\"\"\n",
    ")\n",
    "coiffeurs = coiffeurs.df()"
   ]
  },
  {
   "cell_type": "code",
   "execution_count": 49,
   "id": "42bd96be",
   "metadata": {},
   "outputs": [
    {
     "data": {
      "text/html": [
       "\n",
       "</div>"
      ]
     },
     "metadata": {},
     "output_type": "display_data"
    }
   ],
   "source": [
    "coiffeurs.head(3)\n"
   ]
  },
  {
   "cell_type": "markdown",
   "id": "cedef656-0fd9-49c6-b896-021617739827",
   "metadata": {},
   "source": [
    "L’exercice suivant, optionnel, propose de s’amuser à reproduire de manière simplifiée le recensement fait par [tif.hair/](https://tif.hair/)\n",
    "des jeux de mots dans les salons de coiffure. Il permet de pratiquer quelques méthodes de manipulation textuelle, en avance de phase sur le chapitre consacré aux [expressions régulières](../../content/manipulation/04b_regex_TP.qmd)."
   ]
  },
  {
   "cell_type": "markdown",
   "id": "e12eb23a-9dd7-497b-9014-742a54ee24c1",
   "metadata": {},
   "source": [
    "<div class=\"alert alert-success\" role=\"alert\" style=\"color: rgba(0,0,0,.8); background-color: white; margin-top: 1em; margin-bottom: 1em; margin:1.5625emauto; padding:0 .6rem .8rem!important;overflow:hidden; page-break-inside:avoid; border-radius:.25rem; box-shadow:0 .2rem .5rem rgba(0,0,0,.05),0 0 .05rem rgba(0,0,0,.1); transition:color .25s,background-color .25s,border-color .25s ; border-right: 1px solid #dee2e6 ; border-top: 1px solid #dee2e6 ; border-bottom: 1px solid #dee2e6 ; border-left:.2rem solid #3fb618;\">\n",
    "<h3 class=\"alert-heading\"><i class=\"fa fa-pencil\"></i> Exercice optionnel : les coiffeurs blagueurs </h3>\n",
    "\n",
    "Dans cet exercice, nous allons considérer exclusivement la variable `denominationUsuelleEtablissement`.\n",
    "\n",
    "1.  Dans cette base, `[ND]` est un code pour valeur manquante. Comme `Python` n’a pas de raison de le savoir *a priori* et donc d’avoir interprété ces valeurs comme étant manquantes, utiliser la méthode `replace` pour remplacer `[ND]` par un champ textuel vide. Recoder également les valeurs manquantes sous forme de champ textuel vide afin d’éviter des erreurs ultérieures liées à l’impossibilité d’appliquer certaines méthodes textuelles aux valeurs manquantes.\n",
    "2.  Rechercher toutes les observations où le terme `tif` apparaît en faisant attention à la capitalisation de la variable. Regarder quelques observations\n",
    "3.  A partir de [cet exemple](https://stackoverflow.com/a/23996414/9197726), normaliser les noms des salons en retirant les caractères spéciaux et compter les jeux de mots les plus fréquents\n",
    "\n",
    "</div>"
   ]
  },
  {
   "cell_type": "markdown",
   "id": "28be142e-5f8e-4ef9-9687-0718879624d9",
   "metadata": {},
   "source": [
    "Avec la question 2, on retrouve une liste de jeux de mots assez imaginatifs à partir du terme `tif`:"
   ]
  },
  {
   "cell_type": "code",
   "execution_count": 51,
   "id": "e160950f",
   "metadata": {},
   "outputs": [
    {
     "data": {
      "text/html": [
       "\n",
       "</div>"
      ]
     },
     "metadata": {},
     "output_type": "display_data"
    }
   ],
   "source": []
  },
  {
   "cell_type": "markdown",
   "id": "b167de90-8f22-499c-adfe-b92b20a34758",
   "metadata": {},
   "source": [
    "Les 5 jeux de mots les plus fréquents sont les suivants:"
   ]
  },
  {
   "cell_type": "code",
   "execution_count": 52,
   "id": "6c66f2fd",
   "metadata": {},
   "outputs": [
    {
     "data": {
      "text/plain": [
       "denominationUsuelleEtablissement\n",
       "CREATIF             37\n",
       "IMAGINATIF          29\n",
       "CREATIF COIFFURE    26\n",
       "DIMINUTIF           19\n",
       "EVOLUTIF            19\n",
       "Name: count, dtype: int64"
      ]
     },
     "metadata": {},
     "output_type": "display_data"
    }
   ],
   "source": []
  },
  {
   "cell_type": "markdown",
   "id": "89d2879c-c7be-484a-a544-4ef2680adcd9",
   "metadata": {},
   "source": [
    "Bien sûr, pour aller plus loin, il faudrait mieux normaliser les données, vérifier que l’information recherchée n’est pas à cheval sur plusieurs colonnes et bien sûr faire de l’inspection visuelle pour détecter les jeux de mots cachés. Mais déjà, en quelques minutes, on a des statistiques partielles sur le phénomène des coiffeurs blagueurs.\n",
    "\n",
    "### 5.3.3 Le NIR et la question de la confidentialité des identifiants individuels\n",
    "\n",
    "En ce qui concerne les individus, il existe un identifiant unique permettant de relier ceux-ci dans différentes sources de données : le [NIR](https://www.cnil.fr/fr/definition/nir-numero-dinscription-au-repertoire), aussi connu sous le nom de numéro Insee ou numéro de sécurité sociale.\n",
    "Ce numéro est nécessaire à l’administration pour la gestion des droits à prestations sociales (maladie, vieillesse, famille…). Au-delà de cette fonction qui peut être utile au quotidien, ce numéro est un identifiant individuel unique dans le [Répertoire national d’identification des personnes physiques (RNIPP)](https://www.insee.fr/fr/metadonnees/definition/c1602).\n",
    "\n",
    "Cet identifiant est principalement présent dans des bases de gestion, liées aux fiches de paie, aux prestations sociales, etc. Cependant, *a contrario* du numéro Sirene, celui-ci contient en lui-même plusieurs informations sensibles - en plus d’être intrinsèquement relié à la problématique sensible des droits à la sécurité sociale.\n",
    "\n",
    "<figure>\n",
    "<img src=\"https://www.ameli.fr/sites/default/files/styles/webp_ckeditor/public/thumbnails/image/infographie_assures-regle-identification-assures.gif.webp?itok=j2owVDrB\" alt=\"Le numéro de sécurité sociale (Source: Améli)\" />\n",
    "<figcaption aria-hidden=\"true\">Le numéro de sécurité sociale (Source: <a href=\"https://www.ameli.fr/assure/droits-demarches/principes/numero-securite-sociale\">Améli</a>)</figcaption>\n",
    "</figure>\n",
    "\n",
    "Pour pallier ce problème, a récémment été mis en oeuvre le [code statistique non signifiant (CSNS)](https://www.insee.fr/fr/information/7635825?sommaire=7635842) ou NIR haché, un identifiant individuel anonyme non identifiant. L’objectif de cet identifiant anonymisé est de réduire la dissémination d’une information personnelle qui permettait certes aux fonctionnaires et chercheurs de relier de manière déterministe de nombreuses bases de données mais donnait une information non indispensable aux analystes sur les personnes en question.\n",
    "\n",
    "## 5.4 Exercices d’application\n",
    "\n",
    "### 5.4.1 Pourquoi a-t-on besoin d’un code commune quand on a déjà son nom ?\n",
    "\n",
    "Cet exercice va revenir un peu en arrière afin de saisir pourquoi nous avons pris comme hypothèse ci-dessus que le code commune était la clé de jointure."
   ]
  },
  {
   "cell_type": "markdown",
   "id": "245f6f6d-2d52-43aa-9c8e-19a76c9d3687",
   "metadata": {},
   "source": [
    "<div class=\"alert alert-success\" role=\"alert\" style=\"color: rgba(0,0,0,.8); background-color: white; margin-top: 1em; margin-bottom: 1em; margin:1.5625emauto; padding:0 .6rem .8rem!important;overflow:hidden; page-break-inside:avoid; border-radius:.25rem; box-shadow:0 .2rem .5rem rgba(0,0,0,.05),0 0 .05rem rgba(0,0,0,.1); transition:color .25s,background-color .25s,border-color .25s ; border-right: 1px solid #dee2e6 ; border-top: 1px solid #dee2e6 ; border-bottom: 1px solid #dee2e6 ; border-left:.2rem solid #3fb618;\">\n",
    "<h3 class=\"alert-heading\"><i class=\"fa fa-pencil\"></i> Exercice 3: vérification des clés de jointure</h3>\n",
    "\n",
    "On commence par vérifier les dimensions des `DataFrames` et la structure de certaines variables clés.\n",
    "En l’occurrence, les variables fondamentales pour lier nos données sont les variables communales.\n",
    "Ici, on a deux variables géographiques: un code commune et un nom de commune.\n",
    "\n",
    "1.  Vérifier les dimensions des *DataFrames*.\n",
    "\n",
    "2.  Identifier dans `filosofi` les noms de communes qui correspondent à plusieurs codes communes et sélectionner leurs codes. En d’autres termes, identifier les `LIBGEO` tels qu’il existe des doublons de `CODGEO` et les stocker dans un vecteur `x` (conseil: faire attention à l’index de `x`).\n",
    "\n",
    "On se focalise temporairement sur les observations où le libellé comporte plus de deux codes communes différents\n",
    "\n",
    "-   *Question 3*. Regarder dans `filosofi` ces observations.\n",
    "\n",
    "-   *Question 4*. Pour mieux y voir, réordonner la base obtenue par order alphabétique.\n",
    "\n",
    "-   *Question 5*. Déterminer la taille moyenne (variable nombre de personnes: `NBPERSMENFISC16`) et quelques statistiques descriptives de ces données.\n",
    "    Comparer aux mêmes statistiques sur les données où libellés et codes communes coïncident.\n",
    "\n",
    "-   *Question 6*. Vérifier les grandes villes (plus de 100 000 personnes),\n",
    "    la proportion de villes pour lesquelles un même nom est associé à différents codes commune.\n",
    "\n",
    "-   *Question 7*. Vérifier dans `filosofi` les villes dont le libellé est égal à Montreuil.\n",
    "    Vérifier également celles qui contiennent le terme *‘Saint-Denis’*.\n",
    "\n",
    "</div>"
   ]
  },
  {
   "cell_type": "markdown",
   "id": "d0434024-dafa-46f2-b1e6-36bb69c45215",
   "metadata": {},
   "source": [
    "Ce petit exercice permet donc de se rassurer car les libellés dupliqués\n",
    "sont en fait des noms de commune identiques mais qui ne sont pas dans le même département.\n",
    "Il ne s’agit donc pas d’observations dupliquées.\n",
    "On peut donc se fier aux codes communes, qui eux sont uniques.\n",
    "\n",
    "### 5.4.2 Calculer une empreinte carbone grâce à l’association entre des sources"
   ]
  },
  {
   "cell_type": "markdown",
   "id": "8d6ea8cd-ca5f-4e39-b27b-4b91a797edbf",
   "metadata": {},
   "source": [
    "<div class=\"alert alert-success\" role=\"alert\" style=\"color: rgba(0,0,0,.8); background-color: white; margin-top: 1em; margin-bottom: 1em; margin:1.5625emauto; padding:0 .6rem .8rem!important;overflow:hidden; page-break-inside:avoid; border-radius:.25rem; box-shadow:0 .2rem .5rem rgba(0,0,0,.05),0 0 .05rem rgba(0,0,0,.1); transition:color .25s,background-color .25s,border-color .25s ; border-right: 1px solid #dee2e6 ; border-top: 1px solid #dee2e6 ; border-bottom: 1px solid #dee2e6 ; border-left:.2rem solid #3fb618;\">\n",
    "<h3 class=\"alert-heading\"><i class=\"fa fa-pencil\"></i> Exercice 4: Calculer l'empreinte carbone par habitant</h3>\n",
    "\n",
    "En premier lieu, on va calculer l’empreinte carbone de chaque commune.\n",
    "\n",
    "1.  Créer une variable `emissions` qui correspond aux émissions totales d’une commune\n",
    "\n",
    "2.  Faire une jointure à gauche entre les données d’émissions et les données de cadrage[1].\n",
    "\n",
    "3.  Calculer l’empreinte carbone (émissions totales / population).\n",
    "\n",
    "A ce stade nous pourrions avoir envie d’aller vers la modélisation pour essayer d’expliquer\n",
    "les déterminants de l’empreinte carbone à partir de variables communales.\n",
    "Une approche inférentielle nécessite néanmoins pour être pertinente de\n",
    "vérifier en amont des statistiques descriptives.\n",
    "\n",
    "1.  Sortir un histogramme en niveau puis en log de l’empreinte carbone communale.\n",
    "\n",
    "Avec une meilleure compréhension de nos données, nous nous rapprochons\n",
    "de la statistique inférentielle. Néanmoins, nous avons jusqu’à présent\n",
    "construit des statistiques univariées mais n’avons pas cherché à comprendre\n",
    "les résultats en regardant le lien avec d’autres variables.\n",
    "Cela nous amène vers la statistique bivariée, notamment l’analyse des corrélations.\n",
    "Ce travail est important puisque toute modélisation ultérieure consistera à\n",
    "raffiner l’analyse des corrélations pour tenir compte des corrélations croisées\n",
    "entre multiples facteurs. On propose ici de faire cette analyse\n",
    "de manière minimale.\n",
    "\n",
    "1.  Regarder la corrélation entre les variables de cadrage et l’empreinte carbone. Certaines variables semblent-elles pouvoir potentiellement influer sur l’empreinte carbone ?\n",
    "\n",
    "</div>\n",
    "\n",
    "[1] Idéalement, il serait nécessaire de s’assurer que cette jointure n’introduit\n",
    "pas de biais. En effet, comme nos années de référence ne sont pas forcément identiques,\n",
    "il peut y avoir un *mismatch* entre nos deux sources. Le TP étant déjà long, nous n’allons pas dans cette voie.\n",
    "Les lecteurs intéressés pourront effectuer une telle analyse en exercice supplémentaire."
   ]
  },
  {
   "cell_type": "markdown",
   "id": "4e3082e4-9173-4492-9ce3-81ccec71b5af",
   "metadata": {},
   "source": [
    "A l’issue de la question 5, le graphique des corrélations est le suivant :"
   ]
  },
  {
   "cell_type": "code",
   "execution_count": 65,
   "id": "36b99209",
   "metadata": {},
   "outputs": [
    {
     "data": {
      "image/png": "[encoded data removed]"
     },
     "metadata": {},
     "output_type": "display_data"
    }
   ],
   "source": []
  },
  {
   "cell_type": "markdown",
   "id": "dec74fcf-35af-4418-bef2-6e8c446d1120",
   "metadata": {},
   "source": [
    "# 6. Formatter des tableaux de statistiques descriptives\n",
    "\n",
    "Un *dataframe* `Pandas`\n",
    "est automatiquement mis en forme lorsqu’il est visualisé depuis un *notebook* sous forme de table HTML à la mise en forme minimaliste.\n",
    "Cette mise en forme est pratique pour voir\n",
    "les données, une tâche indispensable pour les *data scientists*\n",
    "mais ne permet pas d’aller vraiment au-delà.\n",
    "\n",
    "Dans une phase\n",
    "exploratoire, il peut être pratique d’avoir un tableau\n",
    "un peu plus complet, intégrant notamment des visualisations\n",
    "minimalistes, pour mieux connaître ses données. Dans la phase\n",
    "finale d’un projet, lorsqu’on communique sur un projet, il\n",
    "est avantageux de disposer d’une visualisation attrative.\n",
    "Pour ces deux besoins, les sorties des *notebooks* sont\n",
    "une réponse peu satisfaisante, en plus de nécessiter\n",
    "le *medium* du *notebook* qui peut en rebuter certains.\n",
    "\n",
    "Heureusement, le tout jeune *package* [`great_tables`](https://posit-dev.github.io/great-tables/get-started/) permet, simplement, de manière programmatique, la création de tableaux\n",
    "qui n’ont rien à envier à des productions manuelles fastidieuses faites dans `Excel`\n",
    "et difficilement répliquables. Ce *package* est un portage en `Python` du *package* [`GT`](https://gt.rstudio.com/).\n",
    "`great_tables` construit des tableaux\n",
    "*html* ce qui offre une grande richesse dans la mise en forme et permet une excellente intégration avec [`Quarto`](https://quarto.org/), l’outil de publication reproductible développé par\n",
    "L’exercice suivant proposera de construire un tableau avec\n",
    "ce *package*, pas à pas.\n",
    "\n",
    "Afin de se concentrer sur la construction du tableau,\n",
    "les préparations de données à faire en amont sont données\n",
    "directement. Nous allons repartir de ce jeu de données:"
   ]
  },
  {
   "cell_type": "code",
   "execution_count": 66,
   "id": "549a2851",
   "metadata": {},
   "outputs": [
    {
     "data": {
      "text/html": [
       "\n",
       "<p>3 rows × 49 columns</p>\n",
       "</div>"
      ]
     },
     "metadata": {},
     "output_type": "display_data"
    }
   ],
   "source": [
    "emissions_merged.head(3)\n"
   ]
  },
  {
   "cell_type": "markdown",
   "id": "b1dc6eeb-ff5d-4c76-b080-53dd0c2c2a38",
   "metadata": {},
   "source": [
    "Nous allons construire un tableau de statistiques\n",
    "descriptives par département mettant en parallèle\n",
    "l’empreinte carbone, le revenu médian et la population\n",
    "de chaque département"
   ]
  },
  {
   "cell_type": "code",
   "execution_count": 67,
   "id": "c7e02447",
   "metadata": {},
   "outputs": [],
   "source": [
    "emissions_table = (\n",
    "    emissions_merged.rename(\n",
    "        columns={\"dep_y\": \"dep\", \"NBPERSMENFISC16\": \"population\", \"MED16\": \"revenu\"}\n",
    "    )\n",
    "    .groupby(\"dep\")\n",
    "    .agg(\n",
    "        {\"empreinte\": \"sum\", \"revenu\": \"median\", \"population\": \"sum\"}\n",
    "    )  # pas vraiment le revenu médian\n",
    "    .reset_index()\n",
    "    .sort_values(by=\"empreinte\")\n",
    ")\n"
   ]
  },
  {
   "cell_type": "markdown",
   "id": "8f30b955-aaf9-42d1-8a62-57bc9cb4b335",
   "metadata": {},
   "source": [
    "Dans ce tableau nous allons intégrer des barres horizontales,\n",
    "à la manière des exemples présentés [ici](https://posit-dev.github.io/great-tables/examples/). Cela se fait en incluant directement\n",
    "le code *html* dans la colonne du *DataFrame*"
   ]
  },
  {
   "cell_type": "code",
   "execution_count": 68,
   "id": "a4225244",
   "metadata": {},
   "outputs": [],
   "source": [
    "def create_bar(\n",
    "    prop_fill: float, max_width: int, height: int, color: str = \"green\"\n",
    ") -> str:\n",
    "    \"\"\"Create divs to represent prop_fill as a bar.\"\"\"\n",
    "    width = round(max_width * prop_fill, 2)\n",
    "    px_width = f\"{width}px\"\n",
    "    return f\"\"\"\\\n",
    "    <div style=\"width: {max_width}px; background-color: lightgrey;\">\\\n",
    "        <div style=\"height:{height}px;width:{px_width};background-color:{color};\"></div>\\\n",
    "    </div>\\\n",
    "    \"\"\"\n",
    "\n",
    "\n",
    "colors = {\"empreinte\": \"green\", \"revenu\": \"red\", \"population\": \"blue\"}\n",
    "\n",
    "for variable in [\"empreinte\", \"revenu\", \"population\"]:\n",
    "    emissions_table[f\"raw_perc_{variable}\"] = (\n",
    "        emissions_table[variable] / emissions_table[variable].max()\n",
    "    )\n",
    "    emissions_table[f\"bar_{variable}\"] = emissions_table[f\"raw_perc_{variable}\"].map(\n",
    "        lambda x: create_bar(x, max_width=75, height=20, color=colors[variable])\n",
    "    )\n"
   ]
  },
  {
   "cell_type": "markdown",
   "id": "03a86f11-36ec-4436-8112-a508c6eb4e7d",
   "metadata": {},
   "source": [
    "Nous ne gardons que les 5 plus petites empreintes carbone, et les\n",
    "cinq plus importantes."
   ]
  },
  {
   "cell_type": "code",
   "execution_count": 69,
   "id": "34e8518d",
   "metadata": {},
   "outputs": [],
   "source": [
    "emissions_min = (\n",
    "    emissions_table.head(5)\n",
    "    .assign(grp=\"5 départements les moins pollueurs\")\n",
    "    .reset_index(drop=True)\n",
    ")\n",
    "emissions_max = (\n",
    "    emissions_table.tail(5)\n",
    "    .assign(grp=\"5 départements les plus pollueurs\")\n",
    "    .reset_index(drop=True)\n",
    ")\n",
    "\n",
    "emissions_table = pd.concat([emissions_min, emissions_max])\n"
   ]
  },
  {
   "cell_type": "markdown",
   "id": "7a1159ad-d9be-4625-a3d4-b2b021a47454",
   "metadata": {},
   "source": [
    "Enfin, pour pouvoir utiliser quelques fonctions\n",
    "pratiques pour sélectionner des colonnes à partir\n",
    "de motifs, nous allons convertir les données\n",
    "au format [`Polars`](https://pola.rs/)"
   ]
  },
  {
   "cell_type": "code",
   "execution_count": 70,
   "id": "89958006",
   "metadata": {},
   "outputs": [],
   "source": [
    "import polars as pl\n",
    "\n",
    "emissions_table = pl.from_pandas(emissions_table)\n"
   ]
  },
  {
   "cell_type": "markdown",
   "id": "605e6a7f-0e5c-445d-baca-976aa606aea9",
   "metadata": {},
   "source": [
    "<div class=\"alert alert-success\" role=\"alert\" style=\"color: rgba(0,0,0,.8); background-color: white; margin-top: 1em; margin-bottom: 1em; margin:1.5625emauto; padding:0 .6rem .8rem!important;overflow:hidden; page-break-inside:avoid; border-radius:.25rem; box-shadow:0 .2rem .5rem rgba(0,0,0,.05),0 0 .05rem rgba(0,0,0,.1); transition:color .25s,background-color .25s,border-color .25s ; border-right: 1px solid #dee2e6 ; border-top: 1px solid #dee2e6 ; border-bottom: 1px solid #dee2e6 ; border-left:.2rem solid #3fb618;\">\n",
    "<h3 class=\"alert-heading\"><i class=\"fa fa-pencil\"></i> Exercice 5: Un beau tableau de statistiques descriptives (exercice libre)</h3>\n",
    "\n",
    "En prenant comme base ce tableau\n",
    "\n",
    "``` python\n",
    "GT(emissions_table, groupname_col=\"grp\", rowname_col=\"dep\")\n",
    "```\n",
    "\n",
    "construire un tableau dans le style de celui ci-dessous\n",
    "\n",
    "</div>"
   ]
  },
  {
   "cell_type": "markdown",
   "id": "38c9fc63-49f4-4ac6-9348-cc41a186e799",
   "metadata": {},
   "source": [
    "Le tableau à obtenir:"
   ]
  },
  {
   "cell_type": "code",
   "execution_count": 71,
   "id": "22699d1a",
   "metadata": {},
   "outputs": [
    {
     "data": {
      "text/html": [
       "\n",
       "\n",
       "</div>\n",
       "        "
      ]
     },
     "metadata": {},
     "output_type": "display_data"
    }
   ],
   "source": []
  },
  {
   "cell_type": "markdown",
   "id": "6462f28f-1e46-483a-b0cc-61e2cacde2f1",
   "metadata": {},
   "source": [
    "Grâce à celui-ci, on peut déjà comprendre que notre définition\n",
    "de l’empreinte carbone est certainement défaillante. Il apparaît\n",
    "peu plausible que les habitants du 77 aient une empreinte 500 fois\n",
    "supérieure à celle de Paris intra-muros. La raison principale ?\n",
    "On n’est pas sur un concept d’émissions à la consommation mais à la\n",
    "production, ce qui pénalise les espaces industriels ou les espaces\n",
    "avec des aéroports…\n",
    "\n",
    "Pour aller plus loin sur la construction de tableaux\n",
    "avec `great_tables`, vous pouvez répliquer\n",
    "cet [exercice](https://rgeo.linogaliana.fr/exercises/eval.html)\n",
    "de production de tableaux électoraux\n",
    "que j’ai proposé pour un cours de `R` avec `gt`, l’équivalent\n",
    "de `great_tables` pour `R`.\n",
    "\n",
    "# 7. `Pandas`: vers la pratique et au-delà\n",
    "\n",
    "## 7.1 `Pandas` dans une chaine d’opérations\n",
    "\n",
    "En général, dans un projet, le nettoyage de données va consister en un ensemble de\n",
    "méthodes appliquées à un `DataFrame` ou alors une `Serie` lorsqu’on travaille exclusivement sur une colonne.\n",
    "Autrement dit, ce qui est généralement attendu lorsqu’on fait du `Pandas` c’est d’avoir une chaîne qui prend un `DataFrame` en entrée et ressort ce même `DataFrame` enrichi, ou une version agrégée de celui-ci, en sortie.\n",
    "\n",
    "Cette manière de procéder est le coeur de la syntaxe `dplyr` en `R` mais n’est pas forcément native en `Pandas` selon les opérations qu’on désire mettre en oeuvre. En effet, la manière naturelle de mettre à jour un *dataframe* en `Pandas` passe souvent par une syntaxe du type:"
   ]
  },
  {
   "cell_type": "code",
   "execution_count": 72,
   "id": "f810a790",
   "metadata": {},
   "outputs": [],
   "source": [
    "import numpy as np\n",
    "import pandas as pd\n",
    "\n",
    "data = [[8000, 1000], [9500, np.nan], [5000, 2000]]\n",
    "df = pd.DataFrame(data, columns=[\"salaire\", \"autre_info\"])\n",
    "df[\"salaire_net\"] = df[\"salaire\"] * 0.8\n"
   ]
  },
  {
   "cell_type": "markdown",
   "id": "1f5c80c6-acdc-4b7f-a709-3c1f3bc086ab",
   "metadata": {},
   "source": [
    "En `SQL` on pourrait directement mettre à jour notre base de données avec la nouvelle colonne :\n",
    "\n",
    "``` sql\n",
    "SELECT *, salaire*0.8 AS salaire_net FROM df\n",
    "```\n",
    "\n",
    "L’écosystème du *tidyverse* en `R`, l’équivalent de `Pandas`, fonctionne selon la même logique que SQL de mise à jour de table. On ferait en effet la commande suivante avec `dplyr`:\n",
    "\n",
    "``` r\n",
    "df %>% mutate(salaire_net = salaire*0.8) \n",
    "```\n",
    "\n",
    "Techniquement on pourrait faire ceci avec un `assign` en `Pandas`"
   ]
  },
  {
   "cell_type": "code",
   "execution_count": 73,
   "id": "86d5de5f",
   "metadata": {},
   "outputs": [],
   "source": [
    "df = df.drop(\"salaire_net\", axis=\"columns\")\n",
    "df = df.assign(salaire_net=lambda s: s[\"salaire\"] * 0.8)"
   ]
  },
  {
   "cell_type": "markdown",
   "id": "346cc07a-5e63-4088-931f-12b24bef2150",
   "metadata": {},
   "source": [
    "Cependant cette syntaxe `assign` n’est pas très naturelle. Il est nécessaire de lui passer une *lambda function* qui attend comme *input* un `DataFrame` là où on voudrait une colonne. Il ne s’agit donc pas vraiment d’une syntaxe lisible et pratique.\n",
    "\n",
    "Il est néanmoins possible d’enchaîner des opérations sur des jeux de données grâce aux [*pipes*](https://pandas.pydata.org/docs/reference/api/pandas.DataFrame.pipe.html). Ceux-ci reprennent la même philosophie que celle de `dplyr`, elle-même inspirée du *pipe* Linux.\n",
    "Cette approche permettra de rendre plus lisible le code en définissant des fonctions effectuant des opérations sur une ou plusieurs colonnes d’un DataFrame. Le premier argument à indiquer à la fonction est le `DataFrame`, les autres sont ceux permettant de contrôler son comportement"
   ]
  },
  {
   "cell_type": "code",
   "execution_count": 74,
   "id": "c8ac1776",
   "metadata": {},
   "outputs": [],
   "source": [
    "def calcul_salaire_net(df: pd.DataFrame, col: str, taux: float = 0.8):\n",
    "    df[\"salaire_net\"] = df[col] * taux\n",
    "    return df\n"
   ]
  },
  {
   "cell_type": "markdown",
   "id": "74f62d2d-c527-4932-a68d-3fa7f28f0b13",
   "metadata": {},
   "source": [
    "Ce qui transforme notre chaine de production en"
   ]
  },
  {
   "cell_type": "code",
   "execution_count": 75,
   "id": "f71a9e1f",
   "metadata": {},
   "outputs": [
    {
     "data": {
      "text/html": [
       "\n",
       "</div>"
      ]
     },
     "metadata": {},
     "output_type": "display_data"
    }
   ],
   "source": [
    "(df.pipe(calcul_salaire_net, \"salaire\"))\n"
   ]
  },
  {
   "cell_type": "markdown",
   "id": "4e9973d3-f368-45b3-ac5c-9ae17fb3619b",
   "metadata": {},
   "source": [
    "## 7.2 Quelques limites sur la syntaxe de `Pandas`\n",
    "\n",
    "Il y a un avant et un après `Pandas` dans l’analyse de données en `Python`. Sans ce *package* ô combien pratique `Python`, malgré toutes les forces de ce langage, aurait eu du mal à s’installer dans le paysage de l’analyse de données. Cependant, si `Pandas` propose une syntaxe cohérente sur de nombreux aspects, elle n’est pas parfaite non plus. Les paradigmes plus récents d’analyse de données en `Python` ont d’ailleurs parfois l’ambition de corriger ces imperfections syntaxiques là.\n",
    "\n",
    "Parmi les points les plus génants au quoditien il y a le besoin de régulièrement faire des `reset_index` lorsqu’on construit des statistiques descriptives. En effet, il peut être dangereux de garder des indices qu’on ne contrôle pas bien car, sans attention de notre part lors des phases de *merge*, ils peuvent être utilisés à mauvais escient par `Pandas` pour joindre les données ce qui peut provoquer des suprises.\n",
    "\n",
    "`Pandas` est extrêmement bien fait pour restructurer des données du format *long* to *wide* ou *wide* to *long*. Cependant, ce n’est pas la seule manière de restructurer un jeu de données qu’on peut vouloir mettre en oeuvre. Il arrive régulièrement qu’on désire comparer la valeur d’une observation à celle d’un groupe à laquelle elle appartient. C’est notamment particulièrement utile dans une phase d’analyse des anomalies, valeurs aberrantes ou lors d’une investigation de détection de fraude. De manière native, en `Pandas`, il faut construire une statistique agrégée par groupe et refaire un *merge* aux données initiales par le biais de la variable de groupe. C’est un petit peu fastidieux:"
   ]
  },
  {
   "cell_type": "code",
   "execution_count": 76,
   "id": "da846278",
   "metadata": {},
   "outputs": [
    {
     "data": {
      "text/html": [
       "\n",
       "</div>"
      ]
     },
     "metadata": {},
     "output_type": "display_data"
    }
   ],
   "source": [
    "emissions_moyennes = emissions.groupby(\"dep\").agg({\"Agriculture\": \"mean\"}).reset_index()\n",
    "emissions_enrichies = emissions.merge(\n",
    "    emissions_moyennes, on=\"dep\", suffixes=[\"\", \"_moyenne_dep\"]\n",
    ")\n",
    "emissions_enrichies[\"relatives\"] = (\n",
    "    emissions_enrichies[\"Agriculture\"] / emissions_enrichies[\"Agriculture_moyenne_dep\"]\n",
    ")\n",
    "emissions_enrichies.head()\n"
   ]
  },
  {
   "cell_type": "markdown",
   "id": "9e427d99-f2d8-43dd-b870-866632cb3ab2",
   "metadata": {},
   "source": [
    "Dans le *tidyverse*, cette opération en deux temps pourrait être faite en une seule étape, ce qui est plus pratique\n",
    "\n",
    "``` r\n",
    "emissions %>%\n",
    "  group_by(dep) %>%\n",
    "  mutate(relatives = Agriculture/mean(Agriculture))\n",
    "```\n",
    "\n",
    "Ce n’est pas si grave mais cela alourdit la longueur des chaines de traitement faites en `Pandas` et donc la charge de maintenance pour les faire durer dans le temps.\n",
    "\n",
    "De manière plus générale, les chaînes de traitement `Pandas` peuvent être assez verbeuses, car il faut régulièrement redéfinir le `DataFrame` qu’on utilise plutôt que simplement les colonnes. Par exemple, pour faire un filtre sur les lignes et les colonnes, il faudra faire:"
   ]
  },
  {
   "cell_type": "code",
   "execution_count": 77,
   "id": "01451f75",
   "metadata": {},
   "outputs": [
    {
     "data": {
      "text/html": [
       "\n",
       "</div>"
      ]
     },
     "metadata": {},
     "output_type": "display_data"
    }
   ],
   "source": [
    "(\n",
    "    emissions.loc[\n",
    "        (emissions[\"dep\"] == \"12\") & (emissions[\"Routier\"] > 500),\n",
    "        [\"INSEE commune\", \"Commune\"],\n",
    "    ].head(5)\n",
    ")\n"
   ]
  },
  {
   "cell_type": "markdown",
   "id": "64930f26-ddf1-4d88-9612-2ef31680aece",
   "metadata": {},
   "source": [
    "En SQL on pourrait se contenter de faire référence aux colonnes dans le filter\n",
    "\n",
    "``` sql\n",
    "SELECT \"INSEE commune\", 'Commune'\n",
    "FROM emissions \n",
    "WHERE dep==\"12\" AND Routier>500\n",
    "```\n",
    "\n",
    "Dans le *tidyverse* (`R`) on pourrait aussi faire ceci simplement\n",
    "\n",
    "``` r\n",
    "df %>%\n",
    "  filter(dep==\"12\", Routier>500) %>%\n",
    "  select(`INSEE commune`, `Commune`)\n",
    "```\n",
    "\n",
    "# 8. Les autres paradigmes\n",
    "\n",
    "Ces deux chapitres ont permis d’explorer en profondeur la richesse de l’écosystème `Pandas` qui est un indispensable dans la boite à outil du *data scientist*. Malgré toutes les limites que nous avons pu évoquer, et les solutions alternatives que nous allons présenter, `Pandas` reste LE *package* central de l’écosystème de la donnée avec `Python`. Nous allons voir dans les prochains chapitres son intégration native à l’écosystème `Scikit` pour le *machine learning* ou l’extension de `Pandas` aux données spatiales avec `GeoPandas`.\n",
    "\n",
    "Les autres solutions techniques que nous allons ici évoquer peuvent être pertinentes si on désire traiter des volumes de données importants ou si on désire utiliser des syntaxes alternatives.\n",
    "\n",
    "Les principales alternatives à `Pandas` sont [`Polars`](https://pola.rs/), [`DuckDB`](https://duckdb.org/) et [`Spark`](https://spark.apache.org/docs/latest/api/python/index.html). Il existe également [`Dask`](https://www.dask.org/), une librairie pour paralléliser des traitements écris en `Pandas`.\n",
    "\n",
    "## 8.1 `Polars`\n",
    "\n",
    "`Polars` est certainement le paradigme le plus inspiré de `Pandas`, jusqu’au choix du nom. La première différence fondamentale est dans les couches internes utilisées. `Polars` s’appuie sur l’implémentation `Rust` de `Arrow` là où `Pandas` s’appuie sur `Numpy` ce qui est facteur de perte de performance. Cela permet à `Polars` d’être plus efficace sur de gros volumes de données, d’autant que de nombreuses opérations sont parallélisées et reposent sur l’évaluation différées (*lazy evaluation*) un principe de programmation qui permet d’optimiser les requêtes pour ne pas les exécuter dans l’ordre de définition mais dans un ordre logique plus optimal.\n",
    "\n",
    "Une autre force de `Polars` est la syntaxe plus cohérente, qui bénéficie du recul d’une quinzaine d’années d’existence de `Pandas` et d’une petite dizaine d’années de `dplyr` (le *package* de manipulation de données au sein du paradigme du *tidyverse* en `R`). Pour reprendre l’exemple précédent, il n’est plus nécessaire de forcer la référence au *DataFrame*, dans une chaîne d’exécution toutes les références ultérieures seront faites au regard du *DataFrame* de départ"
   ]
  },
  {
   "cell_type": "code",
   "execution_count": 79,
   "id": "5da15655",
   "metadata": {},
   "outputs": [
    {
     "data": {
      "text/html": [
       "</div>"
      ]
     },
     "metadata": {},
     "output_type": "display_data"
    }
   ],
   "source": [
    "import polars as pl\n",
    "\n",
    "emissions_polars = pl.from_pandas(emissions)\n",
    "(\n",
    "    emissions_polars.filter(pl.col(\"dep\") == \"12\", pl.col(\"Routier\") > 500)\n",
    "    .select(\"INSEE commune\", \"Commune\")\n",
    "    .head(5)\n",
    ")\n"
   ]
  },
  {
   "cell_type": "markdown",
   "id": "7f0e4182-97f3-42b0-9d65-4240e370ead8",
   "metadata": {},
   "source": [
    "Pour découvrir `Polars`, de nombreuses ressources en ligne sont accessibles, notamment [ce *notebook*](https://github.com/InseeFrLab/ssphub/blob/main/post/polars/polars-tuto.ipynb) construit pour le réseau des *data scientists* de la statistique publique.\n",
    "\n",
    "## 8.2 `DuckDB`\n",
    "\n",
    "*DuckDB* est le nouveau venu dans l’écosystème de l’analyse de données repoussant les limites des données pouvant être traitées avec `Python` sans passer par des outils *big data* comme `Spark`.\n",
    "*DuckDB* est la quintessence d’un nouveau paradigme, celui du [*“Big data is dead”*](https://motherduck.com/blog/big-data-is-dead/), où on peut traiter des données de volumétrie importante sans recourir à des infrastructures imposantes.\n",
    "\n",
    "Outre sa grande efficacité, puisqu’avec *DuckDB* on peut traiter des données d’une volumétrie supérieure à la mémoire vive de l’ordinateur ou du serveur, *DuckDB* présente l’avantage de proposer une syntaxe uniforme quelle que soit le langage qui appelle *DuckDB* (`Python`, `R`, `C++` ou `Javascript`). *DuckDB* privilégie la syntaxe SQL pour traiter les données avec de nombreuses fonctions pré-implementées pour simplifier certaines transformations de données (par exemple pour les [données textuelles](https://duckdb.org/docs/sql/functions/char.html), les [données temporelles](https://duckdb.org/docs/sql/functions/time), etc.).\n",
    "\n",
    "Par rapport à d’autres systèmes s’appuyant sur SQL, comme [`PostGreSQL`](https://www.bing.com/search?go=Rechercher&q=PostGreSQL&qs=ds&form=QBRE), `DuckDB` est très simple d’installation, ce n’est qu’une librairie `Python` là où beaucoup d’outils comme `PostGreSQL` nécessite une infrastructure adaptée.\n",
    "\n",
    "Pour reprendre l’exemple précédent, on peut utiliser directement le code SQL précédent"
   ]
  },
  {
   "cell_type": "code",
   "execution_count": 81,
   "id": "3e702f8e",
   "metadata": {},
   "outputs": [
    {
     "data": {
      "text/plain": [
       "┌───────────────┬─────────────────────┐\n",
       "│ INSEE commune │       Commune       │\n",
       "│    varchar    │       varchar       │\n",
       "├───────────────┼─────────────────────┤\n",
       "│ 12001         │ AGEN-D'AVEYRON      │\n",
       "│ 12002         │ AGUESSAC            │\n",
       "│ 12006         │ ALRANCE             │\n",
       "│ 12007         │ AMBEYRAC            │\n",
       "│ 12008         │ ANGLARS-SAINT-FELIX │\n",
       "└───────────────┴─────────────────────┘"
      ]
     },
     "metadata": {},
     "output_type": "display_data"
    }
   ],
   "source": [
    "import duckdb\n",
    "\n",
    "duckdb.sql(\n",
    "    \"\"\"\n",
    "  SELECT \"INSEE commune\", \"Commune\"\n",
    "  FROM emissions\n",
    "  WHERE dep=='12' AND Routier>500\n",
    "  LIMIT 5\n",
    "  \"\"\"\n",
    ")\n"
   ]
  },
  {
   "cell_type": "markdown",
   "id": "2a1afa29-19e0-4ed4-b186-dd00ca54fd2a",
   "metadata": {},
   "source": [
    "Ici la clause `FROM emissions` vient du fait qu’on peut directement exécuter du SQL depuis un objet `Pandas` par le biais de `DuckDB`. Si on fait la lecture directement dans la requête, celle-ci se complexifie un petit peu mais la logique est la même"
   ]
  },
  {
   "cell_type": "code",
   "execution_count": 82,
   "id": "5f061893",
   "metadata": {},
   "outputs": [
    {
     "data": {
      "text/plain": [
       "┌───────────────┬─────────────────────┐\n",
       "│ INSEE commune │       Commune       │\n",
       "│    varchar    │       varchar       │\n",
       "├───────────────┼─────────────────────┤\n",
       "│ 12001         │ AGEN-D'AVEYRON      │\n",
       "│ 12002         │ AGUESSAC            │\n",
       "│ 12006         │ ALRANCE             │\n",
       "│ 12007         │ AMBEYRAC            │\n",
       "│ 12008         │ ANGLARS-SAINT-FELIX │\n",
       "└───────────────┴─────────────────────┘"
      ]
     },
     "metadata": {},
     "output_type": "display_data"
    }
   ],
   "source": [
    "import duckdb\n",
    "\n",
    "duckdb.sql(\n",
    "    f\"\"\"\n",
    "  SELECT \"INSEE commune\", \"Commune\"\n",
    "  FROM read_csv_auto(\"{url}\")\n",
    "  WHERE\n",
    "    substring(\"INSEE commune\",1,2)=='12'\n",
    "    AND\n",
    "    Routier>500\n",
    "  LIMIT 5\n",
    "  \"\"\"\n",
    ")\n"
   ]
  },
  {
   "cell_type": "markdown",
   "id": "6ccd8fda-80b4-4813-b3f0-09eca595d1a4",
   "metadata": {},
   "source": [
    "Le rendu du *DataFrame* est légèrement différent de `Pandas` car, comme `Polars` et de nombreux systèmes de traitement de données volumineuses, `DuckDB` repose sur l’évaluation différée et donc ne présente en *display* qu’un échantillon de données.\n",
    "`DuckDB` et `Polars` sont d’ailleurs très bien intégrés l’un à l’autre. On peut très bien faire du SQL sur un objet `Polars` via `DuckDB` ou appliquer des fonctions `Polars` sur un objet initialement lu avec `DuckDB`.\n",
    "\n",
    "L’un des intérêts de `DuckDB` est son excellente intégration avec l’écosystème `Parquet`, le format de données déjà mentionné qui devient un standard dans le partage de données (il s’agit, par exemple, de la pierre angulaire du partage de données sur la plateforme *HuggingFace*). Pour en savoir plus sur `DuckDB` et découvrir son intérêt pour lire les données du recensement de la population française, vous pouvez consulter [ce post de blog](https://ssphub.netlify.app/post/parquetrp/).\n",
    "\n",
    "## 8.3 `Spark` et le *big data*\n",
    "\n",
    "`DuckDB` a repoussé les frontières du *big data* qu’on peut définir comme le volume de données à partir duquel on ne peut plus traiter celles-ci sur une machine sans mettre en oeuvre une stratégie de parallélisation.\n",
    "\n",
    "Néanmoins, pour les données très volumineuses, `Python` est très bien armé grâce à la librairie [`PySpark`](https://spark.apache.org/docs/latest/api/python/index.html). Celle-ci est une API en Python pour le langage `Spark`, un langage *big data* basé sur Scala. Ce paradigme est construit sur l’idée que les utilisateurs de `Python` y accèdent par le biais de *cluster* avec de nombreux noeuds pour traiter la donnée de manière parallèle. Celle-ci sera lue par blocs, qui seront traités en parallèle en fonction du nombre de noeuds parallèles. L’API DataFrame de `Spark` présente une syntaxe proche de celle des paradigmes précédents avec une ingénieurie plus complexe en arrière-plan liée à la parallélisation native."
   ]
  }
 ],
 "metadata": {
  "kernelspec": {
   "display_name": "Python 3 (ipykernel)",
   "language": "python",
   "name": "python3"
  },
  "language_info": {
   "codemirror_mode": {
    "name": "ipython",
    "version": 3
   },
   "file_extension": ".py",
   "mimetype": "text/x-python",
   "name": "python",
   "nbconvert_exporter": "python",
   "pygments_lexer": "ipython3",
   "version": "3.10.13"
  },
  "widgets": {
   "application/vnd.jupyter.widget-state+json": {
    "state": {
     "cc2a70bf4c4c410fb7f1e3183a478ed9": {
      "model_module": "@jupyter-widgets/base",
      "model_module_version": "2.0.0",
      "model_name": "LayoutModel",
      "state": {
       "_model_module": "@jupyter-widgets/base",
       "_model_module_version": "2.0.0",
       "_model_name": "LayoutModel",
       "_view_count": null,
       "_view_module": "@jupyter-widgets/base",
       "_view_module_version": "2.0.0",
       "_view_name": "LayoutView",
       "align_content": null,
       "align_items": null,
       "align_self": null,
       "border_bottom": null,
       "border_left": null,
       "border_right": null,
       "border_top": null,
       "bottom": null,
       "display": null,
       "flex": null,
       "flex_flow": null,
       "grid_area": null,
       "grid_auto_columns": null,
       "grid_auto_flow": null,
       "grid_auto_rows": null,
       "grid_column": null,
       "grid_gap": null,
       "grid_row": null,
       "grid_template_areas": null,
       "grid_template_columns": null,
       "grid_template_rows": null,
       "height": null,
       "justify_content": null,
       "justify_items": null,
       "left": null,
       "margin": null,
       "max_height": null,
       "max_width": null,
       "min_height": null,
       "min_width": null,
       "object_fit": null,
       "object_position": null,
       "order": null,
       "overflow": null,
       "padding": null,
       "right": null,
       "top": null,
       "visibility": null,
       "width": "auto"
      }
     },
     "cc34bb86578444da9b7816ab3d1534f6": {
      "model_module": "@jupyter-widgets/controls",
      "model_module_version": "2.0.0",
      "model_name": "ProgressStyleModel",
      "state": {
       "_model_module": "@jupyter-widgets/controls",
       "_model_module_version": "2.0.0",
       "_model_name": "ProgressStyleModel",
       "_view_count": null,
       "_view_module": "@jupyter-widgets/base",
       "_view_module_version": "2.0.0",
       "_view_name": "StyleView",
       "bar_color": "black",
       "description_width": ""
      }
     },
     "f547fdc98f9d4cf5934489e7ce5e2fb6": {
      "model_module": "@jupyter-widgets/controls",
      "model_module_version": "2.0.0",
      "model_name": "FloatProgressModel",
      "state": {
       "_dom_classes": [],
       "_model_module": "@jupyter-widgets/controls",
       "_model_module_version": "2.0.0",
       "_model_name": "FloatProgressModel",
       "_view_count": null,
       "_view_module": "@jupyter-widgets/controls",
       "_view_module_version": "2.0.0",
       "_view_name": "ProgressView",
       "bar_style": "",
       "description": "",
       "description_allow_html": false,
       "layout": "IPY_MODEL_cc2a70bf4c4c410fb7f1e3183a478ed9",
       "max": 100,
       "min": 0,
       "orientation": "horizontal",
       "style": "IPY_MODEL_cc34bb86578444da9b7816ab3d1534f6",
       "tabbable": null,
       "tooltip": null,
       "value": 100
      }
     }
    },
    "version_major": 2,
    "version_minor": 0
   }
  }
 },
 "nbformat": 4,
 "nbformat_minor": 5
}
