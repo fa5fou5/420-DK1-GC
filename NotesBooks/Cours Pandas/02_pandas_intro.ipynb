{
 "cells": [
  {
   "cell_type": "markdown",
   "id": "e8ef2b13-03a7-4f46-b02f-54f8f0c8c327",
   "metadata": {},
   "source": [
    "# Introduction à Pandas\n",
    "\n",
    "Lino Galiana  \n",
    "2024-06-17\n",
    "\n",
    "Pour essayer les exemples présents dans ce tutoriel :\n",
    "\n",
    "# 1. Introduction\n",
    "\n",
    "Le *package* `Pandas` est l’une des briques centrales de l’écosystème de\n",
    "la *data science* depuis une dizaine d’années. Le *DataFrame*,\n",
    "objet central dans des langages comme `R`\n",
    "ou `Stata`, a longtemps était un grand absent dans l’écosystème `Python`.\n",
    "Pourtant, grâce à `Numpy`, toutes les briques de base étaient présentes\n",
    "mais méritaient d’être réagencées pour convenir aux besoins\n",
    "des *data scientists*.\n",
    "\n",
    "Wes McKinney, lorsqu’il a construit `Pandas`\n",
    "pour proposer un *dataframe* s’appuyant, en arrière-plan, sur la librairie\n",
    "de calcul numérique `Numpy`, a permis un grand bond en avant pour `Python`\n",
    "dans l’analyse de données qui explique sa popularité dans l’écosystème\n",
    "de la *data science*. `Pandas` n’est pas sans limite[1], nous aurons l’occasion\n",
    "d’en évoquer quelques unes, mais la grande richesse des méthodes d’analyses\n",
    "proposées simplifie énormément le travail d’analyse de données.\n",
    "Pour en savoir plus sur ce *package*, l’ouvrage\n",
    "de référence de McKinney (2012) présente de nombreuses fonctionnalités du *package*.\n",
    "\n",
    "Nous nous concentrerons dans ce chapitre sur les éléments les plus pertinents\n",
    "dans le cadre d’une introduction à la *data science* et laisserons\n",
    "les utilisateurs intéressés approfondir leurs connaissances\n",
    "dans les ressources foisonnantes qu’il existe sur le sujet.\n",
    "\n",
    "Comme les jeux de données prennent généralement de la valeur\n",
    "en associant plusieurs sources, par exemple pour mettre en relation\n",
    "un enregistrement avec une donnée contextuelle ou pour lier deux bases\n",
    "clients afin d’avoir une donnée faisant sens, le chapitre suivant présentera\n",
    "la manière d’associer des jeux de données\n",
    "différents avec `Pandas`.\n",
    "A l’issue du chapitre suivant, grâce à des croisements\n",
    "de données, nous diposerons d’une base fine sur les empreintes\n",
    "carbone des Français[2].\n",
    "\n",
    "[1] L’écosystème équivalent en `R`, le [`tidyverse`](), développé\n",
    "par *Posit*, est de conception plus récente que `Pandas`. Sa philosophie\n",
    "a ainsi pu s’inspirer de celle de `Pandas` tout en pouvant remédier à quelques limites\n",
    "de la syntaxe `Pandas`. Les deux syntaxes étant une mise en oeuvre en `Python` ou `R`\n",
    "de la philosophie `SQL`, il est naturel qu’elles se ressemblent beaucoup et\n",
    "qu’il soit pertinent pour les *data scientists* de connaître les deux langages.\n",
    "\n",
    "[2] A vrai dire, ce n’est pas l’empreinte carbone\n",
    "mais l’**inventaire national**\n",
    "puisque la base de données correspond à une vision production,\n",
    "pas consommation. Les émissions faites dans une commune pour satisfaire\n",
    "la consommation d’une autre seront imputées à la première là\n",
    "où le concept d’empreinte carbone voudrait qu’on l’impute\n",
    "aux secondes. De plus, les émissions présentées ici ne comportent pas\n",
    "les émissions produites par des biais produits à l’étranger. Il ne s’agit pas, avec cet exercice, de construire une\n",
    "statistique fiable mais plutôt de comprendre la logique de\n",
    "l’association de données pour construire des statistiques descriptives."
   ]
  },
  {
   "cell_type": "markdown",
   "id": "7ada5ab4-9771-4a24-a3f6-37bf7b3bc349",
   "metadata": {},
   "source": [
    "<div class=\"alert alert-info\" role=\"alert\" style=\"color: rgba(0,0,0,.8); background-color: white; margin-top: 1em; margin-bottom: 1em; margin:1.5625emauto; padding:0 .6rem .8rem!important;overflow:hidden; page-break-inside:avoid; border-radius:.25rem; box-shadow:0 .2rem .5rem rgba(0,0,0,.05),0 0 .05rem rgba(0,0,0,.1); transition:color .25s,background-color .25s,border-color .25s ; border-right: 1px solid #dee2e6 ; border-top: 1px solid #dee2e6 ; border-bottom: 1px solid #dee2e6 ; border-left:.2rem solid #007bff80;\">\n",
    "<h3 class=\"alert-heading\"><i class=\"fa fa-comment\"></i> Note</h3>\n",
    "\n",
    "Si vous êtes intéressés par `R` et le *tidyverse*,\n",
    "une version très proche de ce TP est\n",
    "disponible dans [ce cours](https://rgeo.linogaliana.fr/exercises/r-wrangling.html).\n",
    "\n",
    "</div>"
   ]
  },
  {
   "cell_type": "markdown",
   "id": "47c2409d-dde1-4b8e-8afe-0dd6ab527007",
   "metadata": {},
   "source": [
    "## 1.1 Données\n",
    "\n",
    "Dans ce tutoriel `Pandas`, nous allons utiliser :\n",
    "\n",
    "-   Les émissions de gaz à effet de serre estimées au niveau communal par l’ADEME. Le jeu de données est\n",
    "    disponible sur [data.gouv](https://www.data.gouv.fr/fr/datasets/inventaire-de-gaz-a-effet-de-serre-territorialise/#_)\n",
    "    et requêtable directement dans `Python` avec\n",
    "    [cet url](https://koumoul.com/s/data-fair/api/v1/datasets/igt-pouvoir-de-rechauffement-global/convert) ;\n",
    "\n",
    "Le [chapitre suivant](../../content/manipulation/02_pandas_followup.qmd) permettra de mettre en application des éléments présents dans ce chapitre avec\n",
    "les données ci-dessus associées à des données de contexte au niveau communal."
   ]
  },
  {
   "cell_type": "markdown",
   "id": "cc9e4ff4-83e0-4790-af2f-63cf4766b5e6",
   "metadata": {},
   "source": [
    "<div class=\"alert alert-success\" role=\"alert\" style=\"color: rgba(0,0,0,.8); background-color: white; margin-top: 1em; margin-bottom: 1em; margin:1.5625emauto; padding:0 .6rem .8rem!important;overflow:hidden; page-break-inside:avoid; border-radius:.25rem; box-shadow:0 .2rem .5rem rgba(0,0,0,.05),0 0 .05rem rgba(0,0,0,.1); transition:color .25s,background-color .25s,border-color .25s ; border-right: 1px solid #dee2e6 ; border-top: 1px solid #dee2e6 ; border-bottom: 1px solid #dee2e6 ; border-left:.2rem solid #3fb618;\">\n",
    "<h3 class=\"alert-heading\"><i class=\"fa fa-pencil\"></i> Compétences à l'issue de ce chapitre</h3>\n",
    "\n",
    "-   Importer un jeu de données sous forme de *dataframe* `Pandas` et explorer sa structure ;\n",
    "-   Effectuer des manipulations sur les colonnes et les lignes ;\n",
    "-   Construire des statistiques agrégées et chaîner les opérations ;\n",
    "-   Utiliser les méthodes graphiques de `Pandas` pour se représenter rapidement la distribution des données.\n",
    "\n",
    "</div>"
   ]
  },
  {
   "cell_type": "markdown",
   "id": "e8af600d-3b8a-478b-8d80-54b8ad45ff4a",
   "metadata": {},
   "source": [
    "## 1.2 Environnement\n",
    "\n",
    "Nous suivrons les conventions habituelles dans l’import des packages :"
   ]
  },
  {
   "cell_type": "code",
   "execution_count": 8,
   "id": "f92e9df3",
   "metadata": {},
   "outputs": [],
   "source": [
    "import numpy as np\n",
    "import pandas as pd\n",
    "import matplotlib.pyplot as plt\n"
   ]
  },
  {
   "cell_type": "markdown",
   "id": "674e60d7-1efe-48e0-a9eb-6fc6c360ee18",
   "metadata": {},
   "source": [
    "Pour obtenir des résultats reproductibles, on peut fixer la racine du générateur\n",
    "pseudo-aléatoire."
   ]
  },
  {
   "cell_type": "code",
   "execution_count": 2,
   "id": "812505a8",
   "metadata": {},
   "outputs": [],
   "source": [
    "np.random.seed(123)\n"
   ]
  },
  {
   "cell_type": "markdown",
   "id": "09bf1119-dfcb-4fc5-8d4c-069e840df7a2",
   "metadata": {},
   "source": [
    "Au cours de cette démonstration des principales fonctionalités de `Pandas`, et\n",
    "lors du chapitre suivant,\n",
    "je recommande de se référer régulièrement aux ressources suivantes :\n",
    "\n",
    "-   L’[aide officielle de `Pandas`](https://pandas.pydata.org/docs/user_guide/index.html).\n",
    "    Notamment, la\n",
    "    [page de comparaison des langages](https://pandas.pydata.org/pandas-docs/stable/getting_started/comparison/index.html)\n",
    "    qui est très utile ;\n",
    "-   [Ce tutoriel](https://observablehq.com/@observablehq/data-wrangling-translations),\n",
    "    pensé certes pour les utilisateurs d’[`Observable Javascript`](https://observablehq.com),\n",
    "    mais qui offre de nombreux exemples intéressants pour les afficionados de `Pandas` ;\n",
    "-   La *cheatsheet suivante*, [issue de ce post](https://becominghuman.ai/cheat-sheets-for-ai-neural-networks-machine-learning-deep-learning-big-data-678c51b4b463)\n",
    "\n",
    "Pour rappel, afin d’exécuter les exemples de code dans un *notebook* interactif, vous pouvez utiliser les raccourcis en haut de la page pour lancer celui-ci dans votre environnement de prédilection.\n",
    "\n",
    "# 2. Logique de `Pandas`\n",
    "\n",
    "## 2.1 Anatomie d’une table `Pandas`\n",
    "\n",
    "L’objet central dans la logique `Pandas` est le `DataFrame`.\n",
    "Il s’agit d’une structure particulière de données\n",
    "à deux dimensions, structurées en alignant des lignes et colonnes.\n",
    "Contrairement à une matrice, les colonnes\n",
    "peuvent être de types différents.\n",
    "\n",
    "Un `DataFrame` est composé des éléments suivants :\n",
    "\n",
    "-   l’indice de la ligne ;\n",
    "-   le nom de la colonne ;\n",
    "-   la valeur de la donnée ;\n",
    "\n",
    "<figure>\n",
    "<img src=\"https://minio.lab.sspcloud.fr/lgaliana/python-ENSAE/inputs/merge_pandas/pandasDF.png\" alt=\"Structuration d’un DataFrame Pandas, empruntée à https://medium.com/epfl-extension-school/selecting-data-from-a-pandas-dataframe-53917dc39953\" />\n",
    "<figcaption aria-hidden=\"true\">Structuration d’un <em>DataFrame</em> <code>Pandas</code>,\n",
    "empruntée à <a href=\"https://medium.com/epfl-extension-school/selecting-data-from-a-pandas-dataframe-53917dc39953\" class=\"uri\">https://medium.com/epfl-extension-school/selecting-data-from-a-pandas-dataframe-53917dc39953</a></figcaption>\n",
    "</figure>\n",
    "\n",
    "## 2.2 Avant le `DataFrame`, la `Serie`\n",
    "\n",
    "En fait, un *DataFrame* est une collection d’objets appelés `pandas.Series`.\n",
    "Ces `Series` sont des objets d’une dimension qui sont des extensions des\n",
    "array-unidimensionnels `Numpy`[1]. En particulier, pour faciliter le traitement\n",
    "de données catégorielles ou temporelles, des types de variables\n",
    "supplémentaires sont disponibles dans `Pandas` par rapport à\n",
    "`Numpy` (`categorical`, `datetime64` et `timedelta64`). Ces\n",
    "types sont associés à des méthodes optimisées pour faciliter le traitement\n",
    "de ces données.\n",
    "\n",
    "Il existe plusieurs types possibles pour un `pandas.Series`, extension des types de données de base en `Python` qui détermineront ensuite le comportement de cette variable. En effet, de nombreuses opérations n’ont pas le même sens selon qu’on a une valeur numérique ou non.\n",
    "\n",
    "Les types les plus simples (`int` ou `float`) correspondent aux valeurs numériques:\n",
    "\n",
    "[1] L’objectif originel de `Pandas` est de fournir une librairie haut-niveau vers des couches basses plus abstraites que sont les *array* `Numpy`. `Pandas` est progressivement en train de changer ces couches basses pour privilégier `Arrow` à `Numpy`\n",
    "sans déstabiliser les commandes haut-niveau auxquelles les utilisateurs de `Pandas` sont habitués. Ce changement s’explique par le fait qu’`Arrow`, une librairie bas niveau de calcul, est plus puissante et plus flexible que `Numpy`. Cette dernière, par exemple, propose des types textuels limités là où `Arrow` offre une plus grande liberté."
   ]
  },
  {
   "cell_type": "code",
   "execution_count": 9,
   "id": "cc1c2acd",
   "metadata": {},
   "outputs": [
    {
     "data": {
      "text/plain": [
       "0     3\n",
       "1     7\n",
       "2    12\n",
       "dtype: int64"
      ]
     },
     "execution_count": 9,
     "metadata": {},
     "output_type": "execute_result"
    }
   ],
   "source": [
    "poids = pd.Series([3, 7, 12])\n",
    "poids"
   ]
  },
  {
   "cell_type": "markdown",
   "id": "057870d8-d6f6-44cc-a9f4-92433fc6c450",
   "metadata": {},
   "source": [
    "<div class=\"alert alert-danger\" role=\"alert\" style=\"color: rgba(0,0,0,.8); background-color: white; margin-top: 1em; margin-bottom: 1em; margin:1.5625emauto; padding:0 .6rem .8rem!important;overflow:hidden; page-break-inside:avoid; border-radius:.25rem; box-shadow:0 .2rem .5rem rgba(0,0,0,.05),0 0 .05rem rgba(0,0,0,.1); transition:color .25s,background-color .25s,border-color .25s ; border-right: 1px solid #dee2e6 ; border-top: 1px solid #dee2e6 ; border-bottom: 1px solid #dee2e6 ; border-left: .2rem solid #ff0039;\">\n",
    "<h3 class=\"alert-heading\"><i class=\"fa fa-exclamation-triangle\"></i> Le piège des valeurs manquantes</h3>\n",
    "\n",
    "De manière générale, si `Pandas` détecte exclusivement des valeurs entières dans une variable, il utilisera le type `int` pour optimiser la mémoire. Ce choix fait sens. Il a néanmoins un inconvénient: `Numpy`, et donc par extension `Pandas`, ne sait se représenter des valeurs manquantes pour le type `int` (plus d’éléments sur les valeurs manquantes ci-dessous).\n",
    "\n",
    "En attendant le changement de couche basse en faveur d’`Arrow`, qui lui sait gérer les valeurs manquantes dans les `int`, la méthode à mettre en oeuvre est de convertir au type `float` si la variable sera amenée à avoir des valeurs manquantes, ce qui est assez simple:\n",
    "\n",
    "``` python\n",
    "x.astype(double)\n",
    "```\n",
    "\n",
    "</div>"
   ]
  },
  {
   "cell_type": "markdown",
   "id": "4b54ada0-4d2d-4a13-93e7-1b1bcc7a4705",
   "metadata": {},
   "source": [
    "Pour des données textuelles, c’est tout aussi simple:"
   ]
  },
  {
   "cell_type": "code",
   "execution_count": 10,
   "id": "172ade2f",
   "metadata": {},
   "outputs": [
    {
     "data": {
      "text/plain": [
       "0     chat\n",
       "1    chien\n",
       "2    koala\n",
       "dtype: object"
      ]
     },
     "execution_count": 10,
     "metadata": {},
     "output_type": "execute_result"
    }
   ],
   "source": [
    "animal = pd.Series([\"chat\", \"chien\", \"koala\"])\n",
    "animal"
   ]
  },
  {
   "cell_type": "markdown",
   "id": "e7f9cff1-635d-4aea-b317-934c9ef91929",
   "metadata": {},
   "source": [
    "Le type `object` correspond est une voiture-balais pour les types de données exclusivement textuelles (type `str`) ou mélangeant données textuelles et numériques (type `mixed`). Historiquement, c’était un type intermédiaire entre le `factor` et le `character` de `R`. Cependant, depuis quelques temps, il existe un type équivalent au `factor` de `R` dans `Pandas` pour\n",
    "les variables dont le nombre de valeurs\n",
    "est une liste finie et relativement courte, le type `category`. Le type `object` pouvant provoquer des erreurs inattendues par sa nature mixte, il est recommandé, lorsqu’on désire se concentrer sur une variable, de faire un choix sur la nature de celle-ci et de la convertir:"
   ]
  },
  {
   "cell_type": "code",
   "execution_count": 5,
   "id": "43699a59",
   "metadata": {},
   "outputs": [
    {
     "data": {
      "text/plain": [
       "0     chat\n",
       "1    chien\n",
       "2    koala\n",
       "dtype: object"
      ]
     },
     "metadata": {},
     "output_type": "display_data"
    }
   ],
   "source": []
  },
  {
   "cell_type": "code",
   "execution_count": 1,
   "id": "e94ce6a8-b77f-4c5a-be64-2fc90f1a1b57",
   "metadata": {},
   "outputs": [
    {
     "name": "stdout",
     "output_type": "stream",
     "text": [
      "       Nom   Age\n",
      "0    Alice  25.0\n",
      "1      Bob  30.0\n",
      "2  Charlie   NaN\n",
      "3    David  45.0\n"
     ]
    }
   ],
   "source": [
    "import pandas as pd\n",
    "\n",
    "data = {'Nom': ['Alice', 'Bob', 'Charlie', 'David'],\n",
    "        'Age': [25, 30, None, 45]}  # La valeur manquante est représentée par None\n",
    "\n",
    "df = pd.DataFrame(data)\n",
    "print(df)"
   ]
  },
  {
   "cell_type": "code",
   "execution_count": 5,
   "id": "0ea22511-e5f0-4eef-aac7-960832caee03",
   "metadata": {},
   "outputs": [
    {
     "name": "stdout",
     "output_type": "stream",
     "text": [
      "Nom     object\n",
      "Age    float64\n",
      "dtype: object\n"
     ]
    }
   ],
   "source": [
    "print(df.dtypes)"
   ]
  },
  {
   "cell_type": "markdown",
   "id": "7e8b7511-07e6-4b46-8c4d-cf95177e8767",
   "metadata": {},
   "source": [
    "1.  Pour convertir en `category` (le choix qui fait sens ici)\n",
    "2.  Pour convertir en `str` (si on désire faire des opérations textuelles ultérieures)\n",
    "\n",
    "Il faut bien examiner les types de ses objets `Pandas` et les convertir s’ils ne font pas sens ; `Pandas` fait certes des choix optimisés mais il est parfois nécessaire de les corriger car `Pandas` ne connaît pas vos usages ultérieurs des données. C’est l’une des opérations à faire lors\n",
    "du *feature engineering*, ensemble des étapes de préparation des données pour un usage ultérieur.\n",
    "\n",
    "# 3. De la `Serie` au `DataFrame`\n",
    "\n",
    "Nous avons crée deux séries indépendantes, `animal`\n",
    "et `poids` qui sont pourtant reliées. Dans le monde matriciel, cela correspondrait à passer du vecteur à la matrice. Dans le monde de `Pandas`, cela veut dire passer de la `Serie` au `DataFrame`.\n",
    "\n",
    "Cela se fait naturellement avec `Pandas`:"
   ]
  },
  {
   "cell_type": "code",
   "execution_count": 11,
   "id": "ebe765d6",
   "metadata": {},
   "outputs": [
    {
     "data": {
      "text/html": [
       "<div>\n",
       "<style scoped>\n",
       "    .dataframe tbody tr th:only-of-type {\n",
       "        vertical-align: middle;\n",
       "    }\n",
       "\n",
       "    .dataframe tbody tr th {\n",
       "        vertical-align: top;\n",
       "    }\n",
       "\n",
       "    .dataframe thead th {\n",
       "        text-align: right;\n",
       "    }\n",
       "</style>\n",
       "<table border=\"1\" class=\"dataframe\">\n",
       "  <thead>\n",
       "    <tr style=\"text-align: right;\">\n",
       "      <th></th>\n",
       "      <th>animal</th>\n",
       "      <th>poids</th>\n",
       "    </tr>\n",
       "  </thead>\n",
       "  <tbody>\n",
       "    <tr>\n",
       "      <th>0</th>\n",
       "      <td>chat</td>\n",
       "      <td>3</td>\n",
       "    </tr>\n",
       "    <tr>\n",
       "      <th>1</th>\n",
       "      <td>chien</td>\n",
       "      <td>7</td>\n",
       "    </tr>\n",
       "    <tr>\n",
       "      <th>2</th>\n",
       "      <td>koala</td>\n",
       "      <td>12</td>\n",
       "    </tr>\n",
       "  </tbody>\n",
       "</table>\n",
       "</div>"
      ],
      "text/plain": [
       "  animal  poids\n",
       "0   chat      3\n",
       "1  chien      7\n",
       "2  koala     12"
      ]
     },
     "execution_count": 11,
     "metadata": {},
     "output_type": "execute_result"
    }
   ],
   "source": [
    "animaux = pd.DataFrame(zip(animal, poids), columns=[\"animal\", \"poids\"])\n",
    "animaux"
   ]
  },
  {
   "cell_type": "markdown",
   "id": "673ff834-9859-4aaa-b0e6-b036eca49912",
   "metadata": {},
   "source": [
    "## 3.1 L’indexation\n",
    "\n",
    "La différence essentielle entre une `Series` et un objet `Numpy` est l’indexation.\n",
    "Dans `Numpy`,\n",
    "l’indexation est implicite ; elle permet d’accéder à une donnée (celle à\n",
    "l’index situé à la position *i*).\n",
    "Avec une `Series`, on peut bien sûr utiliser un indice de position mais on peut\n",
    "surtout faire appel à des indices plus explicites.\n",
    "\n",
    "Ceci permet d’accéder à la donnée de manière plus naturelle, en utilisant les noms de colonne par exemple:"
   ]
  },
  {
   "cell_type": "code",
   "execution_count": 12,
   "id": "88dfd7e1",
   "metadata": {},
   "outputs": [
    {
     "data": {
      "text/plain": [
       "0     3\n",
       "1     7\n",
       "2    12\n",
       "Name: poids, dtype: int64"
      ]
     },
     "execution_count": 12,
     "metadata": {},
     "output_type": "execute_result"
    }
   ],
   "source": [
    "animaux[\"poids\"]"
   ]
  },
  {
   "cell_type": "markdown",
   "id": "b9378100-b709-4f07-99c9-880adf14e86d",
   "metadata": {},
   "source": [
    "L’existence d’indice rend le *subsetting*, c’est-à-dire\n",
    "la sélection de lignes ou de colonnes, particulièrement aisé. Les *DataFrames* pendant présentent deux indices: ceux des lignes et ceux des colonnes. On pourra faire des sélections sur ces deux dimensions.\n",
    "En anticipant sur les exercices\n",
    "ultérieurs, on peut voir que cela va nous faciliter la sélection de ligne:"
   ]
  },
  {
   "cell_type": "code",
   "execution_count": 14,
   "id": "a66f5ec4",
   "metadata": {},
   "outputs": [
    {
     "data": {
      "text/plain": [
       "0    3\n",
       "Name: poids, dtype: int64"
      ]
     },
     "execution_count": 14,
     "metadata": {},
     "output_type": "execute_result"
    }
   ],
   "source": [
    "animaux.loc[animaux[\"animal\"] == \"chat\", \"poids\"]"
   ]
  },
  {
   "cell_type": "markdown",
   "id": "2989bbe8-9c10-4d8b-9486-48d7a2b6df40",
   "metadata": {},
   "source": [
    "Cette instruction est équivalente à la commande `SQL`:\n",
    "\n",
    "``` sql\n",
    "SELECT poids FROM animaux WHERE animal == \"chat\"\n",
    "```\n",
    "\n",
    "Si on revient sur notre jeu de données `animaux`,\n",
    "on peut voir sur la gauche l’affichage du numéro de la ligne:"
   ]
  },
  {
   "cell_type": "code",
   "execution_count": 15,
   "id": "0b17e757",
   "metadata": {},
   "outputs": [
    {
     "data": {
      "text/html": [
       "<div>\n",
       "<style scoped>\n",
       "    .dataframe tbody tr th:only-of-type {\n",
       "        vertical-align: middle;\n",
       "    }\n",
       "\n",
       "    .dataframe tbody tr th {\n",
       "        vertical-align: top;\n",
       "    }\n",
       "\n",
       "    .dataframe thead th {\n",
       "        text-align: right;\n",
       "    }\n",
       "</style>\n",
       "<table border=\"1\" class=\"dataframe\">\n",
       "  <thead>\n",
       "    <tr style=\"text-align: right;\">\n",
       "      <th></th>\n",
       "      <th>animal</th>\n",
       "      <th>poids</th>\n",
       "    </tr>\n",
       "  </thead>\n",
       "  <tbody>\n",
       "    <tr>\n",
       "      <th>0</th>\n",
       "      <td>chat</td>\n",
       "      <td>3</td>\n",
       "    </tr>\n",
       "    <tr>\n",
       "      <th>1</th>\n",
       "      <td>chien</td>\n",
       "      <td>7</td>\n",
       "    </tr>\n",
       "    <tr>\n",
       "      <th>2</th>\n",
       "      <td>koala</td>\n",
       "      <td>12</td>\n",
       "    </tr>\n",
       "  </tbody>\n",
       "</table>\n",
       "</div>"
      ],
      "text/plain": [
       "  animal  poids\n",
       "0   chat      3\n",
       "1  chien      7\n",
       "2  koala     12"
      ]
     },
     "execution_count": 15,
     "metadata": {},
     "output_type": "execute_result"
    }
   ],
   "source": [
    "animaux"
   ]
  },
  {
   "cell_type": "markdown",
   "id": "d9f19826-1c9c-4fa4-97bd-2011791e40fe",
   "metadata": {},
   "source": [
    "Il s’agit de l’indice par défaut pour la dimension ligne car nous n’en n’avons pas configuré un. Ce n’est pas obligatoire, il est tout à fait possible d’avoir un indice correspondant à une variable d’intérêt (nous découvrirons cela lorsque nous explorerons `groupby` dans le prochain chapitre). Cependant, cela peut être piégeux et il est recommandé que cela ne soit que transitoire, d’où l’intérêt de faire régulièrement des `reset_index`.\n",
    "\n",
    "## 3.2 Le concept de *tidy data*\n",
    "\n",
    "Le concept de ***tidy*** data, popularisé par Hadley Wickham via ses packages `R` (voir Wickham, Çetinkaya-Rundel, and Grolemund (2023)),\n",
    "est parfaitement pertinent pour décrire la structure d’un *DataFrame* `Pandas`.\n",
    "Les trois règles des données *tidy* sont les suivantes :\n",
    "\n",
    "-   Chaque **variable** possède sa propre colonne ;\n",
    "-   Chaque **observation** possède sa propre ligne ;\n",
    "-   Une **valeur**, matérialisant une observation d’une variable,\n",
    "    se trouve sur une unique cellule.\n",
    "\n",
    "<figure>\n",
    "<img src=\"https://d33wubrfki0l68.cloudfront.net/6f1ddb544fc5c69a2478e444ab8112fb0eea23f8/91adc/images/tidy-1.png\" alt=\"Illustration du concept de tidy data (emprunté à H. Wickham)\" />\n",
    "<figcaption aria-hidden=\"true\">Illustration du concept de <em>tidy data</em> (emprunté à H. Wickham)</figcaption>\n",
    "</figure>\n",
    "\n",
    "Ces principes peuvent vous apparaître de bon sens mais vous découvrirez que de nombreux formats de données ne correspondent pas à ce principe. Par exemple, des tableurs Excel proposent régulièrement des valeurs à cheval sur plusieurs colonnes ou plusieurs lignes fusionnées. Restructurer cette donnée selon le principe des *tidy data* sera un enjeu pour être en mesure d’effectuer des traitements sur celle-ci.\n",
    "\n",
    "# 4. Importer des données avec `Pandas`\n",
    "\n",
    "S’il fallait créer à la main tous ses *DataFrames*\n",
    "à partir de vecteurs, `Pandas` ne serait pas pratique. `Pandas` propose de nombreuses fonctions pour lire\n",
    "des données stockées dans des formats différents.\n",
    "\n",
    "Les données les plus simples à lire sont les données tabulaires stockées dans un format adéquat. Les deux principaux formats à connaître sont le `CSV` et le format `Parquet`. Le premier présente l’avantage de la simplicité - il est universel, connu de tous et est lisible par n’importe quel éditeur de texte. Le second gagne en popularité dans l’écosystème de la donnée, car il règle certaines limites du CSV (stockage optimisé, types des variables prédéfénis…) mais présente l’inconvénient de ne pas être lisible sans un outil adéquat (qui heureusement sont de plus en plus présents dans les éditeurs de code standard comme `VSCode`). Pour en savoir plus sur la différence entre `CSV` et `Parquet`, se reporter aux [chapitre d’approfondissement](../../content/modern-ds/s3.qmd) sur le sujet.\n",
    "\n",
    "Les donées stockées dans les autres formats textes dérivés du `CSV` (`.txt`, `.tsv`…) ou les formats type `JSON` sont lisibles avec `Pandas` mais il faut parfois itérer pour trouver les bons paramètres de lecture. Nous découvrirons dans d’autres chapitres que d’autres formats de données liés à des structures de données différentes sont tout aussi lisibles avec `Python`.\n",
    "\n",
    "Les formats plats (`.csv`, `.txt`…) et le format `Parquet` sont simples à utiliser avec `Pandas` parce que d’une part ils ne sont pas propriétaires et d’autre part ils stockent la donnée sous\n",
    "une forme *tidy*. Les données issues de tableurs, `Excel` ou `LibreOffice`, sont plus ou moins compliquées\n",
    "à importer selon qu’elles suivent ce schéma ou non.\n",
    "Cela vient du fait que ces outils sont utilisés à tord et à travers. Alors que dans le monde de la *data science* ceux-ci devraient servir principalement à diffuser des tableaux finaux pour du *reporting*, ils servent souvent à diffuser une donnée brute qui pourrait l’être par des canaux plus adaptés.\n",
    "L’une des principales difficultés liées aux tableurs vient du fait que les données sont généralement associées à de la documentation dans le même onglet - par exemple le tableur comporte quelques lignes décrivant les sources avant le tableau - ce qui nécessite de l’intelligence humaine pour assister `Pandas` lors de la phase d’import. Celle-ci sera toujours possible mais lorsqu’il existe une alternative sous forme de fichier plat, il n’y a pas d’hésitation à avoir.\n",
    "\n",
    "## 4.1 Lire des données depuis un chemin local\n",
    "\n",
    "Cet exercice vise à présenter l’intérêt d’utiliser un chemin relatif\n",
    "plutôt qu’un chemin absolu pour favoriser la reproductibilité du code. Nous préconiserons néanmoins par la suite de privilégier directement la lecture depuis internet lorsqu’elle est possible et n’implique pas le téléchargement récurrent d’un fichier volumineux.\n",
    "\n",
    "Pour préparer cet exercice, le code suivant permettra de\n",
    "télécharger des données qu’on va écrire en local"
   ]
  },
  {
   "cell_type": "code",
   "execution_count": 16,
   "id": "1fb6f437",
   "metadata": {},
   "outputs": [],
   "source": [
    "import requests\n",
    "\n",
    "url = \"https://www.insee.fr/fr/statistiques/fichier/6800675/v_commune_2023.csv\"\n",
    "response = requests.get(url)\n",
    "\n",
    "# Assurez-vous que la requête a réussi\n",
    "if response.status_code == 200:\n",
    "    with open(\"cog_2023.csv\", \"wb\") as file:\n",
    "        file.write(response.content)\n",
    "else:\n",
    "    print(\"Échec du téléchargement du fichier. Statut HTTP :\", response.status_code)\n"
   ]
  },
  {
   "cell_type": "markdown",
   "id": "f4a3ef30-8226-4713-a26d-c43b5d57d2c5",
   "metadata": {},
   "source": [
    "<div class=\"alert alert-success\" role=\"alert\" style=\"color: rgba(0,0,0,.8); background-color: white; margin-top: 1em; margin-bottom: 1em; margin:1.5625emauto; padding:0 .6rem .8rem!important;overflow:hidden; page-break-inside:avoid; border-radius:.25rem; box-shadow:0 .2rem .5rem rgba(0,0,0,.05),0 0 .05rem rgba(0,0,0,.1); transition:color .25s,background-color .25s,border-color .25s ; border-right: 1px solid #dee2e6 ; border-top: 1px solid #dee2e6 ; border-bottom: 1px solid #dee2e6 ; border-left:.2rem solid #3fb618;\">\n",
    "<h3 class=\"alert-heading\"><i class=\"fa fa-pencil\"></i> Exercice préliminaire: Importer un CSV (optionnel)</h3>\n",
    "\n",
    "1.  Utiliser le code ci-dessus ☝️ pour télécharger les données. Utiliser `Pandas` pour lire le fichier téléchargé.\n",
    "2.  Chercher où les données ont été écrites. Observer la structure de ce dossier.\n",
    "3.  Créer un dossier depuis l’explorateur de fichiers (à gauche dans `Jupyter` ou `VSCode`). Déplacer le CSV et le *notebook*. Redémarrer le kernel et adaptez votre code si besoin. Refaire cette manipulation plusieurs fois avec des dossiers différents. Quel peut être le problème rencontré ?\n",
    "\n",
    "</div>"
   ]
  },
  {
   "cell_type": "code",
   "execution_count": 11,
   "id": "a7ff94d3",
   "metadata": {},
   "outputs": [
    {
     "data": {
      "text/html": [
       "\n",
       "</div>"
      ]
     },
     "metadata": {},
     "output_type": "display_data"
    }
   ],
   "source": []
  },
  {
   "cell_type": "markdown",
   "id": "406a2e57-0cb4-46f5-8c15-bc660f899657",
   "metadata": {},
   "source": [
    "Le principal problème de la lecture depuis des\n",
    "fichiers stockés en local est le risque de\n",
    "se rendre adhérant à un système de fichier\n",
    "qui n’est pas forcément partagé. Il vaut mieux,\n",
    "lorsque c’est possible, directement lire la donnée\n",
    "avec un lien `HTTPS`, ce que `Pandas` sait faire.\n",
    "De plus, lorsqu’on travaille sur de l’*open data* cela assure qu’on utilise la dernière donnée\n",
    "disponible et non une duplication en local qui peut ne pas être à jour.\n",
    "\n",
    "## 4.2 Lecture depuis un CSV disponible sur internet\n",
    "\n",
    "L’URL d’accès aux données peut être conservé dans une variable *ad hoc* :"
   ]
  },
  {
   "cell_type": "code",
   "execution_count": 17,
   "id": "c5f53221",
   "metadata": {},
   "outputs": [],
   "source": [
    "url = \"https://koumoul.com/s/data-fair/api/v1/datasets/igt-pouvoir-de-rechauffement-global/convert\"\n"
   ]
  },
  {
   "cell_type": "markdown",
   "id": "538db30d-beb1-4b82-8856-91ad24f81006",
   "metadata": {},
   "source": [
    "L’objectif du prochain exercice est de se familiariser à l’import et l’affichage de données\n",
    "avec `Pandas` et à l’affichage de quelques observations."
   ]
  },
  {
   "cell_type": "markdown",
   "id": "6248dbdd-1039-4880-b832-a2b2561b36cc",
   "metadata": {},
   "source": [
    "<div class=\"alert alert-success\" role=\"alert\" style=\"color: rgba(0,0,0,.8); background-color: white; margin-top: 1em; margin-bottom: 1em; margin:1.5625emauto; padding:0 .6rem .8rem!important;overflow:hidden; page-break-inside:avoid; border-radius:.25rem; box-shadow:0 .2rem .5rem rgba(0,0,0,.05),0 0 .05rem rgba(0,0,0,.1); transition:color .25s,background-color .25s,border-color .25s ; border-right: 1px solid #dee2e6 ; border-top: 1px solid #dee2e6 ; border-bottom: 1px solid #dee2e6 ; border-left:.2rem solid #3fb618;\">\n",
    "<h3 class=\"alert-heading\"><i class=\"fa fa-pencil\"></i> Exercice 1: Importer un CSV et explorer la structure de données</h3>\n",
    "\n",
    "1.  Importer les données de l’Ademe à l’aide du package `Pandas` et de la commande consacrée pour l’import de csv. Nommer le `DataFrame` obtenu `emissions`[1].\n",
    "2.  Utiliser les méthodes adéquates afin d’afficher pour les 10 premières valeurs, les 15 dernières et un échantillon aléatoire de 10 valeurs grâce aux méthodes adéquates du *package* `Pandas`.\n",
    "3.  Tirer 5 pourcents de l’échantillon sans remise.\n",
    "4.  Ne conserver que les 10 premières lignes et tirer aléatoirement dans celles-ci pour obtenir un DataFrame de 100 données.\n",
    "5.  Faire 100 tirages à partir des 6 premières lignes avec une probabilité de 1/2 pour la première observation et une probabilité uniforme pour les autres.\n",
    "\n",
    "<details>\n",
    "\n",
    "<summary>\n",
    "\n",
    "En cas de blocage à la question 1\n",
    "\n",
    "</summary>\n",
    "\n",
    "Lire la documentation de `read_csv` (très bien faite) ou chercher des exemples\n",
    "en ligne pour découvrir cette fonction.\n",
    "\n",
    "</details>\n",
    "\n",
    "</div>\n",
    "\n",
    "[1] Par manque d’imagination, on est souvent tenté d’appeler notre\n",
    "*dataframe* principal `df` ou `data`. C’est souvent une mauvaise idée puisque\n",
    "ce nom n’est pas très informatif quand on relit le code quelques semaines\n",
    "plus tard. L’autodocumentation, approche qui consiste à avoir un code\n",
    "qui se comprend de lui-même, est une bonne pratique et il est donc recommandé\n",
    "de donner un nom simple mais efficace pour connaître la nature du *dataset* en question."
   ]
  },
  {
   "cell_type": "code",
   "execution_count": null,
   "id": "4443b0d2-4421-401e-a5e9-5745a5305fcc",
   "metadata": {},
   "outputs": [],
   "source": [
    "# Importer les données depuis l'URL et nommer le DataFrame \"emissions\"\n",
    "url = \"https://koumoul.com/s/data-fair/api/v1/datasets/igt-pouvoir-de-rechauffement-global/convert\"\n",
    "emissions = pd.read_csv(url)"
   ]
  },
  {
   "cell_type": "code",
   "execution_count": 19,
   "id": "43b255e2-ba12-4ca5-afee-93ba9f177266",
   "metadata": {},
   "outputs": [
    {
     "name": "stdout",
     "output_type": "stream",
     "text": [
      "  INSEE commune                  Commune  Agriculture  Autres transports  \\\n",
      "0         01001  L'ABERGEMENT-CLEMENCIAT  3711.425991                NaN   \n",
      "1         01002    L'ABERGEMENT-DE-VAREY   475.330205                NaN   \n",
      "2         01004        AMBERIEU-EN-BUGEY   499.043526         212.577908   \n",
      "3         01005      AMBERIEUX-EN-DOMBES  1859.160954                NaN   \n",
      "4         01006                  AMBLEON   448.966808                NaN   \n",
      "5         01007                 AMBRONAY  4390.996698         132.968268   \n",
      "6         01008                 AMBUTRIX   489.648726          60.233517   \n",
      "7         01009         ANDERT-ET-CONDON   676.468367                NaN   \n",
      "8         01010                ANGLEFORT  1070.411510         143.815664   \n",
      "9         01011                 APREMONT  2010.790441                NaN   \n",
      "\n",
      "   Autres transports international  CO2 biomasse hors-total      Déchets  \\\n",
      "0                              NaN               432.751835   101.430476   \n",
      "1                              NaN               140.741660   140.675439   \n",
      "2                              NaN             10313.446515  5314.314445   \n",
      "3                              NaN              1144.429311   216.217508   \n",
      "4                              NaN                77.033834    48.401549   \n",
      "5                              NaN              3067.245459  6144.186081   \n",
      "6                              NaN               558.055709    98.388885   \n",
      "7                              NaN               207.181968   149.767083   \n",
      "8                              NaN              1286.621447   146.525382   \n",
      "9                              NaN               249.086914    52.103791   \n",
      "\n",
      "      Energie  Industrie hors-énergie   Résidentiel       Routier  \\\n",
      "0    2.354558                6.911213    309.358195    793.156501   \n",
      "1    2.354558                6.911213    104.866444    348.997893   \n",
      "2  998.332482             2930.354461  16616.822534  15642.420313   \n",
      "3   94.182310              276.448534    663.683146   1756.341319   \n",
      "4         NaN                     NaN     43.714019    398.786800   \n",
      "5  122.437003              359.383094   1898.638273  22481.123575   \n",
      "6    2.354558                6.911213    495.393592   3616.168396   \n",
      "7    2.354558                6.911213    141.533662    696.956038   \n",
      "8  341.410872           175185.892467    448.518801   3199.808360   \n",
      "9    2.354558                6.911213    151.844891    686.153720   \n",
      "\n",
      "      Tertiaire  \n",
      "0    367.036172  \n",
      "1    112.934207  \n",
      "2  10732.376934  \n",
      "3    782.404357  \n",
      "4     51.681756  \n",
      "5   2789.133106  \n",
      "6    356.029873  \n",
      "7    161.266219  \n",
      "8   1206.147643  \n",
      "9    188.542701  \n"
     ]
    }
   ],
   "source": [
    "# Afficher les 10 premières lignes\n",
    "print(emissions.head(10))"
   ]
  },
  {
   "cell_type": "code",
   "execution_count": 20,
   "id": "ddb7d0fe-8f19-40e5-9620-eafeb6052bd4",
   "metadata": {},
   "outputs": [
    {
     "name": "stdout",
     "output_type": "stream",
     "text": [
      "      INSEE commune              Commune  Agriculture  Autres transports  \\\n",
      "35783         95628           VALMONDOIS   646.421867           9.055189   \n",
      "35784         95633          VAUDHERLAND    48.361025                NaN   \n",
      "35785         95637              VAUREAL   203.969473          93.811651   \n",
      "35786         95641               VEMARS  1510.886844         146.089307   \n",
      "35787         95651             VETHEUIL   125.928390         175.096168   \n",
      "35788         95652              VIARMES   252.094735          55.168176   \n",
      "35789         95656    VIENNE-EN-ARTHIES   324.827105                NaN   \n",
      "35790         95658                VIGNY  1289.190261                NaN   \n",
      "35791         95660  VILLAINES-SOUS-BOIS   447.132894          18.996282   \n",
      "35792         95675             VILLERON  1335.123315           4.975886   \n",
      "35793         95676   VILLERS-EN-ARTHIES  1628.065094                NaN   \n",
      "35794         95678        VILLIERS-ADAM   698.630772                NaN   \n",
      "35795         95680      VILLIERS-LE-BEL   107.564967                NaN   \n",
      "35796         95682      VILLIERS-LE-SEC  1090.890170                NaN   \n",
      "35797         95690  WY-DIT-JOLI-VILLAGE  1495.103542                NaN   \n",
      "\n",
      "       Autres transports international  CO2 biomasse hors-total      Déchets  \\\n",
      "35783                         0.201508               633.754921   158.691749   \n",
      "35784                              NaN                47.061403    10.314964   \n",
      "35785                         5.412508              2876.820106   129.738126   \n",
      "35786                              NaN              2382.550523    19.173651   \n",
      "35787                        10.102258               290.066886   114.522546   \n",
      "35788                              NaN              1278.247866    43.526914   \n",
      "35789                              NaN                98.346155    57.129030   \n",
      "35790                              NaN              1616.838995  2297.572718   \n",
      "35791                              NaN               207.294216    92.966916   \n",
      "35792                              NaN              1625.523404   104.075339   \n",
      "35793                              NaN               165.045396    65.063617   \n",
      "35794                              NaN              1331.126598   111.480954   \n",
      "35795                              NaN              8367.174532   225.622903   \n",
      "35796                              NaN               326.748418   108.969749   \n",
      "35797                              NaN               125.236417    97.728612   \n",
      "\n",
      "          Energie  Industrie hors-énergie   Résidentiel       Routier  \\\n",
      "35783  136.564349              400.850374   2272.901317    589.164544   \n",
      "35784    2.354558                6.911213     34.490233    439.279632   \n",
      "35785   63.573059              186.602760  13963.143585   4982.982966   \n",
      "35786  251.937678              739.499829   2791.215196  17783.179831   \n",
      "35787   16.481904               48.378493   1439.077120   1472.779256   \n",
      "35788   40.027482              117.490627   6546.179324   5705.777606   \n",
      "35789    2.354558                6.911213    158.726900    305.819555   \n",
      "35790  313.156180              919.191376   1424.373138   8539.961119   \n",
      "35791   11.772789               34.556067   1023.037832    912.992023   \n",
      "35792  320.219853              939.925016    617.177184   7740.572805   \n",
      "35793   11.772789               34.556067    176.098160    309.627908   \n",
      "35794    2.354558                6.911213   1395.529811  18759.370071   \n",
      "35795  534.484607             1568.845431  22613.830247  12217.122402   \n",
      "35796    2.354558                6.911213     67.235487   4663.232127   \n",
      "35797    4.709115               13.822427    117.450851    504.400972   \n",
      "\n",
      "          Tertiaire  \n",
      "35783    574.241730  \n",
      "35784    199.435133  \n",
      "35785   7515.388640  \n",
      "35786   2654.384495  \n",
      "35787    414.411115  \n",
      "35788   2521.399729  \n",
      "35789    206.727023  \n",
      "35790    516.817557  \n",
      "35791    336.409947  \n",
      "35792    725.467969  \n",
      "35793    235.439109  \n",
      "35794    403.404815  \n",
      "35795  13849.512001  \n",
      "35796     85.657725  \n",
      "35797    147.867245  \n"
     ]
    }
   ],
   "source": [
    "# Afficher les 15 dernières lignes\n",
    "print(emissions.tail(15))"
   ]
  },
  {
   "cell_type": "code",
   "execution_count": 21,
   "id": "24fe79d4-4d53-44d0-a187-b240146cd9b7",
   "metadata": {},
   "outputs": [
    {
     "name": "stdout",
     "output_type": "stream",
     "text": [
      "      INSEE commune               Commune   Agriculture  Autres transports  \\\n",
      "30769         76695  TOCQUEVILLE-LES-MURS   2012.135504                NaN   \n",
      "35159         89450           VILLEBOUGIS   1902.403809                NaN   \n",
      "4644          14203  CRICQUEVILLE-EN-AUGE   2954.418930                NaN   \n",
      "18197         49246       LES PONTS-DE-CE    320.584457                NaN   \n",
      "16719         44052                DONGES  13170.678133         894.338871   \n",
      "9877          27302      LE BOSC DU THEIL   2668.771217                NaN   \n",
      "18030         48194                VIALAS   2278.240013                NaN   \n",
      "16623         43213     SAINT-PAL-DE-MONS   3277.599516                NaN   \n",
      "1515          03304                VENDAT   2924.347220         169.382720   \n",
      "6304          18088             ENNORDRES   5795.470559                NaN   \n",
      "\n",
      "       Autres transports international  CO2 biomasse hors-total     Déchets  \\\n",
      "30769                              NaN               200.052842   40.730882   \n",
      "35159                              NaN               514.840897   81.197278   \n",
      "4644                               NaN               714.540595   24.464978   \n",
      "18197                              NaN              9348.703504  100.056554   \n",
      "16719                        39.346743             12567.795474  199.873162   \n",
      "9877                               NaN               863.272506  224.483600   \n",
      "18030                              NaN               270.586748   59.112677   \n",
      "16623                              NaN              5683.395864   49.656618   \n",
      "1515                               NaN              2433.040319   18.388861   \n",
      "6304                               NaN               466.968524   85.562245   \n",
      "\n",
      "            Energie  Industrie hors-énergie   Résidentiel       Routier  \\\n",
      "30769  2.354558e+00                6.911213    118.416236    301.857013   \n",
      "35159  2.354558e+00                6.911213    307.668208    925.960666   \n",
      "4644   2.354558e+00                6.911213    120.381435   8405.296717   \n",
      "18197  8.335134e+02             2446.569526  14989.673504  35611.675023   \n",
      "16719  1.141987e+06             8493.881208   6390.071547  25585.702769   \n",
      "9877   1.648190e+01               48.378493    580.911647   1766.107122   \n",
      "18030  7.063673e+00               20.733640    350.810184    986.979035   \n",
      "16623  1.118415e+03             3282.826342   2519.213570   2449.810463   \n",
      "1515   9.418231e+00               27.644853   2270.995479   2047.086335   \n",
      "6304   2.354558e+00                6.911213    131.234839   3703.705043   \n",
      "\n",
      "          Tertiaire  \n",
      "30769    147.388711  \n",
      "35159    293.820352  \n",
      "4644      88.528933  \n",
      "18197   8650.849690  \n",
      "16719  12815.306670  \n",
      "9877     616.831325  \n",
      "18030    213.905044  \n",
      "16623   1625.402228  \n",
      "1515    1065.218409  \n",
      "6304     103.842046  \n"
     ]
    }
   ],
   "source": [
    "# Afficher un échantillon aléatoire de 10 lignes\n",
    "print(emissions.sample(10))\n",
    "\n",
    "# Tirer 5% de l'échantillon sans remise\n",
    "echantillon_sans_remise = emissions.sample(frac=0.05, replace=False)"
   ]
  },
  {
   "cell_type": "code",
   "execution_count": null,
   "id": "75abdb6c-db8c-477b-a811-b106ee593647",
   "metadata": {},
   "outputs": [],
   "source": [
    "# Ne conserver que les 10 premières lignes, puis tirer aléatoirement dans celles-ci pour obtenir un DataFrame de 100 données\n",
    "premieres_lignes = emissions.head(10)\n",
    "df_100_lignes = premieres_lignes.sample(n=100, replace=True)"
   ]
  },
  {
   "cell_type": "code",
   "execution_count": null,
   "id": "a20b77ad-e055-489c-8f6c-67e2edf7facf",
   "metadata": {},
   "outputs": [
    {
     "name": "stdout",
     "output_type": "stream",
     "text": [
      "  INSEE commune                  Commune  Agriculture  Autres transports  \\\n",
      "0         01001  L'ABERGEMENT-CLEMENCIAT  3711.425991                NaN   \n",
      "1         01002    L'ABERGEMENT-DE-VAREY   475.330205                NaN   \n",
      "2         01004        AMBERIEU-EN-BUGEY   499.043526         212.577908   \n",
      "3         01005      AMBERIEUX-EN-DOMBES  1859.160954                NaN   \n",
      "4         01006                  AMBLEON   448.966808                NaN   \n",
      "5         01007                 AMBRONAY  4390.996698         132.968268   \n",
      "6         01008                 AMBUTRIX   489.648726          60.233517   \n",
      "7         01009         ANDERT-ET-CONDON   676.468367                NaN   \n",
      "8         01010                ANGLEFORT  1070.411510         143.815664   \n",
      "9         01011                 APREMONT  2010.790441                NaN   \n",
      "\n",
      "   Autres transports international  CO2 biomasse hors-total      Déchets  \\\n",
      "0                              NaN               432.751835   101.430476   \n",
      "1                              NaN               140.741660   140.675439   \n",
      "2                              NaN             10313.446515  5314.314445   \n",
      "3                              NaN              1144.429311   216.217508   \n",
      "4                              NaN                77.033834    48.401549   \n",
      "5                              NaN              3067.245459  6144.186081   \n",
      "6                              NaN               558.055709    98.388885   \n",
      "7                              NaN               207.181968   149.767083   \n",
      "8                              NaN              1286.621447   146.525382   \n",
      "9                              NaN               249.086914    52.103791   \n",
      "\n",
      "      Energie  Industrie hors-énergie   Résidentiel       Routier  \\\n",
      "0    2.354558                6.911213    309.358195    793.156501   \n",
      "1    2.354558                6.911213    104.866444    348.997893   \n",
      "2  998.332482             2930.354461  16616.822534  15642.420313   \n",
      "3   94.182310              276.448534    663.683146   1756.341319   \n",
      "4         NaN                     NaN     43.714019    398.786800   \n",
      "5  122.437003              359.383094   1898.638273  22481.123575   \n",
      "6    2.354558                6.911213    495.393592   3616.168396   \n",
      "7    2.354558                6.911213    141.533662    696.956038   \n",
      "8  341.410872           175185.892467    448.518801   3199.808360   \n",
      "9    2.354558                6.911213    151.844891    686.153720   \n",
      "\n",
      "      Tertiaire  \n",
      "0    367.036172  \n",
      "1    112.934207  \n",
      "2  10732.376934  \n",
      "3    782.404357  \n",
      "4     51.681756  \n",
      "5   2789.133106  \n",
      "6    356.029873  \n",
      "7    161.266219  \n",
      "8   1206.147643  \n",
      "9    188.542701  \n",
      "      INSEE commune              Commune  Agriculture  Autres transports  \\\n",
      "35783         95628           VALMONDOIS   646.421867           9.055189   \n",
      "35784         95633          VAUDHERLAND    48.361025                NaN   \n",
      "35785         95637              VAUREAL   203.969473          93.811651   \n",
      "35786         95641               VEMARS  1510.886844         146.089307   \n",
      "35787         95651             VETHEUIL   125.928390         175.096168   \n",
      "35788         95652              VIARMES   252.094735          55.168176   \n",
      "35789         95656    VIENNE-EN-ARTHIES   324.827105                NaN   \n",
      "35790         95658                VIGNY  1289.190261                NaN   \n",
      "35791         95660  VILLAINES-SOUS-BOIS   447.132894          18.996282   \n",
      "35792         95675             VILLERON  1335.123315           4.975886   \n",
      "35793         95676   VILLERS-EN-ARTHIES  1628.065094                NaN   \n",
      "35794         95678        VILLIERS-ADAM   698.630772                NaN   \n",
      "35795         95680      VILLIERS-LE-BEL   107.564967                NaN   \n",
      "35796         95682      VILLIERS-LE-SEC  1090.890170                NaN   \n",
      "35797         95690  WY-DIT-JOLI-VILLAGE  1495.103542                NaN   \n",
      "\n",
      "       Autres transports international  CO2 biomasse hors-total      Déchets  \\\n",
      "35783                         0.201508               633.754921   158.691749   \n",
      "35784                              NaN                47.061403    10.314964   \n",
      "35785                         5.412508              2876.820106   129.738126   \n",
      "35786                              NaN              2382.550523    19.173651   \n",
      "35787                        10.102258               290.066886   114.522546   \n",
      "35788                              NaN              1278.247866    43.526914   \n",
      "35789                              NaN                98.346155    57.129030   \n",
      "35790                              NaN              1616.838995  2297.572718   \n",
      "35791                              NaN               207.294216    92.966916   \n",
      "35792                              NaN              1625.523404   104.075339   \n",
      "35793                              NaN               165.045396    65.063617   \n",
      "35794                              NaN              1331.126598   111.480954   \n",
      "35795                              NaN              8367.174532   225.622903   \n",
      "35796                              NaN               326.748418   108.969749   \n",
      "35797                              NaN               125.236417    97.728612   \n",
      "\n",
      "          Energie  Industrie hors-énergie   Résidentiel       Routier  \\\n",
      "35783  136.564349              400.850374   2272.901317    589.164544   \n",
      "35784    2.354558                6.911213     34.490233    439.279632   \n",
      "35785   63.573059              186.602760  13963.143585   4982.982966   \n",
      "35786  251.937678              739.499829   2791.215196  17783.179831   \n",
      "35787   16.481904               48.378493   1439.077120   1472.779256   \n",
      "35788   40.027482              117.490627   6546.179324   5705.777606   \n",
      "35789    2.354558                6.911213    158.726900    305.819555   \n",
      "35790  313.156180              919.191376   1424.373138   8539.961119   \n",
      "35791   11.772789               34.556067   1023.037832    912.992023   \n",
      "35792  320.219853              939.925016    617.177184   7740.572805   \n",
      "35793   11.772789               34.556067    176.098160    309.627908   \n",
      "35794    2.354558                6.911213   1395.529811  18759.370071   \n",
      "35795  534.484607             1568.845431  22613.830247  12217.122402   \n",
      "35796    2.354558                6.911213     67.235487   4663.232127   \n",
      "35797    4.709115               13.822427    117.450851    504.400972   \n",
      "\n",
      "          Tertiaire  \n",
      "35783    574.241730  \n",
      "35784    199.435133  \n",
      "35785   7515.388640  \n",
      "35786   2654.384495  \n",
      "35787    414.411115  \n",
      "35788   2521.399729  \n",
      "35789    206.727023  \n",
      "35790    516.817557  \n",
      "35791    336.409947  \n",
      "35792    725.467969  \n",
      "35793    235.439109  \n",
      "35794    403.404815  \n",
      "35795  13849.512001  \n",
      "35796     85.657725  \n",
      "35797    147.867245  \n",
      "      INSEE commune                        Commune  Agriculture  \\\n",
      "16504         43090            ESPLANTAS-VAZEILLES  1613.159283   \n",
      "29460         72337               SOUGE-LE-GANELON  4401.547846   \n",
      "13374         34167                        MONTELS   564.421107   \n",
      "1305          03091                         CRECHY  2098.576232   \n",
      "25276         63141                         DURTOL   424.434363   \n",
      "3122          09270           SAINT-MARTIN-D'OYDES  2041.145614   \n",
      "1103          02720                       SISSONNE  2207.471163   \n",
      "10372         28151  FESSANVILLIERS-MATTANVILLIERS  2659.742779   \n",
      "25371         63237                MONTEL-DE-GELAT  8555.321060   \n",
      "1283          03069                      CHATILLON  3349.795387   \n",
      "\n",
      "       Autres transports  Autres transports international  \\\n",
      "16504                NaN                              NaN   \n",
      "29460                NaN                              NaN   \n",
      "13374                NaN                              NaN   \n",
      "1305          106.792719                              NaN   \n",
      "25276          80.141515                              NaN   \n",
      "3122                 NaN                              NaN   \n",
      "1103                 NaN                              NaN   \n",
      "10372                NaN                              NaN   \n",
      "25371                NaN                              NaN   \n",
      "1283                 NaN                              NaN   \n",
      "\n",
      "       CO2 biomasse hors-total      Déchets      Energie  \\\n",
      "16504               194.427347    18.117308     2.354558   \n",
      "29460              4832.310059   117.299651  1476.307704   \n",
      "13374               128.645653  7225.271883     2.354558   \n",
      "1305                945.777200    83.816032   176.591831   \n",
      "25276              2306.287943   264.354006    14.127346   \n",
      "3122                209.697088    69.295963     2.354558   \n",
      "1103               1884.681154    17.116676   136.564349   \n",
      "10372               234.615284    22.745817     2.354558   \n",
      "25371               793.929654    83.875555    61.218501   \n",
      "1283                421.712653    70.618300     9.418231   \n",
      "\n",
      "       Industrie hors-énergie  Résidentiel      Routier    Tertiaire  \n",
      "16504                6.911213    86.170398   450.126773    65.559264  \n",
      "29460             4333.330771   873.022656  2279.937987   424.460345  \n",
      "13374                6.911213   103.565319   454.143320   117.719555  \n",
      "1305            154061.446374   250.514534  3574.664248   832.240761  \n",
      "25276               41.467280  3325.734811  4206.676888   956.591015  \n",
      "3122                 6.911213    96.018482   450.940170   127.290250  \n",
      "1103               400.850374  1085.386559  2405.743655  3483.854561  \n",
      "10372                6.911213    77.987352  1152.667954    82.307981  \n",
      "25371              179.691547   228.822405   908.567392   226.346949  \n",
      "1283                27.644853   165.879990   805.430714   152.652593  \n"
     ]
    },
    {
     "ename": "ValueError",
     "evalue": "Weights and axis to be sampled must be of same length",
     "output_type": "error",
     "traceback": [
      "\u001b[1;31m---------------------------------------------------------------------------\u001b[0m",
      "\u001b[1;31mValueError\u001b[0m                                Traceback (most recent call last)",
      "Cell \u001b[1;32mIn[18], line 23\u001b[0m\n\u001b[0;32m     21\u001b[0m \u001b[38;5;66;03m# Faire 100 tirages à partir des 6 premières lignes avec une probabilité de 1/2 pour la première observation et une probabilité uniforme pour les autres\u001b[39;00m\n\u001b[0;32m     22\u001b[0m probabilites \u001b[38;5;241m=\u001b[39m [\u001b[38;5;241m0.5\u001b[39m] \u001b[38;5;241m+\u001b[39m [\u001b[38;5;241m0.5\u001b[39m\u001b[38;5;241m/\u001b[39m\u001b[38;5;241m5\u001b[39m] \u001b[38;5;241m*\u001b[39m \u001b[38;5;241m5\u001b[39m  \u001b[38;5;66;03m# Les probabilités pour tirer chaque observation\u001b[39;00m\n\u001b[1;32m---> 23\u001b[0m tirages_100 \u001b[38;5;241m=\u001b[39m pd\u001b[38;5;241m.\u001b[39mDataFrame([premieres_lignes\u001b[38;5;241m.\u001b[39msample(n\u001b[38;5;241m=\u001b[39m\u001b[38;5;241m1\u001b[39m, weights\u001b[38;5;241m=\u001b[39mprobabilites)\u001b[38;5;241m.\u001b[39miloc[\u001b[38;5;241m0\u001b[39m] \u001b[38;5;28;01mfor\u001b[39;00m _ \u001b[38;5;129;01min\u001b[39;00m \u001b[38;5;28mrange\u001b[39m(\u001b[38;5;241m100\u001b[39m)])\n\u001b[0;32m     25\u001b[0m \u001b[38;5;66;03m# Affichage des résultats\u001b[39;00m\n\u001b[0;32m     26\u001b[0m \u001b[38;5;28mprint\u001b[39m(echantillon_sans_remise)\n",
      "Cell \u001b[1;32mIn[18], line 23\u001b[0m, in \u001b[0;36m<listcomp>\u001b[1;34m(.0)\u001b[0m\n\u001b[0;32m     21\u001b[0m \u001b[38;5;66;03m# Faire 100 tirages à partir des 6 premières lignes avec une probabilité de 1/2 pour la première observation et une probabilité uniforme pour les autres\u001b[39;00m\n\u001b[0;32m     22\u001b[0m probabilites \u001b[38;5;241m=\u001b[39m [\u001b[38;5;241m0.5\u001b[39m] \u001b[38;5;241m+\u001b[39m [\u001b[38;5;241m0.5\u001b[39m\u001b[38;5;241m/\u001b[39m\u001b[38;5;241m5\u001b[39m] \u001b[38;5;241m*\u001b[39m \u001b[38;5;241m5\u001b[39m  \u001b[38;5;66;03m# Les probabilités pour tirer chaque observation\u001b[39;00m\n\u001b[1;32m---> 23\u001b[0m tirages_100 \u001b[38;5;241m=\u001b[39m pd\u001b[38;5;241m.\u001b[39mDataFrame([\u001b[43mpremieres_lignes\u001b[49m\u001b[38;5;241;43m.\u001b[39;49m\u001b[43msample\u001b[49m\u001b[43m(\u001b[49m\u001b[43mn\u001b[49m\u001b[38;5;241;43m=\u001b[39;49m\u001b[38;5;241;43m1\u001b[39;49m\u001b[43m,\u001b[49m\u001b[43m \u001b[49m\u001b[43mweights\u001b[49m\u001b[38;5;241;43m=\u001b[39;49m\u001b[43mprobabilites\u001b[49m\u001b[43m)\u001b[49m\u001b[38;5;241m.\u001b[39miloc[\u001b[38;5;241m0\u001b[39m] \u001b[38;5;28;01mfor\u001b[39;00m _ \u001b[38;5;129;01min\u001b[39;00m \u001b[38;5;28mrange\u001b[39m(\u001b[38;5;241m100\u001b[39m)])\n\u001b[0;32m     25\u001b[0m \u001b[38;5;66;03m# Affichage des résultats\u001b[39;00m\n\u001b[0;32m     26\u001b[0m \u001b[38;5;28mprint\u001b[39m(echantillon_sans_remise)\n",
      "File \u001b[1;32m~\\Miniconda3\\envs\\scripting\\lib\\site-packages\\pandas\\core\\generic.py:6113\u001b[0m, in \u001b[0;36mNDFrame.sample\u001b[1;34m(self, n, frac, replace, weights, random_state, axis, ignore_index)\u001b[0m\n\u001b[0;32m   6110\u001b[0m     size \u001b[38;5;241m=\u001b[39m \u001b[38;5;28mround\u001b[39m(frac \u001b[38;5;241m*\u001b[39m obj_len)\n\u001b[0;32m   6112\u001b[0m \u001b[38;5;28;01mif\u001b[39;00m weights \u001b[38;5;129;01mis\u001b[39;00m \u001b[38;5;129;01mnot\u001b[39;00m \u001b[38;5;28;01mNone\u001b[39;00m:\n\u001b[1;32m-> 6113\u001b[0m     weights \u001b[38;5;241m=\u001b[39m \u001b[43msample\u001b[49m\u001b[38;5;241;43m.\u001b[39;49m\u001b[43mpreprocess_weights\u001b[49m\u001b[43m(\u001b[49m\u001b[38;5;28;43mself\u001b[39;49m\u001b[43m,\u001b[49m\u001b[43m \u001b[49m\u001b[43mweights\u001b[49m\u001b[43m,\u001b[49m\u001b[43m \u001b[49m\u001b[43maxis\u001b[49m\u001b[43m)\u001b[49m\n\u001b[0;32m   6115\u001b[0m sampled_indices \u001b[38;5;241m=\u001b[39m sample\u001b[38;5;241m.\u001b[39msample(obj_len, size, replace, weights, rs)\n\u001b[0;32m   6116\u001b[0m result \u001b[38;5;241m=\u001b[39m \u001b[38;5;28mself\u001b[39m\u001b[38;5;241m.\u001b[39mtake(sampled_indices, axis\u001b[38;5;241m=\u001b[39maxis)\n",
      "File \u001b[1;32m~\\Miniconda3\\envs\\scripting\\lib\\site-packages\\pandas\\core\\sample.py:64\u001b[0m, in \u001b[0;36mpreprocess_weights\u001b[1;34m(obj, weights, axis)\u001b[0m\n\u001b[0;32m     61\u001b[0m weights \u001b[38;5;241m=\u001b[39m func(weights, dtype\u001b[38;5;241m=\u001b[39m\u001b[38;5;124m\"\u001b[39m\u001b[38;5;124mfloat64\u001b[39m\u001b[38;5;124m\"\u001b[39m)\u001b[38;5;241m.\u001b[39m_values\n\u001b[0;32m     63\u001b[0m \u001b[38;5;28;01mif\u001b[39;00m \u001b[38;5;28mlen\u001b[39m(weights) \u001b[38;5;241m!=\u001b[39m obj\u001b[38;5;241m.\u001b[39mshape[axis]:\n\u001b[1;32m---> 64\u001b[0m     \u001b[38;5;28;01mraise\u001b[39;00m \u001b[38;5;167;01mValueError\u001b[39;00m(\u001b[38;5;124m\"\u001b[39m\u001b[38;5;124mWeights and axis to be sampled must be of same length\u001b[39m\u001b[38;5;124m\"\u001b[39m)\n\u001b[0;32m     66\u001b[0m \u001b[38;5;28;01mif\u001b[39;00m lib\u001b[38;5;241m.\u001b[39mhas_infs(weights):\n\u001b[0;32m     67\u001b[0m     \u001b[38;5;28;01mraise\u001b[39;00m \u001b[38;5;167;01mValueError\u001b[39;00m(\u001b[38;5;124m\"\u001b[39m\u001b[38;5;124mweight vector may not include `inf` values\u001b[39m\u001b[38;5;124m\"\u001b[39m)\n",
      "\u001b[1;31mValueError\u001b[0m: Weights and axis to be sampled must be of same length"
     ]
    }
   ],
   "source": [
    "# Faire 100 tirages à partir des 6 premières lignes avec une probabilité de 1/2 pour la première observation et une probabilité uniforme pour les autres\n",
    "probabilites = [0.5] + [0.5/5] * 5  # Les probabilités pour tirer chaque observation\n",
    "tirages_100 = pd.DataFrame([premieres_lignes.sample(n=1, weights=probabilites).iloc[0] for _ in range(100)])\n",
    "\n",
    "# Affichage des résultats\n",
    "print(echantillon_sans_remise)\n",
    "print(df_100_lignes)\n",
    "print(tirages_100)"
   ]
  },
  {
   "cell_type": "markdown",
   "id": "ab0134dd-ef14-46b8-8104-727fcc67f6ee",
   "metadata": {},
   "source": [
    "Comme l’illustre cet exercice, l’affichage des *DataFrames* dans les *notebooks* est assez ergonomique.\n",
    "Les premières et dernières lignes s’affichent\n",
    "automatiquement. Pour des tables de valorisation présentes dans un\n",
    "rapport ou un article de recherche, le chapitre suivant\n",
    "présente `great_tables` qui offre de très riches\n",
    "fonctionnalités de mise en forme des tableaux."
   ]
  },
  {
   "cell_type": "markdown",
   "id": "d905b4a8-c0c6-40a4-8080-b1eed29a2a42",
   "metadata": {},
   "source": [
    "<div class=\"alert alert-danger\" role=\"alert\" style=\"color: rgba(0,0,0,.8); background-color: white; margin-top: 1em; margin-bottom: 1em; margin:1.5625emauto; padding:0 .6rem .8rem!important;overflow:hidden; page-break-inside:avoid; border-radius:.25rem; box-shadow:0 .2rem .5rem rgba(0,0,0,.05),0 0 .05rem rgba(0,0,0,.1); transition:color .25s,background-color .25s,border-color .25s ; border-right: 1px solid #dee2e6 ; border-top: 1px solid #dee2e6 ; border-bottom: 1px solid #dee2e6 ; border-left: .2rem solid #ff0039;\">\n",
    "<h3 class=\"alert-heading\"><i class=\"fa fa-exclamation-triangle\"></i> Warning</h3>\n",
    "\n",
    "Il faut faire attention au `display` et aux\n",
    "commandes qui révèlent des données (`head`, `tail`, etc.)\n",
    "dans un *notebook* qui exploite\n",
    "des données confidentielles lorsqu’on utilise\n",
    "le logiciel de contrôle de version `Git` (cf. chapitres dédiés).\n",
    "\n",
    "En effet, on peut se\n",
    "retrouver à partager des données, involontairement, dans l’historique\n",
    "`Git`. Comme cela sera expliqué dans le chapitre dédié à `Git`,\n",
    "un fichier, nommé le `.gitignore`, suffit pour créer quelques règles\n",
    "évitant le partage involontaire de données avec `Git`.\n",
    "\n",
    "</div>"
   ]
  },
  {
   "cell_type": "markdown",
   "id": "bf4bea48-78d8-4cf1-83ee-bd90930c158c",
   "metadata": {},
   "source": [
    "# 5. Explorer la structure d’un *DataFrame*\n",
    "\n",
    "`Pandas` propose donc un schéma de données assez familier aux utilisateurs\n",
    "de logiciels statistiques comme `R`. A l’instar des\n",
    "principaux paradigmes de traitement de la données comme le *tidyverse* (`R`),\n",
    "la grammaire de `Pandas` est héritière de la logique `SQL`.\n",
    "La philosophie est très proche : on effectue des opérations\n",
    "de sélection de ligne, de colonne, des tris de ligne en fonction\n",
    "de valeurs de certaines colonnes, des traitements standardisés sur des\n",
    "variables, etc. De manière générale, on privilégie les traitements\n",
    "faisant appel à des noms de variables à des numéros de ligne ou de\n",
    "colonne.\n",
    "\n",
    "Que vous soyez familiers de `SQL` ou de `R`, vous retrouverez une logique\n",
    "similaire à celle que vous connaissez quoique les noms puissent diverger:\n",
    "`df.loc[df['y']=='b']` s’écrira peut-être `df %>% filter(y=='b')` (`R`)\n",
    "ou `SELECT * FROM df WHERE y == 'b'` (`SQL`) mais la logique\n",
    "est la même.\n",
    "\n",
    "`Pandas` propose énormément de fonctionnalités pré-implémentées.\n",
    "Il est vivement recommandé, avant de se lancer dans l’écriture d’une\n",
    "fonction, de se poser la question de son implémentation native dans `Numpy`, `Pandas`, etc.\n",
    "La plupart du temps, s’il existe une solution implémentée dans une librairie, il convient\n",
    "de l’utiliser car elle sera plus efficace que celle que vous mettrez en oeuvre.\n",
    "\n",
    "Pour présenter les méthodes les plus pratiques pour l’analyse de données,\n",
    "on peut partir de l’exemple des consommations de CO2 communales issues\n",
    "des données de l’Ademe auquel les exercices précédents\n",
    "étaient dédiés."
   ]
  },
  {
   "cell_type": "code",
   "execution_count": 16,
   "id": "73f012af",
   "metadata": {},
   "outputs": [
    {
     "data": {
      "text/html": [
       "\n",
       "<p>35798 rows × 12 columns</p>\n",
       "</div>"
      ]
     },
     "metadata": {},
     "output_type": "display_data"
    }
   ],
   "source": [
    "df = pd.read_csv(\n",
    "    \"https://koumoul.com/s/data-fair/api/v1/datasets/igt-pouvoir-de-rechauffement-global/convert\"\n",
    ")\n",
    "df\n"
   ]
  },
  {
   "cell_type": "markdown",
   "id": "173bcbed-5b8c-48dd-ac0a-00e3211946aa",
   "metadata": {},
   "source": [
    "## 5.1 Dimensions et structure d’un *DataFrame*\n",
    "\n",
    "Les premières méthodes utiles permettent d’afficher quelques\n",
    "attributs d’un `DataFrame`."
   ]
  },
  {
   "cell_type": "code",
   "execution_count": 17,
   "id": "dc1e2245",
   "metadata": {},
   "outputs": [
    {
     "data": {
      "text/plain": [
       "[RangeIndex(start=0, stop=35798, step=1),\n",
       " Index(['INSEE commune', 'Commune', 'Agriculture', 'Autres transports',\n",
       "        'Autres transports international', 'CO2 biomasse hors-total', 'Déchets',\n",
       "        'Energie', 'Industrie hors-énergie', 'Résidentiel', 'Routier',\n",
       "        'Tertiaire'],\n",
       "       dtype='object')]"
      ]
     },
     "metadata": {},
     "output_type": "display_data"
    }
   ],
   "source": [
    "df.axes\n"
   ]
  },
  {
   "cell_type": "code",
   "execution_count": 18,
   "id": "b02b8856",
   "metadata": {},
   "outputs": [
    {
     "data": {
      "text/plain": [
       "Index(['INSEE commune', 'Commune', 'Agriculture', 'Autres transports',\n",
       "       'Autres transports international', 'CO2 biomasse hors-total', 'Déchets',\n",
       "       'Energie', 'Industrie hors-énergie', 'Résidentiel', 'Routier',\n",
       "       'Tertiaire'],\n",
       "      dtype='object')"
      ]
     },
     "metadata": {},
     "output_type": "display_data"
    }
   ],
   "source": [
    "df.columns\n"
   ]
  },
  {
   "cell_type": "code",
   "execution_count": 19,
   "id": "eae00b21",
   "metadata": {},
   "outputs": [
    {
     "data": {
      "text/plain": [
       "RangeIndex(start=0, stop=35798, step=1)"
      ]
     },
     "metadata": {},
     "output_type": "display_data"
    }
   ],
   "source": [
    "df.index\n"
   ]
  },
  {
   "cell_type": "markdown",
   "id": "537a76d8-b471-4361-aeb7-dec9fbea7229",
   "metadata": {},
   "source": [
    "Pour connaître les dimensions d’un DataFrame, on peut utiliser quelques méthodes\n",
    "pratiques :"
   ]
  },
  {
   "cell_type": "code",
   "execution_count": 20,
   "id": "32311be4",
   "metadata": {},
   "outputs": [
    {
     "data": {
      "text/plain": [
       "2"
      ]
     },
     "metadata": {},
     "output_type": "display_data"
    }
   ],
   "source": [
    "df.ndim\n"
   ]
  },
  {
   "cell_type": "code",
   "execution_count": 21,
   "id": "b66984d3",
   "metadata": {},
   "outputs": [
    {
     "data": {
      "text/plain": [
       "(35798, 12)"
      ]
     },
     "metadata": {},
     "output_type": "display_data"
    }
   ],
   "source": [
    "df.shape\n"
   ]
  },
  {
   "cell_type": "code",
   "execution_count": 22,
   "id": "108868dc",
   "metadata": {},
   "outputs": [
    {
     "data": {
      "text/plain": [
       "429576"
      ]
     },
     "metadata": {},
     "output_type": "display_data"
    }
   ],
   "source": [
    "df.size\n"
   ]
  },
  {
   "cell_type": "markdown",
   "id": "325f4aa2-134e-46f1-a37a-e4a8f0da4316",
   "metadata": {},
   "source": [
    "Pour déterminer le nombre de valeurs uniques d’une variable, plutôt que chercher à écrire soi-même une fonction,\n",
    "on utilise la\n",
    "méthode `nunique`. Par exemple,"
   ]
  },
  {
   "cell_type": "code",
   "execution_count": 23,
   "id": "a626e75c",
   "metadata": {},
   "outputs": [
    {
     "data": {
      "text/plain": [
       "33338"
      ]
     },
     "metadata": {},
     "output_type": "display_data"
    }
   ],
   "source": [
    "df[\"Commune\"].nunique()\n"
   ]
  },
  {
   "cell_type": "markdown",
   "id": "2f0ae003-30e5-4a45-9f72-09adb76b8e03",
   "metadata": {},
   "source": [
    "`Pandas` propose énormément de méthodes utiles.\n",
    "Voici un premier résumé de celles relatives à la structure des données, accompagné d’un comparatif avec `R` :\n",
    "\n",
    "| Opération                                             | pandas                  | dplyr (`R`)                          | data.table (`R`)      |\n",
    "|-------------------------|------------|--------------|-----------------------|\n",
    "| Récupérer le nom des colonnes                         | `df.columns`            | `colnames(df)`                       | `colnames(df)`        |\n",
    "| Récupérer les dimensions                              | `df.shape`              | `dim(df)`                            | `dim(df)`             |\n",
    "| Récupérer le nombre de valeurs uniques d’une variable | `df['myvar'].nunique()` | `df %>%  summarise(distinct(myvar))` | `df[,uniqueN(myvar)]` |\n",
    "\n",
    "## 5.2 Accéder à des éléments d’un DataFrame\n",
    "\n",
    "En SQL, effectuer des opérations sur les colonnes se fait avec la commande\n",
    "`SELECT`. Avec `Pandas`,\n",
    "pour accéder à une colonne dans son ensemble on peut\n",
    "utiliser plusieurs approches :\n",
    "\n",
    "-   `dataframe.variable`, par exemple `df.Energie`.\n",
    "    Cette méthode requiert néanmoins d’avoir des\n",
    "    noms de colonnes sans espace ou caractères spéciaux, ce qui exclut\n",
    "    souvent des jeux de données réels. Elle n’est pas recommandée. ;\n",
    "-   `dataframe[['variable']]` pour renvoyer la variable sous\n",
    "    forme de `DataFrame`. Cette méthode peut être assez piégeuse pour une variable seule, il vaut mieux lui privilégier `dataframe.loc[:,['variable']]` qui est plus explicite sur la nature de l’objet qu’on désire en sortie ;\n",
    "-   `dataframe['variable']` pour\n",
    "    renvoyer la variable sous forme de `Series`. Par exemple, `df[['Autres transports']]`\n",
    "    ou `df['Autres transports']`. C’est une manière préférable de procéder.\n",
    "\n",
    "Pour récupérer plusieurs colonnes à la fois, il y a deux approches, la seconde étant préférable :\n",
    "\n",
    "-   `dataframe[['variable1', 'variable2']]` ;\n",
    "-   `dataframe.loc[:, ['variable1', 'variable2']]`\n",
    "\n",
    "Cela est équivalent à `SELECT variable1, variable2 FROM dataframe` en SQL.\n",
    "\n",
    "Le `.loc` peut apparaître excessivement verbeux. Il permet néanmoins de s’assurer qu’on effectue bien un *subset* sur la dimension des colonnes. Les *DataFrame* ayant deux indices, ceux des lignes et des colonnes, on peut avoir parfois des surprises avec l’implicite, il est plus fiable d’être explicite.\n",
    "\n",
    "## 5.3 Accéder à des lignes\n",
    "\n",
    "Pour accéder à une ou plusieurs valeurs d’un `DataFrame`,\n",
    "il existe deux manières conseillées de procéder, selon la\n",
    "forme des indices de lignes ou colonnes utilisées :\n",
    "\n",
    "-   `df.iloc` : utilise les indices. C’est une méthode moyennement fiable car les indices d’un *DataFrame* peuvent évoluer au cours d’un traitement (notamment lorsqu’on fait des opérations par groupe).\n",
    "-   `df.loc` : utilise les labels. Cette méthode est recommandée."
   ]
  },
  {
   "cell_type": "markdown",
   "id": "d044b9f9-d56c-426d-b2df-4629c3a9e240",
   "metadata": {},
   "source": [
    "<div class=\"alert alert-danger\" role=\"alert\" style=\"color: rgba(0,0,0,.8); background-color: white; margin-top: 1em; margin-bottom: 1em; margin:1.5625emauto; padding:0 .6rem .8rem!important;overflow:hidden; page-break-inside:avoid; border-radius:.25rem; box-shadow:0 .2rem .5rem rgba(0,0,0,.05),0 0 .05rem rgba(0,0,0,.1); transition:color .25s,background-color .25s,border-color .25s ; border-right: 1px solid #dee2e6 ; border-top: 1px solid #dee2e6 ; border-bottom: 1px solid #dee2e6 ; border-left: .2rem solid #ff0039;\">\n",
    "<h3 class=\"alert-heading\"><i class=\"fa fa-exclamation-triangle\"></i> Warning</h3>\n",
    "\n",
    "Les bouts de code utilisant la structure `df.ix`\n",
    "sont à bannir car la fonction est *deprecated* et peut\n",
    "ainsi disparaître à tout moment.\n",
    "\n",
    "</div>"
   ]
  },
  {
   "cell_type": "markdown",
   "id": "1e21eedd-5b04-492f-b0fe-d8a540f6c05f",
   "metadata": {},
   "source": [
    "`iloc` va se référer à l’indexation de 0 à *N* où *N* est égal à `df.shape[0]` d’un\n",
    "`pandas.DataFrame`. `loc` va se référer aux valeurs de l’index\n",
    "de `df`.\n",
    "Par exemple, avec le `pandas.DataFrame` `df_example`:"
   ]
  },
  {
   "cell_type": "code",
   "execution_count": 24,
   "id": "5e728194",
   "metadata": {},
   "outputs": [
    {
     "data": {
      "text/html": [
       "\n",
       "</div>"
      ]
     },
     "metadata": {},
     "output_type": "display_data"
    }
   ],
   "source": [
    "df_example = pd.DataFrame(\n",
    "    {\"month\": [1, 4, 7, 10], \"year\": [2012, 2014, 2013, 2014], \"sale\": [55, 40, 84, 31]}\n",
    ")\n",
    "df_example = df_example.set_index(\"month\")\n",
    "df_example\n"
   ]
  },
  {
   "cell_type": "markdown",
   "id": "f7063c45-4135-41d6-a769-4f87fd7b58d2",
   "metadata": {},
   "source": [
    "-   `df_example.loc[1, :]` donnera la première ligne de `df` (ligne où l’indice `month` est égal à 1) ;\n",
    "-   `df_example.iloc[1, :]` donnera la deuxième ligne (puisque l’indexation en `Python` commence à 0) ;\n",
    "-   `df_example.iloc[:, 1]` donnera la deuxième colonne, suivant le même principe.\n",
    "\n",
    "Les exercices ultérieurs permettront de pratiquer cette syntaxe sur notre jeu de données des émissions de gaz carbonique.\n",
    "\n",
    "# 6. Principales manipulations de données\n",
    "\n",
    "Les opérations les plus fréquentes en `SQL` sont résumées par le tableau suivant.\n",
    "Il est utile de les connaître (beaucoup de syntaxes de maniement de données\n",
    "reprennent ces termes) car, d’une\n",
    "manière ou d’une autre, elles couvrent la plupart\n",
    "des usages de manipulation des données. Nous allons en décrire, par le suite, quelques unes:\n",
    "\n",
    "| Opération                                                        | SQL                                                              | pandas                                                 | dplyr (`R`)                                        | data.table (`R`)                                 |\n",
    "|--------|---------------|-----------|-----------------|-----------------------|\n",
    "| Sélectionner des variables par leur nom                          | `SELECT`                                                         | `df[['Autres transports','Energie']]`                  | `df %>% select(Autres transports, Energie)`        | `df[, c('Autres transports','Energie')]`         |\n",
    "| Sélectionner des observations selon une ou plusieurs conditions; | `FILTER`                                                         | `df[df['Agriculture']>2000]`                           | `df %>% filter(Agriculture>2000)`                  | `df[Agriculture>2000]`                           |\n",
    "| Trier la table selon une ou plusieurs variables                  | `SORT BY`                                                        | `df.sort_values(['Commune','Agriculture'])`            | `df %>% arrange(Commune, Agriculture)`             | `df[order(Commune, Agriculture)]`                |\n",
    "| Ajouter des variables qui sont fonction d’autres variables;      | `SELECT *, LOG(Agriculture) AS x FROM df`                        | `df['x'] = np.log(df['Agriculture'])`                  | `df %>% mutate(x = log(Agriculture))`              | `df[,x := log(Agriculture)]`                     |\n",
    "| Effectuer une opération par groupe                               | `GROUP BY`                                                       | `df.groupby('Commune').mean()`                         | `df %>% group_by(Commune) %>% summarise(m = mean)` | `df[,mean(Commune), by = Commune]`               |\n",
    "| Joindre deux bases de données (*inner join*)                     | `SELECT * FROM table1 INNER JOIN table2 ON table1.id = table2.x` | `table1.merge(table2, left_on = 'id', right_on = 'x')` | `table1 %>% inner_join(table2, by = c('id'='x'))`  | `merge(table1, table2, by.x = 'id', by.y = 'x')` |\n",
    "\n",
    "## 6.1 Opérations sur les colonnes : ajouter ou retirer des variables, les renommer, etc.\n",
    "\n",
    "Sur le plan technique, les `DataFrames` `Pandas` sont des objets *mutables* en langage `Python`,\n",
    "c’est-à-dire qu’il est possible de faire évoluer le `DataFrame` au grès\n",
    "des opérations mises en oeuvre.\n",
    "\n",
    "L’opération la plus classique consiste à ajouter ou retirer des variables à la table de données.\n",
    "La manière la plus simple d’opérer pour ajouter des colonnes est\n",
    "d’utiliser la réassignation. Par exemple, pour créer une variable `dep` qui correspond aux deux premiers numéros du code commune (code Insee), il suffit de prendre la variable et lui appliquer le traitement adapté (en l’occurrence ne garder que ses deux premières caractères):"
   ]
  },
  {
   "cell_type": "code",
   "execution_count": 25,
   "id": "81090056",
   "metadata": {},
   "outputs": [
    {
     "data": {
      "text/html": [
       "\n",
       "</div>"
      ]
     },
     "metadata": {},
     "output_type": "display_data"
    }
   ],
   "source": [
    "df[\"dep\"] = df[\"INSEE commune\"].str[:2]\n",
    "df.head(3)\n"
   ]
  },
  {
   "cell_type": "markdown",
   "id": "11946310-ced5-4c20-8b9b-c6ffef4fdf18",
   "metadata": {},
   "source": [
    "En SQL, la manière de procéder dépend du moteur d’exécution. En pseudo-code cela donne\n",
    "\n",
    "``` sql\n",
    "SELECT everything(), SUBSTR(\"code_insee\", 2) AS dep FROM df\n",
    "```\n",
    "\n",
    "Il est possible d’appliquer cette approche de création de colonnes sur plusieurs colonnes. Un des\n",
    "intérêts de cette approche est qu’elle permet de recycler le nom de colonnes."
   ]
  },
  {
   "cell_type": "code",
   "execution_count": 26,
   "id": "4c6e12b1",
   "metadata": {},
   "outputs": [
    {
     "data": {
      "text/html": [
       "\n",
       "</div>"
      ]
     },
     "metadata": {},
     "output_type": "display_data"
    }
   ],
   "source": [
    "vars = [\"Agriculture\", \"Déchets\", \"Energie\"]\n",
    "\n",
    "df[[v + \"_log\" for v in vars]] = np.log(df.loc[:, vars])\n",
    "df.head(3)\n"
   ]
  },
  {
   "cell_type": "markdown",
   "id": "449c0cae-b5b0-4b6b-a828-18930731c432",
   "metadata": {},
   "source": [
    "La requête équivalente en SQL serait assez fastidieuse à écrire. Sur ce genre d’opérations, on voit bien l’intérêt d’avoir une librairie haut niveau comme `Pandas`."
   ]
  },
  {
   "cell_type": "markdown",
   "id": "fcdf17bc-ce8f-4763-ac22-811f5e18a220",
   "metadata": {},
   "source": [
    "<div class=\"alert alert-danger\" role=\"alert\" style=\"color: rgba(0,0,0,.8); background-color: white; margin-top: 1em; margin-bottom: 1em; margin:1.5625emauto; padding:0 .6rem .8rem!important;overflow:hidden; page-break-inside:avoid; border-radius:.25rem; box-shadow:0 .2rem .5rem rgba(0,0,0,.05),0 0 .05rem rgba(0,0,0,.1); transition:color .25s,background-color .25s,border-color .25s ; border-right: 1px solid #dee2e6 ; border-top: 1px solid #dee2e6 ; border-bottom: 1px solid #dee2e6 ; border-left: .2rem solid #ff0039;\">\n",
    "<h3 class=\"alert-heading\"><i class=\"fa fa-exclamation-triangle\"></i> Warning</h3>\n",
    "\n",
    "Cela est possible grâce à la vectorisation native des opérations de `Numpy` et à la magie `Pandas` qui réarrange tout ceci. Ce n’est pas utilisable avec n’importe quelle fonction. Pour d’autres fonctions, il faudra utiliser `assign`, généralement par le biais de *lambda functions*, des fonctions temporaires faisant office de passe plat. Par exemple, pour créer une variable selon cette approche, il faudrait faire:\n",
    "\n",
    "``` python\n",
    "df.assign(Energie_log=lambda x: np.log(x[\"Energie\"]))\n",
    "```\n",
    "\n",
    "<div>\n",
    "<style scoped>\n",
    "    .dataframe tbody tr th:only-of-type {\n",
    "        vertical-align: middle;\n",
    "    }\n",
    "\n",
    "    .dataframe tbody tr th {\n",
    "        vertical-align: top;\n",
    "    }\n",
    "\n",
    "    .dataframe thead th {\n",
    "        text-align: right;\n",
    "    }\n",
    "</style>\n",
    "\n",
    "|       | INSEE commune | Commune                 | Agriculture | Autres transports | Autres transports international | CO2 biomasse hors-total | Déchets     | Energie    | Industrie hors-énergie | Résidentiel  | Routier      | Tertiaire    | dep | Agriculture_log | Déchets_log | Energie_log |\n",
    "|-------|---------------|-------------------------|-------------|-------------------|---------------------------------|-------------------------|-------------|------------|------------------------|--------------|--------------|--------------|-----|-----------------|-------------|-------------|\n",
    "| 0     | 01001         | L'ABERGEMENT-CLEMENCIAT | 3711.425991 | NaN               | NaN                             | 432.751835              | 101.430476  | 2.354558   | 6.911213               | 309.358195   | 793.156501   | 367.036172   | 01  | 8.219171        | 4.619374    | 0.856353    |\n",
    "| 1     | 01002         | L'ABERGEMENT-DE-VAREY   | 475.330205  | NaN               | NaN                             | 140.741660              | 140.675439  | 2.354558   | 6.911213               | 104.866444   | 348.997893   | 112.934207   | 01  | 6.164010        | 4.946455    | 0.856353    |\n",
    "| 2     | 01004         | AMBERIEU-EN-BUGEY       | 499.043526  | 212.577908        | NaN                             | 10313.446515            | 5314.314445 | 998.332482 | 2930.354461            | 16616.822534 | 15642.420313 | 10732.376934 | 01  | 6.212693        | 8.578159    | 6.906086    |\n",
    "| 3     | 01005         | AMBERIEUX-EN-DOMBES     | 1859.160954 | NaN               | NaN                             | 1144.429311             | 216.217508  | 94.182310  | 276.448534             | 663.683146   | 1756.341319  | 782.404357   | 01  | 7.527881        | 5.376285    | 4.545232    |\n",
    "| 4     | 01006         | AMBLEON                 | 448.966808  | NaN               | NaN                             | 77.033834               | 48.401549   | NaN        | NaN                    | 43.714019    | 398.786800   | 51.681756    | 01  | 6.106949        | 3.879532    | NaN         |\n",
    "| ...   | ...           | ...                     | ...         | ...               | ...                             | ...                     | ...         | ...        | ...                    | ...          | ...          | ...          | ... | ...             | ...         | ...         |\n",
    "| 35793 | 95676         | VILLERS-EN-ARTHIES      | 1628.065094 | NaN               | NaN                             | 165.045396              | 65.063617   | 11.772789  | 34.556067              | 176.098160   | 309.627908   | 235.439109   | 95  | 7.395148        | 4.175366    | 2.465791    |\n",
    "| 35794 | 95678         | VILLIERS-ADAM           | 698.630772  | NaN               | NaN                             | 1331.126598             | 111.480954  | 2.354558   | 6.911213               | 1395.529811  | 18759.370071 | 403.404815   | 95  | 6.549122        | 4.713854    | 0.856353    |\n",
    "| 35795 | 95680         | VILLIERS-LE-BEL         | 107.564967  | NaN               | NaN                             | 8367.174532             | 225.622903  | 534.484607 | 1568.845431            | 22613.830247 | 12217.122402 | 13849.512001 | 95  | 4.678095        | 5.418865    | 6.281303    |\n",
    "| 35796 | 95682         | VILLIERS-LE-SEC         | 1090.890170 | NaN               | NaN                             | 326.748418              | 108.969749  | 2.354558   | 6.911213               | 67.235487    | 4663.232127  | 85.657725    | 95  | 6.994749        | 4.691070    | 0.856353    |\n",
    "| 35797 | 95690         | WY-DIT-JOLI-VILLAGE     | 1495.103542 | NaN               | NaN                             | 125.236417              | 97.728612   | 4.709115   | 13.822427              | 117.450851   | 504.400972   | 147.867245   | 95  | 7.309951        | 4.582194    | 1.549500    |\n",
    "\n",
    "<p>35798 rows × 16 columns</p>\n",
    "</div>\n",
    "\n",
    "Avec des méthodes de `Pandas` ou de `Numpy` comme ici, cela n’a pas d’intérêt, c’est même contreproductif car cela ralentit le code.\n",
    "\n",
    "</div>"
   ]
  },
  {
   "cell_type": "markdown",
   "id": "82596270-8a16-4393-abf8-183fb12f8cc0",
   "metadata": {},
   "source": [
    "On peut facilement renommer des variables avec la méthode `rename` qui\n",
    "fonctionne bien avec des dictionnaires. Pour renommer des colonnes il faut\n",
    "préciser le paramètre `axis = 'columns'` ou `axis=1`. Le paramètre `axis` est souvent nécessaire car par défaut de nombreuses méthodes de `Pandas` supposent que l’indice sur lequel les opérations sont faites est l’indice des lignes :"
   ]
  },
  {
   "cell_type": "code",
   "execution_count": 28,
   "id": "65a0eacb",
   "metadata": {},
   "outputs": [
    {
     "data": {
      "text/html": [
       "\n",
       "</div>"
      ]
     },
     "metadata": {},
     "output_type": "display_data"
    }
   ],
   "source": [
    "df = df.rename({\"Energie\": \"eneg\", \"Agriculture\": \"agr\"}, axis=1)\n",
    "df.head()\n"
   ]
  },
  {
   "cell_type": "markdown",
   "id": "ec949f35-4ae1-4ac0-a579-38d512c7c37c",
   "metadata": {},
   "source": [
    "Enfin, pour effacer des colonnes, on utilise la méthode `drop` avec l’argument\n",
    "`columns`:"
   ]
  },
  {
   "cell_type": "code",
   "execution_count": 29,
   "id": "ee60ae8a",
   "metadata": {},
   "outputs": [],
   "source": [
    "df = df.drop(columns=[\"eneg\", \"agr\"])\n"
   ]
  },
  {
   "cell_type": "markdown",
   "id": "1dfd2281-34ca-4dd3-aa6a-61c4fa50b936",
   "metadata": {},
   "source": [
    "## 6.2 Réordonner les observations\n",
    "\n",
    "La méthode `sort_values` permet de réordonner les observations d’un `DataFrame`, en laissant l’ordre des colonnes identiques.\n",
    "\n",
    "Par exemple,\n",
    "si on désire classer par ordre décroissant de consommation de CO2 du secteur\n",
    "résidentiel, on fera"
   ]
  },
  {
   "cell_type": "code",
   "execution_count": 30,
   "id": "230e52b6",
   "metadata": {},
   "outputs": [
    {
     "data": {
      "text/html": [
       "\n",
       "</div>"
      ]
     },
     "metadata": {},
     "output_type": "display_data"
    }
   ],
   "source": [
    "df = df.sort_values(\"Résidentiel\", ascending=False)\n",
    "df.head(3)\n"
   ]
  },
  {
   "cell_type": "markdown",
   "id": "8220ea97-dd63-4db4-9aa3-7a728f03d2bd",
   "metadata": {},
   "source": [
    "Ainsi, en une ligne de code, on identifie les villes où le secteur\n",
    "résidentiel consomme le plus. En SQL on ferait\n",
    "\n",
    "``` sql\n",
    "SELECT * FROM df ORDER BY DESC \"Résidentiel\"\n",
    "```\n",
    "\n",
    "## 6.3 Filter\n",
    "\n",
    "L’opération de sélection de lignes s’appelle `FILTER` en SQL. Elle s’utilise\n",
    "en fonction d’une condition logique (clause `WHERE`). On sélectionne les\n",
    "données sur une condition logique.\n",
    "\n",
    "Il existe plusieurs méthodes en `Pandas`. La plus simple est d’utiliser les *boolean mask*, déjà vus dans le chapitre\n",
    "[`numpy`](../../content/manipulation/01_numpy.qmd).\n",
    "\n",
    "Par exemple, pour sélectionner les communes dans les Hauts-de-Seine, on\n",
    "peut commencer par utiliser le résultat de la méthode `str.startswith` (qui renvoie\n",
    "`True` ou `False`) :"
   ]
  },
  {
   "cell_type": "code",
   "execution_count": 31,
   "id": "c2481ff4",
   "metadata": {},
   "outputs": [
    {
     "data": {
      "text/plain": [
       "12167    False\n",
       "16774    False\n",
       "27294    False\n",
       "12729    False\n",
       "22834    False\n",
       "         ...  \n",
       "20742    False\n",
       "20817    False\n",
       "20861    False\n",
       "20898    False\n",
       "20957    False\n",
       "Name: INSEE commune, Length: 35798, dtype: bool"
      ]
     },
     "metadata": {},
     "output_type": "display_data"
    }
   ],
   "source": [
    "df[\"INSEE commune\"].str.startswith(\"92\")\n"
   ]
  },
  {
   "cell_type": "markdown",
   "id": "5b920739-993f-43cd-807b-46cbb492884c",
   "metadata": {},
   "source": [
    "`str.` est une méthode particulière en `Pandas` qui permet de traiter chaque valeur d’un vecteur comme un `string` natif en `Python` sur lequel appliquer une méthode ultérieure (en l’occurrence `startswith`).\n",
    "\n",
    "L’instruction ci-dessus renvoie un vecteur de booléens. Nous avons vu précédemment que la méthode `loc` servait à faire du *subsetting* sur l’indice des lignes comme des colonnes. Elle fonctionne avec des vecteurs booléens. Dans ce cas, si on fait un *subsetting* sur la dimension ligne (resp. colonne), elle va renvoyer toutes les observations (resp. variable) qui\n",
    "satisfont cette condition.\n",
    "\n",
    "Ainsi, en mettant bout à bout ces deux élements, on peut filter nos données pour n’avoir que les résultats\n",
    "du 92:"
   ]
  },
  {
   "cell_type": "code",
   "execution_count": 32,
   "id": "adab5e7d",
   "metadata": {},
   "outputs": [
    {
     "data": {
      "text/html": [
       "\n",
       "</div>"
      ]
     },
     "metadata": {},
     "output_type": "display_data"
    }
   ],
   "source": [
    "df.loc[df[\"INSEE commune\"].str.startswith(\"92\")].head(2)\n"
   ]
  },
  {
   "cell_type": "markdown",
   "id": "190a59f1-5c99-42bd-a25c-d82d75e67213",
   "metadata": {},
   "source": [
    "Le code SQL équivalent peu varier selon le moteur d’exécution (`DuckDB`, `PostGre`, `MySQL`) mais prendrait une forme similaire à celle-ci:\n",
    "\n",
    "``` sql\n",
    "SELECT * FROM df WHERE STARTSWITH(\"INSEE commune\", \"92\")\n",
    "```\n",
    "\n",
    "## 6.4 Résumé des principales opérations\n",
    "\n",
    "Les principales manipulations sont les suivantes:\n",
    "\n",
    "<table>\n",
    "<colgroup>\n",
    "<col style=\"width: 50%\" />\n",
    "<col style=\"width: 50%\" />\n",
    "</colgroup>\n",
    "<tbody>\n",
    "<tr class=\"odd\">\n",
    "<td style=\"text-align: left;\"><div width=\"50.0%\" data-layout-align=\"left\">\n",
    "<p><img src=\"https://minio.lab.sspcloud.fr/lgaliana/generative-art/pythonds/select_pandas.png\" alt=\"Sélectionner des colonnes\" />\n",
    "<img src=\"https://minio.lab.sspcloud.fr/lgaliana/generative-art/pythonds/rename_pandas.png\" alt=\"Renommer des colonnes\" /></p>\n",
    "</div></td>\n",
    "<td style=\"text-align: left;\"><div width=\"50.0%\" data-layout-align=\"left\">\n",
    "<p><img src=\"https://minio.lab.sspcloud.fr/lgaliana/generative-art/pythonds/mutate_pandas.png\" alt=\"Créer de nouvelles colonnes\" />\n",
    "<img src=\"https://minio.lab.sspcloud.fr/lgaliana/generative-art/pythonds/filter_pandas.png\" alt=\"Sélectionner des lignes\" /></p>\n",
    "</div></td>\n",
    "</tr>\n",
    "</tbody>\n",
    "</table>\n",
    "\n",
    "<table style=\"width:50%;\">\n",
    "<colgroup>\n",
    "<col style=\"width: 50%\" />\n",
    "</colgroup>\n",
    "<tbody>\n",
    "<tr class=\"odd\">\n",
    "<td style=\"text-align: left;\"><div width=\"50.0%\" data-layout-align=\"left\">\n",
    "<figure>\n",
    "<img src=\"https://minio.lab.sspcloud.fr/lgaliana/generative-art/pythonds/arrange_pandas.png\" alt=\"Réordonner le DataFrame\" />\n",
    "<figcaption aria-hidden=\"true\">Réordonner le <em>DataFrame</em></figcaption>\n",
    "</figure>\n",
    "</div></td>\n",
    "</tr>\n",
    "</tbody>\n",
    "</table>\n",
    "\n",
    "# 7. Statistiques descriptives\n",
    "\n",
    "Pour repartir de la source brute, recréeons notre jeu de données pour les exemples:"
   ]
  },
  {
   "cell_type": "code",
   "execution_count": 33,
   "id": "e8f554c7",
   "metadata": {},
   "outputs": [
    {
     "data": {
      "text/html": [
       "\n",
       "</div>"
      ]
     },
     "metadata": {},
     "output_type": "display_data"
    }
   ],
   "source": [
    "df = pd.read_csv(\n",
    "    \"https://koumoul.com/s/data-fair/api/v1/datasets/igt-pouvoir-de-rechauffement-global/convert\"\n",
    ")\n",
    "df.head(3)\n"
   ]
  },
  {
   "cell_type": "markdown",
   "id": "12ad890f-950c-4cdf-b593-f272c7282e3b",
   "metadata": {},
   "source": [
    "`Pandas` embarque plusieurs méthodes pour construire des statistiques agrégées: somme, nombre de valeurs unique, nombre de valeurs non manquantes, moyenne, variance, etc.\n",
    "\n",
    "La méthode la plus générique est `describe`"
   ]
  },
  {
   "cell_type": "code",
   "execution_count": 34,
   "id": "a50e81f4",
   "metadata": {},
   "outputs": [
    {
     "data": {
      "text/html": [
       "\n",
       "</div>"
      ]
     },
     "metadata": {},
     "output_type": "display_data"
    }
   ],
   "source": [
    "df.describe()\n"
   ]
  },
  {
   "cell_type": "markdown",
   "id": "5ba1bfa1-0451-4f18-a9af-59a216de9ae4",
   "metadata": {},
   "source": [
    "qui ressemble à la méthode éponyme en `Stata` ou à la `PROC FREQ` de `SAS`, deux langages propriétaires.\n",
    "Elle nous donne néanmoins beaucoup d’information et on est souvent noyé par celle-ci. Il est donc plus pratique de directement travailler sur quelques colonnes ou de choisir soi-même les statistiques qu’on désire utiliser.\n",
    "\n",
    "## 7.1 Comptages\n",
    "\n",
    "Le premier type de statistiques qu’on peut vouloir mettre en oeuvre relève du comptage ou dénombrement des valeurs.\n",
    "\n",
    "Si on désire, par exemple, connaître le nombre de communes dans notre jeu de données, on pourra utiliser la méthode `count` ou alors `nunique` si on s’intéresse aux valeurs non dupliquées."
   ]
  },
  {
   "cell_type": "code",
   "execution_count": 35,
   "id": "14023108",
   "metadata": {},
   "outputs": [
    {
     "data": {
      "text/plain": [
       "35798"
      ]
     },
     "metadata": {},
     "output_type": "display_data"
    }
   ],
   "source": [
    "df[\"Commune\"].count()\n"
   ]
  },
  {
   "cell_type": "code",
   "execution_count": 36,
   "id": "f92c5035",
   "metadata": {},
   "outputs": [
    {
     "data": {
      "text/plain": [
       "33338"
      ]
     },
     "metadata": {},
     "output_type": "display_data"
    }
   ],
   "source": [
    "df[\"Commune\"].nunique()\n"
   ]
  },
  {
   "cell_type": "markdown",
   "id": "096ed042-fcfc-4e94-bc42-bb2d9aa84a59",
   "metadata": {},
   "source": [
    "En SQL, la première instruction serait `SELECT COUNT(Commune) FROM df`, la seconde `SELECT COUNT DISTINCT Commune FROM df`.\n",
    "Ici, cela ne permet donc de comprendre qu’il peut y avoir des doublons dans la colonne `Commune`, ce dont il faudra tenir compte si on désire identifier nos communes de manière unique (ce sera un sujet lorsque le prochain chapitre abordera la question du croisement des données).\n",
    "\n",
    "La cohérence de la syntaxe `Pandas` permet de faire cela pour plusieurs colonnes de manière simultanée. En SQL cela serait possible mais le code à mettre en oeuvre commence à devenir assez verbeux:"
   ]
  },
  {
   "cell_type": "code",
   "execution_count": 37,
   "id": "b511dd23",
   "metadata": {},
   "outputs": [
    {
     "data": {
      "text/plain": [
       "Commune          35798\n",
       "INSEE commune    35798\n",
       "dtype: int64"
      ]
     },
     "metadata": {},
     "output_type": "display_data"
    }
   ],
   "source": [
    "df.loc[:, [\"Commune\", \"INSEE commune\"]].count()\n"
   ]
  },
  {
   "cell_type": "code",
   "execution_count": 38,
   "id": "862e9b38",
   "metadata": {},
   "outputs": [
    {
     "data": {
      "text/plain": [
       "Commune          33338\n",
       "INSEE commune    35798\n",
       "dtype: int64"
      ]
     },
     "metadata": {},
     "output_type": "display_data"
    }
   ],
   "source": [
    "df.loc[:, [\"Commune\", \"INSEE commune\"]].nunique()\n"
   ]
  },
  {
   "cell_type": "markdown",
   "id": "802c6794-37d5-4df6-901b-5b4d4d11bcd5",
   "metadata": {},
   "source": [
    "Avec ces deux commandes simples, on comprend donc\n",
    "que notre variable `INSEE commune` (le code Insee)\n",
    "sera plus fiable pour identifier des communes\n",
    "que les noms, qui ne sont pas forcément uniques. C’est justement l’objectif du code Insee de proposer\n",
    "un identifiant unique, a contrario du code postal qui peut\n",
    "être partagé par plusieurs communes.\n",
    "\n",
    "## 7.2 Statistiques agrégées\n",
    "\n",
    "`Pandas` embarque plusieurs méthodes pour construire des statistiques sur plusieurs colonnes: somme, moyenne, variance, etc.\n",
    "\n",
    "Les méthodes sont assez transparentes:"
   ]
  },
  {
   "cell_type": "code",
   "execution_count": 39,
   "id": "45fe473f",
   "metadata": {},
   "outputs": [
    {
     "data": {
      "text/plain": [
       "2459.975759687974"
      ]
     },
     "metadata": {},
     "output_type": "display_data"
    }
   ],
   "source": [
    "df[\"Agriculture\"].sum()\n",
    "df[\"Agriculture\"].mean()\n"
   ]
  },
  {
   "cell_type": "markdown",
   "id": "1c9165d9-1c2b-495b-acb2-fb7e292295c8",
   "metadata": {},
   "source": [
    "Là encore, la cohérence de `Pandas` nous permet de généraliser le calcul de statistiques à plusieurs colonnes"
   ]
  },
  {
   "cell_type": "code",
   "execution_count": 40,
   "id": "24bd71e7",
   "metadata": {},
   "outputs": [
    {
     "data": {
      "text/plain": [
       "Agriculture    2459.975760\n",
       "Résidentiel    1783.677872\n",
       "dtype: float64"
      ]
     },
     "metadata": {},
     "output_type": "display_data"
    }
   ],
   "source": [
    "df.loc[:, [\"Agriculture\", \"Résidentiel\"]].sum()\n",
    "df.loc[:, [\"Agriculture\", \"Résidentiel\"]].mean()\n"
   ]
  },
  {
   "cell_type": "markdown",
   "id": "f138f8bc-2943-4be4-933d-b7ced33834b8",
   "metadata": {},
   "source": [
    "Il est possible de généraliser ceci à toutes les colonnes.\n",
    "Cependant, il est nécessaire d’introduire le paramètre `numeric_only` pour ne faire la tâche d’agrégation que sur les variables pertinentes"
   ]
  },
  {
   "cell_type": "code",
   "execution_count": 41,
   "id": "6e14489d",
   "metadata": {},
   "outputs": [
    {
     "data": {
      "text/plain": [
       "Agriculture                        2459.975760\n",
       "Autres transports                   654.919940\n",
       "Autres transports international    7692.344960\n",
       "CO2 biomasse hors-total            1774.381550\n",
       "Déchets                             410.806329\n",
       "Energie                             662.569846\n",
       "Industrie hors-énergie             2423.127789\n",
       "Résidentiel                        1783.677872\n",
       "Routier                            3535.501245\n",
       "Tertiaire                          1105.165915\n",
       "dtype: float64"
      ]
     },
     "metadata": {},
     "output_type": "display_data"
    }
   ],
   "source": [
    "df.mean(numeric_only=True)\n"
   ]
  },
  {
   "cell_type": "markdown",
   "id": "37f63bcb-3f80-4196-9eae-b44111b16afe",
   "metadata": {},
   "source": [
    "<div class=\"alert alert-danger\" role=\"alert\" style=\"color: rgba(0,0,0,.8); background-color: white; margin-top: 1em; margin-bottom: 1em; margin:1.5625emauto; padding:0 .6rem .8rem!important;overflow:hidden; page-break-inside:avoid; border-radius:.25rem; box-shadow:0 .2rem .5rem rgba(0,0,0,.05),0 0 .05rem rgba(0,0,0,.1); transition:color .25s,background-color .25s,border-color .25s ; border-right: 1px solid #dee2e6 ; border-top: 1px solid #dee2e6 ; border-bottom: 1px solid #dee2e6 ; border-left: .2rem solid #ff0039;\">\n",
    "<h3 class=\"alert-heading\"><i class=\"fa fa-exclamation-triangle\"></i> Warning</h3>\n",
    "\n",
    "La version 2.0 de `Pandas` a introduit un changement\n",
    "de comportement dans les méthodes d’agrégation.\n",
    "\n",
    "Il est dorénavant nécessaire de préciser quand on désire\n",
    "effectuer des opérations si on désire ou non le faire\n",
    "exclusivement sur les colonnes numériques. C’est pour cette\n",
    "raison qu’on explicite ici l’argument `numeric_only = True`.\n",
    "Ce comportement\n",
    "était par le passé implicite.\n",
    "\n",
    "</div>"
   ]
  },
  {
   "cell_type": "markdown",
   "id": "15c74e1b-acbb-44c6-b730-03b7d90418a3",
   "metadata": {},
   "source": [
    "La méthode pratique à connaître est `agg`. Celle-ci permet de définir les statistiques qu’on désire calculer pour chaque variable"
   ]
  },
  {
   "cell_type": "code",
   "execution_count": 42,
   "id": "2bf88045",
   "metadata": {},
   "outputs": [
    {
     "data": {
      "text/html": [
       "\n",
       "</div>"
      ]
     },
     "metadata": {},
     "output_type": "display_data"
    }
   ],
   "source": [
    "df.agg(\n",
    "    {\n",
    "        \"Agriculture\": [\"sum\", \"mean\"],\n",
    "        \"Résidentiel\": [\"mean\", \"std\"],\n",
    "        \"Commune\": \"nunique\",\n",
    "    }\n",
    ")\n"
   ]
  },
  {
   "cell_type": "markdown",
   "id": "a690488c-f85d-4043-850a-2479ce36f0a8",
   "metadata": {},
   "source": [
    "La sortie des méthodes d’agrégation est une `Serie` indexée (les méthodes du type `df.sum()`) ou directement un `DataFrame` (la méthode `agg`). Il est en général plus pratique d’avoir un `DataFrame` qu’une `Serie` indexée si on désire retravailler le tableau pour en tirer des conclusions. Il est donc utile de transformer les sorties sous forme de `Serie` en `DataFrame` puis appliquer la méthode `reset_index` pour transformer l’indice en colonne. A partir de là, il sera possible de modifier le `DataFrame` pour rendre celui-ci plus lisible.\n",
    "\n",
    "Par exemple si on s’intéresse à la part de chaque secteur dans les émissions totales, on pourra procéder en deux temps.\n",
    "D’abord on va créer une observation par secteur représentant les émissions totales de celui-ci:"
   ]
  },
  {
   "cell_type": "code",
   "execution_count": 43,
   "id": "23fd59e9",
   "metadata": {},
   "outputs": [
    {
     "data": {
      "text/html": [
       "\n",
       "</div>"
      ]
     },
     "metadata": {},
     "output_type": "display_data"
    }
   ],
   "source": [
    "# Etape 1: création d'un DataFrame propre\n",
    "emissions_totales = pd.DataFrame(\n",
    "    df.sum(numeric_only=True), columns=[\"emissions\"]\n",
    ").reset_index(names=\"secteur\")\n",
    "emissions_totales\n"
   ]
  },
  {
   "cell_type": "markdown",
   "id": "04109060-296a-475e-9fff-57b8945ccbff",
   "metadata": {},
   "source": [
    "Il ne reste plus qu’à travailler *a minima* le jeu de données afin d’avoir déjà quelques conclusions intéressantes sur la structure des émissions en France:"
   ]
  },
  {
   "cell_type": "code",
   "execution_count": 44,
   "id": "a155276f",
   "metadata": {},
   "outputs": [
    {
     "data": {
      "text/html": [
       "\n",
       "</div>"
      ]
     },
     "metadata": {},
     "output_type": "display_data"
    }
   ],
   "source": [
    "emissions_totales[\"emissions (%)\"] = (\n",
    "    100 * emissions_totales[\"emissions\"] / emissions_totales[\"emissions\"].sum()\n",
    ")\n",
    "(emissions_totales.sort_values(\"emissions\", ascending=False).round())\n"
   ]
  },
  {
   "cell_type": "markdown",
   "id": "3a34114a-1772-49f7-9e35-74991f13a863",
   "metadata": {},
   "source": [
    "Ce tableau n’est pas vraiment mis en forme donc encore loin d’être communiquable mais il présente déjà un intérêt dans une perspective exploratoire. Il nous permet de comprendre les secteurs les plus émetteurs, à savoir le transport, l’agriculture et l’industrie, hors énergie. Le fait que l’énergie soit relativement peu émettrice s’explique bien du fait du *mix énergétique* français où le nucléaire représente une majorité de la production électrique.\n",
    "\n",
    "Pour aller plus loin dans la mise en forme de ce tableau afin d’avoir des statistiques communiquables en dehors de `Python`, nous découvrirons au prochain chapitre `great_tables`."
   ]
  },
  {
   "cell_type": "markdown",
   "id": "4520c18a-bc28-47ba-b61f-ed9352fb1dba",
   "metadata": {},
   "source": [
    "<div class=\"alert alert-info\" role=\"alert\" style=\"color: rgba(0,0,0,.8); background-color: white; margin-top: 1em; margin-bottom: 1em; margin:1.5625emauto; padding:0 .6rem .8rem!important;overflow:hidden; page-break-inside:avoid; border-radius:.25rem; box-shadow:0 .2rem .5rem rgba(0,0,0,.05),0 0 .05rem rgba(0,0,0,.1); transition:color .25s,background-color .25s,border-color .25s ; border-right: 1px solid #dee2e6 ; border-top: 1px solid #dee2e6 ; border-bottom: 1px solid #dee2e6 ; border-left:.2rem solid #007bff80;\">\n",
    "<h3 class=\"alert-heading\"><i class=\"fa fa-comment\"></i> Note</h3>\n",
    "\n",
    "La structure de données issue de `df.sum` est assez pratique (elle est *tidy*). On pourrait faire exactement la même opération que `df.sum(numeric_only = True)` avec le code suivant:\n",
    "\n",
    "``` python\n",
    "df.select_dtypes(include=\"number\").agg(func=sum)\n",
    "```\n",
    "\n",
    "    /tmp/ipykernel_4454/2580944462.py:1: FutureWarning:\n",
    "\n",
    "    The provided callable <built-in function sum> is currently using DataFrame.sum. In a future version of pandas, the provided callable will be used directly. To keep current behavior pass the string \"sum\" instead.\n",
    "\n",
    "    Agriculture                        8.790969e+07\n",
    "    Autres transports                  6.535446e+06\n",
    "    Autres transports international    2.223857e+07\n",
    "    CO2 biomasse hors-total            6.351931e+07\n",
    "    Déchets                            1.470358e+07\n",
    "    Energie                            2.285203e+07\n",
    "    Industrie hors-énergie             8.357368e+07\n",
    "    Résidentiel                        6.384140e+07\n",
    "    Routier                            1.264932e+08\n",
    "    Tertiaire                          3.956273e+07\n",
    "    dtype: float64\n",
    "\n",
    "</div>"
   ]
  },
  {
   "cell_type": "markdown",
   "id": "c15c6832-fa50-49c0-bebd-f552572b29f0",
   "metadata": {},
   "source": [
    "## 7.3 Valeurs manquantes\n",
    "\n",
    "Jusqu’à présent nous n’avons pas évoqué ce qui pourrait être un caillou dans la chaussure du *data scientist*, les valeurs manquantes.\n",
    "\n",
    "Les jeux de données réels sont rarement complets et les valeurs manquantes peuvent refléter de nombreuses réalités: problème de remontée d’information, variable non pertinente pour cette observation…\n",
    "\n",
    "Sur le plan technique, `Pandas` ne rencontre pas de problème à gérer les valeurs manquantes (sauf pour les variables `int` mais c’est une exception).\n",
    "Par défaut, les valeurs manquantes sont affichées `NaN` et sont de type `np.nan` (pour\n",
    "les valeurs temporelles, i.e. de type `datatime64`, les valeurs manquantes sont\n",
    "`NaT`).\n",
    "On a un comportement cohérent d’agrégation lorsqu’on combine deux colonnes dont l’une comporte des valeurs manquantes."
   ]
  },
  {
   "cell_type": "code",
   "execution_count": 46,
   "id": "168e28d7",
   "metadata": {},
   "outputs": [
    {
     "data": {
      "text/html": [
       "\n",
       "</div>"
      ]
     },
     "metadata": {},
     "output_type": "display_data"
    }
   ],
   "source": [
    "ventes = pd.DataFrame(\n",
    "    {\n",
    "        \"prix\": np.random.uniform(size=5),\n",
    "        \"client1\": [i + 1 for i in range(5)],\n",
    "        \"client2\": [i + 1 for i in range(4)] + [np.nan],\n",
    "        \"produit\": [np.nan] + [\"yaourt\", \"pates\", \"riz\", \"tomates\"],\n",
    "    }\n",
    ")\n",
    "ventes\n"
   ]
  },
  {
   "cell_type": "markdown",
   "id": "ac4724ab-c166-447a-bff6-c0405738e8bc",
   "metadata": {},
   "source": [
    "`Pandas` va bien refuser de faire l’agrégation car pour lui une valeur manquante n’est pas un zéro:"
   ]
  },
  {
   "cell_type": "code",
   "execution_count": 47,
   "id": "de55c6c3",
   "metadata": {},
   "outputs": [
    {
     "data": {
      "text/plain": [
       "0    2.0\n",
       "1    4.0\n",
       "2    6.0\n",
       "3    8.0\n",
       "4    NaN\n",
       "dtype: float64"
      ]
     },
     "metadata": {},
     "output_type": "display_data"
    }
   ],
   "source": [
    "ventes[\"client1\"] + ventes[\"client2\"]\n"
   ]
  },
  {
   "cell_type": "markdown",
   "id": "6c96fefd-55ce-4333-941d-f9c617974bf0",
   "metadata": {},
   "source": [
    "Il est possible de supprimer les valeurs manquantes grâce à `dropna()`.\n",
    "Cette méthode va supprimer toutes les lignes où il y a au moins une valeur manquante."
   ]
  },
  {
   "cell_type": "code",
   "execution_count": 48,
   "id": "213fcc09",
   "metadata": {},
   "outputs": [
    {
     "data": {
      "text/html": [
       "\n",
       "</div>"
      ]
     },
     "metadata": {},
     "output_type": "display_data"
    }
   ],
   "source": [
    "ventes.dropna()\n"
   ]
  },
  {
   "cell_type": "markdown",
   "id": "873a799c-7eb7-4260-845c-988bdb4fc047",
   "metadata": {},
   "source": [
    "En l’occurrence, on perd deux lignes. Il est aussi possible de supprimer seulement les colonnes où il y a des valeurs manquantes\n",
    "dans un DataFrame avec `dropna()` en utilisant le paramètre `subset`."
   ]
  },
  {
   "cell_type": "code",
   "execution_count": 49,
   "id": "f02caa4d",
   "metadata": {},
   "outputs": [
    {
     "data": {
      "text/html": [
       "\n",
       "</div>"
      ]
     },
     "metadata": {},
     "output_type": "display_data"
    }
   ],
   "source": [
    "ventes.dropna(subset=[\"produit\"])\n"
   ]
  },
  {
   "cell_type": "markdown",
   "id": "b14c8c22-c61a-4b94-bafa-8228379401b9",
   "metadata": {},
   "source": [
    "Cette fois on ne perd plus qu’une ligne, celle où `produit` est manquant.\n",
    "\n",
    "`Pandas` donne la possibilité d’imputer les valeurs manquantes grâce à la méthode `fillna()`. Par exemple, si on pense que les valeurs manquantes dans `produit` sont des valeurs nulles, on pourra faire"
   ]
  },
  {
   "cell_type": "code",
   "execution_count": 50,
   "id": "e9f632b9",
   "metadata": {},
   "outputs": [
    {
     "data": {
      "text/html": [
       "\n",
       "</div>"
      ]
     },
     "metadata": {},
     "output_type": "display_data"
    }
   ],
   "source": [
    "ventes.dropna(subset=[\"produit\"]).fillna(0)\n"
   ]
  },
  {
   "cell_type": "markdown",
   "id": "946a967d-856e-4ad3-baf3-9809043e2d86",
   "metadata": {},
   "source": [
    "Si on désire faire une imputation à la médiane pour la variable `client2`, on changera marginalement ce code\n",
    "en encapsulant à l’intérieur le calcul de la médiane"
   ]
  },
  {
   "cell_type": "code",
   "execution_count": 51,
   "id": "97fa68a2",
   "metadata": {},
   "outputs": [
    {
     "data": {
      "text/plain": [
       "0    1.0\n",
       "1    2.0\n",
       "2    3.0\n",
       "3    4.0\n",
       "4    2.5\n",
       "Name: client2, dtype: float64"
      ]
     },
     "metadata": {},
     "output_type": "display_data"
    }
   ],
   "source": [
    "(ventes[\"client2\"].fillna(ventes[\"client2\"].median()))\n"
   ]
  },
  {
   "cell_type": "markdown",
   "id": "5351efeb-5808-40f4-a2b0-21317ed000fc",
   "metadata": {},
   "source": [
    "Sur des jeux de données du monde réel, il est utile d’utiliser la méthode `isna` (ou `isnull`) combinées avec `sum` ou `mean` pour connaître l’ampleur des valeurs manquantes dans un jeu de données."
   ]
  },
  {
   "cell_type": "code",
   "execution_count": 52,
   "id": "531dc1f2",
   "metadata": {},
   "outputs": [
    {
     "data": {
      "text/plain": [
       "Autres transports international    0.919241\n",
       "Autres transports                  0.721241\n",
       "Energie                            0.036538\n",
       "Industrie hors-énergie             0.036538\n",
       "Agriculture                        0.001732\n",
       "Routier                            0.000559\n",
       "Déchets                            0.000168\n",
       "Résidentiel                        0.000168\n",
       "INSEE commune                      0.000000\n",
       "Commune                            0.000000\n",
       "CO2 biomasse hors-total            0.000000\n",
       "Tertiaire                          0.000000\n",
       "dtype: float64"
      ]
     },
     "metadata": {},
     "output_type": "display_data"
    }
   ],
   "source": [
    "df.isnull().mean().sort_values(ascending=False)\n"
   ]
  },
  {
   "cell_type": "markdown",
   "id": "1c90bef1-1159-4929-91d1-f50e81ff8860",
   "metadata": {},
   "source": [
    "Cette étape préparatoire est utile pour anticiper la question de l’imputation ou du filtre sur les valeurs manquantes: sont-elles *missing at random* ou reflètent-elles un sujet sur la remontée des données ? Les choix relatifs au traitement des valeurs manquantes ne sont pas des choix méthodologiques neutres. `Pandas` donne les outils techniques\n",
    "pour faire ceci mais la question de la légitimité de ces choix et de la pertinence est propre à chaque donnée. Les explorations sur les données visent à détecter des indices pour faire un choix éclairé.\n",
    "\n",
    "# 8. Représentations graphiques rapides\n",
    "\n",
    "Les tableaux de nombre sont certes une informations utile\n",
    "pour comprendre la structure d’un jeu de données mais dont\n",
    "l’aspect dense rend l’appropriation difficile. Avoir un graphique simplement peut être utile pour se représenter, en un coup d’oeil, la distribution des données et ainsi connaître le caractère plus ou moins normal d’une observation.\n",
    "\n",
    "`Pandas` embarque des méthodes graphiques rudimentaires pour répondre à ce besoin. Elles sont pratiques pour\n",
    "produire rapidement un graphique, notamment après des opérations\n",
    "complexes de maniement de données.\n",
    "Nous approfondirons cette problématique des visualisations de données dans la partie [Communiquer](../../content/visualisation.qmd).\n",
    "\n",
    "On peut appliquer la méthode `plot()` directement à une `Serie` :"
   ]
  },
  {
   "cell_type": "code",
   "execution_count": 53,
   "id": "c500a50c",
   "metadata": {},
   "outputs": [
    {
     "data": {
      "image/png": "[encoded data removed]"
     },
     "metadata": {},
     "output_type": "display_data"
    }
   ],
   "source": [
    "df[\"Déchets\"].plot()\n"
   ]
  },
  {
   "cell_type": "markdown",
   "id": "ec8372f1-1eaf-4a88-aa3e-50eb5ead31d1",
   "metadata": {},
   "source": [
    "Le code équivalent avec `matplotlib` serait:"
   ]
  },
  {
   "cell_type": "code",
   "execution_count": 54,
   "id": "9fc829cd",
   "metadata": {},
   "outputs": [
    {
     "data": {
      "image/png": "[encoded data removed]"
     },
     "metadata": {},
     "output_type": "display_data"
    }
   ],
   "source": [
    "import matplotlib.pyplot as plt\n",
    "\n",
    "plt.plot(df.index, df[\"Déchets\"])\n"
   ]
  },
  {
   "cell_type": "markdown",
   "id": "d6393e4e-08f2-4940-ae53-e27bda238663",
   "metadata": {},
   "source": [
    "Par défaut, la visualisation obtenue est une série. Ce n’est\n",
    "pas forcément celle attendue puisqu’elle n’a de sens que pour des séries temporelles. En tant que *data scientist* sur microdonnés, on s’intéresse plus fréquemment à un histogramme pour avoir une idée de la distribution des données.\n",
    "Pour cela, il suffit d’ajouter l’argument `kind = 'hist'`:"
   ]
  },
  {
   "cell_type": "code",
   "execution_count": 55,
   "id": "bcd540a8",
   "metadata": {},
   "outputs": [
    {
     "data": {
      "image/png": "[encoded data removed]"
     },
     "metadata": {},
     "output_type": "display_data"
    }
   ],
   "source": [
    "df[\"Déchets\"].hist()\n"
   ]
  },
  {
   "cell_type": "markdown",
   "id": "abe3a4b8-2b12-4fe0-9a9a-c07e7f5f297e",
   "metadata": {},
   "source": [
    "Avec des données dont la distribution est non normalisée,\n",
    "ce qui représente de nombreuses variables du monde réel,\n",
    "les histogrammes sont généralement peu instructifs. Le *log* peut être une solution\n",
    "pour remettre à une échelle comparable certaines valeurs extrêmes:"
   ]
  },
  {
   "cell_type": "code",
   "execution_count": 56,
   "id": "e75b8bfc",
   "metadata": {},
   "outputs": [
    {
     "data": {
      "image/png": "[encoded data removed]"
     },
     "metadata": {},
     "output_type": "display_data"
    }
   ],
   "source": [
    "df[\"Déchets\"].plot(kind=\"hist\", logy=True)\n"
   ]
  },
  {
   "cell_type": "markdown",
   "id": "46c0ca0a-7a13-4d8c-a684-cba77028c7d7",
   "metadata": {},
   "source": [
    "La sortie est un objet `matplotlib`. La *customisation* de ces\n",
    "figures est ainsi\n",
    "possible (et même désirable car les graphiques `matplotlib`\n",
    "sont, par défaut, assez rudimentaires).\n",
    "Cependant, il s’agit d’une méthode rapide pour la construction\n",
    "de figures qui nécessite du travail pour une visualisation\n",
    "finalisée. Cela passe par un travail approfondi sur l’objet\n",
    "`matplotlib` ou l’utilisation d’une librairie plus haut\n",
    "niveau pour la représentation graphique (`seaborn`, `plotnine`, `plotly`, etc.).\n",
    "\n",
    "La partie de ce cours consacrée à la visualisation de données présentera succinctement ces différents\n",
    "paradigmes de visualisation. Ceux-ci ne dispensent pas de faire\n",
    "preuve de bon sens dans le choix du graphique utilisé\n",
    "pour représenter une statistique descriptive (cf. [cette conférence d’Eric Mauvière](https://ssphub.netlify.app/talk/2024-02-29-mauviere/) ).\n",
    "\n",
    "# 9. Exercice de synthèse\n",
    "\n",
    "Cette exercice synthétise plusieurs étapes de préparation et d’exploration de données pour mieux comprendre la structure\n",
    "du phénomène qu’on désire étudier à savoir les émissions de gaz carbonique en France.\n",
    "\n",
    "Il est recommandé de repartir d’une session vierge (dans un *notebook* il faut faire `Restart Kernel`) pour ne pas avoir un environnement pollué par d’autres objets. Vous pouvez ensuite exécuter le code suivant pour avoir la base nécessaire:"
   ]
  },
  {
   "cell_type": "code",
   "execution_count": 57,
   "id": "c52aae47",
   "metadata": {},
   "outputs": [
    {
     "data": {
      "text/html": [
       "\n",
       "</div>"
      ]
     },
     "metadata": {},
     "output_type": "display_data"
    }
   ],
   "source": [
    "import pandas as pd\n",
    "\n",
    "emissions = pd.read_csv(\n",
    "    \"https://koumoul.com/s/data-fair/api/v1/datasets/igt-pouvoir-de-rechauffement-global/convert\"\n",
    ")\n",
    "emissions.head(2)\n"
   ]
  },
  {
   "cell_type": "markdown",
   "id": "e9705399-c659-4e9b-a374-a93b439f1c06",
   "metadata": {},
   "source": [
    "<div class=\"alert alert-success\" role=\"alert\" style=\"color: rgba(0,0,0,.8); background-color: white; margin-top: 1em; margin-bottom: 1em; margin:1.5625emauto; padding:0 .6rem .8rem!important;overflow:hidden; page-break-inside:avoid; border-radius:.25rem; box-shadow:0 .2rem .5rem rgba(0,0,0,.05),0 0 .05rem rgba(0,0,0,.1); transition:color .25s,background-color .25s,border-color .25s ; border-right: 1px solid #dee2e6 ; border-top: 1px solid #dee2e6 ; border-bottom: 1px solid #dee2e6 ; border-left:.2rem solid #3fb618;\">\n",
    "<h3 class=\"alert-heading\"><i class=\"fa fa-pencil\"></i> Exercice 2: Découverte des verbes de <code>Pandas</code> pour manipuler des données</h3>\n",
    "\n",
    "En premier lieu, on propose de se familiariser avec les opérations sur\n",
    "les colonnes.\n",
    "\n",
    "1.  Créer un *dataframe* `emissions_copy` ne conservant que les colonnes\n",
    "    `INSEE commune`, `Commune`, `Autres transports` et `Autres transports international`\n",
    "\n",
    "<details>\n",
    "\n",
    "<summary>\n",
    "\n",
    "Indice pour cette question\n",
    "\n",
    "</summary>\n",
    "\n",
    "![](https://minio.lab.sspcloud.fr/lgaliana/generative-art/pythonds/select_pandas.png)\n",
    "\n",
    "</details>\n",
    "\n",
    "1.  Comme les noms de variables sont peu pratiques, les renommer de la\n",
    "    manière suivante :\n",
    "    -   `INSEE commune` $\\to$ `code_insee`\n",
    "    -   `Autres transports` $\\to$ `transports`\n",
    "    -   `Autres transports international` $\\to$ `transports_international`\n",
    "\n",
    "<details>\n",
    "\n",
    "<summary>\n",
    "\n",
    "Indice pour cette question\n",
    "\n",
    "</summary>\n",
    "\n",
    "![](https://minio.lab.sspcloud.fr/lgaliana/generative-art/pythonds/rename_pandas.png)\n",
    "\n",
    "</details>\n",
    "\n",
    "1.  On propose, pour simplifier, de remplacer les valeurs manquantes (`NA`)\n",
    "    par la valeur 0. Utiliser la\n",
    "    méthode [`fillna`](https://pandas.pydata.org/docs/reference/api/pandas.DataFrame.fillna.html)\n",
    "    pour transformer les valeurs manquantes en 0.\n",
    "\n",
    "2.  Créer les variables suivantes :\n",
    "\n",
    "    -   `dep`: le département. Celui-ci peut être créé grâce aux deux premiers caractères de `code_insee` en appliquant la méthode `str` ;\n",
    "    -   `transports_total`: les émissions du secteur transports (somme des deux variables)\n",
    "\n",
    "<details>\n",
    "\n",
    "<summary>\n",
    "\n",
    "Indice pour cette question\n",
    "\n",
    "</summary>\n",
    "\n",
    "![](https://minio.lab.sspcloud.fr/lgaliana/generative-art/pythonds/mutate_pandas.png)\n",
    "\n",
    "</details>\n",
    "\n",
    "1.  Ordonner les données du plus gros pollueur au plus petit\n",
    "    puis ordonner les données\n",
    "    du plus gros pollueur au plus petit par département (du 01 au 95).\n",
    "\n",
    "<details>\n",
    "\n",
    "<summary>\n",
    "\n",
    "Indice pour cette question\n",
    "\n",
    "</summary>\n",
    "\n",
    "![](https://minio.lab.sspcloud.fr/lgaliana/generative-art/pythonds/arrange_pandas.png)\n",
    "\n",
    "</details>\n",
    "\n",
    "1.  Ne conserver que les communes appartenant aux départements 13 ou 31.\n",
    "    Ordonner ces communes du plus gros pollueur au plus petit.\n",
    "\n",
    "<details>\n",
    "\n",
    "<summary>\n",
    "\n",
    "Indice pour cette question\n",
    "\n",
    "</summary>\n",
    "\n",
    "![](https://minio.lab.sspcloud.fr/lgaliana/generative-art/pythonds/filter_pandas.png)\n",
    "\n",
    "</details>\n",
    "\n",
    "Revenir au jeu `emission` initial\n",
    "\n",
    "1.  Calculer les émissions totales par secteur. Calculer la part de chaque secteur dans les émissions totales. Transformer en tonnes les volumes avant d’afficher les résultats\n",
    "\n",
    "2.  Calculer pour chaque commune les émissions totales après avoir imputé les valeurs manquantes à 0. Garder les 100 communes les plus émettrices. Calculer la part de chaque secteur dans cette émission. Comprendre les facteurs pouvant expliquer ce classement.\n",
    "\n",
    "<details>\n",
    "\n",
    "<summary>\n",
    "\n",
    "Aide si vous êtes en difficulté sur la question 8\n",
    "\n",
    "</summary>\n",
    "\n",
    "Jouer avec le paramètre `axis` lors de la construction d’une statistique agrégée.\n",
    "\n",
    "</details>\n",
    "\n",
    "</div>"
   ]
  },
  {
   "cell_type": "markdown",
   "id": "50b04196-a334-4207-8730-4b81e1734664",
   "metadata": {},
   "source": [
    "A la question 5, quand on ordonne les communes exclusivement à partir de la variable\n",
    "`transports_total`, on obtient ainsi:"
   ]
  },
  {
   "cell_type": "code",
   "execution_count": 59,
   "id": "67f1378d",
   "metadata": {},
   "outputs": [
    {
     "data": {
      "text/html": [
       "\n",
       "</div>"
      ]
     },
     "metadata": {},
     "output_type": "display_data"
    }
   ],
   "source": []
  },
  {
   "cell_type": "markdown",
   "id": "d2d1324a-b714-484c-910b-8dcaa088b954",
   "metadata": {},
   "source": [
    "A la question 6, on obtient ce classement :"
   ]
  },
  {
   "cell_type": "code",
   "execution_count": 60,
   "id": "3bbc6dbf",
   "metadata": {},
   "outputs": [
    {
     "data": {
      "text/html": [
       "\n",
       "</div>"
      ]
     },
     "metadata": {},
     "output_type": "display_data"
    }
   ],
   "source": []
  },
  {
   "cell_type": "markdown",
   "id": "faace0cc-c4dc-4e96-83a0-68e0ae893308",
   "metadata": {},
   "source": [
    "A la question 7, le tableau obtenu ressemble à"
   ]
  },
  {
   "cell_type": "code",
   "execution_count": 61,
   "id": "3ddfd540",
   "metadata": {},
   "outputs": [
    {
     "data": {
      "text/html": [
       "\n",
       "</div>"
      ]
     },
     "metadata": {},
     "output_type": "display_data"
    }
   ],
   "source": []
  },
  {
   "cell_type": "code",
   "execution_count": 62,
   "id": "5f73c1da",
   "metadata": {},
   "outputs": [
    {
     "data": {
      "text/html": [
       "\n",
       "<p>100 rows × 12 columns</p>\n",
       "</div>"
      ]
     },
     "metadata": {},
     "output_type": "display_data"
    }
   ],
   "source": []
  },
  {
   "cell_type": "markdown",
   "id": "f53e4091-ce4b-495b-9c43-5735cca0899e",
   "metadata": {},
   "source": [
    "A l’issue de la question 8, on comprend un peu mieux les facteurs qui peuvent expliquer une forte émission au niveau communal. Si on regarde les trois principales communes émettrices, on peut remarquer qu’il s’agit de villes avec des raffineries:"
   ]
  },
  {
   "cell_type": "code",
   "execution_count": 64,
   "id": "4ced388f",
   "metadata": {},
   "outputs": [
    {
     "data": {
      "text/html": [
       "\n",
       "<p>3 rows × 24 columns</p>\n",
       "</div>"
      ]
     },
     "metadata": {},
     "output_type": "display_data"
    }
   ],
   "source": []
  },
  {
   "cell_type": "markdown",
   "id": "befe6ddb-f897-44ae-9c61-f6327c5490b8",
   "metadata": {},
   "source": [
    "Grâce à nos explorations minimales avec `Pandas`, on voit que ce jeu de données nous donne donc une information sur la nature du tissu productif français et des conséquences environnementales de certaines activités.\n",
    "\n",
    "# Références\n",
    "\n",
    "-   Le site\n",
    "    [pandas.pydata](https://pandas.pydata.org/pandas-docs/stable/user_guide/basics.html)\n",
    "    fait office de référence\n",
    "\n",
    "-   Le livre `Modern Pandas` de Tom Augspurger : https://tomaugspurger.github.io/modern-1-intro.html\n",
    "\n",
    "McKinney, Wes. 2012. *Python for Data Analysis: Data Wrangling with Pandas, NumPy, and IPython*. \" O’Reilly Media, Inc.\".\n",
    "\n",
    "Wickham, Hadley, Mine Çetinkaya-Rundel, and Garrett Grolemund. 2023. *R for Data Science*. \" O’Reilly Media, Inc.\"."
   ]
  }
 ],
 "metadata": {
  "kernelspec": {
   "display_name": "Python 3 (ipykernel)",
   "language": "python",
   "name": "python3"
  },
  "language_info": {
   "codemirror_mode": {
    "name": "ipython",
    "version": 3
   },
   "file_extension": ".py",
   "mimetype": "text/x-python",
   "name": "python",
   "nbconvert_exporter": "python",
   "pygments_lexer": "ipython3",
   "version": "3.10.13"
  }
 },
 "nbformat": 4,
 "nbformat_minor": 5
}
