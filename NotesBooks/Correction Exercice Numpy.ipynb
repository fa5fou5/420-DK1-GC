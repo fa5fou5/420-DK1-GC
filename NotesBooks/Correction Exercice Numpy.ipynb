{
 "cells": [
  {
   "cell_type": "markdown",
   "metadata": {},
   "source": [
    "# Premier exercice\n",
    "Considérons le vecteur suivant :  __x__ = $\\begin{bmatrix} 1 & 2 & 3 & 4 & 5\\end{bmatrix}$\n",
    " \n",
    "1. Créer ce vecteur à l’aide d’un tableau que l’on appellera `x`.\n",
    "2. Afficher le type de `x` puis sa longueur.\n",
    "3. Extraire le premier élément, puis en faire de même avec le dernier.\n",
    "4. Extraire les trois premiers éléments et les stocker dans un vecteur que l’on nommera `a`.\n",
    "5. Extraire les 1er, 2e et 5e éléments du vecteur (attention aux positions) ; les stocker dans un vecteur que l’on nommera `b`.\n",
    "6. Additionner le nombre 10 au vecteur `x`, puis multiplier le résultat par 2.\n",
    "7. Effectuer l’addition de `a` et `b`, commenter le résultat.\n",
    "8. Effectuer l’addition suivante : `x+a` ; commenter le résultat, puis regarder le résultat de `a+x`.\n",
    "9. Multiplier le vecteur par le scalaire `c` que l’on fixera à 2.\n",
    "10. Effectuer la multiplication de `a` et `b` ; commenter le résultat.\n",
    "11. Effectier la multiplication suivante : `x*a` ; commenter le résultats.\n",
    "12. Récupérer les positions des multiples de 2 et les stocker dans un vecteur que l’on nommera `ind`, puis conserver uniquement les multiples de 2 de x dans un vecteur que l’on nommera `mult_2`.\n",
    "13. Afficher les éléments de `x` qui sont multiples de 3 et multiples de 2.\n",
    "14. Afficher les éléments de `x` qui sont multiples de 3 ou multiples de 2.\n",
    "15. Calculer la somme des éléments de `x`.\n",
    "16. Remplacer le premier élément de `x` par un 4.\n",
    "17. Remplacer le premier élément de `x` par la valeur NaN, puis calculer la somme des éléments de `x`. \n",
    "18. Supprimer le vecteur `x`."
   ]
  },
  {
   "cell_type": "code",
   "execution_count": 2,
   "metadata": {},
   "outputs": [],
   "source": [
    "import numpy as np"
   ]
  },
  {
   "cell_type": "code",
   "execution_count": 41,
   "metadata": {},
   "outputs": [],
   "source": [
    "# 1. Création du vecteur x\n",
    "x = np.array((1,2,3,4,5))"
   ]
  },
  {
   "cell_type": "code",
   "execution_count": 4,
   "metadata": {},
   "outputs": [
    {
     "name": "stdout",
     "output_type": "stream",
     "text": [
      "Type x: <class 'numpy.ndarray'> \n",
      "Longueur x: 5\n"
     ]
    }
   ],
   "source": [
    "# 2. Affichage du type de x et sa longueur\n",
    "print(\"Type x:\",type(x),\"\\nLongueur x:\", len(x))"
   ]
  },
  {
   "cell_type": "code",
   "execution_count": 6,
   "metadata": {},
   "outputs": [
    {
     "data": {
      "text/plain": [
       "(1, 5)"
      ]
     },
     "execution_count": 6,
     "metadata": {},
     "output_type": "execute_result"
    }
   ],
   "source": [
    "# 3. Extraction du premier élèment et du dernier element\n",
    "x[0], x[-1]"
   ]
  },
  {
   "cell_type": "code",
   "execution_count": 73,
   "metadata": {},
   "outputs": [
    {
     "name": "stdout",
     "output_type": "stream",
     "text": [
      "[1 2 3]\n",
      "Vecteur a : [1 2 3]\n"
     ]
    }
   ],
   "source": [
    "# 4. Extraire les trois premiers éléments  et les stocker dans un vecteur que l’on nommera a.\n",
    "a = x[0:3]\n",
    "print(a)\n",
    "# Extraire les trois premiers éléments et les stocker dans un vecteur a\n",
    "a = x[:3]\n",
    "print(\"Vecteur a :\", a)"
   ]
  },
  {
   "cell_type": "code",
   "execution_count": 21,
   "metadata": {},
   "outputs": [
    {
     "name": "stdout",
     "output_type": "stream",
     "text": [
      "[1, 2, 5] <class 'list'>\n"
     ]
    }
   ],
   "source": [
    "# 5. Extraire les 1er, 2e et 5e éléments du vecteur \n",
    "b = [x[0], x[1], x[4]] # attention le type de b dans ce cas une une liste\n",
    "print(b, type(b))"
   ]
  },
  {
   "cell_type": "code",
   "execution_count": 24,
   "metadata": {},
   "outputs": [
    {
     "name": "stdout",
     "output_type": "stream",
     "text": [
      "[1 2 5] <class 'numpy.ndarray'>\n"
     ]
    }
   ],
   "source": [
    "b = x[[0,1,4]]  # attention le type de b dans ce cas un array\n",
    "print(b, type(b))"
   ]
  },
  {
   "cell_type": "code",
   "execution_count": 25,
   "metadata": {},
   "outputs": [
    {
     "name": "stdout",
     "output_type": "stream",
     "text": [
      "[1 2 5] <class 'numpy.ndarray'>\n"
     ]
    }
   ],
   "source": [
    "# autre maniere\n",
    "indices = [0,1,4]\n",
    "b=x[indices]\n",
    "# b = np.array(b)\n",
    "print(b, type(b))"
   ]
  },
  {
   "cell_type": "code",
   "execution_count": 74,
   "metadata": {},
   "outputs": [
    {
     "name": "stdout",
     "output_type": "stream",
     "text": [
      "Résultat de l'addition de 10 et la multiplication par 2 de x : [22 24 26 28 30]\n"
     ]
    }
   ],
   "source": [
    "# 6. Additionner le nombre 10 au vecteur x, puis multiplier le résultat par 2.\n",
    "x_plus_10 = (x + 10) * 2\n",
    "print(\"Résultat de l'addition de 10 et la multiplication par 2 de x :\", x_plus_10)"
   ]
  },
  {
   "cell_type": "code",
   "execution_count": 29,
   "metadata": {},
   "outputs": [
    {
     "data": {
      "text/plain": [
       "array([2, 4, 8])"
      ]
     },
     "execution_count": 29,
     "metadata": {},
     "output_type": "execute_result"
    }
   ],
   "source": [
    "# 7. Effectuer l’addition de a et b, commenter le résultat\n",
    "a+b"
   ]
  },
  {
   "cell_type": "code",
   "execution_count": 42,
   "metadata": {},
   "outputs": [
    {
     "ename": "ValueError",
     "evalue": "operands could not be broadcast together with shapes (5,) (3,) ",
     "output_type": "error",
     "traceback": [
      "\u001b[1;31m---------------------------------------------------------------------------\u001b[0m",
      "\u001b[1;31mValueError\u001b[0m                                Traceback (most recent call last)",
      "Cell \u001b[1;32mIn[42], line 2\u001b[0m\n\u001b[0;32m      1\u001b[0m \u001b[38;5;66;03m# 8. Effectuer l’addition suivante : x+a ; commenter le résultat, puis regarder le résultat de a+x\u001b[39;00m\n\u001b[1;32m----> 2\u001b[0m \u001b[43mx\u001b[49m\u001b[38;5;241;43m+\u001b[39;49m\u001b[43ma\u001b[49m\n",
      "\u001b[1;31mValueError\u001b[0m: operands could not be broadcast together with shapes (5,) (3,) "
     ]
    }
   ],
   "source": [
    "# 8. Effectuer l’addition suivante : x+a ; commenter le résultat, puis regarder le résultat de a+x\n",
    "x+a\n",
    "# L'addition x + a ne peut pas être effectuée car les deux vecteurs n'ont pas la même taille."
   ]
  },
  {
   "cell_type": "code",
   "execution_count": 43,
   "metadata": {},
   "outputs": [
    {
     "ename": "ValueError",
     "evalue": "operands could not be broadcast together with shapes (3,) (5,) ",
     "output_type": "error",
     "traceback": [
      "\u001b[1;31m---------------------------------------------------------------------------\u001b[0m",
      "\u001b[1;31mValueError\u001b[0m                                Traceback (most recent call last)",
      "Cell \u001b[1;32mIn[43], line 1\u001b[0m\n\u001b[1;32m----> 1\u001b[0m \u001b[43ma\u001b[49m\u001b[38;5;241;43m+\u001b[39;49m\u001b[43mx\u001b[49m\n",
      "\u001b[1;31mValueError\u001b[0m: operands could not be broadcast together with shapes (3,) (5,) "
     ]
    }
   ],
   "source": [
    "a+x"
   ]
  },
  {
   "cell_type": "code",
   "execution_count": 75,
   "metadata": {},
   "outputs": [
    {
     "name": "stdout",
     "output_type": "stream",
     "text": [
      "Résultat de la multiplication de x par le scalaire c : [ 2  4  6  8 10]\n"
     ]
    }
   ],
   "source": [
    "# Multiplier le vecteur par le scalaire c que l’on fixera à 2\n",
    "c = 2\n",
    "mult_c = x * c\n",
    "print(\"Résultat de la multiplication de x par le scalaire c :\", mult_c)"
   ]
  },
  {
   "cell_type": "code",
   "execution_count": 76,
   "metadata": {},
   "outputs": [
    {
     "name": "stdout",
     "output_type": "stream",
     "text": [
      "Résultat de la multiplication de a et b : [ 1  4 15]\n"
     ]
    }
   ],
   "source": [
    "# 10. Effectuer la multiplication de a et b ; commenter le résultat.\n",
    "mult_ab = a * b\n",
    "print(\"Résultat de la multiplication de a et b :\", mult_ab)"
   ]
  },
  {
   "cell_type": "code",
   "execution_count": 77,
   "metadata": {},
   "outputs": [
    {
     "ename": "ValueError",
     "evalue": "operands could not be broadcast together with shapes (5,) (3,) ",
     "output_type": "error",
     "traceback": [
      "\u001b[1;31m---------------------------------------------------------------------------\u001b[0m",
      "\u001b[1;31mValueError\u001b[0m                                Traceback (most recent call last)",
      "Cell \u001b[1;32mIn[77], line 2\u001b[0m\n\u001b[0;32m      1\u001b[0m \u001b[38;5;66;03m# 11. Effectier la multiplication suivante : x*a ; commenter le résultats.\u001b[39;00m\n\u001b[1;32m----> 2\u001b[0m mult_xa \u001b[38;5;241m=\u001b[39m \u001b[43mx\u001b[49m\u001b[43m \u001b[49m\u001b[38;5;241;43m*\u001b[39;49m\u001b[43m \u001b[49m\u001b[43ma\u001b[49m\n\u001b[0;32m      3\u001b[0m \u001b[38;5;28mprint\u001b[39m(\u001b[38;5;124m\"\u001b[39m\u001b[38;5;124mRésultat de la multiplication de x et a :\u001b[39m\u001b[38;5;124m\"\u001b[39m, mult_xa)\n",
      "\u001b[1;31mValueError\u001b[0m: operands could not be broadcast together with shapes (5,) (3,) "
     ]
    }
   ],
   "source": [
    "# 11. Effectier la multiplication suivante : x*a ; commenter le résultats.\n",
    "mult_xa = x * a\n",
    "print(\"Résultat de la multiplication de x et a :\", mult_xa)"
   ]
  },
  {
   "cell_type": "code",
   "execution_count": null,
   "metadata": {},
   "outputs": [],
   "source": [
    "# 12. Récupérer les positions des multiples de 2 et les stocker dans un vecteur que l’on nommera ind, \n",
    "# puis conserver uniquement les multiples de 2 de x dans un vecteur que l’on nommera mult_2."
   ]
  },
  {
   "cell_type": "code",
   "execution_count": 60,
   "metadata": {},
   "outputs": [
    {
     "data": {
      "text/plain": [
       "(array([1, 3], dtype=int64),)"
      ]
     },
     "execution_count": 60,
     "metadata": {},
     "output_type": "execute_result"
    }
   ],
   "source": [
    "ind = np.where(x%2==0)\n",
    "ind"
   ]
  },
  {
   "cell_type": "code",
   "execution_count": 61,
   "metadata": {},
   "outputs": [
    {
     "data": {
      "text/plain": [
       "array([2, 4])"
      ]
     },
     "execution_count": 61,
     "metadata": {},
     "output_type": "execute_result"
    }
   ],
   "source": [
    "mult_2 = x[ind]\n",
    "mult_2"
   ]
  },
  {
   "cell_type": "code",
   "execution_count": 67,
   "metadata": {},
   "outputs": [
    {
     "name": "stdout",
     "output_type": "stream",
     "text": [
      "[]\n"
     ]
    }
   ],
   "source": [
    "# 13. Afficher les éléments de x qui sont multiples de 3 et multiples de 2.\n",
    "# Trouver les indices des éléments multiples de 2 et de 3\n",
    "indices = np.where((x % 2 == 0) & (x % 3 == 0))\n",
    "\n",
    "# Afficher les éléments correspondants\n",
    "print(x[indices])"
   ]
  },
  {
   "cell_type": "code",
   "execution_count": 68,
   "metadata": {},
   "outputs": [
    {
     "name": "stdout",
     "output_type": "stream",
     "text": [
      "[]\n"
     ]
    }
   ],
   "source": [
    "result = x[np.logical_and(x % 2 == 0, x % 3 == 0)]\n",
    "print(result)"
   ]
  },
  {
   "cell_type": "code",
   "execution_count": 70,
   "metadata": {},
   "outputs": [
    {
     "name": "stdout",
     "output_type": "stream",
     "text": [
      "[2 3 4]\n"
     ]
    }
   ],
   "source": [
    "# 14. Afficher les éléments de x qui sont multiples de 3 ou multiples de 2\n",
    "indices = np.where((x % 2 == 0) | (x % 3 == 0))\n",
    "print(x[indices])"
   ]
  },
  {
   "cell_type": "code",
   "execution_count": 71,
   "metadata": {},
   "outputs": [
    {
     "name": "stdout",
     "output_type": "stream",
     "text": [
      "[2 3 4]\n"
     ]
    }
   ],
   "source": [
    "result = x[np.logical_or(x % 2 == 0, x % 3 == 0)]\n",
    "print(result)"
   ]
  },
  {
   "cell_type": "code",
   "execution_count": 80,
   "metadata": {},
   "outputs": [
    {
     "name": "stdout",
     "output_type": "stream",
     "text": [
      "15\n",
      "Somme des éléments de x : 15\n"
     ]
    }
   ],
   "source": [
    "# 15. Calculer la somme des éléments de x\n",
    "print(sum(x))\n",
    "somme_x = np.sum(x)\n",
    "print(\"Somme des éléments de x :\", somme_x)"
   ]
  },
  {
   "cell_type": "code",
   "execution_count": 81,
   "metadata": {},
   "outputs": [
    {
     "name": "stdout",
     "output_type": "stream",
     "text": [
      "[4 2 3 4 5]\n"
     ]
    }
   ],
   "source": [
    "# 16. Remplacer le premier élément de x par un 4.\n",
    "x[0]=4\n",
    "print(\"Vecteur x après remplacement du premier élément par 4:\", x)"
   ]
  },
  {
   "cell_type": "code",
   "execution_count": 90,
   "metadata": {},
   "outputs": [
    {
     "name": "stdout",
     "output_type": "stream",
     "text": [
      "Somme des éléments de x après remplacement du premier élément par NaN : nan\n"
     ]
    }
   ],
   "source": [
    "# 17. Remplacer le premier élément de x par la valeur NaN, puis calculer la somme des éléments de x.\n",
    "x = x.astype(dtype=float)\n",
    "x[0] = np.nan\n",
    "somme_x_nan = np.sum(x)\n",
    "print(\"Somme des éléments de x après remplacement du premier élément par NaN :\", somme_x_nan)"
   ]
  },
  {
   "cell_type": "code",
   "execution_count": 91,
   "metadata": {},
   "outputs": [],
   "source": [
    "# 18. Supprimer le vecteur x\n",
    "del x"
   ]
  },
  {
   "cell_type": "markdown",
   "metadata": {},
   "source": [
    "# Deuxième exercice\n",
    "1. Créer la matrice suivante :\n",
    "__A__ = $\\begin{bmatrix} -3 & 5 & 6\\\\-1 & 2 & 2\\\\1 & -1 & -1 \\end{bmatrix}$\n",
    "2. Afficher la dimension de __A__, son nombre de colonnes, son nombre de lignes et sa longueur.\n",
    "3. Extraire la seconde colonne de __A__, puis la première ligne.\n",
    "4. Extraire l’élément en troisième position à la première ligne.\n",
    "5. Extraire la sous-matrice de dimension 2x2 du coin inférieur de __A__, c’est-à-dire $\\begin{bmatrix} 2 & 2 \\\\-1 & -1 \\end{bmatrix}$\n",
    "6. Calculer la somme des colonnes puis des lignes de __A__.\n",
    "7. Afficher la diagonale de __A__.\n",
    "8. Rajouter le vecteur $\\begin{bmatrix} 1 & 2 & 3 \\end{bmatrix}^T$ à droite de la matrice A et stocker le résultat dans un objet appelé __B__.\n",
    "9. Retirer le quatrième vecteur de __B__.\n",
    "10. Retirer la première et la troisième ligne de __B__.\n",
    "11. Ajouter le scalaire 10 à __A__.\n",
    "12. Ajouter le vecteur $\\begin{bmatrix} 1 & 2 & 3 \\end{bmatrix}^T$ à __A__.\n",
    "13. Ajouter la matrice identité $I_3$ à __A__.\n",
    "14. Diviser tous les éléments de la matrice __A__ par 2.\n",
    "15. Multiplier la matrice __A__ par le vecteur ligne $\\begin{bmatrix}1 & 2 & 3 \\end{bmatrix}^T$.\n",
    "16. Afficher la transposée de __A__.\n",
    "17. Effectuer le produit avec transposition $A^TA$."
   ]
  },
  {
   "cell_type": "code",
   "execution_count": 92,
   "metadata": {},
   "outputs": [],
   "source": [
    "import numpy as np"
   ]
  },
  {
   "cell_type": "code",
   "execution_count": 139,
   "metadata": {},
   "outputs": [
    {
     "name": "stdout",
     "output_type": "stream",
     "text": [
      "[[-3  5  6]\n",
      " [-1  2  2]\n",
      " [ 1 -1 -1]]\n"
     ]
    }
   ],
   "source": [
    "# 1. Créer la matrice suivante : A\n",
    "A = np.array([[-3, 5, 6],[-1, 2, 2], [1, -1, -1]])\n",
    "print(A)"
   ]
  },
  {
   "cell_type": "code",
   "execution_count": 105,
   "metadata": {},
   "outputs": [
    {
     "name": "stdout",
     "output_type": "stream",
     "text": [
      "Dimension de A : (3, 3)\n",
      "Nombre de colonnes de A : 3\n",
      "Nombre de lignes de A : 3\n",
      "Longueur de A : 9\n"
     ]
    }
   ],
   "source": [
    "# 2. Afficher la dimension de A, son nombre de colonnes, son nombre de lignes et sa longueur.\n",
    "print(\"Dimension de A :\", A.)\n",
    "print(\"Nombre de colonnes de A :\", A.shape[1])\n",
    "print(\"Nombre de lignes de A :\", A.shape[0])\n",
    "print(\"Longueur de A :\", A.size)"
   ]
  },
  {
   "cell_type": "code",
   "execution_count": 107,
   "metadata": {},
   "outputs": [
    {
     "name": "stdout",
     "output_type": "stream",
     "text": [
      "Deuxième colonne de A : [ 5  2 -1]\n",
      "Première ligne de A : [-3  5  6]\n"
     ]
    }
   ],
   "source": [
    "# 3. Extraire la seconde colonne de A, puis la première ligne.\n",
    "#premiere colonne\n",
    "deuxieme_colonne = A[:, 1]\n",
    "premiere_ligne = A[0, :]\n",
    "print(\"Deuxième colonne de A :\", deuxieme_colonne)\n",
    "print(\"Première ligne de A :\", premiere_ligne)"
   ]
  },
  {
   "cell_type": "code",
   "execution_count": 112,
   "metadata": {},
   "outputs": [
    {
     "name": "stdout",
     "output_type": "stream",
     "text": [
      "Élément en troisième position de la première ligne : 6\n"
     ]
    }
   ],
   "source": [
    "# 4. Extraire l’élément en troisième position à la première ligne\n",
    "element_troisieme_position = A[0, 2]\n",
    "print(\"Élément en troisième position de la première ligne :\", element_troisieme_position)"
   ]
  },
  {
   "cell_type": "code",
   "execution_count": 117,
   "metadata": {},
   "outputs": [
    {
     "name": "stdout",
     "output_type": "stream",
     "text": [
      "Sous-matrice de dimension 2x2 :\n",
      " [[ 2  2]\n",
      " [-1 -1]]\n"
     ]
    }
   ],
   "source": [
    "# 5. Extraire la sous-matrice de dimension 2x2 du coin inférieur de A\n",
    "sous_matrice = A[1:,1:]\n",
    "print(\"Sous-matrice de dimension 2x2 :\\n\", sous_matrice)"
   ]
  },
  {
   "cell_type": "code",
   "execution_count": 118,
   "metadata": {},
   "outputs": [
    {
     "name": "stdout",
     "output_type": "stream",
     "text": [
      "Somme des colonnes de A : [-3  6  7]\n",
      "Somme des lignes de A : [ 8  3 -1]\n"
     ]
    }
   ],
   "source": [
    "# 6. Calculer la somme des colonnes puis des lignes de A\n",
    "somme_colonnes = np.sum(A, axis=0)\n",
    "somme_lignes = np.sum(A, axis=1)\n",
    "print(\"Somme des colonnes de A :\", somme_colonnes)\n",
    "print(\"Somme des lignes de A :\", somme_lignes)"
   ]
  },
  {
   "cell_type": "code",
   "execution_count": 119,
   "metadata": {},
   "outputs": [
    {
     "name": "stdout",
     "output_type": "stream",
     "text": [
      "Diagonale de A : [-3  2 -1]\n"
     ]
    }
   ],
   "source": [
    "# 7. Afficher la diagonale de A\n",
    "diagonale_A = np.diagonal(A)\n",
    "print(\"Diagonale de A :\", diagonale_A)"
   ]
  },
  {
   "cell_type": "code",
   "execution_count": 122,
   "metadata": {},
   "outputs": [
    {
     "data": {
      "text/plain": [
       "array([[-3,  0,  0],\n",
       "       [ 0,  2,  0],\n",
       "       [ 0,  0, -1]])"
      ]
     },
     "execution_count": 122,
     "metadata": {},
     "output_type": "execute_result"
    }
   ],
   "source": [
    "np.diag(diagonale_A)"
   ]
  },
  {
   "cell_type": "code",
   "execution_count": 133,
   "metadata": {},
   "outputs": [
    {
     "name": "stdout",
     "output_type": "stream",
     "text": [
      "Matrice B :\n",
      " [[-3  5  6  1]\n",
      " [-1  2  2  2]\n",
      " [ 1 -1 -1  3]]\n"
     ]
    }
   ],
   "source": [
    "# 8. Rajouter le vecteur [1 2 3]^T à droite de la matrice A et stocker le résultat dans un objet appelé B\n",
    "B = np.hstack((A, np.array([[1, 2, 3]]).T))\n",
    "print(\"Matrice B :\\n\", B)"
   ]
  },
  {
   "cell_type": "code",
   "execution_count": 134,
   "metadata": {},
   "outputs": [
    {
     "name": "stdout",
     "output_type": "stream",
     "text": [
      "Matrice B après retirer le quatrième vecteur :\n",
      " [[-3  5  6]\n",
      " [-1  2  2]\n",
      " [ 1 -1 -1]]\n"
     ]
    }
   ],
   "source": [
    "# 9. Retirer le quatrième vecteur de B\n",
    "B = B[:, :-1]\n",
    "print(\"Matrice B après retirer le quatrième vecteur :\\n\", B)"
   ]
  },
  {
   "cell_type": "code",
   "execution_count": 135,
   "metadata": {},
   "outputs": [
    {
     "name": "stdout",
     "output_type": "stream",
     "text": [
      "Matrice B après retirer la première ligne : [-1  2  2]\n"
     ]
    }
   ],
   "source": [
    "# 10. Retirer la première et la troisième ligne de B\n",
    "B = B[[1], :]\n",
    "print(\"Matrice B après retirer la première ligne :\", B)"
   ]
  },
  {
   "cell_type": "code",
   "execution_count": 142,
   "metadata": {},
   "outputs": [
    {
     "name": "stdout",
     "output_type": "stream",
     "text": [
      "Matrice A après ajout du scalaire 10 : [[ 7 15 16]\n",
      " [ 9 12 12]\n",
      " [11  9  9]]\n"
     ]
    }
   ],
   "source": [
    "# 11. Ajouter le scalaire 10 à A\n",
    "A += 10\n",
    "print(\"Matrice A après ajout du scalaire 10 :\", A)"
   ]
  },
  {
   "cell_type": "code",
   "execution_count": 137,
   "metadata": {},
   "outputs": [
    {
     "name": "stdout",
     "output_type": "stream",
     "text": [
      "Matrice A après ajout du vecteur [1 2 3]^T : [[ 7 15 16  1]\n",
      " [ 9 12 12  2]\n",
      " [11  9  9  3]]\n"
     ]
    }
   ],
   "source": [
    "# 12. Ajouter le vecteur [1 2 3]^T à A\n",
    "A = np.hstack((A, np.array([[1, 2, 3]]).T))\n",
    "print(\"Matrice A après ajout du vecteur [1 2 3]^T :\", A)"
   ]
  },
  {
   "cell_type": "code",
   "execution_count": 146,
   "metadata": {},
   "outputs": [
    {
     "name": "stdout",
     "output_type": "stream",
     "text": [
      "Matrice A après ajout de la matrice identité : [[ 8 15 16]\n",
      " [ 9 13 12]\n",
      " [11  9 10]]\n"
     ]
    }
   ],
   "source": [
    "# 13. Ajouter la matrice identité I3 à A\n",
    "A += np.eye(3,dtype='int32')\n",
    "print(\"Matrice A après ajout de la matrice identité :\", A)"
   ]
  },
  {
   "cell_type": "code",
   "execution_count": 153,
   "metadata": {},
   "outputs": [
    {
     "name": "stdout",
     "output_type": "stream",
     "text": [
      "Matrice A après division par 2 :\n",
      " [[1.   1.75 2.  ]\n",
      " [1.   1.5  1.5 ]\n",
      " [1.25 1.   1.25]]\n"
     ]
    }
   ],
   "source": [
    "# 14. Diviser tous les éléments de la matrice A par 2\n",
    "# Convertir la matrice A en type float\n",
    "A = A.astype(float)\n",
    "A /= 2\n",
    "print(\"Matrice A après division par 2 :\\n\", A)"
   ]
  },
  {
   "cell_type": "code",
   "execution_count": 158,
   "metadata": {},
   "outputs": [
    {
     "name": "stdout",
     "output_type": "stream",
     "text": [
      "Produit de la matrice A par le vecteur [1 2 3] :\n",
      " [[1.   3.5  6.  ]\n",
      " [1.   3.   4.5 ]\n",
      " [1.25 2.   3.75]]\n"
     ]
    }
   ],
   "source": [
    "# 15. Multiplier la matrice A par le vecteur ligne [1 2 3]^T\n",
    "produit = A * np.array([[1, 2, 3]])\n",
    "print(\"Produit de la matrice A par le vecteur [1 2 3] :\\n\", produit)"
   ]
  },
  {
   "cell_type": "code",
   "execution_count": 160,
   "metadata": {},
   "outputs": [
    {
     "name": "stdout",
     "output_type": "stream",
     "text": [
      "Produit de la matrice A par le vecteur [1 2 3]^T :\n",
      " [[10.5]\n",
      " [ 8.5]\n",
      " [ 7. ]]\n"
     ]
    }
   ],
   "source": [
    "produit = np.dot(A, np.array([[1, 2, 3]]).T)\n",
    "print(\"Produit de la matrice A par le vecteur [1 2 3]^T :\\n\", produit)"
   ]
  },
  {
   "cell_type": "code",
   "execution_count": 161,
   "metadata": {},
   "outputs": [
    {
     "name": "stdout",
     "output_type": "stream",
     "text": [
      "Matrice A transposée : [[1.   1.   1.25]\n",
      " [1.75 1.5  1.  ]\n",
      " [2.   1.5  1.25]]\n"
     ]
    }
   ],
   "source": [
    "# 16. Afficher la transposée de A\n",
    "A_transpose = A.T\n",
    "print(\"Matrice A transposée :\", A_transpose)"
   ]
  },
  {
   "cell_type": "code",
   "execution_count": 162,
   "metadata": {},
   "outputs": [
    {
     "name": "stdout",
     "output_type": "stream",
     "text": [
      "Produit de A^TA : [[3.5625 4.5    5.0625]\n",
      " [4.5    6.3125 7.    ]\n",
      " [5.0625 7.     7.8125]]\n"
     ]
    }
   ],
   "source": [
    "# 17. Effectuer le produit avec transposition A^TA\n",
    "produit_transpose = np.dot(A_transpose, A)\n",
    "print(\"Produit de A^TA :\", produit_transpose)"
   ]
  }
 ],
 "metadata": {
  "kernelspec": {
   "display_name": "Python 3 (ipykernel)",
   "language": "python",
   "name": "python3"
  },
  "language_info": {
   "codemirror_mode": {
    "name": "ipython",
    "version": 3
   },
   "file_extension": ".py",
   "mimetype": "text/x-python",
   "name": "python",
   "nbconvert_exporter": "python",
   "pygments_lexer": "ipython3",
   "version": "3.10.13"
  }
 },
 "nbformat": 4,
 "nbformat_minor": 4
}
