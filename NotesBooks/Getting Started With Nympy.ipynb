{
 "cells": [
  {
   "cell_type": "markdown",
   "id": "f7c42ee6-3ce9-46bf-bd16-82368ec48ae9",
   "metadata": {},
   "source": [
    "# Getting Started with **Numpy**\n",
    "\n",
    "Prénom:  \n",
    "Nom:"
   ]
  },
  {
   "cell_type": "markdown",
   "id": "1deaad8c-4e20-4f6e-ba28-a053a52d67c3",
   "metadata": {},
   "source": [
    "## Import Numpy"
   ]
  },
  {
   "cell_type": "code",
   "execution_count": 3,
   "id": "cbfc7676-a45a-488d-bc01-af9f42827025",
   "metadata": {},
   "outputs": [],
   "source": [
    "from numpy import *"
   ]
  },
  {
   "cell_type": "code",
   "execution_count": 4,
   "id": "90bec7d3-fab8-41ab-a855-02987b31965f",
   "metadata": {},
   "outputs": [
    {
     "data": {
      "text/plain": [
       "'1.26.4'"
      ]
     },
     "execution_count": 4,
     "metadata": {},
     "output_type": "execute_result"
    }
   ],
   "source": [
    "__version__"
   ]
  },
  {
   "cell_type": "code",
   "execution_count": 8,
   "id": "8bc56416-fa1c-4cf4-b766-c889e0e52e55",
   "metadata": {},
   "outputs": [],
   "source": [
    "from numpy import \\\n",
    "array"
   ]
  },
  {
   "cell_type": "markdown",
   "id": "1c675460-ba50-49a4-8c87-15209989d123",
   "metadata": {},
   "source": [
    "## Simple array math"
   ]
  },
  {
   "cell_type": "code",
   "execution_count": 13,
   "id": "38613483-aa7a-420b-9c76-b9f2281744dc",
   "metadata": {},
   "outputs": [],
   "source": [
    "a = array([1,2,3,4])\n",
    "b = array([2,3,4,5])"
   ]
  },
  {
   "cell_type": "code",
   "execution_count": 14,
   "id": "f0568dca-e289-43a6-af55-a3a5719dfd63",
   "metadata": {},
   "outputs": [
    {
     "data": {
      "text/plain": [
       "array([3, 5, 7, 9])"
      ]
     },
     "execution_count": 14,
     "metadata": {},
     "output_type": "execute_result"
    }
   ],
   "source": [
    "a+b"
   ]
  },
  {
   "cell_type": "code",
   "execution_count": 15,
   "id": "49c79d86-1e3b-4f61-b693-161c5e8e5739",
   "metadata": {},
   "outputs": [
    {
     "data": {
      "text/plain": [
       "array([ 2,  6, 12, 20])"
      ]
     },
     "execution_count": 15,
     "metadata": {},
     "output_type": "execute_result"
    }
   ],
   "source": [
    "a*b"
   ]
  },
  {
   "cell_type": "code",
   "execution_count": 16,
   "id": "4e75137e-daae-416b-be57-25c41515ba9a",
   "metadata": {},
   "outputs": [
    {
     "data": {
      "text/plain": [
       "array([   1,    8,   81, 1024])"
      ]
     },
     "execution_count": 16,
     "metadata": {},
     "output_type": "execute_result"
    }
   ],
   "source": [
    "a**b"
   ]
  },
  {
   "cell_type": "markdown",
   "id": "b18a73de-687e-40ab-a17d-a2ec27da845c",
   "metadata": {},
   "source": [
    "## Math Functions"
   ]
  },
  {
   "cell_type": "code",
   "execution_count": null,
   "id": "07538919-5792-4aab-a4d7-116299ce0848",
   "metadata": {},
   "outputs": [],
   "source": []
  },
  {
   "cell_type": "code",
   "execution_count": null,
   "id": "951e7381-a73c-4763-aff2-47bd055038bd",
   "metadata": {},
   "outputs": [],
   "source": []
  }
 ],
 "metadata": {
  "kernelspec": {
   "display_name": "Python 3 (ipykernel)",
   "language": "python",
   "name": "python3"
  },
  "language_info": {
   "codemirror_mode": {
    "name": "ipython",
    "version": 3
   },
   "file_extension": ".py",
   "mimetype": "text/x-python",
   "name": "python",
   "nbconvert_exporter": "python",
   "pygments_lexer": "ipython3",
   "version": "3.10.13"
  }
 },
 "nbformat": 4,
 "nbformat_minor": 5
}
