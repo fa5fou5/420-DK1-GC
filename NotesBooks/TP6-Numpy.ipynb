{
 "cells": [
  {
   "cell_type": "markdown",
   "metadata": {},
   "source": [
    "# TP 6 : Numpy"
   ]
  },
  {
   "cell_type": "markdown",
   "metadata": {},
   "source": [
    "## 1 - Introduction\n",
    "\n",
    "Le module `numpy` est l'un des plus utilisés. Son nom évoque le calcul numérique en Python, mais concrètement, il s'agit surtout de fonctionnalités liées aux *tableaux*. \n",
    "\n",
    "Nous avons jusqu'ici traité les matrices comme des listes de listes. Mais il faut comprendre une chose : en Python, le fait même qu'une liste puisse contenir des éléments de n'importe quel type rend les choses très, très lentes. Lorsqu'on demande à Numpy de créer un tableau, il faut lui donner le type des éléments (par exemple \"faire un tableau de 3 lignes et 4 colonnes composé de nombres entiers\"), et sans rentrer dans les détails, ça change complètement la façon dont les données sont stockées en mémoire -- de manière bien plus compacte et efficace.\n",
    "\n",
    "De plus, avec Numpy on va éviter de faire des boucles nous-mêmes, parce le module a été optimisé pour faire certaines choses très vite, comme appliquer une fonction à tous les éléments par exemple. (C'est notamment dû au fait que Numpy n'est pas lui-même écrit en Python, mais en langage C.)\n",
    "\n",
    "Ici nous allons juste aborder les fonctionnalités les plus basiques de Numpy.\n"
   ]
  },
  {
   "cell_type": "markdown",
   "metadata": {},
   "source": [
    "## 2 - Création de tableaux"
   ]
  },
  {
   "cell_type": "code",
   "execution_count": 1,
   "metadata": {},
   "outputs": [],
   "source": [
    "import numpy as np   # il est standard de l'appeler 'np'"
   ]
  },
  {
   "cell_type": "markdown",
   "metadata": {},
   "source": [
    "Pour créer un tableau, on peut utiliser la fonction `np.array` :"
   ]
  },
  {
   "cell_type": "code",
   "execution_count": 2,
   "metadata": {},
   "outputs": [],
   "source": [
    "A= np.array([[1,2], [3,4]])"
   ]
  },
  {
   "cell_type": "code",
   "execution_count": 3,
   "metadata": {},
   "outputs": [
    {
     "data": {
      "text/plain": [
       "array([[1, 2],\n",
       "       [3, 4]])"
      ]
     },
     "execution_count": 3,
     "metadata": {},
     "output_type": "execute_result"
    }
   ],
   "source": [
    "A"
   ]
  },
  {
   "cell_type": "markdown",
   "metadata": {},
   "source": [
    "Nous avons laissé Numpy deviner le type des éléments. Pour vérifier :"
   ]
  },
  {
   "cell_type": "code",
   "execution_count": 4,
   "metadata": {},
   "outputs": [
    {
     "data": {
      "text/plain": [
       "dtype('int32')"
      ]
     },
     "execution_count": 4,
     "metadata": {},
     "output_type": "execute_result"
    }
   ],
   "source": [
    "A.dtype"
   ]
  },
  {
   "cell_type": "markdown",
   "metadata": {},
   "source": [
    "Ici `int` signifie \"entier\", et le 32 signifie \"encodé sur 32 bits\". En beaucoup plus clair (mais un informaticien ne vous le dira jamais comme ça), le type `int32` est formé des éléments de $\\mathbb{Z}/2^{32}\\mathbb{Z}$. Le nombre $2^{32}$ étant énorme, on peut travailler avec ces entiers pour modéliser les éléments de $\\mathbb{Z}$.\n",
    "\n",
    "Pour choisir le type :\n"
   ]
  },
  {
   "cell_type": "code",
   "execution_count": 5,
   "metadata": {},
   "outputs": [
    {
     "name": "stdout",
     "output_type": "stream",
     "text": [
      "[[1 2]\n",
      " [3 4]]\n"
     ]
    }
   ],
   "source": [
    "B= np.array([[1,2], [3,4]], dtype= np.int8)\n",
    "print(B)"
   ]
  },
  {
   "cell_type": "code",
   "execution_count": 6,
   "metadata": {},
   "outputs": [
    {
     "name": "stdout",
     "output_type": "stream",
     "text": [
      "[[1. 2.]\n",
      " [3. 4.]]\n"
     ]
    }
   ],
   "source": [
    "C= np.array([[1,2], [3,4]], dtype= np.float64)  # nombre décimaux sur 64 bits\n",
    "print(C)"
   ]
  },
  {
   "cell_type": "markdown",
   "metadata": {},
   "source": [
    "Pour faire des tableaux remplis de 0 ou de 1 :"
   ]
  },
  {
   "cell_type": "code",
   "execution_count": 7,
   "metadata": {},
   "outputs": [
    {
     "data": {
      "text/plain": [
       "array([[0, 0, 0, 0, 0, 0, 0, 0, 0],\n",
       "       [0, 0, 0, 0, 0, 0, 0, 0, 0],\n",
       "       [0, 0, 0, 0, 0, 0, 0, 0, 0],\n",
       "       [0, 0, 0, 0, 0, 0, 0, 0, 0]], dtype=int8)"
      ]
     },
     "execution_count": 7,
     "metadata": {},
     "output_type": "execute_result"
    }
   ],
   "source": [
    "np.zeros(shape= (4,9), dtype= np.int8)"
   ]
  },
  {
   "cell_type": "code",
   "execution_count": 8,
   "metadata": {},
   "outputs": [
    {
     "data": {
      "text/plain": [
       "array([[1., 1., 1., 1., 1., 1., 1., 1., 1., 1.]])"
      ]
     },
     "execution_count": 8,
     "metadata": {},
     "output_type": "execute_result"
    }
   ],
   "source": [
    "np.ones(shape= (1,10), dtype= np.float64) "
   ]
  },
  {
   "cell_type": "markdown",
   "metadata": {},
   "source": [
    "Dans ce dernier exemple, il y a une ligne et dix colonnes, mais c'est bel et bien un tableau (avec 2 dimensions). Or Numpy sait traiter n'importe quel nombre de dimensions ; voici des exemples :"
   ]
  },
  {
   "cell_type": "code",
   "execution_count": 9,
   "metadata": {},
   "outputs": [
    {
     "data": {
      "text/plain": [
       "array([1, 2, 3, 4])"
      ]
     },
     "execution_count": 9,
     "metadata": {},
     "output_type": "execute_result"
    }
   ],
   "source": [
    "np.array([1,2,3,4])"
   ]
  },
  {
   "cell_type": "code",
   "execution_count": 10,
   "metadata": {},
   "outputs": [
    {
     "data": {
      "text/plain": [
       "array([1., 1., 1., 1., 1., 1., 1., 1., 1., 1.])"
      ]
     },
     "execution_count": 10,
     "metadata": {},
     "output_type": "execute_result"
    }
   ],
   "source": [
    "np.ones(shape= (10,)) # notez le \"10,\" ; un tuple avec un seul nombre, 10"
   ]
  },
  {
   "cell_type": "code",
   "execution_count": 11,
   "metadata": {},
   "outputs": [],
   "source": [
    "troisD= np.zeros(shape= (3,4,2))  # plus fort qu'une matrice : il y a trois dimensions"
   ]
  },
  {
   "cell_type": "code",
   "execution_count": 12,
   "metadata": {},
   "outputs": [
    {
     "data": {
      "text/plain": [
       "array([[[0., 0.],\n",
       "        [0., 0.],\n",
       "        [0., 0.],\n",
       "        [0., 0.]],\n",
       "\n",
       "       [[0., 0.],\n",
       "        [0., 0.],\n",
       "        [0., 0.],\n",
       "        [0., 0.]],\n",
       "\n",
       "       [[0., 0.],\n",
       "        [0., 0.],\n",
       "        [0., 0.],\n",
       "        [0., 0.]]])"
      ]
     },
     "execution_count": 12,
     "metadata": {},
     "output_type": "execute_result"
    }
   ],
   "source": [
    "troisD  # affiche une liste de matrices"
   ]
  },
  {
   "cell_type": "markdown",
   "metadata": {},
   "source": [
    "Voyons comment accéder aux élements :"
   ]
  },
  {
   "cell_type": "code",
   "execution_count": 13,
   "metadata": {},
   "outputs": [],
   "source": [
    "A= np.array([[1,2], [3,4]])"
   ]
  },
  {
   "cell_type": "code",
   "execution_count": 14,
   "metadata": {},
   "outputs": [
    {
     "data": {
      "text/plain": [
       "1"
      ]
     },
     "execution_count": 14,
     "metadata": {},
     "output_type": "execute_result"
    }
   ],
   "source": [
    "A[0,0]"
   ]
  },
  {
   "cell_type": "code",
   "execution_count": 15,
   "metadata": {},
   "outputs": [
    {
     "data": {
      "text/plain": [
       "4"
      ]
     },
     "execution_count": 15,
     "metadata": {},
     "output_type": "execute_result"
    }
   ],
   "source": [
    "A[1,1]"
   ]
  },
  {
   "cell_type": "code",
   "execution_count": 16,
   "metadata": {},
   "outputs": [
    {
     "data": {
      "text/plain": [
       "0.0"
      ]
     },
     "execution_count": 16,
     "metadata": {},
     "output_type": "execute_result"
    }
   ],
   "source": [
    "troisD[2,1,1]   # trois dimensions donc trois indices"
   ]
  },
  {
   "cell_type": "markdown",
   "metadata": {},
   "source": [
    "Et pour faire des modifications, sans surprise:"
   ]
  },
  {
   "cell_type": "code",
   "execution_count": 17,
   "metadata": {},
   "outputs": [
    {
     "name": "stdout",
     "output_type": "stream",
     "text": [
      "[[100   2]\n",
      " [  3   4]]\n"
     ]
    }
   ],
   "source": [
    "A[0,0]= 100\n",
    "print(A)"
   ]
  },
  {
   "cell_type": "markdown",
   "metadata": {},
   "source": [
    "Avant d'aborder l'exercice suivant, sachez que pour créer des nombres complexes en Python, on peut utiliser la syntaxe (un peu curieuse) `I= 1j` pour que `I` soit égal au complexe $i$, et ensuite faire `x + y*I`. Faites des essais, puis passez à l'exercice."
   ]
  },
  {
   "cell_type": "markdown",
   "metadata": {},
   "source": [
    ">**Exercice (Numpy et complexes)** Cet exercice va paraître artificiel, mais il va servir plus loin pour créer des images intéressantes.\n",
    "> On identifie $\\mathbb{C}$ avec $\\mathbb{R}^2$, et on va regarder le rectangle $[x_{min}, x_{max}] \\times [y_{min}, y_{max}]$. On se donne un entier $N$ (la \"résolution\"), et on va prendre des valeurs dans le rectangle régulièrement espacées. Horizontalement, entre deux valeurs consécutives il y aura $dx= (x_{max} - x_{min})/N$ et verticalement il y aura $dy= (y_{max} - y_{min})/N$.\n",
    ">\n",
    ">Bref, on vous demande d'écrire une fonction `tab_complexe(xmin, xmax, ymin, ymax, N)` qui renvoie un tableau Numpy de taille (N+1)x(N+1), dont les éléments sont de type `np.complex64`, et tel que si `A= tab_complexe(xmin, xmax, ymin, ymax, N)`, alors `A[i,j]` est `(xmin + j * dx) + I*(ymax - i*dy)` avec $dx$ et $dy$ comme ci-dessus, et $I= 1j$.\n",
    ">\n",
    ">*Note:* si la formule vous paraît bizarre (ce qui n'empêche pas de faire l'exercice), rappelez vous que si $A$ est une matrice et qu'on parle de $A[i,j]$, alors $i$ est la ligne et $j$ est la colonne, et en plus on place la ligne $i+1$ en dessous de la ligne $i$ ; dans le plan, quand on parle du point $(i,j)$, c'est tout-à-fait le contraire.\n",
    ">\n",
    ">Par exemple `tab_complexe(0,4,0,4,4)` doit renvoyer\n",
    "\n",
    "```\n",
    "array([[0.+4.j, 1.+4.j, 2.+4.j, 3.+4.j, 4.+4.j],\n",
    "       [0.+3.j, 1.+3.j, 2.+3.j, 3.+3.j, 4.+3.j],\n",
    "       [0.+2.j, 1.+2.j, 2.+2.j, 3.+2.j, 4.+2.j],\n",
    "       [0.+1.j, 1.+1.j, 2.+1.j, 3.+1.j, 4.+1.j],\n",
    "       [0.+0.j, 1.+0.j, 2.+0.j, 3.+0.j, 4.+0.j]], dtype=complex64)\n",
    "```\n",
    ">Notez que l'on a bien $4i$ en haut à gauche, $4+4i$ en haut à droite, $0$ en bas à gauche et $4$ en bas à droite, comme on le voudrait."
   ]
  },
  {
   "cell_type": "markdown",
   "metadata": {},
   "source": [
    "\n",
    "## 3 - Opérations\n",
    "\n",
    "On peut demander à Numpy d'appliquer une fonction à tous les éléments d'un tableau. Dans la plupart des cas, il s'agit de fonctions particulières, qui font partie du module Numpy. Par exemple, pour calculer le sinus de tous les nombres dans un tableau, on utilisera `np.sin`."
   ]
  },
  {
   "cell_type": "code",
   "execution_count": null,
   "metadata": {},
   "outputs": [],
   "source": [
    "A= np.array([[1,2], [3,4]])"
   ]
  },
  {
   "cell_type": "code",
   "execution_count": null,
   "metadata": {},
   "outputs": [],
   "source": [
    "A"
   ]
  },
  {
   "cell_type": "code",
   "execution_count": null,
   "metadata": {},
   "outputs": [],
   "source": [
    "np.sin(A)"
   ]
  },
  {
   "cell_type": "markdown",
   "metadata": {},
   "source": [
    "Une chose très agréable, c'est que les objets Numpy ont redéfini les opérations arithmétiques telles que `+` et `*` (nous verrons comment faire ça dans le dernier TP!). On peut donc écrire :"
   ]
  },
  {
   "cell_type": "code",
   "execution_count": null,
   "metadata": {},
   "outputs": [],
   "source": [
    "A+A"
   ]
  },
  {
   "cell_type": "code",
   "execution_count": null,
   "metadata": {},
   "outputs": [],
   "source": [
    "A*A"
   ]
  },
  {
   "cell_type": "markdown",
   "metadata": {},
   "source": [
    "**Attention**, il ne s'agit pas du produit matriciel, mais du produit terme à terme. Il faut utiliser `np.matmul(A,B)` pour le produit des deux matrices $A$ et $B$ (celui qui n'est défini que quand $A$ possède autant de colonnes que $B$ a de lignes) ; nous n'en parlerons plus dans ce TP.\n",
    "\n",
    "Numpy comprend aussi :"
   ]
  },
  {
   "cell_type": "code",
   "execution_count": null,
   "metadata": {},
   "outputs": [],
   "source": [
    "A-1"
   ]
  },
  {
   "cell_type": "markdown",
   "metadata": {},
   "source": [
    "De sorte que si vous avez une fonction telle que :"
   ]
  },
  {
   "cell_type": "code",
   "execution_count": null,
   "metadata": {},
   "outputs": [],
   "source": [
    "def f(x):\n",
    "    return x**2 - 1"
   ]
  },
  {
   "cell_type": "markdown",
   "metadata": {},
   "source": [
    "Alors on peut faire :"
   ]
  },
  {
   "cell_type": "code",
   "execution_count": null,
   "metadata": {},
   "outputs": [],
   "source": [
    "f(A)"
   ]
  },
  {
   "cell_type": "markdown",
   "metadata": {},
   "source": [
    "Au total, la fonction `f` a été appliquée aux éléments de `A`, un par un. Mais ça ne marche que parce que la définition de `f` n'utilise que des opérations que Numpy sait interpréter! \n",
    "\n",
    "*Remarque*. Il y a une syntaxe pour appliquer une fonction *quelconque* à tous les éléments d'un tableau, à savoir `np.vectorize(f)(A)`, mais ça n'a pas un grand intérêt car c'est très lent, et il reviendrait au même de faire une boucle.\n",
    "\n",
    "Voyons un peu si on y gagne en vitesse. Prenons une matrice au hasard:"
   ]
  },
  {
   "cell_type": "code",
   "execution_count": null,
   "metadata": {},
   "outputs": [],
   "source": [
    "np.random.randint(10, size=(3,9))  # pour comprendre la syntaxe"
   ]
  },
  {
   "cell_type": "markdown",
   "metadata": {},
   "source": [
    "Mais prenons-la beaucoup plus grosse :"
   ]
  },
  {
   "cell_type": "code",
   "execution_count": null,
   "metadata": {},
   "outputs": [],
   "source": [
    "N= 1000\n",
    "A= np.random.randint(300, size=(N,N))"
   ]
  },
  {
   "cell_type": "code",
   "execution_count": null,
   "metadata": {},
   "outputs": [],
   "source": [
    "# faisons une copie de A, mais comme une liste de listes:\n",
    "B= [ [A[i,j] for j in range(N)] for i in range(N)]"
   ]
  },
  {
   "cell_type": "code",
   "execution_count": null,
   "metadata": {},
   "outputs": [],
   "source": [
    "# une fonction qui met tout au carré dans B :\n",
    "def test():\n",
    "    for i in range(N):\n",
    "        for j in range(N):\n",
    "            B[i][j]= B[i][j]**2"
   ]
  },
  {
   "cell_type": "code",
   "execution_count": null,
   "metadata": {},
   "outputs": [],
   "source": [
    "%time test()  # essayons"
   ]
  },
  {
   "cell_type": "code",
   "execution_count": null,
   "metadata": {},
   "outputs": [],
   "source": [
    "%time A= A**2 # maintenant comparons avec la fonction \"puissance\" de Numpy"
   ]
  },
  {
   "cell_type": "markdown",
   "metadata": {},
   "source": [
    "Avec la machine sur laquelle ce test a été fait la première fois, la deuxième méthode est 100 fois plus rapide. Et ça augmente avec la taille des tableaux.\n",
    "\n",
    "Cette amélioration impressionnante explique pourquoi, dans certains cours de calcul numérique avec Python, on va jusqu'à dire que \"les bons programmeurs ne font jamais de boucle for\". Ils utilisent Numpy. C'est un peu exagéré."
   ]
  },
  {
   "cell_type": "markdown",
   "metadata": {},
   "source": [
    ">**Exercice (comme le précédent en plus rapide)** Essayez les commandes suivantes, sur des exemples ou bien en regardant l'aide: `np.stack(LL)` où `LL` est une liste de listes, `np.stack(LL, axis= 1)`, et puis \n",
    ">\n",
    ">`np.linspace(xmin, xmax, N, dtype= np.complex64)`. \n",
    ">\n",
    ">Puis, en combinant ces commandes, écrire une fonction `tab_rapide(xmin, xmax, ymin, ymax, N)` qui renvoie rigoureusement la même chose que `tab_complexe(xmin, xmax, ymin, ymax, N)`, mais sans faire de boucle for.\n",
    ">\n",
    ">Comparez la vitesse (c'est normalement 10 fois plus rapide, au bas mot)."
   ]
  },
  {
   "cell_type": "markdown",
   "metadata": {},
   "source": [
    "## 4 - Numpy et les booléens\n",
    "\n"
   ]
  },
  {
   "cell_type": "markdown",
   "metadata": {},
   "source": [
    "Voyons maintenant comment Numpy gère les \"booléens\" -- les conditions."
   ]
  },
  {
   "cell_type": "code",
   "execution_count": null,
   "metadata": {},
   "outputs": [],
   "source": [
    "A= np.array([[1,2], [3,4]])\n",
    "print(A == 2)   # renvoie un tableau de booléens"
   ]
  },
  {
   "cell_type": "code",
   "execution_count": null,
   "metadata": {},
   "outputs": [],
   "source": [
    "np.logical_or(A == 2, A == 3)  # voilà comment on fait un \"ou\" "
   ]
  },
  {
   "cell_type": "code",
   "execution_count": null,
   "metadata": {},
   "outputs": [],
   "source": [
    "np.logical_and(1<A, A<4)    # et voilà le \"et\""
   ]
  },
  {
   "cell_type": "markdown",
   "metadata": {},
   "source": [
    "On peut récupérer les éléments qui satisfont une condition. Par exemple si:"
   ]
  },
  {
   "cell_type": "code",
   "execution_count": null,
   "metadata": {},
   "outputs": [],
   "source": [
    "condition= A > 1\n",
    "print(condition)"
   ]
  },
  {
   "cell_type": "markdown",
   "metadata": {},
   "source": [
    "Alors on peut faire:"
   ]
  },
  {
   "cell_type": "code",
   "execution_count": null,
   "metadata": {},
   "outputs": [],
   "source": [
    "A[condition]"
   ]
  },
  {
   "cell_type": "markdown",
   "metadata": {},
   "source": [
    "La réponse est de dimension 1 (on ne peut pas prévoir à l'avance combien d'éléments vont satisfaire la condition, et comment ils seront disposés!). Mais les deux syntaxes suivantes fonctionnent aussi, et c'est très pratique :"
   ]
  },
  {
   "cell_type": "code",
   "execution_count": null,
   "metadata": {},
   "outputs": [],
   "source": [
    "A[condition]= 0  # on donne une seule valeur\n",
    "print(A)"
   ]
  },
  {
   "cell_type": "markdown",
   "metadata": {},
   "source": [
    "La réponse est bien encore un tableau de dimension 2! Prenez le temps de méditer sur le fait que les auteurs de Numpy ont redéfini les crochets et le signe `=`, entre autres.\n",
    "\n",
    "La deuxième façon est :"
   ]
  },
  {
   "cell_type": "code",
   "execution_count": null,
   "metadata": {},
   "outputs": [],
   "source": [
    "A[condition]= np.array([11, 12, 13])  # on donne une liste\n",
    "print(A)"
   ]
  },
  {
   "cell_type": "markdown",
   "metadata": {},
   "source": [
    ">**Exercice (booléens Numpy 1)** Ecrire une fonction `f(A)` qui prend en paramètre un tableau Numpy `A` (n'importe quelle taille, n'importe quelle nombre de dimensions) et qui renvoie un tableau `B` qui est une copie de `A` dans laquelle les nombres $<0$ ont été remplacés par $0$ et les nombres $>1$ ont été remplacés par $1$. Vous pouvez faire `A.copy()` pour obtenir une copie de `A`.\n",
    "\n",
    ">**Exercice (booléens Numpy 2)** Si `A` est un tableau Numpy, expliquez ce que donne la commande\n",
    ">\n",
    ">`A[ A<0 ]= - A[ A<0 ]`\n",
    ">\n",
    "> et pourquoi."
   ]
  },
  {
   "cell_type": "code",
   "execution_count": null,
   "metadata": {},
   "outputs": [],
   "source": [
    "def f(A):\n",
    "    B= A.copy()\n",
    "    B[ A < 0 ]= 0\n",
    "    B[ A > 1 ]= 1\n",
    "    return B"
   ]
  },
  {
   "cell_type": "code",
   "execution_count": null,
   "metadata": {},
   "outputs": [],
   "source": [
    "A= np.array([[-1, 2], [-3, 4]])"
   ]
  },
  {
   "cell_type": "code",
   "execution_count": null,
   "metadata": {},
   "outputs": [],
   "source": [
    "A"
   ]
  },
  {
   "cell_type": "code",
   "execution_count": null,
   "metadata": {},
   "outputs": [],
   "source": [
    "f(A)"
   ]
  },
  {
   "cell_type": "code",
   "execution_count": null,
   "metadata": {},
   "outputs": [],
   "source": [
    "A[ A < 0 ]= - A[ A < 0 ]"
   ]
  },
  {
   "cell_type": "code",
   "execution_count": null,
   "metadata": {},
   "outputs": [],
   "source": [
    "A"
   ]
  },
  {
   "cell_type": "code",
   "execution_count": null,
   "metadata": {},
   "outputs": [],
   "source": [
    "from matplotlib import pyplot as plt"
   ]
  },
  {
   "cell_type": "code",
   "execution_count": null,
   "metadata": {},
   "outputs": [],
   "source": [
    "plt.rcParams[\"figure.figsize\"] = (10,10)"
   ]
  },
  {
   "cell_type": "markdown",
   "metadata": {},
   "source": [
    "## 5 - Images à partir de matrices"
   ]
  },
  {
   "cell_type": "markdown",
   "metadata": {},
   "source": [
    "Nous allons produire quelques images. Pour cela, nous allons faire appel au module `matplotlib`, que nous étudierons plus en détails dans le TP suivant.\n",
    "\n",
    "Pour commencer, il faut importer l'objet suivant -- il est standard de l'appeler `plt`:"
   ]
  },
  {
   "cell_type": "code",
   "execution_count": null,
   "metadata": {},
   "outputs": [],
   "source": [
    "from matplotlib import pyplot as plt"
   ]
  },
  {
   "cell_type": "markdown",
   "metadata": {},
   "source": [
    "La commande suivante permet d'agrandir un peu les figures, par défaut:"
   ]
  },
  {
   "cell_type": "code",
   "execution_count": null,
   "metadata": {},
   "outputs": [],
   "source": [
    "plt.rcParams[\"figure.figsize\"] = (10,10)"
   ]
  },
  {
   "cell_type": "markdown",
   "metadata": {},
   "source": [
    "Supposons que vous ayez une matrice $A$. Matplotlib possède une syntaxe toute simple pour faire la chose suivante, qui revient étonnamment souvent : on interprète les nombres dans $A$ comme des couleurs, et on affiche directement ça comme une image, chaque entrée de la matrice contrôlant un pixel. Pour interpréter les nombres comme des couleurs, matplotlib utilise des \"colormaps\" ; ce sont des listes de couleurs, et la première sera attribuée à la valeur minimale dans la matrice, la dernière à la valeur maximale, le reste étant interpolé.\n",
    "\n",
    "Un exemple va rendre ça beaucoup plus clair!"
   ]
  },
  {
   "cell_type": "code",
   "execution_count": null,
   "metadata": {},
   "outputs": [],
   "source": [
    "N= 15\n",
    "A= np.array([ [i]*N for i in range(N)   ])\n",
    "print(A)"
   ]
  },
  {
   "cell_type": "markdown",
   "metadata": {},
   "source": [
    "La commande en question s'appelle `imshow` :"
   ]
  },
  {
   "cell_type": "code",
   "execution_count": null,
   "metadata": {},
   "outputs": [],
   "source": [
    "plt.imshow(A)"
   ]
  },
  {
   "cell_type": "markdown",
   "metadata": {},
   "source": [
    "Ici la \"colormap\" est celle par défaut (elle va du bleu au jaune). Vous pouvez augmenter $N$ ci-dessus, c'est plus joli. Essayons autre chose :"
   ]
  },
  {
   "cell_type": "code",
   "execution_count": null,
   "metadata": {},
   "outputs": [],
   "source": [
    "plt.imshow(A, cmap= \"hot\")"
   ]
  },
  {
   "cell_type": "markdown",
   "metadata": {},
   "source": [
    "La \"colormap\" qui s'appelle \"hot\" va du noir au blanc en passant par les couleurs des flammes, de la plus froide à la plus chaude. \n",
    "\n",
    "Pour sauvegarder ça comme une image, c'est un peu compliqué, il faut importer un sous-module:"
   ]
  },
  {
   "cell_type": "code",
   "execution_count": null,
   "metadata": {},
   "outputs": [],
   "source": [
    "import matplotlib.image as mpl"
   ]
  },
  {
   "cell_type": "markdown",
   "metadata": {},
   "source": [
    "Et maintenant :"
   ]
  },
  {
   "cell_type": "code",
   "execution_count": null,
   "metadata": {},
   "outputs": [],
   "source": [
    "mpl.imsave(\"mon-image.png\", A, cmap= \"hot\")"
   ]
  },
  {
   "cell_type": "markdown",
   "metadata": {},
   "source": [
    "Pour une liste de colormaps, allez voir :\n",
    "\n",
    "https://matplotlib.org/3.1.0/tutorials/colors/colormaps.html\n",
    "\n",
    "Vous pouvez ignorer le texte!\n",
    "\n",
    "Une chose bien utile, que l'on peut mettre en valeur ici, c'est qu'en ajoutant `_r` au nom d'une colormap, on l'obtient inversée (reverse). Exemple :"
   ]
  },
  {
   "cell_type": "code",
   "execution_count": null,
   "metadata": {},
   "outputs": [],
   "source": [
    "plt.imshow(A, cmap= \"hot_r\")"
   ]
  },
  {
   "cell_type": "markdown",
   "metadata": {},
   "source": [
    ">**Exercice (triangle de Sierpinksi et nombres binomiaux)** Faire d'abord une fonction `binomial(n,k)` qui renvoie le nombre binomial\n",
    ">\n",
    ">$$ \\frac {n!} {k!(n-k)!}$$\n",
    ">\n",
    ">(On peut reprendre le code pour la factorielle d'un TP précédent.) Attention, pour $k > n$ on veut que la fonction renvoie $0$.\n",
    ">\n",
    ">Puis, faire un tableau Numpy `A` carré, de taille $2^a\\times 2^a$ où $a$ est un entier que vous choisissez, tel que `A[n,k] = binomial(n,k) % 2`. Puis, affichez `A` comme une image. Augmentez $a$.\n",
    ">\n",
    ">\n",
    ">Enfin, essayez de remplacer le modulo 2 par un modulo $p$ pour un nombre premier $p$ que vous choisissez (ça marche un peu moins bien, mais on repère quand même des phénomènes)."
   ]
  },
  {
   "cell_type": "markdown",
   "metadata": {},
   "source": [
    "## 6 - L'ensemble de Mandelbrot\n",
    "\n",
    "Voici un grand classique des cours de programmation. On va dessiner (une approximation de) *l'ensemble de Mandelbrot*. Il s'agit de\n",
    "\n",
    "$$ M= \\{ c \\in \\mathbb{C} ~~|~~ \\text{la suite définie par}~ z_0 = 0, z_{n+1} = z_n^2 + c ~\\text{reste bornée}   \\}.$$\n",
    "\n",
    "Pour un $c$ donné, il est exclu de vérifier *vraiment* si la suite en question reste bornée, et en pratique, une façon de faire qui produit des résultats corrects est la suivante (sachant que l'on veut utiliser Numpy pour accélérer les calculs). On prend un entier $N$ \"assez grand\", disons $N=100$, et pour chaque $c$ que l'on veut tester, on calcule les termes de la suite ci-dessus jusqu'à $z_N$. Si $|z_N] > 10$, la suite va tendre vers $+\\infty$ et $c \\not\\in M$; dans le cas contraire, on suppose que $N$ est assez grand pour en conclure que la suite reste bornée et que $c\\in M$.\n",
    "\n",
    "On peut placer les résultats dans une matrice, avec un 1 si $c\\in M$ et un 0 sinon, puis afficher la matrice comme dans les exemples ci-dessus.\n",
    "\n"
   ]
  },
  {
   "cell_type": "markdown",
   "metadata": {},
   "source": [
    "Ecrivons déjà une fonction pour calculer les termes de la suite -- notez bien que le code ci-dessous marche aussi bien pour des nombres complexes que pour des tableaux Numpy!"
   ]
  },
  {
   "cell_type": "code",
   "execution_count": null,
   "metadata": {},
   "outputs": [],
   "source": [
    "def iterations(nmax,c):\n",
    "    \"\"\"On regarde la suite z0= 0, z_{n+1} = z_n^2 + c, et on calcule son terme z_nmax.\"\"\"\n",
    "    z= 0*c  # astuce pour que ça soit un tableau si c en est un!\n",
    "    for i in range(nmax):\n",
    "        z= z**2 + c\n",
    "    return z\n",
    "        "
   ]
  },
  {
   "cell_type": "markdown",
   "metadata": {},
   "source": [
    "Si vous essayez cette fonction avec par exemple $c= 0.5$ et $N=100$, vous allez voir que Python se plaint que les nombres deviennent trop grands. Heureusement, dans un tableau Numpy, ça ne produit qu'un \"warning\" et non pas une erreur, et on peut même désactiver les \"warnings\" comme ceci:"
   ]
  },
  {
   "cell_type": "code",
   "execution_count": null,
   "metadata": {},
   "outputs": [],
   "source": [
    "import warnings\n",
    "warnings.filterwarnings(\"ignore\")"
   ]
  },
  {
   "cell_type": "markdown",
   "metadata": {},
   "source": [
    "(Ce n'est pas très élégant. Ne répétez pas que vous avez appris ça en cours.)"
   ]
  },
  {
   "cell_type": "code",
   "execution_count": null,
   "metadata": {},
   "outputs": [],
   "source": [
    "c= np.array([0.5])"
   ]
  },
  {
   "cell_type": "code",
   "execution_count": null,
   "metadata": {},
   "outputs": [],
   "source": [
    "iterations(100, c)"
   ]
  },
  {
   "cell_type": "markdown",
   "metadata": {},
   "source": [
    "Voilà, le résultat fait $+\\infty$.\n",
    "\n",
    "Tout ce qu'il nous reste à faire, c'est prendre un tableau de nombres exactement comme `tab_rapide` en produit, appliquer la fonction dessus, et voir quelles nombres dans le tableau sont $>10$ en valeur absolue.\n",
    "\n",
    "On commence par le carré $[- 1.5, 0.5] \\times [-1, 1]$:"
   ]
  },
  {
   "cell_type": "code",
   "execution_count": null,
   "metadata": {},
   "outputs": [],
   "source": [
    "C= tab_rapide(-1.5,0.5, -1,1, 1000)  # image 1000 x 1000 pixels"
   ]
  },
  {
   "cell_type": "code",
   "execution_count": null,
   "metadata": {},
   "outputs": [],
   "source": [
    "resultat= iterations(100, C)"
   ]
  },
  {
   "cell_type": "code",
   "execution_count": null,
   "metadata": {},
   "outputs": [],
   "source": [
    "dessin= np.abs(resultat) < 10 # tableau avec des False et des True"
   ]
  },
  {
   "cell_type": "code",
   "execution_count": null,
   "metadata": {},
   "outputs": [],
   "source": [
    "plt.imshow(dessin, cmap= \"Blues\")  # matplotlib va interpréter False comme 0, True comme 1"
   ]
  },
  {
   "cell_type": "markdown",
   "metadata": {},
   "source": [
    "Cet ensemble est très riche (vous irez chez vous sur youtube pour voir des images incroyables). Voici la \"vallée des hippocampes\":"
   ]
  },
  {
   "cell_type": "code",
   "execution_count": null,
   "metadata": {},
   "outputs": [],
   "source": [
    "a= .05\n",
    "C= tab_rapide(-.75-a,-0.75+a, 0.1-a,0.1+a, 1000)\n",
    "resultat= iterations(100, C)\n",
    "dessin= np.abs(resultat) < 10 \n",
    "plt.imshow(dessin, cmap= \"Blues\")"
   ]
  },
  {
   "cell_type": "markdown",
   "metadata": {},
   "source": [
    "Ces dessins s'affichent en quelques secondes seulement, et on peut remercier Numpy pour ça."
   ]
  },
  {
   "cell_type": "markdown",
   "metadata": {},
   "source": [
    ">**Exercice (Mandelbrot en couleurs, plus difficile)** Cette fois ci on va remplacer les appels à Numpy par des boucles for, ce qui va ralentir énormément les choses, mais va permettre de produire des images en couleurs très jolies.\n",
    ">\n",
    ">(1) Ecrire une fonction `temps(nmax,c)` qui commence à itérer la suite comme `iterations` mais s'arrête lorsque $|z_n|>10$, si toutefois ça arrive pour un $n < n_{max}$ ; et la fonction renvoie l'entier $n$ (ou $n_{max}$ en cas d'échec après $n_{max}$ tentatives), ce qui est une mesure du \"temps qu'il faut pour que la suite donne un terme de module $>10$\".\n",
    ">\n",
    ">(2) Ecrire une fonction `mandelbrot(xmin, xmax, ymin, ymax, N, nmax)` qui crée un tableau de taille N x N qui contient les diverses valeurs de `temps(nmax, c)` pour $c$ dans le rectangle $[x_{min}, x_{max}] \\times [y_{min}, y_{max}]$."
   ]
  },
  {
   "cell_type": "markdown",
   "metadata": {},
   "source": [
    ">**Exercice (ensemble de Julia, plus difficile)** Soit $c$ un nombre complexe. *L'ensemble de Julia* au point $c$ est\n",
    ">\n",
    ">$$ J_c= \\{ w \\in \\mathbb{C} ~~|~~ \\text{la suite définie par}~ z_0 = w, z_{n+1} = z_n^2 + c ~\\text{reste bornée}   \\}.$$\n",
    ">\n",
    "> Tracer l'ensemble de Julia pour diverses valeurs de $c$, en vous inspirant du code ci-dessus. Une remarque heuristique (qu'on peut partiellement justifier mathématiquement) est que si on prend une valeur $c$ telle que l'ensemble de Mandelbrot est \"intéressant\" (ou joli) autour de $c$, alors $J_c$ sera également intéressant."
   ]
  }
 ],
 "metadata": {
  "kernelspec": {
   "display_name": "Python 3 (ipykernel)",
   "language": "python",
   "name": "python3"
  },
  "language_info": {
   "codemirror_mode": {
    "name": "ipython",
    "version": 3
   },
   "file_extension": ".py",
   "mimetype": "text/x-python",
   "name": "python",
   "nbconvert_exporter": "python",
   "pygments_lexer": "ipython3",
   "version": "3.10.13"
  }
 },
 "nbformat": 4,
 "nbformat_minor": 4
}
