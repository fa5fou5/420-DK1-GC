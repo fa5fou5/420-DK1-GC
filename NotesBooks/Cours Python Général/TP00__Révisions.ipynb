{
 "cells": [
  {
   "cell_type": "markdown",
   "metadata": {},
   "source": [
    "# TP 1 : premiers pas en Python\n",
    "\n",
    "Plan de cette feuille :\n",
    "\n",
    " 1. Introduction\n",
    "  * L'interface\n",
    "  * Python comme une calculatrice\n",
    " 2. Les listes\n",
    "  * Syntaxe de base\n",
    "  * Constructions\n",
    "  * Sommes\n",
    "\n"
   ]
  },
  {
   "cell_type": "markdown",
   "metadata": {},
   "source": [
    "## 1 - Introduction"
   ]
  },
  {
   "cell_type": "markdown",
   "metadata": {},
   "source": [
    "#### L'interface"
   ]
  },
  {
   "cell_type": "markdown",
   "metadata": {},
   "source": [
    "Vous êtes en train de contempler un *notebook Jupyter*, qui est l'une des interfaces possibles pour le langage Python (et d'autres). Prenez le temps de vous familiariser avec l'interface. Voici quelques conseils, mais le mieux, comme souvent, est d'essayer un peu par soi-même.\n",
    "\n",
    "Il y a deux modes de fonctionnement : dans le mode de navigation, les flèches du clavier vous font passer d'une \"cellule\" à la suivante. En appuyant sur Entrée, on passe en mode édition, et il faut utiliser ESC pour repasser en mode navigation. A tout moment, en appuyant sur Shift+Entrée, on *exécute* la cellule courante, ce qui lance le calcul et éventuellement affiche un résultat.\n",
    "\n",
    "Quelques raccourcis claviers très utiles :\n",
    "\n",
    "* a (comme above) pour créer une cellule vide au-dessus de la cellule courante, et b (comme below) pour en créer une au-dessous.\n",
    "* d-d (deux fois la touche d) pour effacer la cellule courante\n",
    "* m pour faire passer la cellule courante en mode *markdown*.\n",
    "\n",
    "Le mode markdown sert à produire des commentaires avec un peu de formatage : *italique*, **gras**, avec des formules de maths comme $\\int_a^b f(x)dx$ (syntaxe de Latex), voire titres et bullet-points. Essayez d'appuyer sur Entrée pour voir le code de la présente cellule, ainsi que les deux précédentes, et voyez comment ça marche.\n",
    "\n",
    "Pas besoin de devenir expert en markdown, mais vous devez en connaître un minimum : vous aurez des TP à rendre, et ***il y aura parfois un point ou deux pour la présentation***."
   ]
  },
  {
   "cell_type": "markdown",
   "metadata": {},
   "source": [
    "#### Python comme une calculatrice"
   ]
  },
  {
   "cell_type": "markdown",
   "metadata": {},
   "source": [
    "Les opérations arithmétiques se font comme sur la plupart des calculatrices :"
   ]
  },
  {
   "cell_type": "code",
   "execution_count": null,
   "metadata": {},
   "outputs": [],
   "source": [
    "2+2"
   ]
  },
  {
   "cell_type": "markdown",
   "metadata": {},
   "source": [
    "**Note:** la première fois que je vous donne une feuille de TP, les cellules n'ont pas été exécutées, c'est à vous de le faire! Faites donc shift+Entrée sur la cellule, et vous verrez \"4\" apparaître en dessous. Même chose pour toute la suite du TP."
   ]
  },
  {
   "cell_type": "code",
   "execution_count": null,
   "metadata": {},
   "outputs": [],
   "source": [
    "192 - 64"
   ]
  },
  {
   "cell_type": "markdown",
   "metadata": {},
   "source": [
    "Dans cette interface, le dernier résultat est affiché automatiquement, mais pas les autres :"
   ]
  },
  {
   "cell_type": "code",
   "execution_count": null,
   "metadata": {},
   "outputs": [],
   "source": [
    "6*6\n",
    "8*9"
   ]
  },
  {
   "cell_type": "markdown",
   "metadata": {},
   "source": [
    "Pour contrôler ce qu'on affiche, on fait comme ceci :"
   ]
  },
  {
   "cell_type": "code",
   "execution_count": null,
   "metadata": {},
   "outputs": [],
   "source": [
    "print(\"le résultat du calcul est\", 6*6)\n",
    "print(\"et le deuxième calcul donne\", 8*9)"
   ]
  },
  {
   "cell_type": "markdown",
   "metadata": {},
   "source": [
    "Pour les puissances, attention, on fait :"
   ]
  },
  {
   "cell_type": "code",
   "execution_count": null,
   "metadata": {},
   "outputs": [],
   "source": [
    "2**3 # ceci calcule 2 à la puissance 3. Et le # sert à faire des commentaires, au fait."
   ]
  },
  {
   "cell_type": "markdown",
   "metadata": {},
   "source": [
    "Les divisions avec / renvoient des nombres décimaux -- ce que Python appelle le type \"float\" -- alors que les entiers sont du type \"int\""
   ]
  },
  {
   "cell_type": "code",
   "execution_count": null,
   "metadata": {},
   "outputs": [],
   "source": [
    "2/3"
   ]
  },
  {
   "cell_type": "code",
   "execution_count": null,
   "metadata": {},
   "outputs": [],
   "source": [
    "type(2/3)"
   ]
  },
  {
   "cell_type": "markdown",
   "metadata": {},
   "source": [
    "Pour le quotient dans la division euclidienne de $a$ par $b$, utiliser //, ou alors la fonction \"int\" qui prend la partie entière :"
   ]
  },
  {
   "cell_type": "code",
   "execution_count": null,
   "metadata": {},
   "outputs": [],
   "source": [
    "2//3"
   ]
  },
  {
   "cell_type": "code",
   "execution_count": null,
   "metadata": {},
   "outputs": [],
   "source": [
    "2//3 == int(2/3)  # le symbole == est utilisé pour vérifier une égalité"
   ]
  },
  {
   "cell_type": "code",
   "execution_count": null,
   "metadata": {},
   "outputs": [],
   "source": [
    "2//3 != 2/3     # le symbole != est utilisé pour \"différent de\""
   ]
  },
  {
   "cell_type": "markdown",
   "metadata": {},
   "source": [
    "Et pour le reste dans la division euclidienne, on utilise % :"
   ]
  },
  {
   "cell_type": "code",
   "execution_count": null,
   "metadata": {},
   "outputs": [],
   "source": [
    "10 % 3     # reste dans la division de 10 par 3"
   ]
  },
  {
   "cell_type": "markdown",
   "metadata": {},
   "source": [
    "Pour stocker un résultat dans une variable, utiliser = (à ne pas confondre avec ==)"
   ]
  },
  {
   "cell_type": "code",
   "execution_count": null,
   "metadata": {},
   "outputs": [],
   "source": [
    "a= 25\n",
    "b= 3\n",
    "quotient= 25//3\n",
    "reste= 25 % 3\n",
    "print(\"vérifions si a = b*quotient + reste :\", a == b*quotient + reste)"
   ]
  },
  {
   "cell_type": "markdown",
   "metadata": {},
   "source": [
    "Méditer (au moins une fois) sur l'exemple suivant :"
   ]
  },
  {
   "cell_type": "code",
   "execution_count": null,
   "metadata": {},
   "outputs": [],
   "source": [
    "x= 5\n",
    "y= x + 1   \n",
    "x= 2\n",
    "print(\"ici x=\", x, \"et y=\", y, \", pensiez-vous que y= 3?\")"
   ]
  },
  {
   "cell_type": "markdown",
   "metadata": {},
   "source": [
    "On se trompe souvent ici (et dans certains langages comme en Maple, le comportement n'est pas forcément le même). Quand on exécute `y= x + 1`, la règle est simple : le membre de droite est calculé (on dit \"évalué\"), on obtient 6, puis on stocke ce 6 dans `y`, mais aucun lien mystérieux n'est gardé entre les variables `x` et `y`, qui sont parfaitement indépendantes.\n",
    "\n",
    "Vous noterez que l'opération `=` n'est pas symétrique du tout : `x= y` n'a pas du tout le même effet que `y= x`. Mettre des espaces qui ne sont pas symétriques (`x= y` au lieu de `x=y`) est une bonne pratique. (Dans d'autres langages, d'ailleurs, on utilise `:=` au lieu de `=`.)"
   ]
  },
  {
   "cell_type": "markdown",
   "metadata": {},
   "source": [
    "## 2 - Les listes"
   ]
  },
  {
   "cell_type": "markdown",
   "metadata": {},
   "source": [
    "Le thème principal de cette première feuille de TP est celui des *listes*."
   ]
  },
  {
   "cell_type": "markdown",
   "metadata": {},
   "source": [
    "#### Syntaxe de base"
   ]
  },
  {
   "cell_type": "markdown",
   "metadata": {},
   "source": [
    "La syntaxe pour créer une liste est la suivante :"
   ]
  },
  {
   "cell_type": "code",
   "execution_count": 1,
   "metadata": {},
   "outputs": [
    {
     "name": "stdout",
     "output_type": "stream",
     "text": [
      "[12, -1, 'du texte', 4.5]\n"
     ]
    }
   ],
   "source": [
    "L= [12, -1, \"du texte\", 4.5]\n",
    "print(L)"
   ]
  },
  {
   "cell_type": "markdown",
   "metadata": {},
   "source": [
    "Ensuite pour accéder aux éléments (notez que l'indexation commence à 0) :"
   ]
  },
  {
   "cell_type": "code",
   "execution_count": 2,
   "metadata": {},
   "outputs": [
    {
     "name": "stdout",
     "output_type": "stream",
     "text": [
      "premier élément : 12\n",
      "deuxième élément : -1\n",
      "dernier élément : 4.5\n"
     ]
    }
   ],
   "source": [
    "print(\"premier élément :\",  L[0])\n",
    "print(\"deuxième élément :\", L[1])  # etc etc\n",
    "print(\"dernier élément :\",  L[-1])"
   ]
  },
  {
   "cell_type": "markdown",
   "metadata": {},
   "source": [
    "On peut extraire des sous-listes:"
   ]
  },
  {
   "cell_type": "code",
   "execution_count": 3,
   "metadata": {},
   "outputs": [
    {
     "data": {
      "text/plain": [
       "[-1, 'du texte']"
      ]
     },
     "execution_count": 3,
     "metadata": {},
     "output_type": "execute_result"
    }
   ],
   "source": [
    "L[1:3] # de l'élément d'index 1 *inclus* jusqu'à celui d'index 3 *exclu* -- c'est comme ça!"
   ]
  },
  {
   "cell_type": "code",
   "execution_count": 4,
   "metadata": {},
   "outputs": [
    {
     "data": {
      "text/plain": [
       "['du texte', 4.5]"
      ]
     },
     "execution_count": 4,
     "metadata": {},
     "output_type": "execute_result"
    }
   ],
   "source": [
    "L[2:] # jusqu'à la fin"
   ]
  },
  {
   "cell_type": "code",
   "execution_count": null,
   "metadata": {},
   "outputs": [],
   "source": [
    "L[:-2] # jusqu'à l'élément d'index -2 (donc ici 2) exclu"
   ]
  },
  {
   "cell_type": "markdown",
   "metadata": {},
   "source": [
    "Et pour modifier une liste :"
   ]
  },
  {
   "cell_type": "code",
   "execution_count": null,
   "metadata": {},
   "outputs": [],
   "source": [
    "L[1]= 24\n",
    "print(\"et maintenant L=\", L)"
   ]
  },
  {
   "cell_type": "markdown",
   "metadata": {},
   "source": [
    "Pour fusionner deux listes ensemble, utiliser + :"
   ]
  },
  {
   "cell_type": "code",
   "execution_count": null,
   "metadata": {},
   "outputs": [],
   "source": [
    "[1,2,3]  +  [4,5,6]"
   ]
  },
  {
   "cell_type": "markdown",
   "metadata": {},
   "source": [
    ">**Exercice (listes de listes)** \n",
    "> Faites des expérimentations avec des listes dont les éléments sont eux-mêmes des listes (en général on représente une matrice comme la liste de ses lignes, par exemple). Essayer de lire la valeur d'un élément, puis de la modifier."
   ]
  },
  {
   "cell_type": "markdown",
   "metadata": {},
   "source": [
    "Première subtilité : une liste est une objet *modifiable* (on dit \"mutable\"), comme on vient de le voir. Ce n'est pas le cas d'un objet de type \"int\" ou \"float\". Attention donc à l'exemple ci-dessous :"
   ]
  },
  {
   "cell_type": "code",
   "execution_count": null,
   "metadata": {},
   "outputs": [],
   "source": [
    "L= [9,8,7,6,5]\n",
    "LL= L # on évalue L, ce qui donne un certain objet modifiable, et LL y fait référence\n",
    "      # donc L et LL font bien référence au même objet, du coup :\n",
    "LL[0]= -1\n",
    "print(LL)\n",
    "print(L)"
   ]
  },
  {
   "cell_type": "markdown",
   "metadata": {},
   "source": [
    "Modifier LL change bel et bien L !  \n",
    "\n",
    "Il est facile de répérer les endroits où ça peut arriver : une commande telle que `LL[0]=...` modifie la liste à laquelle on a donné le nom LL ; ce n'est pas du tout pareil que la syntaxe `LL= nouveau truc`, qui utilise le nom LL pour quelque chose de nouveau. Vérifions d'ailleurs :"
   ]
  },
  {
   "cell_type": "code",
   "execution_count": null,
   "metadata": {},
   "outputs": [],
   "source": [
    "LL= []  # liste vide\n",
    "print(LL)\n",
    "print(L)"
   ]
  },
  {
   "cell_type": "markdown",
   "metadata": {},
   "source": [
    "Ici le nom LL fait référence à une nouvelle liste, ce qui laisse bien sûr L tranquille. Il faut faire attention, mais cette subtilité n'apparaît pas trop au début. On peut retenir que si on veut une copie de L indépendante, il est possible d'utiliser :"
   ]
  },
  {
   "cell_type": "code",
   "execution_count": null,
   "metadata": {},
   "outputs": [],
   "source": [
    "LL= L[:]  # la sous-liste de tous les éléments de L, mais copiée comme une nouvelle liste\n",
    "LL[0]= 0\n",
    "print(LL)\n",
    "print(L)"
   ]
  },
  {
   "cell_type": "markdown",
   "metadata": {},
   "source": [
    ">**Exercice (ajouter la liste vide)** Selon vous, que donne la cellule suivante quand on l'évalue? Après avoir répondu, vérifier, puis expliquer."
   ]
  },
  {
   "cell_type": "code",
   "execution_count": null,
   "metadata": {},
   "outputs": [],
   "source": [
    "L= [1,2,3]\n",
    "LL= L + []\n",
    "LL[0]=-1\n",
    "print(LL)\n",
    "print(L)"
   ]
  },
  {
   "cell_type": "markdown",
   "metadata": {},
   "source": [
    "Si on veut ajouter un élément à la fin d'une liste, ce qui arrive très souvent, on comprend que l'on peut utiliser `+` comme ceci:"
   ]
  },
  {
   "cell_type": "code",
   "execution_count": null,
   "metadata": {},
   "outputs": [],
   "source": [
    "print(L)\n",
    "L= L + [4]\n",
    "print(L)"
   ]
  },
  {
   "cell_type": "markdown",
   "metadata": {},
   "source": [
    "Mais on sait maintenant que la ligne `L= L + [4]` a fait une copie de `L`, en laissant tomber la liste d'origine: si `L`était une liste avec des milliards d'éléments, on se doute que ce n'est pas une bonne idée!\n",
    "\n",
    "Dans ce cours d'introduction, nous n'aurons pas beaucoup le temps de parler de performance, d'optimisation, etc. Le but est de de familiariser un peu. Voici quand même la solution au problème que nous venons d'évoquer:"
   ]
  },
  {
   "cell_type": "code",
   "execution_count": null,
   "metadata": {},
   "outputs": [],
   "source": [
    "L= [1,2,3]\n",
    "L.append(4)\n",
    "print(L)"
   ]
  },
  {
   "cell_type": "markdown",
   "metadata": {},
   "source": [
    "La notation \"avec un point\" sera discutée plus en détail dans un autre TP. Pour l'instant, retenez que `L.append(x)` ajoute `x` à la fin de la liste `L`, de manière efficace, et en particulier `L` s'en trouve modifiée."
   ]
  },
  {
   "cell_type": "markdown",
   "metadata": {},
   "source": [
    "#### Constructions\n",
    "\n",
    "Voyons maintenant comment construire rapidement des listes grosses et/ou compliquées."
   ]
  },
  {
   "cell_type": "code",
   "execution_count": null,
   "metadata": {},
   "outputs": [],
   "source": [
    "L= [x for x in range(30)]\n",
    "print(L)"
   ]
  },
  {
   "cell_type": "markdown",
   "metadata": {},
   "source": [
    "La syntaxe `for x in range(30)` signifie précisément \"pour $x$ entier avec $0\\le x < 30$\". Pour calculer les carrés des entiers dans cet intervalle, on peut donc utiliser :"
   ]
  },
  {
   "cell_type": "code",
   "execution_count": null,
   "metadata": {},
   "outputs": [],
   "source": [
    "carres= [x**2 for x in range(30)]\n",
    "print(carres)"
   ]
  },
  {
   "cell_type": "markdown",
   "metadata": {},
   "source": [
    "Les carrés des nombres pairs dans cet intervalle :"
   ]
  },
  {
   "cell_type": "code",
   "execution_count": null,
   "metadata": {},
   "outputs": [],
   "source": [
    "carrespairs= [ x**2 for x in range(30) if x%2 == 0 ]\n",
    "print(carrespairs)"
   ]
  },
  {
   "cell_type": "markdown",
   "metadata": {},
   "source": [
    "La syntaxe `for x in (quelque chose) if (condition)` prend successivement tous les $x$ dans le \"quelque chose\" mais ne garde que ceux qui vérifient la condition.\n",
    "\n",
    "Et pour vérifier que le carré de $x$ est pair si et seulement si $x$ est pair, sur quelques exemples, essayons :"
   ]
  },
  {
   "cell_type": "code",
   "execution_count": null,
   "metadata": {},
   "outputs": [],
   "source": [
    "autre= [y for y in carres if y%2 == 0] # les nombres pairs dans la liste \"carres\""
   ]
  },
  {
   "cell_type": "code",
   "execution_count": null,
   "metadata": {},
   "outputs": [],
   "source": [
    "autre == carrespairs"
   ]
  },
  {
   "cell_type": "markdown",
   "metadata": {},
   "source": [
    "Pour calculer tous les nombres qui sont la somme de deux carrés d'entiers entre 0 et 9, on peut faire :"
   ]
  },
  {
   "cell_type": "code",
   "execution_count": 5,
   "metadata": {},
   "outputs": [
    {
     "name": "stdout",
     "output_type": "stream",
     "text": [
      "[0, 1, 4, 9, 16, 25, 36, 49, 64, 81, 1, 2, 5, 10, 17, 26, 37, 50, 65, 82, 4, 5, 8, 13, 20, 29, 40, 53, 68, 85, 9, 10, 13, 18, 25, 34, 45, 58, 73, 90, 16, 17, 20, 25, 32, 41, 52, 65, 80, 97, 25, 26, 29, 34, 41, 50, 61, 74, 89, 106, 36, 37, 40, 45, 52, 61, 72, 85, 100, 117, 49, 50, 53, 58, 65, 74, 85, 98, 113, 130, 64, 65, 68, 73, 80, 89, 100, 113, 128, 145, 81, 82, 85, 90, 97, 106, 117, 130, 145, 162]\n"
     ]
    }
   ],
   "source": [
    "somme_carres= [ x**2 + y**2  for x in range(10) for y in range(10)]\n",
    "print(somme_carres)"
   ]
  },
  {
   "cell_type": "markdown",
   "metadata": {},
   "source": [
    "Il y a des doublons! voyez-vous pourquoi? On peut au moins demander à trier la liste :"
   ]
  },
  {
   "cell_type": "code",
   "execution_count": null,
   "metadata": {},
   "outputs": [],
   "source": [
    "somme_carres.sort()\n",
    "print(somme_carres)"
   ]
  },
  {
   "cell_type": "markdown",
   "metadata": {},
   "source": [
    "Encore la notation avec un point !\n",
    "\n",
    "Voyons si 75 est la somme de deux carrés d'entiers -- si $75 = x^2 + y^2$ alors $x$ et $y$ sont plus petits que 10 donc il suffit de vérifier l'appartenance à la liste :"
   ]
  },
  {
   "cell_type": "code",
   "execution_count": null,
   "metadata": {},
   "outputs": [],
   "source": [
    "75 in somme_carres"
   ]
  },
  {
   "cell_type": "markdown",
   "metadata": {},
   "source": [
    "La réponse est non! Maintenant, de combien de façons différentes peut-on écrire 85 comme une somme de deux carrés?"
   ]
  },
  {
   "cell_type": "code",
   "execution_count": null,
   "metadata": {},
   "outputs": [],
   "source": [
    "somme_carres.count(85)"
   ]
  },
  {
   "cell_type": "markdown",
   "metadata": {},
   "source": [
    "Réponse= 4 fois (en considérant $x^2+y^2$ et $y^2+x^2$ comme deux écritures différentes). La syntaxe `liste.count(x)` donne le nombre de fois où $x$ apparaît dans la liste. Pour trouver explicitement les 4 écritures :"
   ]
  },
  {
   "cell_type": "code",
   "execution_count": null,
   "metadata": {},
   "outputs": [],
   "source": [
    "[ [x,y] for x in range(10) for y in range(10) if x**2 + y**2 == 85 ]"
   ]
  },
  {
   "cell_type": "markdown",
   "metadata": {},
   "source": [
    ">**Exercice (diophantien)**\n",
    ">\n",
    ">* Etudier les solutions de $x^3  + 2xy = 82$ avec $x, y \\in \\mathbb{N}$.\n",
    ">* Idem avec $x^3  + 2xy = 81$.\n",
    "\n",
    "\n",
    ">**Exercice (sommes de carrés)**\n",
    "> Trouver un nombre entier qu'on ne peut pas écrire comme la somme de trois carrés. Puis, explorer les entiers que l'on peut écrire comme somme de quatre carrés. (Vous allez deviner un théorème célèbre.)\n",
    "\n",
    ">**Exercice (la matrice nulle)** Donner une commande pour construire une matrice (c'est à dire une liste de listes ayant chacune la même taille) ne contenant que des 0."
   ]
  },
  {
   "cell_type": "markdown",
   "metadata": {},
   "source": [
    "#### Les sommes"
   ]
  },
  {
   "cell_type": "markdown",
   "metadata": {},
   "source": [
    "Pour calculer la somme des éléments d'une liste, rien de plus simple :"
   ]
  },
  {
   "cell_type": "code",
   "execution_count": null,
   "metadata": {},
   "outputs": [],
   "source": [
    "L= [1,2,3,4,5,6]\n",
    "s= sum(L)\n",
    "print(s)"
   ]
  },
  {
   "cell_type": "markdown",
   "metadata": {},
   "source": [
    "Par exemple, considérons la limite $\\displaystyle \\sum_{n=1}^\\infty \\frac 1 {n^2}$. Vous vous rappelez peut-être que cette somme vaut $\\displaystyle \\frac{\\pi^2}{k}$ où $k$ est un entier (sinon, vous le savez maintenant). Retrouvons la valeur de $k$."
   ]
  },
  {
   "cell_type": "code",
   "execution_count": null,
   "metadata": {},
   "outputs": [],
   "source": [
    "from math import pi  # nous expliquerons plus en détails la commande \"from\" plus tard"
   ]
  },
  {
   "cell_type": "code",
   "execution_count": null,
   "metadata": {},
   "outputs": [],
   "source": [
    "pi"
   ]
  },
  {
   "cell_type": "code",
   "execution_count": null,
   "metadata": {},
   "outputs": [],
   "source": [
    "N= 10\n",
    "approx= sum([ 1/(n**2) for n in range(1, N)])\n",
    "print(\"k vaut approximativement\", pi**2 / approx)"
   ]
  },
  {
   "cell_type": "markdown",
   "metadata": {},
   "source": [
    "La commande `for n in range(i, j)` donne les entiers $n$ tels que $i\\le n < j$.\n",
    "\n",
    "Ici on vous demande d'augmenter la valeur de $N$, en évaluant la cellule à chaque fois, et de constater que $k$ doit être probablement égal à 6."
   ]
  },
  {
   "cell_type": "markdown",
   "metadata": {},
   "source": [
    ">**Exercice (fonction zéta)** Pour tout $s\\ge 2$, on va étudier la somme $a_s = \\displaystyle \\frac 1 {\\pi^{2s}} \\sum_{n=1}^\\infty \\frac 1 {n^{2s}}$. On vient de voir que $a_1 = \\frac 1 6$.\n",
    ">\n",
    "> Vérifier que $a_2^{-1}, a_3^{-1}, a_4^{-1}, a_5^{-1}$ semblent être des entiers, mais que ça a l'air faux pour $a_6$ et $a_7$.\n",
    ">\n",
    "> Entrez les entiers $a_1^{-1}, a_2^{-1}, a_3^{-1}, a_4^{-1}, a_5^{-1}$ dans le site https://oeis.org et explorez un peu. "
   ]
  }
 ],
 "metadata": {
  "kernelspec": {
   "display_name": "Python 3 (ipykernel)",
   "language": "python",
   "name": "python3"
  },
  "language_info": {
   "codemirror_mode": {
    "name": "ipython",
    "version": 3
   },
   "file_extension": ".py",
   "mimetype": "text/x-python",
   "name": "python",
   "nbconvert_exporter": "python",
   "pygments_lexer": "ipython3",
   "version": "3.11.6"
  }
 },
 "nbformat": 4,
 "nbformat_minor": 4
}
