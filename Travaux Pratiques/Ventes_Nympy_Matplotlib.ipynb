{
 "cells": [
  {
   "cell_type": "markdown",
   "id": "b6643f0b-2bcd-4f5b-b05a-a6a0e785cd53",
   "metadata": {},
   "source": [
    "Dans cet exercice, nous utilisons Numpy et Matplotlib pour visualiser les données de vente des entreprises du fichier company_sales_data."
   ]
  },
  {
   "cell_type": "markdown",
   "id": "a5d14aea-faff-4d28-a2a0-cdf1d3f0a00a",
   "metadata": {},
   "source": [
    "**Q1.** Lire et visualiser le contenur du fichier"
   ]
  },
  {
   "cell_type": "code",
   "execution_count": 1,
   "id": "a7d08016-3ff0-45f6-9966-07ab09e7e018",
   "metadata": {},
   "outputs": [
    {
     "name": "stdout",
     "output_type": "stream",
     "text": [
      "month_number,facecream,facewash,toothpaste,bathingsoap,shampoo,moisturizer,total_units,total_profit\n",
      "1,2500,1500,5200,9200,1200,1500,21100,211000\n",
      "2,2630,1200,5100,6100,2100,1200,18330,183300\n",
      "3,2140,1340,4550,9550,3550,1340,22470,224700\n",
      "4,3400,1130,5870,8870,1870,1130,22270,222700\n",
      "5,3600,1740,4560,7760,1560,1740,20960,209600\n",
      "6,2760,1555,4890,7490,1890,1555,20140,201400\n",
      "7,2980,1120,4780,8980,1780,1120,29550,295500\n",
      "8,3700,1400,5860,9960,2860,1400,36140,361400\n",
      "9,3540,1780,6100,8100,2100,1780,23400,234000\n",
      "10,1990,1890,8300,10300,2300,1890,26670,266700\n",
      "11,2340,2100,7300,13300,2400,2100,41280,412800\n",
      "12,2900,1760,7400,14400,1800,1760,30020,300200\n",
      "\n"
     ]
    }
   ],
   "source": [
    "with open('company_sales_data.csv', 'r') as f:\n",
    "    print(f.read())\n",
    "    "
   ]
  },
  {
   "cell_type": "markdown",
   "id": "3e8ad9c0-f437-4fb5-802c-e791b5a8da8a",
   "metadata": {},
   "source": [
    "**Q2.** Lire le bénéfice total (total_profit) de tous les mois (month_number) et le visualiser à l'aide d'un graphique linéaire\n",
    "\n",
    "+ Étiquette de l'axe $x$: numéro de mois\n",
    "+ Étiquette de l'axe $y$: Bénéfice total"
   ]
  },
  {
   "cell_type": "code",
   "execution_count": 12,
   "id": "14252c49-9f41-473d-8f9b-e5fc7cf690e4",
   "metadata": {},
   "outputs": [
    {
     "name": "stdout",
     "output_type": "stream",
     "text": [
      "['month_number,facecream,facewash,toothpaste,bathingsoap,shampoo,moisturizer,total_units,total_profit\\n', '1,2500,1500,5200,9200,1200,1500,21100,211000\\n', '2,2630,1200,5100,6100,2100,1200,18330,183300\\n', '3,2140,1340,4550,9550,3550,1340,22470,224700\\n', '4,3400,1130,5870,8870,1870,1130,22270,222700\\n', '5,3600,1740,4560,7760,1560,1740,20960,209600\\n', '6,2760,1555,4890,7490,1890,1555,20140,201400\\n', '7,2980,1120,4780,8980,1780,1120,29550,295500\\n', '8,3700,1400,5860,9960,2860,1400,36140,361400\\n', '9,3540,1780,6100,8100,2100,1780,23400,234000\\n', '10,1990,1890,8300,10300,2300,1890,26670,266700\\n', '11,2340,2100,7300,13300,2400,2100,41280,412800\\n', '12,2900,1760,7400,14400,1800,1760,30020,300200\\n']\n"
     ]
    }
   ],
   "source": [
    "with open('company_sales_data.csv', 'r') as f:\n",
    "    lines = f.readlines()\n",
    "    print(lines)"
   ]
  }
 ],
 "metadata": {
  "kernelspec": {
   "display_name": "Python 3 (ipykernel)",
   "language": "python",
   "name": "python3"
  },
  "language_info": {
   "codemirror_mode": {
    "name": "ipython",
    "version": 3
   },
   "file_extension": ".py",
   "mimetype": "text/x-python",
   "name": "python",
   "nbconvert_exporter": "python",
   "pygments_lexer": "ipython3",
   "version": "3.11.6"
  }
 },
 "nbformat": 4,
 "nbformat_minor": 5
}
