{
 "cells": [
  {
   "cell_type": "code",
   "execution_count": 13,
   "id": "0056853e-f707-4e54-a488-e7dd020a726e",
   "metadata": {},
   "outputs": [],
   "source": [
    "import numpy as np\n",
    "import matplotlib.pyplot as plt"
   ]
  },
  {
   "cell_type": "code",
   "execution_count": 1,
   "id": "20dcb7c8-b4ba-4c6b-9692-c13e29b60d74",
   "metadata": {},
   "outputs": [],
   "source": [
    "def f(x,n):\n",
    "    s=0\n",
    "    for k in range(n+1):\n",
    "        s+=x**k\n",
    "    return s"
   ]
  },
  {
   "cell_type": "code",
   "execution_count": 2,
   "id": "aaa1caef-8528-4e22-8330-84ce80e7b9c9",
   "metadata": {},
   "outputs": [
    {
     "data": {
      "text/plain": [
       "15"
      ]
     },
     "execution_count": 2,
     "metadata": {},
     "output_type": "execute_result"
    }
   ],
   "source": [
    "f(2,3)"
   ]
  },
  {
   "cell_type": "code",
   "execution_count": 16,
   "id": "5d9c5a78-3274-4bf2-a536-ae241a616153",
   "metadata": {},
   "outputs": [],
   "source": [
    "Lx = np.arange(11)"
   ]
  },
  {
   "cell_type": "code",
   "execution_count": 11,
   "id": "2b50320f-b338-4240-aef1-9800a4b5a47d",
   "metadata": {},
   "outputs": [],
   "source": [
    "Ly = f(Lx,2)"
   ]
  },
  {
   "cell_type": "code",
   "execution_count": 12,
   "id": "6c84d77d-8936-4cb8-98a8-cb0616f95447",
   "metadata": {},
   "outputs": [
    {
     "data": {
      "text/plain": [
       "array([    1,     3,     7,    13,    21,    31,    43,    57,    73,\n",
       "          91,   111,   133,   157,   183,   211,   241,   273,   307,\n",
       "         343,   381,   421,   463,   507,   553,   601,   651,   703,\n",
       "         757,   813,   871,   931,   993,  1057,  1123,  1191,  1261,\n",
       "        1333,  1407,  1483,  1561,  1641,  1723,  1807,  1893,  1981,\n",
       "        2071,  2163,  2257,  2353,  2451,  2551,  2653,  2757,  2863,\n",
       "        2971,  3081,  3193,  3307,  3423,  3541,  3661,  3783,  3907,\n",
       "        4033,  4161,  4291,  4423,  4557,  4693,  4831,  4971,  5113,\n",
       "        5257,  5403,  5551,  5701,  5853,  6007,  6163,  6321,  6481,\n",
       "        6643,  6807,  6973,  7141,  7311,  7483,  7657,  7833,  8011,\n",
       "        8191,  8373,  8557,  8743,  8931,  9121,  9313,  9507,  9703,\n",
       "        9901, 10101])"
      ]
     },
     "execution_count": 12,
     "metadata": {},
     "output_type": "execute_result"
    }
   ],
   "source": [
    "Ly"
   ]
  },
  {
   "cell_type": "code",
   "execution_count": 20,
   "id": "a0f11a63-481c-4458-8e01-18a5e3f021dc",
   "metadata": {},
   "outputs": [
    {
     "data": {
      "text/plain": [
       "[<matplotlib.lines.Line2D at 0x2856c8ee530>]"
      ]
     },
     "execution_count": 20,
     "metadata": {},
     "output_type": "execute_result"
    },
    {
     "data": {
      "image/png": "[encoded data removed]",
      "text/plain": [
       "<Figure size 640x480 with 1 Axes>"
      ]
     },
     "metadata": {},
     "output_type": "display_data"
    }
   ],
   "source": [
    "plt.plot(Lx, f(Lx,1))\n",
    "plt.plot(Lx, f(Lx,2))\n",
    "plt.plot(Lx, f(Lx,3))"
   ]
  },
  {
   "cell_type": "code",
   "execution_count": 21,
   "id": "0acd6289-cde4-4c34-ad02-206ff6685a16",
   "metadata": {},
   "outputs": [],
   "source": [
    "a, b = 1, 3"
   ]
  },
  {
   "cell_type": "code",
   "execution_count": 22,
   "id": "236de420-be86-45e5-9680-0ebe0aa58990",
   "metadata": {},
   "outputs": [],
   "source": [
    "a, b = b, a"
   ]
  },
  {
   "cell_type": "code",
   "execution_count": 23,
   "id": "088644af-008a-47e8-ae5f-ccc626b0f722",
   "metadata": {},
   "outputs": [
    {
     "data": {
      "text/plain": [
       "(3, 1)"
      ]
     },
     "execution_count": 23,
     "metadata": {},
     "output_type": "execute_result"
    }
   ],
   "source": [
    "a,b"
   ]
  },
  {
   "cell_type": "code",
   "execution_count": 31,
   "id": "839b78aa-4819-491c-80b6-70f980a1c6d2",
   "metadata": {},
   "outputs": [],
   "source": [
    "def affiche4():\n",
    "    print(4)\n",
    "    return"
   ]
  },
  {
   "cell_type": "code",
   "execution_count": 32,
   "id": "67bb1e02-41d0-47b7-866d-498cd2e94923",
   "metadata": {},
   "outputs": [
    {
     "name": "stdout",
     "output_type": "stream",
     "text": [
      "4\n"
     ]
    }
   ],
   "source": [
    "a = affiche4()"
   ]
  },
  {
   "cell_type": "code",
   "execution_count": 33,
   "id": "2a3e1819-f44b-4b51-bca9-4a11c214b70a",
   "metadata": {},
   "outputs": [
    {
     "data": {
      "text/plain": [
       "NoneType"
      ]
     },
     "execution_count": 33,
     "metadata": {},
     "output_type": "execute_result"
    }
   ],
   "source": [
    "type(a)"
   ]
  },
  {
   "cell_type": "code",
   "execution_count": 34,
   "id": "78b0432a-8383-4c2e-b6b9-b0a722685142",
   "metadata": {},
   "outputs": [
    {
     "data": {
      "text/plain": [
       "'f'"
      ]
     },
     "execution_count": 34,
     "metadata": {},
     "output_type": "execute_result"
    }
   ],
   "source": [
    "f.__name__"
   ]
  },
  {
   "cell_type": "code",
   "execution_count": null,
   "id": "3e3e158f-ecc3-4107-adcd-8c2f27380e7d",
   "metadata": {},
   "outputs": [],
   "source": [
    "f.__"
   ]
  }
 ],
 "metadata": {
  "kernelspec": {
   "display_name": "Python 3 (ipykernel)",
   "language": "python",
   "name": "python3"
  },
  "language_info": {
   "codemirror_mode": {
    "name": "ipython",
    "version": 3
   },
   "file_extension": ".py",
   "mimetype": "text/x-python",
   "name": "python",
   "nbconvert_exporter": "python",
   "pygments_lexer": "ipython3",
   "version": "3.10.13"
  }
 },
 "nbformat": 4,
 "nbformat_minor": 5
}
